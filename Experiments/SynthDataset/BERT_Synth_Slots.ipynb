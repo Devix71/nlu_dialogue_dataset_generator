{
 "cells": [
  {
   "cell_type": "code",
   "execution_count": 1,
   "id": "42963c70-303f-428d-92ae-4c17231cae33",
   "metadata": {},
   "outputs": [],
   "source": [
    "import json\n",
    "import pandas as pd\n",
    "from transformers import BertTokenizer\n",
    "from torch.utils.data import Dataset, DataLoader\n",
    "\n",
    "with open('normalised_intent_validation_slotfixed_set.json', 'r') as file:\n",
    "    data = json.load(file)\n",
    "\n",
    "utterances_validate = []\n",
    "slot_types_validate = []\n",
    "\n",
    "# Desired classes\n",
    "desired_classes = {'hotel-name', 'hotel-type', 'hotel-bookday', 'hotel-internet', 'hotel-bookstay', 'hotel-area', 'hotel-parking', 'hotel-bookpeople', 'hotel-pricerange', 'train-departure', 'train-arriveby', 'train-destination', 'train-day', 'train-bookpeople', 'train-leaveat'}\n",
    "\n",
    "\n",
    "for item in data:\n",
    "    for scenario in item['scenarios']:\n",
    "        for turn in scenario['turns']:\n",
    "            if turn[\"speaker\"] == \"USER\":\n",
    "                current_slots = set()\n",
    "                for frame in turn.get(\"frames\", []):\n",
    "                    # Filter slot values to include only those in the desired classes\n",
    "                    current_slots.update(slot for slot in frame.get(\"state\", {}).get(\"slot_values\", {}).keys() if slot in desired_classes)\n",
    "                if current_slots:  # only if slot_values are present\n",
    "                    utterances_validate.append(turn[\"utterance\"])\n",
    "                    slot_types_validate.append(list(current_slots))\n",
    "\n",
    "# Create a DataFrame\n",
    "df_validated = pd.DataFrame({'utterance': utterances_validate, 'slot': slot_types_validate})\n"
   ]
  },
  {
   "cell_type": "code",
   "execution_count": 2,
   "id": "0bc2e662-f707-4829-b671-b61eade619c7",
   "metadata": {},
   "outputs": [],
   "source": [
    "with open('normalised_intent_train_slotfixed_set.json', 'r') as file:\n",
    "    data = json.load(file)\n",
    "\n",
    "utterances_train = []\n",
    "slot_types_train = []\n",
    "\n",
    "\n",
    "for item in data:\n",
    "    for scenario in item['scenarios']:\n",
    "        for turn in scenario['turns']:\n",
    "            if turn[\"speaker\"] == \"USER\":\n",
    "                current_slots = set()\n",
    "                for frame in turn.get(\"frames\", []):\n",
    "                    # Filter slot values to include only those in the desired classes\n",
    "                    current_slots.update(slot for slot in frame.get(\"state\", {}).get(\"slot_values\", {}).keys() if slot in desired_classes)\n",
    "                if current_slots:  # only if slot_values are present\n",
    "                    utterances_train.append(turn[\"utterance\"])\n",
    "                    slot_types_train.append(list(current_slots))\n",
    "\n",
    "df_train = pd.DataFrame({'utterance': utterances_train, 'slot': slot_types_train})"
   ]
  },
  {
   "cell_type": "code",
   "execution_count": 4,
   "id": "3592d32a-ee45-4dfe-ad28-0e61ad8a92dd",
   "metadata": {},
   "outputs": [],
   "source": [
    "with open('Synth_data/normalised_intent_test_slotfixed_set.json', 'r') as file:\n",
    "    data = json.load(file)\n",
    "\n",
    "utterances_test = []\n",
    "slot_types_test = []\n",
    "\n",
    "for item in data:\n",
    "    for scenario in item['scenarios']:\n",
    "        for turn in scenario['turns']:\n",
    "            if turn[\"speaker\"] == \"USER\":\n",
    "                current_slots = set()\n",
    "                for frame in turn.get(\"frames\", []):\n",
    "                    # Filter slot values to include only those in the desired classes\n",
    "                    current_slots.update(slot for slot in frame.get(\"state\", {}).get(\"slot_values\", {}).keys() if slot in desired_classes)\n",
    "                if current_slots:  # only if slot_values are present\n",
    "                    utterances_test.append(turn[\"utterance\"])\n",
    "                    slot_types_test.append(list(current_slots))\n",
    "\n",
    "df_test = pd.DataFrame({'utterance': utterances_test, 'slot': slot_types_test})"
   ]
  },
  {
   "cell_type": "code",
   "execution_count": 5,
   "id": "73206582-7eea-408c-8454-c943516fda65",
   "metadata": {},
   "outputs": [],
   "source": [
    "\n",
    "\n",
    "# Flatten the list of slots from each DataFrame and then concatenate them\n",
    "all_slots = pd.concat([\n",
    "    df_train['slot'].explode(),\n",
    "    df_validated['slot'].explode(),\n",
    "    df_test['slot'].explode()\n",
    "]).unique()\n",
    "\n",
    "\n",
    "slot_labels = {slot: idx for idx, slot in enumerate(all_slots)}\n",
    "\n",
    "\n",
    "df_train['labels'] = df_train['slot'].apply(lambda slots: [slot_labels[slot] for slot in slots])\n",
    "df_validated['labels'] = df_validated['slot'].apply(lambda slots: [slot_labels[slot] for slot in slots])\n",
    "df_test['labels'] = df_test['slot'].apply(lambda slots: [slot_labels[slot] for slot in slots])\n",
    "\n",
    "\n",
    "from sklearn.preprocessing import MultiLabelBinarizer\n",
    "\n",
    "mlb = MultiLabelBinarizer(classes=sorted(slot_labels.values()))\n",
    "train_labels = mlb.fit_transform(df_train['labels'])\n",
    "validate_labels = mlb.transform(df_validated['labels'])\n",
    "test_labels = mlb.transform(df_test['labels'])\n"
   ]
  },
  {
   "cell_type": "code",
   "execution_count": 6,
   "id": "c09fcd07-6161-443e-b9c5-6a33a53aedf5",
   "metadata": {},
   "outputs": [],
   "source": [
    "# Quick check to ensure no labels are missing or incorrectly mapped\n",
    "assert df_train['labels'].isna().sum() == 0, \"Missing labels in training data\"\n",
    "assert df_validated['labels'].isna().sum() == 0, \"Missing labels in validation data\"\n",
    "assert df_test['labels'].isna().sum() == 0, \"Missing labels in test data\"\n"
   ]
  },
  {
   "cell_type": "code",
   "execution_count": 7,
   "id": "bd8a1bd2-4151-4c92-8920-d8fa7ef0d2c1",
   "metadata": {},
   "outputs": [],
   "source": [
    "from transformers import BertTokenizer\n",
    "tokenizer = BertTokenizer.from_pretrained('bert-base-uncased', cache_dir='BERT_cache_folder')\n",
    "\n",
    "def encode_data(tokenizer, texts, max_length=128):\n",
    "    return tokenizer(texts, padding='max_length', truncation=True, max_length=max_length, return_tensors='pt')\n",
    "\n",
    "# Encode \n",
    "encoded_inputs_train = encode_data(tokenizer, df_train['utterance'].tolist())\n",
    "encoded_inputs_validate = encode_data(tokenizer, df_validated['utterance'].tolist())\n",
    "encoded_inputs_test = encode_data(tokenizer, df_test['utterance'].tolist())\n"
   ]
  },
  {
   "cell_type": "code",
   "execution_count": 8,
   "id": "7448462b-4e23-4214-8e36-0ff9a8bbafd9",
   "metadata": {},
   "outputs": [],
   "source": [
    "# Check to ensure alignment\n",
    "assert len(encoded_inputs_train['input_ids']) == len(train_labels), \"Mismatch in training data and labels count.\"\n",
    "assert len(encoded_inputs_validate['input_ids']) == len(validate_labels), \"Mismatch in validation data and labels count.\"\n",
    "assert len(encoded_inputs_test['input_ids']) == len(test_labels), \"Mismatch in test data and labels count.\"\n"
   ]
  },
  {
   "cell_type": "code",
   "execution_count": 9,
   "id": "ce01993c-cc46-4d19-9b4e-b8dfcd03ed5d",
   "metadata": {},
   "outputs": [],
   "source": [
    "import torch\n",
    "from torch.utils.data import Dataset\n",
    "\n",
    "class UtteranceDataset(Dataset):\n",
    "    def __init__(self, encodings, labels):\n",
    "\n",
    "        self.encodings = {k: v if isinstance(v, torch.Tensor) else torch.tensor(v) for k, v in encodings.items()}\n",
    "\n",
    "        self.labels = torch.tensor(labels, dtype=torch.float) if not isinstance(labels, torch.Tensor) else labels\n",
    "\n",
    "    def __getitem__(self, idx):\n",
    "\n",
    "        item = {key: val[idx].clone().detach() for key, val in self.encodings.items()}\n",
    "        item['labels'] = self.labels[idx].clone().detach()\n",
    "        return item\n",
    "\n",
    "    def __len__(self):\n",
    "        return len(self.labels)\n",
    "\n",
    "dataset_train = UtteranceDataset(encoded_inputs_train, train_labels)\n",
    "dataset_validate = UtteranceDataset(encoded_inputs_validate, validate_labels)\n",
    "dataset_test = UtteranceDataset(encoded_inputs_test, test_labels)\n"
   ]
  },
  {
   "cell_type": "code",
   "execution_count": 10,
   "id": "c090471d-49ee-4294-86f6-5cfe3eb5b371",
   "metadata": {},
   "outputs": [
    {
     "name": "stdout",
     "output_type": "stream",
     "text": [
      "CUDA is available. Using GPU: NVIDIA GeForce GTX 1080 Ti\n"
     ]
    }
   ],
   "source": [
    "\n",
    "\n",
    "if torch.cuda.is_available():\n",
    "    device = torch.device(\"cuda:2\")\n",
    "    print(f\"CUDA is available. Using GPU: {torch.cuda.get_device_name(0)}\")\n",
    "else:\n",
    "    device = torch.device(\"cpu\")\n",
    "    print(\"CUDA is not available, using CPU instead.\")\n"
   ]
  },
  {
   "cell_type": "code",
   "execution_count": 11,
   "id": "779972ed-8ea9-4899-a23d-4f76b69902b4",
   "metadata": {},
   "outputs": [],
   "source": [
    "from transformers import TrainerCallback, TrainerState, TrainerControl\n",
    "from tqdm.auto import tqdm\n",
    "\n",
    "class EarlyStoppingCallback(TrainerCallback):\n",
    "    def __init__(self, patience=3):\n",
    "        self.patience = patience\n",
    "        self.best_loss = float('inf')\n",
    "        self.early_stop_counter = 0\n",
    "        self.progress_bar = None\n",
    "\n",
    "    def on_train_begin(self, args, state, control, **kwargs):\n",
    "        print(\"Starting training...\")\n",
    "        self.progress_bar = tqdm(total=state.num_train_epochs)\n",
    "\n",
    "    def on_epoch_begin(self, args, state, control, **kwargs):\n",
    "        # No action necessary here\n",
    "        pass\n",
    "\n",
    "    def on_log(self, args, state, control, logs=None, **kwargs):\n",
    "\n",
    "        if logs is not None:\n",
    "            current_loss = logs.get('eval_loss')\n",
    "            if current_loss:\n",
    "                if current_loss < self.best_loss:\n",
    "                    self.best_loss = current_loss\n",
    "                    self.early_stop_counter = 0\n",
    "                    \n",
    "                else:\n",
    "                    self.early_stop_counter += 1\n",
    "                    if self.early_stop_counter >= self.patience:\n",
    "                        control.should_training_stop = True\n",
    "\n",
    "    def on_epoch_end(self, args, state, control, logs=None, **kwargs):\n",
    "        self.progress_bar.update(1)\n",
    "\n",
    "        if logs:\n",
    "            print(f\"\\nEpoch {state.epoch + 1} Summary:\")\n",
    "            if 'loss' in logs:\n",
    "                print(f\"Training Loss: {logs['loss']:.4f}\")\n",
    "            if 'eval_loss' in logs:\n",
    "                print(f\"Validation Loss: {logs['eval_loss']:.4f}\")\n",
    "            if 'eval_accuracy' in logs:\n",
    "                print(f\"Validation Accuracy: {logs['eval_accuracy']:.4f}\")\n",
    "            print(f\"Best Validation Loss So Far: {self.best_loss:.4f}\")\n",
    "            if self.early_stop_counter > 0:\n",
    "                print(f\"No improvement in validation loss for {self.early_stop_counter} consecutive epoch(s).\")\n",
    "            if control.should_training_stop:\n",
    "                print(\"Early stopping triggered.\")\n",
    "\n",
    "    def on_train_end(self, args, state, control, **kwargs):\n",
    "        self.progress_bar.close()\n",
    "        print(\"Training completed.\")\n"
   ]
  },
  {
   "cell_type": "code",
   "execution_count": 12,
   "id": "8c8e2487-efdc-4802-997e-6d829d6f9583",
   "metadata": {},
   "outputs": [
    {
     "name": "stderr",
     "output_type": "stream",
     "text": [
      "Some weights of BertForSequenceClassification were not initialized from the model checkpoint at bert-base-uncased and are newly initialized: ['classifier.bias', 'classifier.weight']\n",
      "You should probably TRAIN this model on a down-stream task to be able to use it for predictions and inference.\n"
     ]
    },
    {
     "data": {
      "text/plain": [
       "BertForSequenceClassification(\n",
       "  (bert): BertModel(\n",
       "    (embeddings): BertEmbeddings(\n",
       "      (word_embeddings): Embedding(30522, 768, padding_idx=0)\n",
       "      (position_embeddings): Embedding(512, 768)\n",
       "      (token_type_embeddings): Embedding(2, 768)\n",
       "      (LayerNorm): LayerNorm((768,), eps=1e-12, elementwise_affine=True)\n",
       "      (dropout): Dropout(p=0.1, inplace=False)\n",
       "    )\n",
       "    (encoder): BertEncoder(\n",
       "      (layer): ModuleList(\n",
       "        (0-11): 12 x BertLayer(\n",
       "          (attention): BertAttention(\n",
       "            (self): BertSelfAttention(\n",
       "              (query): Linear(in_features=768, out_features=768, bias=True)\n",
       "              (key): Linear(in_features=768, out_features=768, bias=True)\n",
       "              (value): Linear(in_features=768, out_features=768, bias=True)\n",
       "              (dropout): Dropout(p=0.1, inplace=False)\n",
       "            )\n",
       "            (output): BertSelfOutput(\n",
       "              (dense): Linear(in_features=768, out_features=768, bias=True)\n",
       "              (LayerNorm): LayerNorm((768,), eps=1e-12, elementwise_affine=True)\n",
       "              (dropout): Dropout(p=0.1, inplace=False)\n",
       "            )\n",
       "          )\n",
       "          (intermediate): BertIntermediate(\n",
       "            (dense): Linear(in_features=768, out_features=3072, bias=True)\n",
       "            (intermediate_act_fn): GELUActivation()\n",
       "          )\n",
       "          (output): BertOutput(\n",
       "            (dense): Linear(in_features=3072, out_features=768, bias=True)\n",
       "            (LayerNorm): LayerNorm((768,), eps=1e-12, elementwise_affine=True)\n",
       "            (dropout): Dropout(p=0.1, inplace=False)\n",
       "          )\n",
       "        )\n",
       "      )\n",
       "    )\n",
       "    (pooler): BertPooler(\n",
       "      (dense): Linear(in_features=768, out_features=768, bias=True)\n",
       "      (activation): Tanh()\n",
       "    )\n",
       "  )\n",
       "  (dropout): Dropout(p=0.1, inplace=False)\n",
       "  (classifier): Linear(in_features=768, out_features=15, bias=True)\n",
       ")"
      ]
     },
     "execution_count": 12,
     "metadata": {},
     "output_type": "execute_result"
    }
   ],
   "source": [
    "from transformers import BertForSequenceClassification\n",
    "\n",
    "num_labels = train_labels.shape[1] \n",
    "\n",
    "model = BertForSequenceClassification.from_pretrained('bert-base-uncased', num_labels=num_labels)\n",
    "model.to(device)\n"
   ]
  },
  {
   "cell_type": "code",
   "execution_count": 14,
   "id": "01e543e8-6643-4b81-824f-0c0565c95b7f",
   "metadata": {},
   "outputs": [
    {
     "name": "stderr",
     "output_type": "stream",
     "text": [
      "Training progress:  10%|█████████▋                                                                                       | 151/1510 [00:17<02:33,  8.86it/s]"
     ]
    },
    {
     "name": "stdout",
     "output_type": "stream",
     "text": [
      "Epoch 1, Validation Loss: 0.38869460423787433\n",
      "New Best Validation Loss: 0.38869460423787433\n"
     ]
    },
    {
     "name": "stderr",
     "output_type": "stream",
     "text": [
      "Training progress:  20%|███████████████████▍                                                                             | 302/1510 [00:39<02:14,  8.97it/s]"
     ]
    },
    {
     "name": "stdout",
     "output_type": "stream",
     "text": [
      "Epoch 2, Validation Loss: 0.3336358500851525\n",
      "New Best Validation Loss: 0.3336358500851525\n"
     ]
    },
    {
     "name": "stderr",
     "output_type": "stream",
     "text": [
      "Training progress:  30%|█████████████████████████████                                                                    | 453/1510 [01:01<01:57,  8.97it/s]"
     ]
    },
    {
     "name": "stdout",
     "output_type": "stream",
     "text": [
      "Epoch 3, Validation Loss: 0.27900029884444344\n",
      "New Best Validation Loss: 0.27900029884444344\n"
     ]
    },
    {
     "name": "stderr",
     "output_type": "stream",
     "text": [
      "Training progress:  40%|██████████████████████████████████████▊                                                          | 604/1510 [01:22<01:41,  8.93it/s]"
     ]
    },
    {
     "name": "stdout",
     "output_type": "stream",
     "text": [
      "Epoch 4, Validation Loss: 0.2364611973365148\n",
      "New Best Validation Loss: 0.2364611973365148\n"
     ]
    },
    {
     "name": "stderr",
     "output_type": "stream",
     "text": [
      "Training progress:  50%|████████████████████████████████████████████████▌                                                | 755/1510 [01:44<01:24,  8.89it/s]"
     ]
    },
    {
     "name": "stdout",
     "output_type": "stream",
     "text": [
      "Epoch 5, Validation Loss: 0.20277572671572366\n",
      "New Best Validation Loss: 0.20277572671572366\n"
     ]
    },
    {
     "name": "stderr",
     "output_type": "stream",
     "text": [
      "Training progress:  60%|██████████████████████████████████████████████████████████▏                                      | 906/1510 [02:06<01:07,  8.89it/s]"
     ]
    },
    {
     "name": "stdout",
     "output_type": "stream",
     "text": [
      "Epoch 6, Validation Loss: 0.1822800429330932\n",
      "New Best Validation Loss: 0.1822800429330932\n"
     ]
    },
    {
     "name": "stderr",
     "output_type": "stream",
     "text": [
      "Training progress:  70%|███████████████████████████████████████████████████████████████████▏                            | 1057/1510 [02:28<00:51,  8.88it/s]"
     ]
    },
    {
     "name": "stdout",
     "output_type": "stream",
     "text": [
      "Epoch 7, Validation Loss: 0.1593522677818934\n",
      "New Best Validation Loss: 0.1593522677818934\n"
     ]
    },
    {
     "name": "stderr",
     "output_type": "stream",
     "text": [
      "Training progress:  80%|████████████████████████████████████████████████████████████████████████████▊                   | 1208/1510 [02:50<00:34,  8.86it/s]"
     ]
    },
    {
     "name": "stdout",
     "output_type": "stream",
     "text": [
      "Epoch 8, Validation Loss: 0.14834850860966575\n",
      "New Best Validation Loss: 0.14834850860966575\n"
     ]
    },
    {
     "name": "stderr",
     "output_type": "stream",
     "text": [
      "Training progress:  90%|██████████████████████████████████████████████████████████████████████████████████████▌         | 1361/1510 [03:12<00:27,  5.37it/s]"
     ]
    },
    {
     "name": "stdout",
     "output_type": "stream",
     "text": [
      "Epoch 9, Validation Loss: 0.14875762330161202\n"
     ]
    },
    {
     "name": "stderr",
     "output_type": "stream",
     "text": [
      "Training progress: 100%|████████████████████████████████████████████████████████████████████████████████████████████████| 1510/1510 [03:29<00:00,  8.85it/s]"
     ]
    },
    {
     "name": "stdout",
     "output_type": "stream",
     "text": [
      "Epoch 10, Validation Loss: 0.1474788420730167\n",
      "New Best Validation Loss: 0.1474788420730167\n"
     ]
    },
    {
     "name": "stderr",
     "output_type": "stream",
     "text": [
      "Training progress: 100%|████████████████████████████████████████████████████████████████████████████████████████████████| 1510/1510 [03:35<00:00,  7.02it/s]\n"
     ]
    }
   ],
   "source": [
    "import torch\n",
    "from torch.utils.data import DataLoader\n",
    "from transformers import get_scheduler\n",
    "from torch.optim import AdamW\n",
    "from torch.nn import BCEWithLogitsLoss\n",
    "from tqdm import tqdm\n",
    "\n",
    "# Setup DataLoader and other components\n",
    "train_loader = DataLoader(dataset_train, batch_size=8, shuffle=True, drop_last=True)\n",
    "validate_loader = DataLoader(dataset_validate, batch_size=8, shuffle=False, drop_last=True)\n",
    "optimizer = AdamW(model.parameters(), lr=5e-5)\n",
    "num_training_steps = len(train_loader) * 10  \n",
    "lr_scheduler = get_scheduler(\"linear\", optimizer=optimizer, num_warmup_steps=500, num_training_steps=num_training_steps)\n",
    "loss_function = BCEWithLogitsLoss()\n",
    "\n",
    "\n",
    "best_validation_loss = float('inf')\n",
    "\n",
    "# Training loop\n",
    "progress_bar = tqdm(total=num_training_steps, desc=\"Training progress\")\n",
    "model.train()\n",
    "\n",
    "for epoch in range(10):  # Number of epochs\n",
    "    for batch in train_loader:\n",
    "        batch = {k: v.to(device) for k, v in batch.items()}\n",
    "        labels = batch.pop('labels')  # Separate labels from inputs\n",
    "        outputs = model(**batch)\n",
    "        logits = outputs.logits  # Get model logits\n",
    "        loss = loss_function(logits, labels.float())  # Calculate loss\n",
    "        loss.backward()\n",
    "        optimizer.step()\n",
    "        lr_scheduler.step()\n",
    "        optimizer.zero_grad()\n",
    "        progress_bar.update(1)\n",
    "    \n",
    "    # Validation at the end of each epoch\n",
    "    model.eval()\n",
    "    total_eval_loss = 0\n",
    "    with torch.no_grad():\n",
    "        for batch in validate_loader:\n",
    "            batch = {k: v.to(device) for k, v in batch.items()}\n",
    "            labels = batch.pop('labels')\n",
    "            outputs = model(**batch)\n",
    "            logits = outputs.logits\n",
    "            loss = loss_function(logits, labels.float())\n",
    "            total_eval_loss += loss.item()\n",
    "\n",
    "    avg_val_loss = total_eval_loss / len(validate_loader)\n",
    "    print(f\"Epoch {epoch+1}, Validation Loss: {avg_val_loss}\")\n",
    "\n",
    "    # Update the best loss and save model if it's the best\n",
    "    if avg_val_loss < best_validation_loss:\n",
    "        best_validation_loss = avg_val_loss\n",
    "        print(f\"New Best Validation Loss: {best_validation_loss}\")\n",
    "        model.save_pretrained(\"./model_save_synth_slots\")\n",
    "        tokenizer.save_pretrained(\"./model_save_synth_slots\")\n",
    "\n",
    "progress_bar.close()\n"
   ]
  },
  {
   "cell_type": "code",
   "execution_count": 15,
   "id": "f0e23cb8-2912-485e-bc00-f548fd0dc866",
   "metadata": {},
   "outputs": [
    {
     "name": "stdout",
     "output_type": "stream",
     "text": [
      "Accuracy: 0.6328125\n",
      "Precision: 0.6572211067372357\n",
      "Recall: 0.5625514650304566\n",
      "F1 Score: 0.6026484211772611\n"
     ]
    },
    {
     "name": "stderr",
     "output_type": "stream",
     "text": [
      "/home/guslasbo@GU.GU.SE/miniconda3/envs/School_Thesis/lib/python3.11/site-packages/sklearn/metrics/_classification.py:1509: UndefinedMetricWarning: Precision is ill-defined and being set to 0.0 in labels with no predicted samples. Use `zero_division` parameter to control this behavior.\n",
      "  _warn_prf(average, modifier, f\"{metric.capitalize()} is\", len(result))\n",
      "/home/guslasbo@GU.GU.SE/miniconda3/envs/School_Thesis/lib/python3.11/site-packages/sklearn/metrics/_classification.py:1509: UndefinedMetricWarning: Recall is ill-defined and being set to 0.0 in labels with no true samples. Use `zero_division` parameter to control this behavior.\n",
      "  _warn_prf(average, modifier, f\"{metric.capitalize()} is\", len(result))\n",
      "/home/guslasbo@GU.GU.SE/miniconda3/envs/School_Thesis/lib/python3.11/site-packages/sklearn/metrics/_classification.py:1509: UndefinedMetricWarning: F-score is ill-defined and being set to 0.0 in labels with no true nor predicted samples. Use `zero_division` parameter to control this behavior.\n",
      "  _warn_prf(average, modifier, f\"{metric.capitalize()} is\", len(result))\n"
     ]
    }
   ],
   "source": [
    "import torch\n",
    "from sklearn.metrics import accuracy_score, precision_recall_fscore_support\n",
    "import numpy as np\n",
    "from torch.utils.data import DataLoader\n",
    "\n",
    "test_loader = DataLoader(dataset_test, batch_size=8, shuffle=False, drop_last=True)\n",
    "\n",
    "model.eval()\n",
    "device = torch.device(\"cuda:2\" if torch.cuda.is_available() else \"cpu\")\n",
    "\n",
    "predictions, true_labels = [], []\n",
    "\n",
    "# Evaluate the model\n",
    "with torch.no_grad():\n",
    "    for batch in test_loader:\n",
    "        inputs = {k: v.to(device) for k, v in batch.items() if k != 'labels'}\n",
    "        labels = batch['labels'].to(device)\n",
    "        outputs = model(**inputs)\n",
    "        logits = outputs.logits\n",
    "        probs = torch.sigmoid(logits)  \n",
    "        preds = (probs > 0.5).int()  \n",
    "        predictions.append(preds.detach().cpu().numpy())\n",
    "        true_labels.append(labels.detach().cpu().numpy())\n",
    "\n",
    "\n",
    "predictions = np.vstack(predictions)\n",
    "true_labels = np.vstack(true_labels)\n",
    "\n",
    "# Calculate metrics, consider each label independently\n",
    "precision, recall, f1, _ = precision_recall_fscore_support(true_labels, predictions, average='macro') \n",
    "accuracy = accuracy_score(true_labels, predictions)  \n",
    "\n",
    "print(f\"Accuracy: {accuracy}\")\n",
    "print(f\"Precision: {precision}\")\n",
    "print(f\"Recall: {recall}\")\n",
    "print(f\"F1 Score: {f1}\")\n"
   ]
  }
 ],
 "metadata": {
  "kernelspec": {
   "display_name": "Python 3 (ipykernel)",
   "language": "python",
   "name": "python3"
  },
  "language_info": {
   "codemirror_mode": {
    "name": "ipython",
    "version": 3
   },
   "file_extension": ".py",
   "mimetype": "text/x-python",
   "name": "python",
   "nbconvert_exporter": "python",
   "pygments_lexer": "ipython3",
   "version": "3.11.9"
  }
 },
 "nbformat": 4,
 "nbformat_minor": 5
}
