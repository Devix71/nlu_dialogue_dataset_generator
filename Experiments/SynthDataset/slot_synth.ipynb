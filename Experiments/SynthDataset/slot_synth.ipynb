{
 "cells": [
  {
   "cell_type": "code",
   "execution_count": 1,
   "metadata": {},
   "outputs": [
    {
     "name": "stdout",
     "output_type": "stream",
     "text": [
      "Total utterances: 75\n",
      "Sample utterances: ['Can you tell me when my train departs and if there are any luggage storage options?', 'I am looking to travel from Cambridge to London. What are the schedules and how much do the tickets cost?', 'Yes, I would like to book a ticket for this Thursday. Do I qualify for any discounts?', 'Yes, I am a student. Can I get the student discount for my ticket?', 'Yes, please book the ticket for me for this Thursday with the student discount. Can you also tell me what time the train leaves?']\n",
      "Sample slot_types: [['train-leaveat'], ['train-destination', 'train-departure'], ['train-day', 'train-departure'], ['train-day', 'train-departure'], ['train-day', 'train-departure']]\n"
     ]
    }
   ],
   "source": [
    "import json\n",
    "\n",
    "# Load the dataset\n",
    "with open('normalised_intent_validation_slotfixed_set.json', 'r') as file:\n",
    "    data = json.load(file)\n",
    "\n",
    "utterances_validate = []\n",
    "slot_types_validate = []\n",
    "\n",
    "desired_classes = {'hotel-name', 'hotel-type', 'hotel-bookday', 'hotel-internet', 'hotel-bookstay', 'hotel-area', 'hotel-parking', 'hotel-bookpeople', 'hotel-pricerange', 'train-departure', 'train-arriveby', 'train-destination', 'train-day', 'train-bookpeople', 'train-leaveat'}\n",
    "\n",
    "# Navigate through the nested structure\n",
    "for item in data:\n",
    "    for scenario in item['scenarios']:\n",
    "        for turn in scenario['turns']:\n",
    "            if turn[\"speaker\"] == \"USER\":\n",
    "                current_slots = set()\n",
    "                for frame in turn.get(\"frames\", []):\n",
    "                    # Filter slot values to include only those in the desired classes\n",
    "                    current_slots.update(slot for slot in frame.get(\"state\", {}).get(\"slot_values\", {}).keys() if slot in desired_classes)\n",
    "                if current_slots:  # only if slot_values are present\n",
    "                    utterances_validate.append(turn[\"utterance\"])\n",
    "                    slot_types_validate.append(list(current_slots))\n",
    "\n",
    "print(f\"Total utterances: {len(utterances_validate)}\")\n",
    "print(f\"Sample utterances: {utterances_validate[:5]}\")\n",
    "print(f\"Sample slot_types: {slot_types_validate[:5]}\")\n"
   ]
  },
  {
   "cell_type": "code",
   "execution_count": 2,
   "metadata": {},
   "outputs": [
    {
     "name": "stdout",
     "output_type": "stream",
     "text": [
      "Total utterances: 259\n",
      "Sample utterances: ['No, I already have a ticket. Thanks for the information!', \"No, that's all I needed. Thank you!\", 'Actually, could you tell me how long the journey will take?', 'Can you tell me when the next stop is? And could I get some help with my luggage?', \"Yes, I'm trying to get to Brighton. What time do we arrive?\"]\n",
      "Sample slot_types: [['train-leaveat'], ['train-leaveat'], ['train-leaveat'], ['train-departure'], ['train-destination']]\n"
     ]
    }
   ],
   "source": [
    "import json\n",
    "\n",
    "# Load the dataset\n",
    "with open('normalised_intent_test_slotfixed_set.json', 'r') as file:\n",
    "    data = json.load(file)\n",
    "\n",
    "utterances_test = []\n",
    "slot_types_test = []\n",
    "\n",
    "\n",
    "for item in data:\n",
    "    for scenario in item['scenarios']:\n",
    "        for turn in scenario['turns']:\n",
    "            if turn[\"speaker\"] == \"USER\":\n",
    "                current_slots = set()\n",
    "                for frame in turn.get(\"frames\", []):\n",
    "                    # Filter slot values to include only those in the desired classes\n",
    "                    current_slots.update(slot for slot in frame.get(\"state\", {}).get(\"slot_values\", {}).keys() if slot in desired_classes)\n",
    "                if current_slots:  # only if slot_values are present\n",
    "                    utterances_test.append(turn[\"utterance\"])\n",
    "                    slot_types_test.append(list(current_slots))\n",
    "\n",
    "print(f\"Total utterances: {len(utterances_test)}\")\n",
    "print(f\"Sample utterances: {utterances_test[:5]}\")\n",
    "print(f\"Sample slot_types: {slot_types_test[:5]}\")\n"
   ]
  },
  {
   "cell_type": "code",
   "execution_count": 3,
   "metadata": {},
   "outputs": [
    {
     "name": "stdout",
     "output_type": "stream",
     "text": [
      "All unique slot types: {'hotel-name', 'train-destination', 'hotel-internet', 'train-arriveby', 'train-day', 'hotel-area', 'hotel-type', 'hotel-bookpeople', 'train-departure', 'hotel-pricerange', 'hotel-parking', 'hotel-bookstay', 'train-leaveat', 'hotel-bookday'}\n"
     ]
    }
   ],
   "source": [
    "unique_slot_types = set()\n",
    "for slots_list in slot_types_test:\n",
    "    unique_slot_types.update(slots_list)\n",
    "\n",
    "print(\"All unique slot types:\", unique_slot_types)"
   ]
  },
  {
   "cell_type": "code",
   "execution_count": 4,
   "metadata": {},
   "outputs": [
    {
     "name": "stdout",
     "output_type": "stream",
     "text": [
      "Total utterances: 1209\n",
      "Sample utterances: [\"I'm looking to travel to Chicago on the 5th of next month.\", \"I'll take the 1:00 PM train in Economy class, please.\", 'Yes, I would like to proceed with the payment.', 'Can you tell me when the next stop is and where I can find the nearest restroom?', 'Can you tell me how to get to the nearest station and help me with the transfer?']\n",
      "Sample slot_types: [['train-day', 'train-destination'], ['train-day', 'train-leaveat'], ['train-day', 'train-leaveat'], ['train-departure'], ['train-departure']]\n"
     ]
    }
   ],
   "source": [
    "import json\n",
    "\n",
    "# Load the dataset\n",
    "with open('normalised_intent_train_slotfixed_set.json', 'r') as file:\n",
    "    data = json.load(file)\n",
    "\n",
    "utterances_train = []\n",
    "slot_types_train = []\n",
    "\n",
    "for item in data:\n",
    "    for scenario in item['scenarios']:\n",
    "        for turn in scenario['turns']:\n",
    "            if turn[\"speaker\"] == \"USER\":\n",
    "                current_slots = set()\n",
    "                for frame in turn.get(\"frames\", []):\n",
    "                    # Filter slot values to include only those in the desired classes\n",
    "                    current_slots.update(slot for slot in frame.get(\"state\", {}).get(\"slot_values\", {}).keys() if slot in desired_classes)\n",
    "                if current_slots:  # only if slot_values are present\n",
    "                    utterances_train.append(turn[\"utterance\"])\n",
    "                    slot_types_train.append(list(current_slots))\n",
    "\n",
    "print(f\"Total utterances: {len(utterances_train)}\")\n",
    "print(f\"Sample utterances: {utterances_train[:5]}\")\n",
    "print(f\"Sample slot_types: {slot_types_train[:5]}\")\n"
   ]
  },
  {
   "cell_type": "code",
   "execution_count": 6,
   "metadata": {},
   "outputs": [],
   "source": [
    "from sklearn.pipeline import Pipeline\n",
    "from sklearn.feature_extraction.text import TfidfVectorizer\n",
    "from sklearn.svm import SVC\n",
    "from sklearn.multiclass import OneVsRestClassifier\n",
    "from sklearn.preprocessing import MultiLabelBinarizer\n",
    "from sklearn.metrics import make_scorer, f1_score\n",
    "from sklearn.metrics import classification_report,jaccard_score,hamming_loss\n"
   ]
  },
  {
   "cell_type": "code",
   "execution_count": 7,
   "metadata": {},
   "outputs": [],
   "source": [
    "mlb = MultiLabelBinarizer()\n",
    "slot_types_train_bin = mlb.fit_transform(slot_types_train)\n",
    "slot_types_test_bin = mlb.transform(slot_types_test)\n",
    "slot_types_validate_bin = mlb.transform(slot_types_validate)\n",
    "f1_scorer = make_scorer(f1_score, average='micro')\n"
   ]
  },
  {
   "cell_type": "code",
   "execution_count": 8,
   "metadata": {},
   "outputs": [],
   "source": [
    "from sklearn.model_selection import ParameterGrid\n",
    "import numpy as np\n",
    "\n",
    "\n",
    "pipeline = Pipeline([\n",
    "    ('tfidf', TfidfVectorizer()),\n",
    "    ('clf', OneVsRestClassifier(SVC(kernel='linear', probability=True, random_state=42)))\n",
    "])\n",
    "parameters = ParameterGrid({\n",
    "    # TF-IDF Vectorizer\n",
    "    'tfidf__ngram_range': [(1, 1), (1, 2), (1, 3)],  \n",
    "    'tfidf__max_df': [0.5, 0.75, 1.0],  \n",
    "    'tfidf__min_df': [1, 2, 3, 5],  \n",
    "    'tfidf__use_idf': [True, False],  \n",
    "    'tfidf__norm': ['l1', 'l2', None],  \n",
    "    'tfidf__sublinear_tf': [True, False], \n",
    "    'tfidf__max_features': [None, 5000, 10000, 20000],\n",
    "\n",
    "    # SVM Classifier\n",
    "    'clf__estimator__C': [0.01, 0.1, 1, 10, 100],  \n",
    "    'clf__estimator__kernel': ['linear', 'rbf', 'poly'],  \n",
    "    'clf__estimator__degree': [2, 3, 4],  \n",
    "    'clf__estimator__gamma': ['scale', 'auto', 0.1, 1, 10], \n",
    "    'clf__estimator__class_weight': [None, 'balanced'],  \n",
    "})\n",
    "\n",
    "best_score = 0\n",
    "best_params = {}\n"
   ]
  },
  {
   "cell_type": "code",
   "execution_count": 9,
   "metadata": {},
   "outputs": [
    {
     "name": "stdout",
     "output_type": "stream",
     "text": [
      "Epoch 1/10\n",
      "New best score: 0.3075 with params: {'clf__estimator__C': 0.01, 'clf__estimator__class_weight': 'balanced', 'clf__estimator__degree': 4, 'clf__estimator__gamma': 0.1, 'clf__estimator__kernel': 'rbf', 'tfidf__max_df': 1.0, 'tfidf__max_features': 20000, 'tfidf__min_df': 5, 'tfidf__ngram_range': (1, 2), 'tfidf__norm': 'l2', 'tfidf__sublinear_tf': True, 'tfidf__use_idf': True}\n",
      "Epoch 2/10\n",
      "Epoch 3/10\n",
      "Epoch 4/10\n",
      "New best score: 0.3948 with params: {'clf__estimator__C': 0.1, 'clf__estimator__class_weight': 'balanced', 'clf__estimator__degree': 4, 'clf__estimator__gamma': 'auto', 'clf__estimator__kernel': 'poly', 'tfidf__max_df': 1.0, 'tfidf__max_features': None, 'tfidf__min_df': 3, 'tfidf__ngram_range': (1, 3), 'tfidf__norm': 'l2', 'tfidf__sublinear_tf': False, 'tfidf__use_idf': True}\n",
      "Epoch 5/10\n",
      "Epoch 6/10\n",
      "Epoch 7/10\n",
      "Epoch 8/10\n",
      "Epoch 9/10\n",
      "Epoch 10/10\n"
     ]
    }
   ],
   "source": [
    "N = 10  \n",
    "for epoch in range(1, N+1): \n",
    "    print(f\"Epoch {epoch}/{N}\")\n",
    "    \n",
    "    # subset of parameters to try in epoch\n",
    "    sampled_parameters = np.random.choice(list(parameters), replace=False, size=2) \n",
    "    \n",
    "    for params in sampled_parameters:\n",
    "       \n",
    "        pipeline.set_params(**params)\n",
    "        \n",
    "        pipeline.fit(utterances_train, slot_types_train_bin)\n",
    "        \n",
    "        current_score = f1_score(slot_types_validate_bin, pipeline.predict(utterances_validate), average='micro')\n",
    "        \n",
    "        # Update best score and parameters if current model is better\n",
    "        if current_score > best_score:\n",
    "            best_score = current_score\n",
    "            best_params = params\n",
    "            print(f\"New best score: {best_score:.4f} with params: {params}\")\n"
   ]
  },
  {
   "cell_type": "code",
   "execution_count": 10,
   "metadata": {},
   "outputs": [
    {
     "data": {
      "text/html": [
       "<style>#sk-container-id-1 {color: black;background-color: white;}#sk-container-id-1 pre{padding: 0;}#sk-container-id-1 div.sk-toggleable {background-color: white;}#sk-container-id-1 label.sk-toggleable__label {cursor: pointer;display: block;width: 100%;margin-bottom: 0;padding: 0.3em;box-sizing: border-box;text-align: center;}#sk-container-id-1 label.sk-toggleable__label-arrow:before {content: \"▸\";float: left;margin-right: 0.25em;color: #696969;}#sk-container-id-1 label.sk-toggleable__label-arrow:hover:before {color: black;}#sk-container-id-1 div.sk-estimator:hover label.sk-toggleable__label-arrow:before {color: black;}#sk-container-id-1 div.sk-toggleable__content {max-height: 0;max-width: 0;overflow: hidden;text-align: left;background-color: #f0f8ff;}#sk-container-id-1 div.sk-toggleable__content pre {margin: 0.2em;color: black;border-radius: 0.25em;background-color: #f0f8ff;}#sk-container-id-1 input.sk-toggleable__control:checked~div.sk-toggleable__content {max-height: 200px;max-width: 100%;overflow: auto;}#sk-container-id-1 input.sk-toggleable__control:checked~label.sk-toggleable__label-arrow:before {content: \"▾\";}#sk-container-id-1 div.sk-estimator input.sk-toggleable__control:checked~label.sk-toggleable__label {background-color: #d4ebff;}#sk-container-id-1 div.sk-label input.sk-toggleable__control:checked~label.sk-toggleable__label {background-color: #d4ebff;}#sk-container-id-1 input.sk-hidden--visually {border: 0;clip: rect(1px 1px 1px 1px);clip: rect(1px, 1px, 1px, 1px);height: 1px;margin: -1px;overflow: hidden;padding: 0;position: absolute;width: 1px;}#sk-container-id-1 div.sk-estimator {font-family: monospace;background-color: #f0f8ff;border: 1px dotted black;border-radius: 0.25em;box-sizing: border-box;margin-bottom: 0.5em;}#sk-container-id-1 div.sk-estimator:hover {background-color: #d4ebff;}#sk-container-id-1 div.sk-parallel-item::after {content: \"\";width: 100%;border-bottom: 1px solid gray;flex-grow: 1;}#sk-container-id-1 div.sk-label:hover label.sk-toggleable__label {background-color: #d4ebff;}#sk-container-id-1 div.sk-serial::before {content: \"\";position: absolute;border-left: 1px solid gray;box-sizing: border-box;top: 0;bottom: 0;left: 50%;z-index: 0;}#sk-container-id-1 div.sk-serial {display: flex;flex-direction: column;align-items: center;background-color: white;padding-right: 0.2em;padding-left: 0.2em;position: relative;}#sk-container-id-1 div.sk-item {position: relative;z-index: 1;}#sk-container-id-1 div.sk-parallel {display: flex;align-items: stretch;justify-content: center;background-color: white;position: relative;}#sk-container-id-1 div.sk-item::before, #sk-container-id-1 div.sk-parallel-item::before {content: \"\";position: absolute;border-left: 1px solid gray;box-sizing: border-box;top: 0;bottom: 0;left: 50%;z-index: -1;}#sk-container-id-1 div.sk-parallel-item {display: flex;flex-direction: column;z-index: 1;position: relative;background-color: white;}#sk-container-id-1 div.sk-parallel-item:first-child::after {align-self: flex-end;width: 50%;}#sk-container-id-1 div.sk-parallel-item:last-child::after {align-self: flex-start;width: 50%;}#sk-container-id-1 div.sk-parallel-item:only-child::after {width: 0;}#sk-container-id-1 div.sk-dashed-wrapped {border: 1px dashed gray;margin: 0 0.4em 0.5em 0.4em;box-sizing: border-box;padding-bottom: 0.4em;background-color: white;}#sk-container-id-1 div.sk-label label {font-family: monospace;font-weight: bold;display: inline-block;line-height: 1.2em;}#sk-container-id-1 div.sk-label-container {text-align: center;}#sk-container-id-1 div.sk-container {/* jupyter's `normalize.less` sets `[hidden] { display: none; }` but bootstrap.min.css set `[hidden] { display: none !important; }` so we also need the `!important` here to be able to override the default hidden behavior on the sphinx rendered scikit-learn.org. See: https://github.com/scikit-learn/scikit-learn/issues/21755 */display: inline-block !important;position: relative;}#sk-container-id-1 div.sk-text-repr-fallback {display: none;}</style><div id=\"sk-container-id-1\" class=\"sk-top-container\"><div class=\"sk-text-repr-fallback\"><pre>Pipeline(steps=[(&#x27;tfidf&#x27;, TfidfVectorizer(min_df=3, ngram_range=(1, 3))),\n",
       "                (&#x27;clf&#x27;,\n",
       "                 OneVsRestClassifier(estimator=SVC(C=0.1,\n",
       "                                                   class_weight=&#x27;balanced&#x27;,\n",
       "                                                   degree=4, gamma=&#x27;auto&#x27;,\n",
       "                                                   kernel=&#x27;poly&#x27;,\n",
       "                                                   probability=True,\n",
       "                                                   random_state=42)))])</pre><b>In a Jupyter environment, please rerun this cell to show the HTML representation or trust the notebook. <br />On GitHub, the HTML representation is unable to render, please try loading this page with nbviewer.org.</b></div><div class=\"sk-container\" hidden><div class=\"sk-item sk-dashed-wrapped\"><div class=\"sk-label-container\"><div class=\"sk-label sk-toggleable\"><input class=\"sk-toggleable__control sk-hidden--visually\" id=\"sk-estimator-id-1\" type=\"checkbox\" ><label for=\"sk-estimator-id-1\" class=\"sk-toggleable__label sk-toggleable__label-arrow\">Pipeline</label><div class=\"sk-toggleable__content\"><pre>Pipeline(steps=[(&#x27;tfidf&#x27;, TfidfVectorizer(min_df=3, ngram_range=(1, 3))),\n",
       "                (&#x27;clf&#x27;,\n",
       "                 OneVsRestClassifier(estimator=SVC(C=0.1,\n",
       "                                                   class_weight=&#x27;balanced&#x27;,\n",
       "                                                   degree=4, gamma=&#x27;auto&#x27;,\n",
       "                                                   kernel=&#x27;poly&#x27;,\n",
       "                                                   probability=True,\n",
       "                                                   random_state=42)))])</pre></div></div></div><div class=\"sk-serial\"><div class=\"sk-item\"><div class=\"sk-estimator sk-toggleable\"><input class=\"sk-toggleable__control sk-hidden--visually\" id=\"sk-estimator-id-2\" type=\"checkbox\" ><label for=\"sk-estimator-id-2\" class=\"sk-toggleable__label sk-toggleable__label-arrow\">TfidfVectorizer</label><div class=\"sk-toggleable__content\"><pre>TfidfVectorizer(min_df=3, ngram_range=(1, 3))</pre></div></div></div><div class=\"sk-item sk-dashed-wrapped\"><div class=\"sk-label-container\"><div class=\"sk-label sk-toggleable\"><input class=\"sk-toggleable__control sk-hidden--visually\" id=\"sk-estimator-id-3\" type=\"checkbox\" ><label for=\"sk-estimator-id-3\" class=\"sk-toggleable__label sk-toggleable__label-arrow\">clf: OneVsRestClassifier</label><div class=\"sk-toggleable__content\"><pre>OneVsRestClassifier(estimator=SVC(C=0.1, class_weight=&#x27;balanced&#x27;, degree=4,\n",
       "                                  gamma=&#x27;auto&#x27;, kernel=&#x27;poly&#x27;, probability=True,\n",
       "                                  random_state=42))</pre></div></div></div><div class=\"sk-parallel\"><div class=\"sk-parallel-item\"><div class=\"sk-item\"><div class=\"sk-label-container\"><div class=\"sk-label sk-toggleable\"><input class=\"sk-toggleable__control sk-hidden--visually\" id=\"sk-estimator-id-4\" type=\"checkbox\" ><label for=\"sk-estimator-id-4\" class=\"sk-toggleable__label sk-toggleable__label-arrow\">estimator: SVC</label><div class=\"sk-toggleable__content\"><pre>SVC(C=0.1, class_weight=&#x27;balanced&#x27;, degree=4, gamma=&#x27;auto&#x27;, kernel=&#x27;poly&#x27;,\n",
       "    probability=True, random_state=42)</pre></div></div></div><div class=\"sk-serial\"><div class=\"sk-item\"><div class=\"sk-estimator sk-toggleable\"><input class=\"sk-toggleable__control sk-hidden--visually\" id=\"sk-estimator-id-5\" type=\"checkbox\" ><label for=\"sk-estimator-id-5\" class=\"sk-toggleable__label sk-toggleable__label-arrow\">SVC</label><div class=\"sk-toggleable__content\"><pre>SVC(C=0.1, class_weight=&#x27;balanced&#x27;, degree=4, gamma=&#x27;auto&#x27;, kernel=&#x27;poly&#x27;,\n",
       "    probability=True, random_state=42)</pre></div></div></div></div></div></div></div></div></div></div></div></div>"
      ],
      "text/plain": [
       "Pipeline(steps=[('tfidf', TfidfVectorizer(min_df=3, ngram_range=(1, 3))),\n",
       "                ('clf',\n",
       "                 OneVsRestClassifier(estimator=SVC(C=0.1,\n",
       "                                                   class_weight='balanced',\n",
       "                                                   degree=4, gamma='auto',\n",
       "                                                   kernel='poly',\n",
       "                                                   probability=True,\n",
       "                                                   random_state=42)))])"
      ]
     },
     "execution_count": 10,
     "metadata": {},
     "output_type": "execute_result"
    }
   ],
   "source": [
    "\n",
    "pipeline.set_params(**best_params)\n"
   ]
  },
  {
   "cell_type": "code",
   "execution_count": 11,
   "metadata": {},
   "outputs": [
    {
     "data": {
      "text/html": [
       "<style>#sk-container-id-2 {color: black;background-color: white;}#sk-container-id-2 pre{padding: 0;}#sk-container-id-2 div.sk-toggleable {background-color: white;}#sk-container-id-2 label.sk-toggleable__label {cursor: pointer;display: block;width: 100%;margin-bottom: 0;padding: 0.3em;box-sizing: border-box;text-align: center;}#sk-container-id-2 label.sk-toggleable__label-arrow:before {content: \"▸\";float: left;margin-right: 0.25em;color: #696969;}#sk-container-id-2 label.sk-toggleable__label-arrow:hover:before {color: black;}#sk-container-id-2 div.sk-estimator:hover label.sk-toggleable__label-arrow:before {color: black;}#sk-container-id-2 div.sk-toggleable__content {max-height: 0;max-width: 0;overflow: hidden;text-align: left;background-color: #f0f8ff;}#sk-container-id-2 div.sk-toggleable__content pre {margin: 0.2em;color: black;border-radius: 0.25em;background-color: #f0f8ff;}#sk-container-id-2 input.sk-toggleable__control:checked~div.sk-toggleable__content {max-height: 200px;max-width: 100%;overflow: auto;}#sk-container-id-2 input.sk-toggleable__control:checked~label.sk-toggleable__label-arrow:before {content: \"▾\";}#sk-container-id-2 div.sk-estimator input.sk-toggleable__control:checked~label.sk-toggleable__label {background-color: #d4ebff;}#sk-container-id-2 div.sk-label input.sk-toggleable__control:checked~label.sk-toggleable__label {background-color: #d4ebff;}#sk-container-id-2 input.sk-hidden--visually {border: 0;clip: rect(1px 1px 1px 1px);clip: rect(1px, 1px, 1px, 1px);height: 1px;margin: -1px;overflow: hidden;padding: 0;position: absolute;width: 1px;}#sk-container-id-2 div.sk-estimator {font-family: monospace;background-color: #f0f8ff;border: 1px dotted black;border-radius: 0.25em;box-sizing: border-box;margin-bottom: 0.5em;}#sk-container-id-2 div.sk-estimator:hover {background-color: #d4ebff;}#sk-container-id-2 div.sk-parallel-item::after {content: \"\";width: 100%;border-bottom: 1px solid gray;flex-grow: 1;}#sk-container-id-2 div.sk-label:hover label.sk-toggleable__label {background-color: #d4ebff;}#sk-container-id-2 div.sk-serial::before {content: \"\";position: absolute;border-left: 1px solid gray;box-sizing: border-box;top: 0;bottom: 0;left: 50%;z-index: 0;}#sk-container-id-2 div.sk-serial {display: flex;flex-direction: column;align-items: center;background-color: white;padding-right: 0.2em;padding-left: 0.2em;position: relative;}#sk-container-id-2 div.sk-item {position: relative;z-index: 1;}#sk-container-id-2 div.sk-parallel {display: flex;align-items: stretch;justify-content: center;background-color: white;position: relative;}#sk-container-id-2 div.sk-item::before, #sk-container-id-2 div.sk-parallel-item::before {content: \"\";position: absolute;border-left: 1px solid gray;box-sizing: border-box;top: 0;bottom: 0;left: 50%;z-index: -1;}#sk-container-id-2 div.sk-parallel-item {display: flex;flex-direction: column;z-index: 1;position: relative;background-color: white;}#sk-container-id-2 div.sk-parallel-item:first-child::after {align-self: flex-end;width: 50%;}#sk-container-id-2 div.sk-parallel-item:last-child::after {align-self: flex-start;width: 50%;}#sk-container-id-2 div.sk-parallel-item:only-child::after {width: 0;}#sk-container-id-2 div.sk-dashed-wrapped {border: 1px dashed gray;margin: 0 0.4em 0.5em 0.4em;box-sizing: border-box;padding-bottom: 0.4em;background-color: white;}#sk-container-id-2 div.sk-label label {font-family: monospace;font-weight: bold;display: inline-block;line-height: 1.2em;}#sk-container-id-2 div.sk-label-container {text-align: center;}#sk-container-id-2 div.sk-container {/* jupyter's `normalize.less` sets `[hidden] { display: none; }` but bootstrap.min.css set `[hidden] { display: none !important; }` so we also need the `!important` here to be able to override the default hidden behavior on the sphinx rendered scikit-learn.org. See: https://github.com/scikit-learn/scikit-learn/issues/21755 */display: inline-block !important;position: relative;}#sk-container-id-2 div.sk-text-repr-fallback {display: none;}</style><div id=\"sk-container-id-2\" class=\"sk-top-container\"><div class=\"sk-text-repr-fallback\"><pre>OneVsRestClassifier(estimator=SVC(C=0.1, class_weight=&#x27;balanced&#x27;, degree=4,\n",
       "                                  gamma=&#x27;auto&#x27;, kernel=&#x27;poly&#x27;, probability=True,\n",
       "                                  random_state=42))</pre><b>In a Jupyter environment, please rerun this cell to show the HTML representation or trust the notebook. <br />On GitHub, the HTML representation is unable to render, please try loading this page with nbviewer.org.</b></div><div class=\"sk-container\" hidden><div class=\"sk-item sk-dashed-wrapped\"><div class=\"sk-label-container\"><div class=\"sk-label sk-toggleable\"><input class=\"sk-toggleable__control sk-hidden--visually\" id=\"sk-estimator-id-6\" type=\"checkbox\" ><label for=\"sk-estimator-id-6\" class=\"sk-toggleable__label sk-toggleable__label-arrow\">OneVsRestClassifier</label><div class=\"sk-toggleable__content\"><pre>OneVsRestClassifier(estimator=SVC(C=0.1, class_weight=&#x27;balanced&#x27;, degree=4,\n",
       "                                  gamma=&#x27;auto&#x27;, kernel=&#x27;poly&#x27;, probability=True,\n",
       "                                  random_state=42))</pre></div></div></div><div class=\"sk-parallel\"><div class=\"sk-parallel-item\"><div class=\"sk-item\"><div class=\"sk-label-container\"><div class=\"sk-label sk-toggleable\"><input class=\"sk-toggleable__control sk-hidden--visually\" id=\"sk-estimator-id-7\" type=\"checkbox\" ><label for=\"sk-estimator-id-7\" class=\"sk-toggleable__label sk-toggleable__label-arrow\">estimator: SVC</label><div class=\"sk-toggleable__content\"><pre>SVC(C=0.1, class_weight=&#x27;balanced&#x27;, degree=4, gamma=&#x27;auto&#x27;, kernel=&#x27;poly&#x27;,\n",
       "    probability=True, random_state=42)</pre></div></div></div><div class=\"sk-serial\"><div class=\"sk-item\"><div class=\"sk-estimator sk-toggleable\"><input class=\"sk-toggleable__control sk-hidden--visually\" id=\"sk-estimator-id-8\" type=\"checkbox\" ><label for=\"sk-estimator-id-8\" class=\"sk-toggleable__label sk-toggleable__label-arrow\">SVC</label><div class=\"sk-toggleable__content\"><pre>SVC(C=0.1, class_weight=&#x27;balanced&#x27;, degree=4, gamma=&#x27;auto&#x27;, kernel=&#x27;poly&#x27;,\n",
       "    probability=True, random_state=42)</pre></div></div></div></div></div></div></div></div></div></div>"
      ],
      "text/plain": [
       "OneVsRestClassifier(estimator=SVC(C=0.1, class_weight='balanced', degree=4,\n",
       "                                  gamma='auto', kernel='poly', probability=True,\n",
       "                                  random_state=42))"
      ]
     },
     "execution_count": 11,
     "metadata": {},
     "output_type": "execute_result"
    }
   ],
   "source": [
    "from sklearn.utils import shuffle\n",
    "\n",
    "# Combining training and validation sets\n",
    "X_combined = utterances_train + utterances_validate\n",
    "y_combined_bin = np.concatenate((slot_types_train_bin, slot_types_validate_bin), axis=0)\n",
    "\n",
    "# Ensuring data is properly shuffled\n",
    "X_combined, y_combined_bin = shuffle(X_combined, y_combined_bin, random_state=42)\n",
    "\n",
    "# Transform combined data\n",
    "X_combined_tfidf = pipeline.named_steps['tfidf'].fit_transform(X_combined)\n",
    "\n",
    "# Retrain\n",
    "pipeline.named_steps['clf'].fit(X_combined_tfidf, y_combined_bin)"
   ]
  },
  {
   "cell_type": "code",
   "execution_count": 12,
   "metadata": {},
   "outputs": [
    {
     "name": "stdout",
     "output_type": "stream",
     "text": [
      "Test Set Results:\n",
      "                   precision    recall  f1-score   support\n",
      "\n",
      "       hotel-area       0.08      1.00      0.15        21\n",
      "    hotel-bookday       0.05      1.00      0.09        12\n",
      " hotel-bookpeople       0.00      0.00      0.00        42\n",
      "   hotel-bookstay       0.00      0.00      0.00       102\n",
      "   hotel-internet       0.01      1.00      0.02         3\n",
      "       hotel-name       0.40      1.00      0.57       103\n",
      "    hotel-parking       0.00      0.00      0.00         9\n",
      " hotel-pricerange       0.00      0.00      0.00        49\n",
      "       hotel-type       0.20      1.00      0.33        51\n",
      "   train-arriveby       0.03      1.00      0.07         9\n",
      " train-bookpeople       0.00      0.00      0.00         0\n",
      "        train-day       0.02      1.00      0.03         4\n",
      "  train-departure       0.00      0.00      0.00         8\n",
      "train-destination       0.00      0.00      0.00         7\n",
      "    train-leaveat       0.06      1.00      0.11        15\n",
      "\n",
      "        micro avg       0.11      0.50      0.17       435\n",
      "        macro avg       0.06      0.53      0.09       435\n",
      "     weighted avg       0.13      0.50      0.19       435\n",
      "      samples avg       0.11      0.48      0.17       435\n",
      "\n",
      "Hamming Loss: 0.533075933075933\n",
      "Jaccard Score: 0.09702917202917204\n"
     ]
    },
    {
     "name": "stderr",
     "output_type": "stream",
     "text": [
      "f:\\UTILITARE\\Miniconda\\envs\\School_Py\\lib\\site-packages\\sklearn\\metrics\\_classification.py:1344: UndefinedMetricWarning: Precision and F-score are ill-defined and being set to 0.0 in labels with no predicted samples. Use `zero_division` parameter to control this behavior.\n",
      "  _warn_prf(average, modifier, msg_start, len(result))\n",
      "f:\\UTILITARE\\Miniconda\\envs\\School_Py\\lib\\site-packages\\sklearn\\metrics\\_classification.py:1344: UndefinedMetricWarning: Recall and F-score are ill-defined and being set to 0.0 in labels with no true samples. Use `zero_division` parameter to control this behavior.\n",
      "  _warn_prf(average, modifier, msg_start, len(result))\n"
     ]
    }
   ],
   "source": [
    "# Predict on the test set\n",
    "y_pred_test_bin = pipeline.predict(utterances_test)\n",
    "\n",
    "y_pred_test = mlb.inverse_transform(y_pred_test_bin)\n",
    "slot_types_test_actual = mlb.inverse_transform(slot_types_test_bin)\n",
    "\n",
    "# Evaluate performance\n",
    "print(\"Test Set Results:\")\n",
    "print(classification_report(slot_types_test_bin, y_pred_test_bin, target_names=mlb.classes_))\n",
    "\n",
    "hamming_loss_value = hamming_loss(slot_types_test_bin, y_pred_test_bin)\n",
    "print(\"Hamming Loss:\", hamming_loss_value)\n",
    "\n",
    "jaccard = jaccard_score(slot_types_test_bin, y_pred_test_bin, average='samples')  # For multilabel classification\n",
    "print(\"Jaccard Score:\", jaccard)"
   ]
  },
  {
   "cell_type": "code",
   "execution_count": null,
   "metadata": {},
   "outputs": [
    {
     "name": "stdout",
     "output_type": "stream",
     "text": [
      "Model saved as saved_models_synth\\finalized_model_slot_values_SVM.joblib\n",
      "Label binarizer saved as saved_models_synth\\mlb_slot_values_SVM.joblib\n"
     ]
    }
   ],
   "source": [
    "import joblib\n",
    "\n",
    "# Save the model as a checkpoint\n",
    "model_filename = 'saved_models_synth\\\\finalized_model_slot_values_SVM.joblib'\n",
    "joblib.dump(pipeline, model_filename)\n",
    "\n",
    "# Save the MultiLabelBinarizer\n",
    "mlb_filename = 'saved_models_synth\\\\mlb_slot_values_SVM.joblib'\n",
    "joblib.dump(mlb, mlb_filename)\n",
    "\n",
    "print(f\"Model saved as {model_filename}\")\n",
    "print(f\"Label binarizer saved as {mlb_filename}\")\n"
   ]
  },
  {
   "cell_type": "code",
   "execution_count": null,
   "metadata": {},
   "outputs": [],
   "source": [
    "from sklearn.pipeline import Pipeline\n",
    "from sklearn.feature_extraction.text import TfidfVectorizer\n",
    "from sklearn.naive_bayes import MultinomialNB\n",
    "from sklearn.multiclass import OneVsRestClassifier\n",
    "from sklearn.preprocessing import MultiLabelBinarizer\n",
    "from sklearn.metrics import f1_score, make_scorer\n",
    "\n",
    "mlb = MultiLabelBinarizer()\n",
    "slot_types_train_bin = mlb.fit_transform(slot_types_train)\n",
    "slot_types_test_bin = mlb.transform(slot_types_test)\n",
    "slot_types_validate_bin = mlb.transform(slot_types_validate)\n",
    "\n",
    "# Define the pipeline\n",
    "pipeline_nb = Pipeline([\n",
    "    ('tfidf', TfidfVectorizer()),\n",
    "    ('clf', OneVsRestClassifier(MultinomialNB()))\n",
    "])\n",
    "\n",
    "# Define hyperparameters to tune\n",
    "parameters = ParameterGrid({\n",
    "    'tfidf__ngram_range': [(1, 1), (1, 2), (1, 3)],\n",
    "    'tfidf__max_df': [0.5, 0.75, 1.0],\n",
    "    'tfidf__min_df': [1, 2, 3, 5],\n",
    "    'tfidf__use_idf': [True, False],\n",
    "    'tfidf__norm': ['l1', 'l2', None],\n",
    "    'tfidf__sublinear_tf': [True, False],\n",
    "    'tfidf__max_features': [None, 5000, 10000, 20000],\n",
    "    \n",
    "    'clf__estimator__alpha': [0.001, 0.01, 0.1, 1.0, 10.0, 100.0],\n",
    "})\n",
    "\n",
    "f1_scorer = make_scorer(f1_score, average='micro')\n"
   ]
  },
  {
   "cell_type": "code",
   "execution_count": null,
   "metadata": {},
   "outputs": [
    {
     "name": "stdout",
     "output_type": "stream",
     "text": [
      "Epoch 1/10\n",
      "New best score: 0.3488 with params: {'clf__estimator__alpha': 100.0, 'tfidf__max_df': 0.75, 'tfidf__max_features': 20000, 'tfidf__min_df': 2, 'tfidf__ngram_range': (1, 3), 'tfidf__norm': None, 'tfidf__sublinear_tf': True, 'tfidf__use_idf': True}\n",
      "New best score: 0.6346 with params: {'clf__estimator__alpha': 0.1, 'tfidf__max_df': 0.75, 'tfidf__max_features': 5000, 'tfidf__min_df': 3, 'tfidf__ngram_range': (1, 2), 'tfidf__norm': None, 'tfidf__sublinear_tf': True, 'tfidf__use_idf': True}\n",
      "Epoch 2/10\n",
      "New best score: 0.6503 with params: {'clf__estimator__alpha': 0.001, 'tfidf__max_df': 1.0, 'tfidf__max_features': 5000, 'tfidf__min_df': 3, 'tfidf__ngram_range': (1, 2), 'tfidf__norm': None, 'tfidf__sublinear_tf': True, 'tfidf__use_idf': True}\n",
      "Epoch 3/10\n",
      "Epoch 4/10\n",
      "Epoch 5/10\n",
      "Epoch 6/10\n",
      "Epoch 7/10\n",
      "Epoch 8/10\n",
      "New best score: 0.6832 with params: {'clf__estimator__alpha': 0.01, 'tfidf__max_df': 0.5, 'tfidf__max_features': 10000, 'tfidf__min_df': 3, 'tfidf__ngram_range': (1, 3), 'tfidf__norm': None, 'tfidf__sublinear_tf': True, 'tfidf__use_idf': True}\n",
      "Epoch 9/10\n",
      "Epoch 10/10\n"
     ]
    }
   ],
   "source": [
    "best_score = 0\n",
    "best_params = None\n",
    "\n",
    "\n",
    "for epoch in range(1, N+1): \n",
    "    print(f\"Epoch {epoch}/{N}\")\n",
    "    \n",
    "    # subset of parameters to try in epoch\n",
    "    sampled_parameters = np.random.choice(list(parameters), replace=False, size=2) \n",
    "    \n",
    "    for params in sampled_parameters:\n",
    "\n",
    "        pipeline_nb.set_params(**params)\n",
    "        \n",
    "\n",
    "        pipeline_nb.fit(utterances_train, slot_types_train_bin)\n",
    "        \n",
    "\n",
    "        current_score = f1_score(slot_types_validate_bin, pipeline_nb.predict(utterances_validate), average='micro')\n",
    "        \n",
    "        # Update best score and parameters if current model is better\n",
    "        if current_score > best_score:\n",
    "            best_score = current_score\n",
    "            best_params = params\n",
    "            print(f\"New best score: {best_score:.4f} with params: {params}\")\n"
   ]
  },
  {
   "cell_type": "code",
   "execution_count": null,
   "metadata": {},
   "outputs": [
    {
     "data": {
      "text/html": [
       "<style>#sk-container-id-3 {color: black;background-color: white;}#sk-container-id-3 pre{padding: 0;}#sk-container-id-3 div.sk-toggleable {background-color: white;}#sk-container-id-3 label.sk-toggleable__label {cursor: pointer;display: block;width: 100%;margin-bottom: 0;padding: 0.3em;box-sizing: border-box;text-align: center;}#sk-container-id-3 label.sk-toggleable__label-arrow:before {content: \"▸\";float: left;margin-right: 0.25em;color: #696969;}#sk-container-id-3 label.sk-toggleable__label-arrow:hover:before {color: black;}#sk-container-id-3 div.sk-estimator:hover label.sk-toggleable__label-arrow:before {color: black;}#sk-container-id-3 div.sk-toggleable__content {max-height: 0;max-width: 0;overflow: hidden;text-align: left;background-color: #f0f8ff;}#sk-container-id-3 div.sk-toggleable__content pre {margin: 0.2em;color: black;border-radius: 0.25em;background-color: #f0f8ff;}#sk-container-id-3 input.sk-toggleable__control:checked~div.sk-toggleable__content {max-height: 200px;max-width: 100%;overflow: auto;}#sk-container-id-3 input.sk-toggleable__control:checked~label.sk-toggleable__label-arrow:before {content: \"▾\";}#sk-container-id-3 div.sk-estimator input.sk-toggleable__control:checked~label.sk-toggleable__label {background-color: #d4ebff;}#sk-container-id-3 div.sk-label input.sk-toggleable__control:checked~label.sk-toggleable__label {background-color: #d4ebff;}#sk-container-id-3 input.sk-hidden--visually {border: 0;clip: rect(1px 1px 1px 1px);clip: rect(1px, 1px, 1px, 1px);height: 1px;margin: -1px;overflow: hidden;padding: 0;position: absolute;width: 1px;}#sk-container-id-3 div.sk-estimator {font-family: monospace;background-color: #f0f8ff;border: 1px dotted black;border-radius: 0.25em;box-sizing: border-box;margin-bottom: 0.5em;}#sk-container-id-3 div.sk-estimator:hover {background-color: #d4ebff;}#sk-container-id-3 div.sk-parallel-item::after {content: \"\";width: 100%;border-bottom: 1px solid gray;flex-grow: 1;}#sk-container-id-3 div.sk-label:hover label.sk-toggleable__label {background-color: #d4ebff;}#sk-container-id-3 div.sk-serial::before {content: \"\";position: absolute;border-left: 1px solid gray;box-sizing: border-box;top: 0;bottom: 0;left: 50%;z-index: 0;}#sk-container-id-3 div.sk-serial {display: flex;flex-direction: column;align-items: center;background-color: white;padding-right: 0.2em;padding-left: 0.2em;position: relative;}#sk-container-id-3 div.sk-item {position: relative;z-index: 1;}#sk-container-id-3 div.sk-parallel {display: flex;align-items: stretch;justify-content: center;background-color: white;position: relative;}#sk-container-id-3 div.sk-item::before, #sk-container-id-3 div.sk-parallel-item::before {content: \"\";position: absolute;border-left: 1px solid gray;box-sizing: border-box;top: 0;bottom: 0;left: 50%;z-index: -1;}#sk-container-id-3 div.sk-parallel-item {display: flex;flex-direction: column;z-index: 1;position: relative;background-color: white;}#sk-container-id-3 div.sk-parallel-item:first-child::after {align-self: flex-end;width: 50%;}#sk-container-id-3 div.sk-parallel-item:last-child::after {align-self: flex-start;width: 50%;}#sk-container-id-3 div.sk-parallel-item:only-child::after {width: 0;}#sk-container-id-3 div.sk-dashed-wrapped {border: 1px dashed gray;margin: 0 0.4em 0.5em 0.4em;box-sizing: border-box;padding-bottom: 0.4em;background-color: white;}#sk-container-id-3 div.sk-label label {font-family: monospace;font-weight: bold;display: inline-block;line-height: 1.2em;}#sk-container-id-3 div.sk-label-container {text-align: center;}#sk-container-id-3 div.sk-container {/* jupyter's `normalize.less` sets `[hidden] { display: none; }` but bootstrap.min.css set `[hidden] { display: none !important; }` so we also need the `!important` here to be able to override the default hidden behavior on the sphinx rendered scikit-learn.org. See: https://github.com/scikit-learn/scikit-learn/issues/21755 */display: inline-block !important;position: relative;}#sk-container-id-3 div.sk-text-repr-fallback {display: none;}</style><div id=\"sk-container-id-3\" class=\"sk-top-container\"><div class=\"sk-text-repr-fallback\"><pre>OneVsRestClassifier(estimator=MultinomialNB(alpha=0.01))</pre><b>In a Jupyter environment, please rerun this cell to show the HTML representation or trust the notebook. <br />On GitHub, the HTML representation is unable to render, please try loading this page with nbviewer.org.</b></div><div class=\"sk-container\" hidden><div class=\"sk-item sk-dashed-wrapped\"><div class=\"sk-label-container\"><div class=\"sk-label sk-toggleable\"><input class=\"sk-toggleable__control sk-hidden--visually\" id=\"sk-estimator-id-9\" type=\"checkbox\" ><label for=\"sk-estimator-id-9\" class=\"sk-toggleable__label sk-toggleable__label-arrow\">OneVsRestClassifier</label><div class=\"sk-toggleable__content\"><pre>OneVsRestClassifier(estimator=MultinomialNB(alpha=0.01))</pre></div></div></div><div class=\"sk-parallel\"><div class=\"sk-parallel-item\"><div class=\"sk-item\"><div class=\"sk-label-container\"><div class=\"sk-label sk-toggleable\"><input class=\"sk-toggleable__control sk-hidden--visually\" id=\"sk-estimator-id-10\" type=\"checkbox\" ><label for=\"sk-estimator-id-10\" class=\"sk-toggleable__label sk-toggleable__label-arrow\">estimator: MultinomialNB</label><div class=\"sk-toggleable__content\"><pre>MultinomialNB(alpha=0.01)</pre></div></div></div><div class=\"sk-serial\"><div class=\"sk-item\"><div class=\"sk-estimator sk-toggleable\"><input class=\"sk-toggleable__control sk-hidden--visually\" id=\"sk-estimator-id-11\" type=\"checkbox\" ><label for=\"sk-estimator-id-11\" class=\"sk-toggleable__label sk-toggleable__label-arrow\">MultinomialNB</label><div class=\"sk-toggleable__content\"><pre>MultinomialNB(alpha=0.01)</pre></div></div></div></div></div></div></div></div></div></div>"
      ],
      "text/plain": [
       "OneVsRestClassifier(estimator=MultinomialNB(alpha=0.01))"
      ]
     },
     "execution_count": 16,
     "metadata": {},
     "output_type": "execute_result"
    }
   ],
   "source": [
    "# Configure pipeline with the best parameters\n",
    "pipeline_nb.set_params(**best_params)\n",
    "\n",
    "# Combining training and validation sets\n",
    "X_combined = utterances_train + utterances_validate\n",
    "y_combined_bin = np.concatenate((slot_types_train_bin, slot_types_validate_bin), axis=0)\n",
    "\n",
    "# Ensuring data is properly shuffled\n",
    "X_combined, y_combined_bin = shuffle(X_combined, y_combined_bin, random_state=42)\n",
    "\n",
    "# Transform combined data\n",
    "X_combined_tfidf = pipeline_nb.named_steps['tfidf'].fit_transform(X_combined)\n",
    "\n",
    "# Retrain\n",
    "pipeline_nb.named_steps['clf'].fit(X_combined_tfidf, y_combined_bin)\n",
    "\n",
    "\n"
   ]
  },
  {
   "cell_type": "code",
   "execution_count": null,
   "metadata": {},
   "outputs": [
    {
     "name": "stdout",
     "output_type": "stream",
     "text": [
      "Final Test Set Results:\n",
      "                   precision    recall  f1-score   support\n",
      "\n",
      "       hotel-area       0.37      1.00      0.54        21\n",
      "    hotel-bookday       0.39      1.00      0.56        12\n",
      " hotel-bookpeople       0.33      0.57      0.42        42\n",
      "   hotel-bookstay       0.62      0.82      0.71       102\n",
      "   hotel-internet       0.06      1.00      0.12         3\n",
      "       hotel-name       0.69      0.71      0.70       103\n",
      "    hotel-parking       0.23      0.89      0.36         9\n",
      " hotel-pricerange       0.47      0.88      0.61        49\n",
      "       hotel-type       0.36      0.53      0.43        51\n",
      "   train-arriveby       0.56      0.62      0.59         8\n",
      " train-bookpeople       0.00      0.00      0.00         0\n",
      "        train-day       0.43      0.75      0.55         4\n",
      "  train-departure       0.33      0.75      0.46         8\n",
      "train-destination       0.22      0.50      0.31         4\n",
      "    train-leaveat       0.52      0.80      0.63        15\n",
      "\n",
      "        micro avg       0.44      0.75      0.56       431\n",
      "        macro avg       0.37      0.72      0.46       431\n",
      "     weighted avg       0.51      0.75      0.59       431\n",
      "      samples avg       0.50      0.75      0.56       431\n",
      "\n",
      "Hamming Loss: 0.13281452658884565\n",
      "Jaccard Score: 0.46631925143598296\n"
     ]
    },
    {
     "name": "stderr",
     "output_type": "stream",
     "text": [
      "f:\\UTILITARE\\Miniconda\\envs\\School_Py\\lib\\site-packages\\sklearn\\metrics\\_classification.py:1344: UndefinedMetricWarning: Recall and F-score are ill-defined and being set to 0.0 in labels with no true samples. Use `zero_division` parameter to control this behavior.\n",
      "  _warn_prf(average, modifier, msg_start, len(result))\n",
      "f:\\UTILITARE\\Miniconda\\envs\\School_Py\\lib\\site-packages\\sklearn\\metrics\\_classification.py:1344: UndefinedMetricWarning: Precision and F-score are ill-defined and being set to 0.0 in samples with no predicted labels. Use `zero_division` parameter to control this behavior.\n",
      "  _warn_prf(average, modifier, msg_start, len(result))\n"
     ]
    }
   ],
   "source": [
    "# Predict on the test set\n",
    "y_pred_test_bin = pipeline_nb.predict(utterances_test)\n",
    "\n",
    "y_pred_test = mlb.inverse_transform(y_pred_test_bin)\n",
    "slot_types_test_actual = mlb.inverse_transform(slot_types_test_bin)\n",
    "\n",
    "# Evaluate performance\n",
    "print(\"Final Test Set Results:\")\n",
    "print(classification_report(slot_types_test_bin, y_pred_test_bin, target_names=mlb.classes_))\n",
    "\n",
    "hamming_loss_value = hamming_loss(slot_types_test_bin, y_pred_test_bin)\n",
    "print(\"Hamming Loss:\", hamming_loss_value)\n",
    "\n",
    "jaccard = jaccard_score(slot_types_test_bin, y_pred_test_bin, average='samples')  # For multilabel classification\n",
    "print(\"Jaccard Score:\", jaccard)\n"
   ]
  },
  {
   "cell_type": "code",
   "execution_count": null,
   "metadata": {},
   "outputs": [
    {
     "name": "stdout",
     "output_type": "stream",
     "text": [
      "Model saved as saved_models_synth\\finalized_model_slot_values_NB.joblib\n",
      "Label binarizer saved as saved_models_synth\\mlb_slot_values_NB.joblib\n"
     ]
    }
   ],
   "source": [
    "# Save the model as a checkpoint\n",
    "model_filename = 'saved_models_synth\\\\finalized_model_slot_values_NB.joblib'\n",
    "joblib.dump(pipeline, model_filename)\n",
    "\n",
    "# Save the MultiLabelBinarizer\n",
    "mlb_filename = 'saved_models_synth\\\\mlb_slot_values_NB.joblib'\n",
    "joblib.dump(mlb, mlb_filename)\n",
    "\n",
    "print(f\"Model saved as {model_filename}\")\n",
    "print(f\"Label binarizer saved as {mlb_filename}\")"
   ]
  }
 ],
 "metadata": {
  "kernelspec": {
   "display_name": "School_Py",
   "language": "python",
   "name": "python3"
  },
  "language_info": {
   "codemirror_mode": {
    "name": "ipython",
    "version": 3
   },
   "file_extension": ".py",
   "mimetype": "text/x-python",
   "name": "python",
   "nbconvert_exporter": "python",
   "pygments_lexer": "ipython3",
   "version": "3.10.10"
  }
 },
 "nbformat": 4,
 "nbformat_minor": 2
}
