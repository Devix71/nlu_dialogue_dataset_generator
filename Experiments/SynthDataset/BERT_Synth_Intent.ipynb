{
 "cells": [
  {
   "cell_type": "code",
   "execution_count": 1,
   "id": "a002d0b7-de7d-4ae2-8d3a-476c9a588d26",
   "metadata": {},
   "outputs": [],
   "source": [
    "import json\n",
    "import pandas as pd\n",
    "from transformers import BertTokenizer\n",
    "from torch.utils.data import Dataset, DataLoader\n",
    "\n",
    "# Load the dataset\n",
    "with open('normalised_intent_validation_slotfixed_set.json', 'r') as file: \n",
    "    data = json.load(file)\n",
    "\n",
    "utterances_validate = []\n",
    "intents_validate = []\n",
    "\n",
    "# Navigate through the nested structure\n",
    "for item in data:\n",
    "    for scenario in item['scenarios']:\n",
    "        for turn in scenario['turns']:\n",
    "            if turn[\"speaker\"] == \"USER\":\n",
    "                for frame in turn.get(\"frames\", []):\n",
    "                    service = frame.get(\"service\")\n",
    "                    active_intent = frame[\"state\"][\"active_intent\"]\n",
    "                    \n",
    "                    # Check if the service is \"hotel\" or \"train\" and intent is not \"NONE\"\n",
    "                    if service in [\"hotel\", \"train\"] and active_intent != \"none\":\n",
    "                        utterances_validate.append(turn[\"utterance\"])\n",
    "                        intents_validate.append(active_intent)\n",
    "\n",
    "# Create a DataFrame\n",
    "df_validated = pd.DataFrame({'utterance': utterances_validate, 'intent': intents_validate})\n"
   ]
  },
  {
   "cell_type": "code",
   "execution_count": 2,
   "id": "e67c4e38-07ae-494d-9152-02a5ff6a1822",
   "metadata": {},
   "outputs": [],
   "source": [
    "with open('normalised_intent_test_slotfixed_set.json', 'r') as file: \n",
    "    data = json.load(file)\n",
    "\n",
    "utterances_test = []\n",
    "intents_test = []\n",
    "\n",
    "# Navigate through the nested structure\n",
    "for item in data:\n",
    "    for scenario in item['scenarios']:\n",
    "        for turn in scenario['turns']:\n",
    "            if turn[\"speaker\"] == \"USER\":\n",
    "                for frame in turn.get(\"frames\", []):\n",
    "                    service = frame.get(\"service\")\n",
    "                    active_intent = frame[\"state\"][\"active_intent\"]\n",
    "                    \n",
    "                    # Check if the service is \"hotel\" or \"train\" and intent is not \"NONE\"\n",
    "                    if service in [\"hotel\", \"train\"] and active_intent != \"none\":\n",
    "                        utterances_test.append(turn[\"utterance\"])\n",
    "                        intents_test.append(active_intent)\n",
    "\n",
    "# Create a DataFrame\n",
    "df_test = pd.DataFrame({'utterance': utterances_test, 'intent': intents_test})"
   ]
  },
  {
   "cell_type": "code",
   "execution_count": 3,
   "id": "51c5b925-aba6-486d-ad43-06e16697f9e2",
   "metadata": {},
   "outputs": [],
   "source": [
    "with open('normalised_intent_train_slotfixed_set.json', 'r') as file: \n",
    "    data = json.load(file)\n",
    "\n",
    "utterances_train = []\n",
    "intents_train = []\n",
    "\n",
    "# Navigate through the nested structure\n",
    "for item in data:\n",
    "    for scenario in item['scenarios']:\n",
    "        for turn in scenario['turns']:\n",
    "            if turn[\"speaker\"] == \"USER\":\n",
    "                for frame in turn.get(\"frames\", []):\n",
    "                    service = frame.get(\"service\")\n",
    "                    active_intent = frame[\"state\"][\"active_intent\"]\n",
    "                    \n",
    "                    # Check if the service is \"hotel\" or \"train\" and intent is not \"NONE\"\n",
    "                    if service in [\"hotel\", \"train\"] and active_intent != \"none\":\n",
    "                        utterances_train.append(turn[\"utterance\"])\n",
    "                        intents_train.append(active_intent)\n",
    "\n",
    "df_train = pd.DataFrame({'utterance': utterances_train, 'intent': intents_train})"
   ]
  },
  {
   "cell_type": "code",
   "execution_count": 4,
   "id": "d842eb56-ca89-4962-944e-48d66a0492e9",
   "metadata": {},
   "outputs": [],
   "source": [
    "all_intents = pd.concat([df_train['intent'], df_validated['intent'], df_test['intent']]).unique()\n",
    "intent_labels = {intent: idx for idx, intent in enumerate(all_intents)}\n",
    "\n",
    "# Map labels according to the unified dictionary\n",
    "df_train['label'] = df_train['intent'].map(intent_labels)\n",
    "df_validated['label'] = df_validated['intent'].map(intent_labels)\n",
    "df_test['label'] = df_test['intent'].map(intent_labels)\n",
    "\n",
    "\n",
    "# Prepare labels\n",
    "train_labels = df_train['label'].tolist()\n",
    "validate_labels = df_validated['label'].tolist()\n",
    "test_labels = df_test['label'].tolist()\n"
   ]
  },
  {
   "cell_type": "code",
   "execution_count": 5,
   "id": "b631f9de-b292-4e51-8435-1cf2455c231b",
   "metadata": {},
   "outputs": [],
   "source": [
    "# Check to ensure no labels are missing or incorrectly mapped\n",
    "assert df_train['label'].isna().sum() == 0, \"Missing labels in training data\"\n",
    "assert df_validated['label'].isna().sum() == 0, \"Missing labels in validation data\"\n",
    "assert df_test['label'].isna().sum() == 0, \"Missing labels in test data\"\n"
   ]
  },
  {
   "cell_type": "code",
   "execution_count": 6,
   "id": "b2d09590-4b58-4650-8e21-7289fec7d38f",
   "metadata": {},
   "outputs": [],
   "source": [
    "from transformers import BertTokenizer\n",
    "tokenizer = BertTokenizer.from_pretrained('bert-base-uncased', cache_dir='BERT_cache_folder')\n",
    "\n",
    "def encode_data(tokenizer, texts, max_length=128):\n",
    "    return tokenizer(texts, padding='max_length', truncation=True, max_length=max_length, return_tensors='pt')\n",
    "\n",
    "# Encode \n",
    "encoded_inputs_train = encode_data(tokenizer, df_train['utterance'].tolist())\n",
    "encoded_inputs_validate = encode_data(tokenizer, df_validated['utterance'].tolist())\n",
    "\n",
    "encoded_inputs_test = encode_data(tokenizer, df_test['utterance'].tolist())\n"
   ]
  },
  {
   "cell_type": "code",
   "execution_count": 7,
   "id": "f2bd21dc-94cb-4336-b217-31d4064df303",
   "metadata": {},
   "outputs": [],
   "source": [
    "# Check to ensure alignment\n",
    "assert len(encoded_inputs_train['input_ids']) == len(train_labels), \"Mismatch in training data and labels count.\"\n",
    "assert len(encoded_inputs_validate['input_ids']) == len(validate_labels), \"Mismatch in validation data and labels count.\"\n",
    "assert len(encoded_inputs_test['input_ids']) == len(test_labels), \"Mismatch in test data and labels count.\"\n"
   ]
  },
  {
   "cell_type": "code",
   "execution_count": 8,
   "id": "e1c96547-a721-4f12-8c15-ecd0c126c097",
   "metadata": {},
   "outputs": [],
   "source": [
    "class UtteranceDataset(Dataset):\n",
    "    def __init__(self, encodings, labels):\n",
    "        self.encodings = encodings \n",
    "        self.labels = labels\n",
    "\n",
    "    def __getitem__(self, idx):\n",
    "        item = {key: val[idx].clone().detach() if torch.is_tensor(val[idx]) else val[idx] for key, val in self.encodings.items()}\n",
    "        item['labels'] = torch.tensor(self.labels[idx], dtype=torch.long)  # Convert labels to tensor\n",
    "        return item\n",
    "\n",
    "    def __len__(self):\n",
    "        return len(self.labels) \n",
    "\n",
    "\n",
    "\n",
    "\n",
    "dataset_train = UtteranceDataset(encoded_inputs_train, train_labels)\n",
    "dataset_validate = UtteranceDataset(encoded_inputs_validate, validate_labels)\n",
    "dataset_test = UtteranceDataset(encoded_inputs_test, test_labels)\n",
    "\n"
   ]
  },
  {
   "cell_type": "code",
   "execution_count": 9,
   "id": "7d8ada04-b745-4bd1-88cf-0f33587cad92",
   "metadata": {},
   "outputs": [
    {
     "name": "stdout",
     "output_type": "stream",
     "text": [
      "CUDA is available. Using GPU: NVIDIA GeForce GTX 1080 Ti\n"
     ]
    }
   ],
   "source": [
    "import torch\n",
    "\n",
    "if torch.cuda.is_available():\n",
    "    device = torch.device(\"cuda\")\n",
    "    print(f\"CUDA is available. Using GPU: {torch.cuda.get_device_name(0)}\")\n",
    "else:\n",
    "    device = torch.device(\"cpu\")\n",
    "    print(\"CUDA is not available, using CPU instead.\")\n"
   ]
  },
  {
   "cell_type": "code",
   "execution_count": 10,
   "id": "8b408299-0246-4071-905c-c997b84f068e",
   "metadata": {},
   "outputs": [],
   "source": [
    "from transformers import TrainerCallback, TrainerState, TrainerControl\n",
    "from tqdm.auto import tqdm\n",
    "\n",
    "class EarlyStoppingCallback(TrainerCallback):\n",
    "    def __init__(self, patience=3):\n",
    "        self.patience = patience\n",
    "        self.best_loss = float('inf')\n",
    "        self.early_stop_counter = 0\n",
    "        self.progress_bar = None\n",
    "\n",
    "    def on_train_begin(self, args, state, control, **kwargs):\n",
    "        print(\"Starting training...\")\n",
    "        self.progress_bar = tqdm(total=state.num_train_epochs)\n",
    "\n",
    "    def on_epoch_begin(self, args, state, control, **kwargs):\n",
    "        # No action needed\n",
    "        pass\n",
    "\n",
    "    def on_log(self, args, state, control, logs=None, **kwargs):\n",
    "       \n",
    "        if logs is not None:\n",
    "            current_loss = logs.get('eval_loss')\n",
    "            if current_loss:\n",
    "                if current_loss < self.best_loss:\n",
    "                    self.best_loss = current_loss\n",
    "                    self.early_stop_counter = 0\n",
    "                    \n",
    "                else:\n",
    "                    self.early_stop_counter += 1\n",
    "                    if self.early_stop_counter >= self.patience:\n",
    "                        control.should_training_stop = True\n",
    "\n",
    "    def on_epoch_end(self, args, state, control, logs=None, **kwargs):\n",
    "        self.progress_bar.update(1)\n",
    "        if logs:\n",
    "            print(f\"\\nEpoch {state.epoch + 1} Summary:\")\n",
    "            if 'loss' in logs:\n",
    "                print(f\"Training Loss: {logs['loss']:.4f}\")\n",
    "            if 'eval_loss' in logs:\n",
    "                print(f\"Validation Loss: {logs['eval_loss']:.4f}\")\n",
    "            if 'eval_accuracy' in logs:\n",
    "                print(f\"Validation Accuracy: {logs['eval_accuracy']:.4f}\")\n",
    "            print(f\"Best Validation Loss So Far: {self.best_loss:.4f}\")\n",
    "            if self.early_stop_counter > 0:\n",
    "                print(f\"No improvement in validation loss for {self.early_stop_counter} consecutive epoch(s).\")\n",
    "            if control.should_training_stop:\n",
    "                print(\"Early stopping triggered.\")\n",
    "\n",
    "    def on_train_end(self, args, state, control, **kwargs):\n",
    "        self.progress_bar.close()\n",
    "        print(\"Training completed.\")\n"
   ]
  },
  {
   "cell_type": "code",
   "execution_count": 17,
   "id": "54204dbb-4696-4782-9743-967d93abf63a",
   "metadata": {},
   "outputs": [
    {
     "name": "stderr",
     "output_type": "stream",
     "text": [
      "Some weights of BertForSequenceClassification were not initialized from the model checkpoint at bert-base-uncased and are newly initialized: ['classifier.bias', 'classifier.weight']\n",
      "You should probably TRAIN this model on a down-stream task to be able to use it for predictions and inference.\n"
     ]
    },
    {
     "data": {
      "text/plain": [
       "BertForSequenceClassification(\n",
       "  (bert): BertModel(\n",
       "    (embeddings): BertEmbeddings(\n",
       "      (word_embeddings): Embedding(30522, 768, padding_idx=0)\n",
       "      (position_embeddings): Embedding(512, 768)\n",
       "      (token_type_embeddings): Embedding(2, 768)\n",
       "      (LayerNorm): LayerNorm((768,), eps=1e-12, elementwise_affine=True)\n",
       "      (dropout): Dropout(p=0.1, inplace=False)\n",
       "    )\n",
       "    (encoder): BertEncoder(\n",
       "      (layer): ModuleList(\n",
       "        (0-11): 12 x BertLayer(\n",
       "          (attention): BertAttention(\n",
       "            (self): BertSelfAttention(\n",
       "              (query): Linear(in_features=768, out_features=768, bias=True)\n",
       "              (key): Linear(in_features=768, out_features=768, bias=True)\n",
       "              (value): Linear(in_features=768, out_features=768, bias=True)\n",
       "              (dropout): Dropout(p=0.1, inplace=False)\n",
       "            )\n",
       "            (output): BertSelfOutput(\n",
       "              (dense): Linear(in_features=768, out_features=768, bias=True)\n",
       "              (LayerNorm): LayerNorm((768,), eps=1e-12, elementwise_affine=True)\n",
       "              (dropout): Dropout(p=0.1, inplace=False)\n",
       "            )\n",
       "          )\n",
       "          (intermediate): BertIntermediate(\n",
       "            (dense): Linear(in_features=768, out_features=3072, bias=True)\n",
       "            (intermediate_act_fn): GELUActivation()\n",
       "          )\n",
       "          (output): BertOutput(\n",
       "            (dense): Linear(in_features=3072, out_features=768, bias=True)\n",
       "            (LayerNorm): LayerNorm((768,), eps=1e-12, elementwise_affine=True)\n",
       "            (dropout): Dropout(p=0.1, inplace=False)\n",
       "          )\n",
       "        )\n",
       "      )\n",
       "    )\n",
       "    (pooler): BertPooler(\n",
       "      (dense): Linear(in_features=768, out_features=768, bias=True)\n",
       "      (activation): Tanh()\n",
       "    )\n",
       "  )\n",
       "  (dropout): Dropout(p=0.1, inplace=False)\n",
       "  (classifier): Linear(in_features=768, out_features=4, bias=True)\n",
       ")"
      ]
     },
     "execution_count": 17,
     "metadata": {},
     "output_type": "execute_result"
    }
   ],
   "source": [
    "from transformers import BertForSequenceClassification\n",
    "\n",
    "model = BertForSequenceClassification.from_pretrained('bert-base-uncased', num_labels=len(all_intents))\n",
    "\n",
    "model.to(device) \n"
   ]
  },
  {
   "cell_type": "code",
   "execution_count": 18,
   "id": "0ef8cdec-ac26-4935-bace-15cc80d70a71",
   "metadata": {},
   "outputs": [
    {
     "name": "stdout",
     "output_type": "stream",
     "text": [
      "Number of unique intents: 4\n"
     ]
    }
   ],
   "source": [
    "print(\"Number of unique intents:\", len(all_intents))\n"
   ]
  },
  {
   "cell_type": "code",
   "execution_count": 19,
   "id": "4730b293-2b7a-4837-b789-f35239df0e55",
   "metadata": {},
   "outputs": [],
   "source": [
    "from sklearn.utils.class_weight import compute_class_weight\n",
    "import numpy as np\n",
    "import torch\n",
    "\n",
    "# Calculate class weights based on the training data\n",
    "class_weights = compute_class_weight('balanced', classes=np.unique(train_labels), y=train_labels)\n",
    "class_weights = torch.tensor(class_weights, dtype=torch.float).to(device)"
   ]
  },
  {
   "cell_type": "code",
   "execution_count": 20,
   "id": "58703a35-5d1f-4b3d-976d-ab89b225a4f5",
   "metadata": {},
   "outputs": [
    {
     "name": "stderr",
     "output_type": "stream",
     "text": [
      "Training progress:  10%|█████████▉                                                                                         | 55/550 [00:19<03:00,  2.75it/s]"
     ]
    },
    {
     "name": "stdout",
     "output_type": "stream",
     "text": [
      "Epoch 1, Loss: 1.279611349105835\n",
      "Validation Loss: 1.2684766451517742\n",
      "New Best Validation Loss: 1.2684766451517742\n"
     ]
    },
    {
     "name": "stderr",
     "output_type": "stream",
     "text": [
      "Training progress:  20%|███████████████████▌                                                                              | 110/550 [00:44<02:37,  2.80it/s]"
     ]
    },
    {
     "name": "stdout",
     "output_type": "stream",
     "text": [
      "Epoch 2, Loss: 0.9493752717971802\n",
      "Validation Loss: 0.8177934288978577\n",
      "New Best Validation Loss: 0.8177934288978577\n"
     ]
    },
    {
     "name": "stderr",
     "output_type": "stream",
     "text": [
      "Training progress:  30%|█████████████████████████████▍                                                                    | 165/550 [01:08<02:18,  2.78it/s]"
     ]
    },
    {
     "name": "stdout",
     "output_type": "stream",
     "text": [
      "Epoch 3, Loss: 0.5583636164665222\n",
      "Validation Loss: 0.46503254771232605\n",
      "New Best Validation Loss: 0.46503254771232605\n"
     ]
    },
    {
     "name": "stderr",
     "output_type": "stream",
     "text": [
      "Training progress:  40%|███████████████████████████████████████▏                                                          | 220/550 [01:33<01:59,  2.77it/s]"
     ]
    },
    {
     "name": "stdout",
     "output_type": "stream",
     "text": [
      "Epoch 4, Loss: 0.6113447546958923\n",
      "Validation Loss: 0.4642924467722575\n",
      "New Best Validation Loss: 0.4642924467722575\n"
     ]
    },
    {
     "name": "stderr",
     "output_type": "stream",
     "text": [
      "Training progress:  50%|█████████████████████████████████████████████████                                                 | 275/550 [01:58<01:40,  2.73it/s]"
     ]
    },
    {
     "name": "stdout",
     "output_type": "stream",
     "text": [
      "Epoch 5, Loss: 0.34106290340423584\n",
      "Validation Loss: 0.35600229104359943\n",
      "New Best Validation Loss: 0.35600229104359943\n"
     ]
    },
    {
     "name": "stderr",
     "output_type": "stream",
     "text": [
      "Training progress:  60%|██████████████████████████████████████████████████████████▊                                       | 330/550 [02:24<01:21,  2.71it/s]"
     ]
    },
    {
     "name": "stdout",
     "output_type": "stream",
     "text": [
      "Epoch 6, Loss: 0.24351772665977478\n",
      "Validation Loss: 0.30965806047121686\n",
      "New Best Validation Loss: 0.30965806047121686\n"
     ]
    },
    {
     "name": "stderr",
     "output_type": "stream",
     "text": [
      "Training progress:  70%|████████████████████████████████████████████████████████████████████▊                             | 386/550 [02:50<01:23,  1.97it/s]"
     ]
    },
    {
     "name": "stdout",
     "output_type": "stream",
     "text": [
      "Epoch 7, Loss: 0.2674175500869751\n",
      "Validation Loss: 0.36411969860394794\n"
     ]
    },
    {
     "name": "stderr",
     "output_type": "stream",
     "text": [
      "Training progress:  80%|██████████████████████████████████████████████████████████████████████████████▌                   | 441/550 [03:11<00:56,  1.92it/s]"
     ]
    },
    {
     "name": "stdout",
     "output_type": "stream",
     "text": [
      "Epoch 8, Loss: 0.2324085235595703\n",
      "Validation Loss: 0.3832139770189921\n"
     ]
    },
    {
     "name": "stderr",
     "output_type": "stream",
     "text": [
      "Training progress:  90%|████████████████████████████████████████████████████████████████████████████████████████▍         | 496/550 [03:33<00:28,  1.91it/s]"
     ]
    },
    {
     "name": "stdout",
     "output_type": "stream",
     "text": [
      "Epoch 9, Loss: 0.40584537386894226\n",
      "Validation Loss: 0.3673328260580699\n"
     ]
    },
    {
     "name": "stderr",
     "output_type": "stream",
     "text": [
      "Training progress: 100%|██████████████████████████████████████████████████████████████████████████████████████████████████| 550/550 [03:54<00:00,  2.61it/s]"
     ]
    },
    {
     "name": "stdout",
     "output_type": "stream",
     "text": [
      "Epoch 10, Loss: 0.20053111016750336\n",
      "Validation Loss: 0.2694485733906428\n",
      "New Best Validation Loss: 0.2694485733906428\n"
     ]
    },
    {
     "name": "stderr",
     "output_type": "stream",
     "text": [
      "Training progress: 100%|██████████████████████████████████████████████████████████████████████████████████████████████████| 550/550 [04:04<00:00,  2.25it/s]\n"
     ]
    }
   ],
   "source": [
    "import torch\n",
    "from torch.utils.data import DataLoader\n",
    "from transformers import get_scheduler, BertForSequenceClassification, BertTokenizer\n",
    "from torch.optim import AdamW\n",
    "from tqdm import tqdm\n",
    "import torch.nn as nn\n",
    "\n",
    "# Continue with your DataLoader setup\n",
    "train_loader = DataLoader(dataset_train, batch_size=32, shuffle=True, drop_last=True)\n",
    "validate_loader = DataLoader(dataset_validate, batch_size=32, shuffle=False, drop_last=True)\n",
    "\n",
    "\n",
    "optimizer = AdamW(model.parameters(), lr=5e-5)\n",
    "num_training_steps = len(train_loader) * 10  # Assuming 10 epochs\n",
    "lr_scheduler = get_scheduler(\"linear\", optimizer=optimizer, num_warmup_steps=500, num_training_steps=num_training_steps)\n",
    "\n",
    "\n",
    "loss_function = nn.CrossEntropyLoss(weight=class_weights)\n",
    "\n",
    "\n",
    "best_validation_loss = float('inf')\n",
    "\n",
    "# Training loop\n",
    "progress_bar = tqdm(total=num_training_steps, desc=\"Training progress\")\n",
    "model.train()\n",
    "\n",
    "for epoch in range(10):  # Number of epochs\n",
    "    for batch in train_loader:\n",
    "        batch = {k: v.to(device) for k, v in batch.items()}\n",
    "        outputs = model(**batch)\n",
    "        logits = outputs.logits\n",
    "        labels = batch['labels']\n",
    "        loss = loss_function(logits, labels)\n",
    "        loss.backward()\n",
    "        optimizer.step()\n",
    "        lr_scheduler.step()\n",
    "        optimizer.zero_grad()\n",
    "        progress_bar.update(1)\n",
    "    \n",
    "    # Validation at the end of each epoch\n",
    "    model.eval()\n",
    "    total_eval_loss = 0\n",
    "    with torch.no_grad():\n",
    "        for batch in validate_loader:\n",
    "            batch = {k: v.to(device) for k, v in batch.items()}\n",
    "            outputs = model(**batch)\n",
    "            logits = outputs.logits\n",
    "            labels = batch['labels']\n",
    "            loss = loss_function(logits, labels)\n",
    "            total_eval_loss += loss.item()\n",
    "\n",
    "    avg_val_loss = total_eval_loss / len(validate_loader)\n",
    "    print(f\"Epoch {epoch+1}, Loss: {loss.item()}\")\n",
    "    print(f\"Validation Loss: {avg_val_loss}\")\n",
    "\n",
    "    # Update the best loss and save model if it's the best\n",
    "    if avg_val_loss < best_validation_loss:\n",
    "        best_validation_loss = avg_val_loss\n",
    "        print(f\"New Best Validation Loss: {best_validation_loss}\")\n",
    "        model.save_pretrained(\"./model_save_synth_intent_temp\")\n",
    "        tokenizer.save_pretrained(\"./model_save_synth_intent_temp\")\n",
    "\n",
    "progress_bar.close()\n"
   ]
  },
  {
   "cell_type": "code",
   "execution_count": 12,
   "id": "122de195-88ff-46a9-a3f3-eb9babf9eafb",
   "metadata": {},
   "outputs": [
    {
     "name": "stderr",
     "output_type": "stream",
     "text": [
      "Training progress:  10%|█████████▉                                                                                         | 55/550 [00:20<02:58,  2.77it/s]"
     ]
    },
    {
     "name": "stdout",
     "output_type": "stream",
     "text": [
      "Epoch 1, Loss: 6.511747360229492\n",
      "Validation Loss: 6.663471062978108\n",
      "New Best Validation Loss: 6.663471062978108\n"
     ]
    },
    {
     "name": "stderr",
     "output_type": "stream",
     "text": [
      "Training progress:  20%|███████████████████▌                                                                              | 110/550 [00:44<02:38,  2.78it/s]"
     ]
    },
    {
     "name": "stdout",
     "output_type": "stream",
     "text": [
      "Epoch 2, Loss: 4.585571765899658\n",
      "Validation Loss: 4.243161122004191\n",
      "New Best Validation Loss: 4.243161122004191\n"
     ]
    },
    {
     "name": "stderr",
     "output_type": "stream",
     "text": [
      "Training progress:  30%|█████████████████████████████▍                                                                    | 165/550 [01:09<02:18,  2.78it/s]"
     ]
    },
    {
     "name": "stdout",
     "output_type": "stream",
     "text": [
      "Epoch 3, Loss: 2.4873363971710205\n",
      "Validation Loss: 2.1329411268234253\n",
      "New Best Validation Loss: 2.1329411268234253\n"
     ]
    },
    {
     "name": "stderr",
     "output_type": "stream",
     "text": [
      "Training progress:  40%|███████████████████████████████████████▏                                                          | 220/550 [01:34<01:59,  2.75it/s]"
     ]
    },
    {
     "name": "stdout",
     "output_type": "stream",
     "text": [
      "Epoch 4, Loss: 1.1836904287338257\n",
      "Validation Loss: 1.211892346541087\n",
      "New Best Validation Loss: 1.211892346541087\n"
     ]
    },
    {
     "name": "stderr",
     "output_type": "stream",
     "text": [
      "Training progress:  50%|█████████████████████████████████████████████████                                                 | 275/550 [01:59<01:39,  2.76it/s]"
     ]
    },
    {
     "name": "stdout",
     "output_type": "stream",
     "text": [
      "Epoch 5, Loss: 0.7390127182006836\n",
      "Validation Loss: 0.8105296889940897\n",
      "New Best Validation Loss: 0.8105296889940897\n"
     ]
    },
    {
     "name": "stderr",
     "output_type": "stream",
     "text": [
      "Training progress:  60%|██████████████████████████████████████████████████████████▊                                       | 330/550 [02:24<01:20,  2.74it/s]"
     ]
    },
    {
     "name": "stdout",
     "output_type": "stream",
     "text": [
      "Epoch 6, Loss: 0.5064610242843628\n",
      "Validation Loss: 0.5568306942780813\n",
      "New Best Validation Loss: 0.5568306942780813\n"
     ]
    },
    {
     "name": "stderr",
     "output_type": "stream",
     "text": [
      "Training progress:  70%|████████████████████████████████████████████████████████████████████▌                             | 385/550 [02:50<01:01,  2.70it/s]"
     ]
    },
    {
     "name": "stdout",
     "output_type": "stream",
     "text": [
      "Epoch 7, Loss: 0.33322155475616455\n",
      "Validation Loss: 0.4429537355899811\n",
      "New Best Validation Loss: 0.4429537355899811\n"
     ]
    },
    {
     "name": "stderr",
     "output_type": "stream",
     "text": [
      "Training progress:  80%|██████████████████████████████████████████████████████████████████████████████▍                   | 440/550 [03:15<00:41,  2.67it/s]"
     ]
    },
    {
     "name": "stdout",
     "output_type": "stream",
     "text": [
      "Epoch 8, Loss: 0.2540509104728699\n",
      "Validation Loss: 0.40886401136716205\n",
      "New Best Validation Loss: 0.40886401136716205\n"
     ]
    },
    {
     "name": "stderr",
     "output_type": "stream",
     "text": [
      "Training progress:  90%|████████████████████████████████████████████████████████████████████████████████████████▏         | 495/550 [03:41<00:20,  2.70it/s]"
     ]
    },
    {
     "name": "stdout",
     "output_type": "stream",
     "text": [
      "Epoch 9, Loss: 0.30834314227104187\n",
      "Validation Loss: 0.3633876442909241\n",
      "New Best Validation Loss: 0.3633876442909241\n"
     ]
    },
    {
     "name": "stderr",
     "output_type": "stream",
     "text": [
      "Training progress: 100%|██████████████████████████████████████████████████████████████████████████████████████████████████| 550/550 [04:06<00:00,  2.64it/s]"
     ]
    },
    {
     "name": "stdout",
     "output_type": "stream",
     "text": [
      "Epoch 10, Loss: 0.22958438098430634\n",
      "Validation Loss: 0.2923645426829656\n",
      "New Best Validation Loss: 0.2923645426829656\n"
     ]
    },
    {
     "name": "stderr",
     "output_type": "stream",
     "text": [
      "Training progress: 100%|██████████████████████████████████████████████████████████████████████████████████████████████████| 550/550 [04:11<00:00,  2.18it/s]\n"
     ]
    }
   ],
   "source": [
    "import torch\n",
    "from torch.utils.data import DataLoader\n",
    "from transformers import get_scheduler\n",
    "from torch.optim import AdamW\n",
    "from tqdm import tqdm\n",
    "\n",
    "# Setup DataLoader and components\n",
    "train_loader = DataLoader(dataset_train, batch_size=32, shuffle=True, drop_last=True)\n",
    "validate_loader = DataLoader(dataset_validate, batch_size=32, shuffle=False, drop_last=True)\n",
    "optimizer = AdamW(model.parameters(), lr=5e-5)\n",
    "num_training_steps = len(train_loader) * 10  # Assuming 10 epochs\n",
    "lr_scheduler = get_scheduler(\"linear\", optimizer=optimizer, num_warmup_steps=500, num_training_steps=num_training_steps)\n",
    "\n",
    "\n",
    "best_validation_loss = float('inf')\n",
    "\n",
    "# Training loop\n",
    "progress_bar = tqdm(total=num_training_steps, desc=\"Training progress\")\n",
    "model.train()\n",
    "\n",
    "for epoch in range(10):  # Number of epochs\n",
    "    for batch in train_loader:\n",
    "        batch = {k: v.to(device) for k, v in batch.items()}\n",
    "        outputs = model(**batch)\n",
    "        loss = outputs.loss\n",
    "        loss.backward()\n",
    "        optimizer.step()\n",
    "        lr_scheduler.step()\n",
    "        optimizer.zero_grad()\n",
    "        progress_bar.update(1)\n",
    "    \n",
    "    # Validation at the end of each epoch\n",
    "    model.eval()\n",
    "    total_eval_loss = 0\n",
    "    with torch.no_grad():\n",
    "        for batch in validate_loader:\n",
    "            batch = {k: v.to(device) for k, v in batch.items()}\n",
    "            outputs = model(**batch)\n",
    "            loss = outputs.loss\n",
    "            total_eval_loss += loss.item()\n",
    "\n",
    "    avg_val_loss = total_eval_loss / len(validate_loader)\n",
    "    print(f\"Epoch {epoch+1}, Loss: {loss.item()}\")\n",
    "    print(f\"Validation Loss: {avg_val_loss}\")\n",
    "\n",
    "    # Update the best loss and save model if it's the best\n",
    "    if avg_val_loss < best_validation_loss:\n",
    "        best_validation_loss = avg_val_loss\n",
    "        print(f\"New Best Validation Loss: {best_validation_loss}\")\n",
    "        model.save_pretrained(\"./model_save_synth_intent\")\n",
    "        tokenizer.save_pretrained(\"./model_save_synth_intent\")\n",
    "\n",
    "progress_bar.close()\n"
   ]
  },
  {
   "cell_type": "code",
   "execution_count": 13,
   "id": "57dab83b-4d2e-414a-910c-49f281cdab8e",
   "metadata": {},
   "outputs": [
    {
     "name": "stdout",
     "output_type": "stream",
     "text": [
      "Accuracy: 0.8611111111111112\n",
      "Precision: 0.7798915211213826\n",
      "Recall: 0.8329687123592884\n",
      "F1 Score: 0.8010764261984216\n"
     ]
    }
   ],
   "source": [
    "from sklearn.metrics import accuracy_score, precision_recall_fscore_support\n",
    "import numpy as np\n",
    "test_loader = DataLoader(dataset_test, batch_size=32, shuffle=False, drop_last=True)  # Set drop_last to True to avoid partial batches\n",
    "\n",
    "\n",
    "model.eval()\n",
    "device = torch.device(\"cuda\" if torch.cuda.is_available() else \"cpu\")\n",
    "\n",
    "predictions, true_labels = [], []\n",
    "\n",
    "# Evaluate the model\n",
    "with torch.no_grad():\n",
    "    for batch in test_loader:\n",
    "        inputs = {k: v.to(device) for k, v in batch.items() if k != 'labels'}\n",
    "        labels = batch['labels'].to(device)\n",
    "        outputs = model(**inputs)\n",
    "        logits = outputs.logits\n",
    "        preds = torch.argmax(logits, dim=-1)\n",
    "        predictions.extend(preds.detach().cpu().numpy())\n",
    "        true_labels.extend(labels.detach().cpu().numpy())\n",
    "\n",
    "# Calculate metrics\n",
    "accuracy = accuracy_score(true_labels, predictions)\n",
    "precision, recall, f1, _ = precision_recall_fscore_support(true_labels, predictions, average='macro')  # adjust 'average' as needed\n",
    "\n",
    "print(f\"Accuracy: {accuracy}\")\n",
    "print(f\"Precision: {precision}\")\n",
    "print(f\"Recall: {recall}\")\n",
    "print(f\"F1 Score: {f1}\")\n"
   ]
  }
 ],
 "metadata": {
  "kernelspec": {
   "display_name": "Python 3 (ipykernel)",
   "language": "python",
   "name": "python3"
  },
  "language_info": {
   "codemirror_mode": {
    "name": "ipython",
    "version": 3
   },
   "file_extension": ".py",
   "mimetype": "text/x-python",
   "name": "python",
   "nbconvert_exporter": "python",
   "pygments_lexer": "ipython3",
   "version": "3.11.9"
  }
 },
 "nbformat": 4,
 "nbformat_minor": 5
}
