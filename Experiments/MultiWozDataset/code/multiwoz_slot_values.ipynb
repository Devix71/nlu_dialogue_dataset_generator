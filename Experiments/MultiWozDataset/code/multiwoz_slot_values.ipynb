{
 "cells": [
  {
   "cell_type": "code",
   "execution_count": 1,
   "metadata": {},
   "outputs": [
    {
     "name": "stdout",
     "output_type": "stream",
     "text": [
      "Total utterances: 266\n",
      "Sample utterances: ['I am looking for a hotel called the A and B Guest House.', 'I would like to book it for 7 people for 4 nights starting on Sunday.', 'Hmm, how about a different hotel in the same price range?', \"Great thank you that's all I needed today\", 'Thank you for all the help.']\n",
      "Sample slot_types: [['hotel-name'], ['hotel-bookstay', 'hotel-bookpeople', 'hotel-name', 'hotel-bookday'], ['hotel-bookstay', 'hotel-bookpeople', 'hotel-pricerange', 'hotel-bookday'], ['hotel-name', 'hotel-bookday', 'hotel-bookstay', 'hotel-pricerange', 'hotel-bookpeople'], ['hotel-name', 'hotel-bookday', 'hotel-bookstay', 'hotel-pricerange', 'hotel-bookpeople']]\n"
     ]
    }
   ],
   "source": [
    "import json\n",
    "\n",
    "# Load the dataset\n",
    "with open('combined_validate.json', 'r') as file:\n",
    "    data = json.load(file)\n",
    "\n",
    "utterances_validate = []\n",
    "slot_types_validate = []\n",
    "\n",
    "for dialogue in data:\n",
    "    for turn in dialogue[\"turns\"]:\n",
    "        if turn[\"speaker\"] == \"USER\":\n",
    "            current_slots = set()\n",
    "            for frame in turn.get(\"frames\", []):\n",
    "                # Exclude \"hotel-stars\" slot value\n",
    "                current_slots.update(slot for slot in frame.get(\"state\", {}).get(\"slot_values\", {}).keys() if slot != \"hotel-stars\")\n",
    "            if current_slots:  # only slot_values present\n",
    "                utterances_validate.append(turn[\"utterance\"])\n",
    "                slot_types_validate.append(list(current_slots))\n",
    "\n",
    "print(f\"Total utterances: {len(utterances_validate)}\")\n",
    "print(f\"Sample utterances: {utterances_validate[:5]}\")\n",
    "print(f\"Sample slot_types: {slot_types_validate[:5]}\")\n"
   ]
  },
  {
   "cell_type": "code",
   "execution_count": 2,
   "metadata": {},
   "outputs": [
    {
     "name": "stdout",
     "output_type": "stream",
     "text": [
      "Total utterances: 3881\n",
      "Sample utterances: [\"I'm in search of a place to stay. A hotel, please, with free parking.\", 'It would be great if it included wifi and was in the north.', 'Yes please,parking and WiFi and Car Rental.', 'Yes. I need the reference number too', 'Friday, 5 nights, beginning this friday.']\n",
      "Sample slot_types: [['hotel-parking'], ['hotel-parking', 'hotel-type', 'hotel-area', 'hotel-internet'], ['hotel-parking', 'hotel-type', 'hotel-area', 'hotel-internet'], ['hotel-parking', 'hotel-type', 'hotel-area', 'hotel-internet'], ['hotel-bookday', 'hotel-type', 'hotel-area', 'hotel-bookstay', 'hotel-internet', 'hotel-parking']]\n"
     ]
    }
   ],
   "source": [
    "import json\n",
    "\n",
    "# Load the dataset\n",
    "with open('combined_train.json', 'r') as file: \n",
    "    data = json.load(file)\n",
    "\n",
    "utterances_train = []\n",
    "slot_types_train = []\n",
    "\n",
    "for dialogue in data:\n",
    "    for turn in dialogue[\"turns\"]:\n",
    "        if turn[\"speaker\"] == \"USER\":\n",
    "            current_slots = set()\n",
    "            for frame in turn.get(\"frames\", []):\n",
    "                # Exclude \"hotel-stars\" slot value\n",
    "                current_slots.update(slot for slot in frame.get(\"state\", {}).get(\"slot_values\", {}).keys() if slot != \"hotel-stars\")\n",
    "            if current_slots:  # Only turns where slot_values present\n",
    "                utterances_train.append(turn[\"utterance\"])\n",
    "                slot_types_train.append(list(current_slots))\n",
    "\n",
    "print(f\"Total utterances: {len(utterances_train)}\")\n",
    "print(f\"Sample utterances: {utterances_train[:5]}\")\n",
    "print(f\"Sample slot_types: {slot_types_train[:5]}\")\n"
   ]
  },
  {
   "cell_type": "code",
   "execution_count": 3,
   "metadata": {},
   "outputs": [
    {
     "name": "stdout",
     "output_type": "stream",
     "text": [
      "[['hotel-name'], ['hotel-bookday', 'hotel-bookstay', 'hotel-bookpeople', 'hotel-name'], ['hotel-bookday', 'hotel-bookstay', 'hotel-bookpeople', 'hotel-pricerange'], ['hotel-bookstay', 'hotel-pricerange', 'hotel-name', 'hotel-bookpeople', 'hotel-bookday'], ['hotel-bookstay', 'hotel-pricerange', 'hotel-name', 'hotel-bookpeople', 'hotel-bookday'], ['hotel-pricerange', 'hotel-type'], ['hotel-pricerange', 'hotel-type'], ['hotel-area', 'hotel-pricerange', 'hotel-type'], ['hotel-parking', 'hotel-internet'], ['hotel-parking', 'hotel-internet', 'hotel-type'], ['hotel-parking', 'hotel-internet', 'hotel-type'], ['hotel-type', 'hotel-bookstay', 'hotel-name', 'hotel-parking', 'hotel-bookday', 'hotel-internet'], ['hotel-type', 'hotel-bookstay', 'hotel-name', 'hotel-parking', 'hotel-bookpeople', 'hotel-bookday', 'hotel-internet'], ['hotel-type', 'hotel-bookstay', 'hotel-name', 'hotel-parking', 'hotel-bookpeople', 'hotel-bookday', 'hotel-internet'], ['hotel-pricerange'], ['hotel-internet', 'hotel-pricerange'], ['hotel-internet', 'hotel-pricerange'], ['hotel-bookstay', 'hotel-pricerange', 'hotel-name', 'hotel-bookpeople', 'hotel-bookday', 'hotel-internet'], ['hotel-bookstay', 'hotel-pricerange', 'hotel-name', 'hotel-bookpeople', 'hotel-bookday', 'hotel-internet'], ['hotel-bookstay', 'hotel-pricerange', 'hotel-name', 'hotel-bookpeople', 'hotel-bookday', 'hotel-internet'], ['hotel-bookstay', 'hotel-pricerange', 'hotel-name', 'hotel-bookpeople', 'hotel-bookday', 'hotel-internet'], ['hotel-name'], ['hotel-bookday', 'hotel-bookstay', 'hotel-bookpeople', 'hotel-name'], ['hotel-bookday', 'hotel-bookstay', 'hotel-bookpeople', 'hotel-name'], ['hotel-area', 'hotel-pricerange', 'hotel-type'], ['hotel-area', 'hotel-internet', 'hotel-type'], ['hotel-area', 'hotel-internet', 'hotel-pricerange', 'hotel-type'], ['hotel-area', 'hotel-internet', 'hotel-pricerange', 'hotel-type'], ['hotel-parking', 'hotel-internet'], ['hotel-parking', 'hotel-internet', 'hotel-pricerange'], ['hotel-parking', 'hotel-internet', 'hotel-pricerange'], ['hotel-internet', 'hotel-pricerange'], ['hotel-bookstay', 'hotel-pricerange', 'hotel-name', 'hotel-bookpeople', 'hotel-bookday', 'hotel-internet'], ['hotel-bookstay', 'hotel-pricerange', 'hotel-name', 'hotel-bookpeople', 'hotel-bookday', 'hotel-internet'], ['hotel-internet'], ['hotel-internet'], ['hotel-parking', 'hotel-internet'], ['hotel-parking', 'hotel-internet', 'hotel-name'], ['hotel-bookstay', 'hotel-name', 'hotel-parking', 'hotel-bookpeople', 'hotel-bookday', 'hotel-internet'], ['hotel-bookstay', 'hotel-name', 'hotel-parking', 'hotel-bookpeople', 'hotel-bookday', 'hotel-internet'], ['hotel-bookstay', 'hotel-name', 'hotel-parking', 'hotel-bookpeople', 'hotel-bookday', 'hotel-internet'], ['hotel-bookstay', 'hotel-name', 'hotel-parking', 'hotel-bookpeople', 'hotel-bookday', 'hotel-internet'], ['hotel-pricerange'], ['hotel-parking', 'hotel-area', 'hotel-pricerange'], ['hotel-parking', 'hotel-area', 'hotel-pricerange', 'hotel-name'], ['hotel-parking', 'hotel-area', 'hotel-pricerange', 'hotel-name'], ['hotel-parking', 'hotel-area', 'hotel-pricerange', 'hotel-name'], ['hotel-parking', 'hotel-area'], ['hotel-parking', 'hotel-area', 'hotel-pricerange'], ['hotel-parking', 'hotel-area', 'hotel-pricerange'], ['hotel-parking', 'hotel-area', 'hotel-pricerange'], ['hotel-parking', 'hotel-area', 'hotel-pricerange'], ['hotel-parking', 'hotel-area', 'hotel-pricerange'], ['hotel-parking', 'hotel-area', 'hotel-pricerange'], ['hotel-pricerange'], ['hotel-parking', 'hotel-area', 'hotel-pricerange'], ['hotel-parking', 'hotel-area', 'hotel-pricerange'], ['hotel-bookstay', 'hotel-pricerange', 'hotel-name', 'hotel-parking', 'hotel-area', 'hotel-bookpeople', 'hotel-bookday'], ['hotel-bookstay', 'hotel-pricerange', 'hotel-name', 'hotel-parking', 'hotel-area', 'hotel-bookpeople', 'hotel-bookday'], ['hotel-bookstay', 'hotel-pricerange', 'hotel-name', 'hotel-parking', 'hotel-area', 'hotel-bookpeople', 'hotel-bookday'], ['hotel-type'], ['hotel-area', 'hotel-pricerange', 'hotel-type'], ['hotel-area', 'hotel-pricerange', 'hotel-type'], ['hotel-area', 'hotel-pricerange', 'hotel-type'], ['hotel-area', 'hotel-pricerange', 'hotel-type'], ['hotel-area', 'hotel-pricerange', 'hotel-name', 'hotel-type'], ['hotel-type', 'hotel-bookstay', 'hotel-pricerange', 'hotel-name', 'hotel-area', 'hotel-bookpeople', 'hotel-bookday'], ['hotel-type', 'hotel-bookstay', 'hotel-pricerange', 'hotel-name', 'hotel-area', 'hotel-bookpeople', 'hotel-bookday'], ['hotel-type', 'hotel-bookstay', 'hotel-pricerange', 'hotel-name', 'hotel-area', 'hotel-bookpeople', 'hotel-bookday'], ['hotel-name'], ['hotel-name'], ['hotel-name'], ['hotel-parking', 'hotel-internet'], ['hotel-parking', 'hotel-internet', 'hotel-type'], ['hotel-type', 'hotel-bookstay', 'hotel-name', 'hotel-parking', 'hotel-bookpeople', 'hotel-bookday', 'hotel-internet'], ['hotel-type', 'hotel-bookstay', 'hotel-name', 'hotel-parking', 'hotel-bookpeople', 'hotel-bookday', 'hotel-internet'], ['hotel-area'], ['hotel-parking', 'hotel-area', 'hotel-type'], ['hotel-parking', 'hotel-area', 'hotel-pricerange', 'hotel-type'], ['hotel-type', 'hotel-pricerange', 'hotel-name', 'hotel-parking', 'hotel-area'], ['hotel-type', 'hotel-pricerange', 'hotel-name', 'hotel-parking', 'hotel-area'], ['hotel-name'], ['hotel-bookday', 'hotel-bookstay', 'hotel-bookpeople', 'hotel-name'], ['hotel-bookday', 'hotel-bookstay', 'hotel-bookpeople', 'hotel-name'], ['hotel-name', 'hotel-type'], ['hotel-type', 'hotel-bookstay', 'hotel-name', 'hotel-bookpeople', 'hotel-bookday'], ['hotel-type', 'hotel-bookstay', 'hotel-name', 'hotel-bookpeople', 'hotel-bookday'], ['hotel-area', 'hotel-type'], ['hotel-parking', 'hotel-area', 'hotel-type'], ['hotel-parking', 'hotel-area', 'hotel-type'], ['hotel-type', 'hotel-name', 'hotel-parking', 'hotel-area', 'hotel-bookday'], ['hotel-type', 'hotel-bookstay', 'hotel-name', 'hotel-parking', 'hotel-area', 'hotel-bookpeople', 'hotel-bookday'], ['hotel-pricerange'], ['hotel-parking', 'hotel-pricerange', 'hotel-name'], ['hotel-parking', 'hotel-pricerange', 'hotel-name'], ['hotel-parking', 'hotel-pricerange', 'hotel-name'], ['hotel-parking', 'hotel-internet'], ['hotel-pricerange', 'hotel-name', 'hotel-parking', 'hotel-area', 'hotel-internet'], ['hotel-bookstay', 'hotel-pricerange', 'hotel-name', 'hotel-parking', 'hotel-area', 'hotel-bookday', 'hotel-internet'], ['hotel-bookstay', 'hotel-pricerange', 'hotel-parking', 'hotel-area', 'hotel-bookpeople', 'hotel-bookday', 'hotel-internet'], ['hotel-bookstay', 'hotel-pricerange', 'hotel-parking', 'hotel-area', 'hotel-bookpeople', 'hotel-bookday', 'hotel-internet'], ['hotel-bookstay', 'hotel-pricerange', 'hotel-name', 'hotel-parking', 'hotel-area', 'hotel-bookpeople', 'hotel-bookday', 'hotel-internet'], ['hotel-bookstay', 'hotel-pricerange', 'hotel-name', 'hotel-parking', 'hotel-area', 'hotel-bookpeople', 'hotel-bookday', 'hotel-internet'], ['hotel-pricerange'], ['hotel-area', 'hotel-pricerange', 'hotel-type'], ['hotel-type', 'hotel-pricerange', 'hotel-parking', 'hotel-area', 'hotel-internet'], ['hotel-type', 'hotel-bookstay', 'hotel-pricerange', 'hotel-parking', 'hotel-area', 'hotel-bookday', 'hotel-internet'], ['hotel-type', 'hotel-bookstay', 'hotel-pricerange', 'hotel-parking', 'hotel-area', 'hotel-bookpeople', 'hotel-bookday', 'hotel-internet'], ['hotel-type', 'hotel-bookstay', 'hotel-pricerange', 'hotel-name', 'hotel-parking', 'hotel-area', 'hotel-bookpeople', 'hotel-bookday', 'hotel-internet'], ['hotel-type', 'hotel-bookstay', 'hotel-pricerange', 'hotel-parking', 'hotel-area', 'hotel-bookpeople', 'hotel-bookday', 'hotel-internet'], ['hotel-type', 'hotel-bookstay', 'hotel-pricerange', 'hotel-parking', 'hotel-area', 'hotel-bookpeople', 'hotel-bookday', 'hotel-internet'], ['hotel-type', 'hotel-bookstay', 'hotel-pricerange', 'hotel-name', 'hotel-parking', 'hotel-area', 'hotel-bookpeople', 'hotel-bookday', 'hotel-internet'], ['hotel-area', 'hotel-internet'], ['hotel-area', 'hotel-internet', 'hotel-pricerange', 'hotel-type'], ['hotel-type', 'hotel-bookstay', 'hotel-pricerange', 'hotel-area', 'hotel-bookpeople', 'hotel-bookday', 'hotel-internet'], ['hotel-type', 'hotel-bookstay', 'hotel-pricerange', 'hotel-area', 'hotel-bookpeople', 'hotel-bookday', 'hotel-internet'], ['hotel-type', 'hotel-bookstay', 'hotel-pricerange', 'hotel-name', 'hotel-area', 'hotel-bookpeople', 'hotel-bookday', 'hotel-internet'], ['hotel-type', 'hotel-bookstay', 'hotel-pricerange', 'hotel-name', 'hotel-area', 'hotel-bookpeople', 'hotel-bookday', 'hotel-internet'], ['hotel-type'], ['hotel-parking', 'hotel-area', 'hotel-type'], ['hotel-parking', 'hotel-area', 'hotel-name', 'hotel-type'], ['hotel-type', 'hotel-bookstay', 'hotel-name', 'hotel-parking', 'hotel-area', 'hotel-bookpeople', 'hotel-bookday'], ['hotel-type', 'hotel-bookstay', 'hotel-name', 'hotel-parking', 'hotel-area', 'hotel-bookpeople', 'hotel-bookday'], ['hotel-parking', 'hotel-type'], ['hotel-parking', 'hotel-area', 'hotel-pricerange', 'hotel-type'], ['hotel-parking', 'hotel-area', 'hotel-pricerange', 'hotel-type'], ['hotel-type', 'hotel-bookstay', 'hotel-pricerange', 'hotel-name', 'hotel-parking', 'hotel-area', 'hotel-bookpeople', 'hotel-bookday'], ['hotel-type', 'hotel-bookstay', 'hotel-pricerange', 'hotel-name', 'hotel-parking', 'hotel-area', 'hotel-bookpeople', 'hotel-bookday'], ['hotel-pricerange', 'hotel-type'], ['hotel-parking', 'hotel-type'], ['hotel-parking', 'hotel-pricerange', 'hotel-type'], ['hotel-type', 'hotel-bookstay', 'hotel-pricerange', 'hotel-parking', 'hotel-bookpeople', 'hotel-bookday'], ['hotel-type', 'hotel-bookstay', 'hotel-pricerange', 'hotel-name', 'hotel-parking', 'hotel-bookpeople', 'hotel-bookday'], ['hotel-type', 'hotel-bookstay', 'hotel-pricerange', 'hotel-parking', 'hotel-bookpeople', 'hotel-bookday'], ['hotel-type', 'hotel-bookstay', 'hotel-pricerange', 'hotel-name', 'hotel-parking', 'hotel-bookpeople', 'hotel-bookday'], ['hotel-type', 'hotel-bookstay', 'hotel-pricerange', 'hotel-name', 'hotel-parking', 'hotel-bookpeople', 'hotel-bookday'], ['hotel-parking', 'hotel-type'], ['hotel-parking', 'hotel-area', 'hotel-type'], ['hotel-parking', 'hotel-area', 'hotel-pricerange', 'hotel-type'], ['hotel-parking', 'hotel-area', 'hotel-pricerange', 'hotel-type'], ['hotel-parking', 'hotel-area', 'hotel-pricerange', 'hotel-type'], ['hotel-parking', 'hotel-area', 'hotel-pricerange', 'hotel-type'], ['train-destination', 'train-arriveby', 'train-departure'], ['train-day', 'train-arriveby', 'train-destination', 'train-departure'], ['train-day', 'train-arriveby', 'train-destination', 'train-departure'], ['train-day', 'train-destination', 'train-arriveby', 'train-bookpeople', 'train-departure'], ['train-day', 'train-destination', 'train-arriveby', 'train-bookpeople', 'train-departure'], ['train-day', 'train-destination', 'train-arriveby', 'train-bookpeople', 'train-departure'], ['train-day', 'train-destination', 'train-arriveby', 'train-bookpeople', 'train-departure'], ['train-arriveby', 'train-departure'], ['train-day', 'train-arriveby', 'train-destination', 'train-departure'], ['train-day', 'train-arriveby', 'train-destination', 'train-departure'], ['train-day', 'train-arriveby', 'train-destination', 'train-departure'], ['train-day', 'train-arriveby', 'train-destination', 'train-departure'], ['train-destination', 'train-departure'], ['train-day', 'train-leaveat', 'train-departure', 'train-destination'], ['train-day', 'train-destination', 'train-bookpeople', 'train-departure', 'train-leaveat'], ['train-day', 'train-departure'], ['train-day', 'train-leaveat', 'train-departure', 'train-destination'], ['train-day', 'train-leaveat', 'train-departure', 'train-destination'], ['train-day', 'train-leaveat', 'train-departure', 'train-destination'], ['train-departure'], ['train-destination', 'train-arriveby', 'train-departure'], ['train-day', 'train-arriveby', 'train-destination', 'train-departure'], ['train-day', 'train-destination', 'train-arriveby', 'train-bookpeople', 'train-departure'], ['train-day', 'train-destination', 'train-arriveby', 'train-bookpeople', 'train-departure'], ['train-day', 'train-destination', 'train-arriveby', 'train-bookpeople', 'train-departure'], ['train-leaveat', 'train-departure'], ['train-day', 'train-leaveat', 'train-departure', 'train-destination'], ['train-day', 'train-leaveat', 'train-departure', 'train-destination'], ['train-day', 'train-leaveat', 'train-departure', 'train-destination'], ['train-day', 'train-leaveat', 'train-departure', 'train-destination'], ['train-day', 'train-leaveat', 'train-departure', 'train-destination'], ['train-leaveat'], ['train-day', 'train-leaveat', 'train-departure', 'train-destination'], ['train-day', 'train-destination', 'train-bookpeople', 'train-departure', 'train-leaveat'], ['train-day', 'train-destination', 'train-bookpeople', 'train-departure', 'train-leaveat'], ['train-destination'], ['train-day', 'train-arriveby', 'train-destination', 'train-departure'], ['train-day', 'train-arriveby', 'train-destination', 'train-departure'], ['train-day', 'train-arriveby', 'train-destination', 'train-departure'], ['train-day', 'train-departure', 'train-destination'], ['train-day', 'train-arriveby', 'train-destination', 'train-departure'], ['train-destination', 'train-departure'], ['train-destination', 'train-arriveby', 'train-departure'], ['train-day', 'train-arriveby', 'train-destination', 'train-departure'], ['train-day', 'train-destination', 'train-arriveby', 'train-bookpeople', 'train-departure'], ['train-day', 'train-destination', 'train-arriveby', 'train-bookpeople', 'train-departure'], ['train-day', 'train-destination', 'train-arriveby', 'train-bookpeople', 'train-departure'], ['train-day', 'train-arriveby'], ['train-day', 'train-arriveby', 'train-destination', 'train-departure'], ['train-day', 'train-destination', 'train-arriveby', 'train-bookpeople', 'train-departure'], ['train-day', 'train-destination', 'train-arriveby', 'train-bookpeople', 'train-departure'], ['train-day', 'train-destination'], ['train-day', 'train-destination'], ['train-day', 'train-arriveby', 'train-destination', 'train-departure'], ['train-day', 'train-destination', 'train-arriveby', 'train-bookpeople', 'train-departure'], ['train-day', 'train-destination', 'train-arriveby', 'train-bookpeople', 'train-departure'], ['train-day', 'train-destination'], ['train-day', 'train-arriveby', 'train-destination', 'train-departure'], ['train-day', 'train-destination', 'train-arriveby', 'train-bookpeople', 'train-departure'], ['train-day', 'train-destination', 'train-arriveby', 'train-bookpeople', 'train-departure'], ['train-destination', 'train-departure'], ['train-day', 'train-leaveat', 'train-departure', 'train-destination'], ['train-day', 'train-destination', 'train-bookpeople', 'train-departure', 'train-leaveat'], ['train-day', 'train-destination', 'train-bookpeople', 'train-departure', 'train-leaveat'], ['train-day', 'train-destination'], ['train-day', 'train-leaveat', 'train-departure', 'train-destination'], ['train-day', 'train-leaveat', 'train-departure', 'train-destination'], ['train-day', 'train-leaveat', 'train-departure', 'train-destination'], ['train-day', 'train-destination'], ['train-day', 'train-destination'], ['train-day', 'train-arriveby', 'train-destination'], ['train-day', 'train-arriveby', 'train-destination', 'train-departure'], ['train-day', 'train-arriveby', 'train-destination', 'train-departure'], ['train-day', 'train-arriveby', 'train-destination', 'train-departure'], ['train-day', 'train-arriveby', 'train-destination', 'train-departure'], ['train-day', 'train-arriveby', 'train-destination', 'train-departure'], ['train-destination', 'train-departure'], ['train-day', 'train-arriveby', 'train-destination', 'train-departure'], ['train-day', 'train-destination', 'train-arriveby', 'train-bookpeople', 'train-departure'], ['train-day', 'train-destination', 'train-arriveby', 'train-bookpeople', 'train-departure'], ['train-day', 'train-destination', 'train-arriveby', 'train-bookpeople', 'train-departure'], ['train-day'], ['train-day', 'train-leaveat', 'train-departure', 'train-destination'], ['train-day', 'train-destination', 'train-bookpeople', 'train-departure', 'train-leaveat'], ['train-day', 'train-destination', 'train-bookpeople', 'train-departure', 'train-leaveat'], ['train-day', 'train-arriveby'], ['train-day', 'train-arriveby', 'train-departure'], ['train-day', 'train-arriveby', 'train-destination', 'train-departure'], ['train-day', 'train-arriveby', 'train-destination', 'train-departure'], ['train-day', 'train-arriveby', 'train-destination', 'train-departure'], ['train-day', 'train-arriveby', 'train-destination', 'train-departure'], ['train-destination', 'train-arriveby'], ['train-destination', 'train-arriveby', 'train-departure'], ['train-destination', 'train-arriveby', 'train-departure'], ['train-destination', 'train-arriveby', 'train-departure'], ['train-destination', 'train-bookpeople', 'train-arriveby', 'train-departure'], ['train-leaveat', 'train-destination'], ['train-day', 'train-leaveat', 'train-departure', 'train-destination'], ['train-day', 'train-destination', 'train-bookpeople', 'train-departure', 'train-leaveat'], ['train-day', 'train-destination', 'train-bookpeople', 'train-departure', 'train-leaveat'], ['train-arriveby', 'train-departure'], ['train-day', 'train-arriveby', 'train-destination', 'train-departure'], ['train-day', 'train-arriveby', 'train-destination', 'train-departure'], ['train-day', 'train-arriveby', 'train-destination', 'train-departure'], ['train-day', 'train-arriveby', 'train-destination', 'train-departure'], ['train-day', 'train-destination', 'train-arriveby', 'train-bookpeople', 'train-departure'], ['train-day', 'train-destination', 'train-arriveby', 'train-bookpeople', 'train-departure'], ['train-day', 'train-destination', 'train-arriveby', 'train-bookpeople', 'train-departure'], ['train-day', 'train-destination', 'train-arriveby', 'train-bookpeople', 'train-departure'], ['train-day', 'train-departure'], ['train-day', 'train-departure'], ['train-day', 'train-arriveby', 'train-departure'], ['train-day', 'train-arriveby', 'train-departure'], ['train-day', 'train-arriveby', 'train-destination', 'train-departure'], ['train-day', 'train-arriveby', 'train-destination', 'train-departure'], ['train-day', 'train-destination', 'train-arriveby', 'train-bookpeople', 'train-departure'], ['train-day', 'train-arriveby', 'train-destination', 'train-departure'], ['train-day', 'train-arriveby', 'train-destination', 'train-departure'], ['train-day', 'train-destination'], ['train-day', 'train-departure', 'train-destination'], ['train-day', 'train-destination', 'train-arriveby', 'train-bookpeople', 'train-departure'], ['train-day', 'train-destination', 'train-arriveby', 'train-bookpeople', 'train-departure'], ['train-day', 'train-destination', 'train-arriveby', 'train-bookpeople', 'train-departure'], ['train-day', 'train-destination', 'train-arriveby', 'train-bookpeople', 'train-departure']]\n"
     ]
    }
   ],
   "source": [
    "print(slot_types_validate)\n"
   ]
  },
  {
   "cell_type": "code",
   "execution_count": 3,
   "metadata": {},
   "outputs": [
    {
     "name": "stdout",
     "output_type": "stream",
     "text": [
      "Total utterances: 729\n",
      "Sample utterances: ['Can you check the availability at the University Arms Hotel for five people?', 'Thursday please.', 'Actually for 5 nights and there will be 5 of us staying', 'Thank you so much, that is all that I need for now. Have a wonderful day.', 'Can you help me find an expensive hotel in the south to stay at? Thanks.']\n",
      "Sample slot_types: [['hotel-bookpeople', 'hotel-name'], ['hotel-bookstay', 'hotel-bookpeople', 'hotel-name', 'hotel-bookday'], ['hotel-bookstay', 'hotel-bookpeople', 'hotel-name', 'hotel-bookday'], ['hotel-bookstay', 'hotel-bookpeople', 'hotel-name', 'hotel-bookday'], ['hotel-pricerange', 'hotel-area']]\n"
     ]
    }
   ],
   "source": [
    "import json\n",
    "\n",
    "# Load the dataset\n",
    "with open('combined_test.json', 'r') as file:\n",
    "    data = json.load(file)\n",
    "\n",
    "utterances_test = []\n",
    "slot_types_test = []\n",
    "\n",
    "for dialogue in data:\n",
    "    for turn in dialogue[\"turns\"]:\n",
    "        if turn[\"speaker\"] == \"USER\":\n",
    "            current_slots = set()\n",
    "            for frame in turn.get(\"frames\", []):\n",
    "                # Exclude \"hotel-stars\" slot value\n",
    "                current_slots.update(slot for slot in frame.get(\"state\", {}).get(\"slot_values\", {}).keys() if slot != \"hotel-stars\")\n",
    "            if current_slots:  # Only turns where slot_values present\n",
    "                utterances_test.append(turn[\"utterance\"])\n",
    "                slot_types_test.append(list(current_slots))\n",
    "\n",
    "print(f\"Total utterances: {len(utterances_test)}\")\n",
    "print(f\"Sample utterances: {utterances_test[:5]}\")\n",
    "print(f\"Sample slot_types: {slot_types_test[:5]}\")\n"
   ]
  },
  {
   "cell_type": "code",
   "execution_count": 4,
   "metadata": {},
   "outputs": [],
   "source": [
    "from sklearn.pipeline import Pipeline\n",
    "from sklearn.feature_extraction.text import TfidfVectorizer\n",
    "from sklearn.svm import SVC\n",
    "from sklearn.multiclass import OneVsRestClassifier\n",
    "from sklearn.preprocessing import MultiLabelBinarizer\n",
    "from sklearn.metrics import make_scorer, f1_score\n",
    "from sklearn.metrics import classification_report,jaccard_score,hamming_loss\n"
   ]
  },
  {
   "cell_type": "code",
   "execution_count": 7,
   "metadata": {},
   "outputs": [],
   "source": [
    "# For proper usage, this cell must be ran after initilising the MultiLabelBinarizer\n",
    "slot_types_train_bin = mlb.transform(slot_types_train)\n",
    "slot_types_test_bin = mlb.transform(slot_types_test)\n",
    "slot_types_validate_bin = mlb.transform(slot_types_validate)\n"
   ]
  },
  {
   "cell_type": "code",
   "execution_count": 7,
   "metadata": {},
   "outputs": [],
   "source": [
    "from sklearn.model_selection import ParameterGrid\n",
    "import numpy as np\n",
    "\n",
    "\n",
    "pipeline = Pipeline([\n",
    "    ('tfidf', TfidfVectorizer()),\n",
    "    ('clf', OneVsRestClassifier(SVC(kernel='linear', probability=True, random_state=42)))\n",
    "])\n",
    "parameters = ParameterGrid({\n",
    "    # TF-IDF Vectorizer\n",
    "    'tfidf__ngram_range': [(1, 1), (1, 2), (1, 3)],  # Trigrams\n",
    "    'tfidf__max_df': [0.5, 0.75, 1.0],  # max_df limit\n",
    "    'tfidf__min_df': [1, 2, 3, 5],  # Minimum document frequency\n",
    "    'tfidf__use_idf': [True, False],  # Effect of inverse document frequency weighting\n",
    "    'tfidf__norm': ['l1', 'l2', None],  # Different normalization strategies\n",
    "    'tfidf__sublinear_tf': [True, False],  # Sublinear term frequency scaling\n",
    "    'tfidf__max_features': [None, 5000, 10000, 20000],\n",
    "\n",
    "    # SVM Classifier\n",
    "    'clf__estimator__C': [0.01, 0.1, 1, 10, 100],  # Broader range for regularization strength\n",
    "    'clf__estimator__kernel': ['linear', 'rbf', 'poly'],  # Different kernels\n",
    "    'clf__estimator__degree': [2, 3, 4],  # Degree for the polynomial kernel. Only relevant for 'poly' kernel.\n",
    "    'clf__estimator__gamma': ['scale', 'auto', 0.1, 1, 10],  # Kernel coefficient for 'rbf', 'poly', and 'sigmoid'\n",
    "    'clf__estimator__class_weight': [None, 'balanced'],  # Option to handle imbalanced classes\n",
    "})\n",
    "\n",
    "best_score = 0\n",
    "best_params = {}\n"
   ]
  },
  {
   "cell_type": "code",
   "execution_count": 37,
   "metadata": {},
   "outputs": [
    {
     "name": "stdout",
     "output_type": "stream",
     "text": [
      "Epoch 1/10\n",
      "New best score: 0.3060 with params: {'clf__estimator__C': 100, 'clf__estimator__class_weight': 'balanced', 'clf__estimator__degree': 3, 'clf__estimator__gamma': 0.1, 'clf__estimator__kernel': 'poly', 'tfidf__max_df': 0.5, 'tfidf__max_features': 5000, 'tfidf__min_df': 3, 'tfidf__ngram_range': (1, 3), 'tfidf__norm': 'l1', 'tfidf__sublinear_tf': True, 'tfidf__use_idf': True}\n",
      "New best score: 0.6014 with params: {'clf__estimator__C': 1, 'clf__estimator__class_weight': 'balanced', 'clf__estimator__degree': 2, 'clf__estimator__gamma': 'auto', 'clf__estimator__kernel': 'rbf', 'tfidf__max_df': 0.75, 'tfidf__max_features': 5000, 'tfidf__min_df': 5, 'tfidf__ngram_range': (1, 3), 'tfidf__norm': None, 'tfidf__sublinear_tf': False, 'tfidf__use_idf': False}\n",
      "Epoch 2/10\n",
      "Epoch 3/10\n",
      "New best score: 0.6195 with params: {'clf__estimator__C': 10, 'clf__estimator__class_weight': None, 'clf__estimator__degree': 2, 'clf__estimator__gamma': 0.1, 'clf__estimator__kernel': 'poly', 'tfidf__max_df': 0.75, 'tfidf__max_features': None, 'tfidf__min_df': 3, 'tfidf__ngram_range': (1, 1), 'tfidf__norm': None, 'tfidf__sublinear_tf': True, 'tfidf__use_idf': True}\n",
      "Epoch 4/10\n",
      "Epoch 5/10\n",
      "New best score: 0.6548 with params: {'clf__estimator__C': 0.01, 'clf__estimator__class_weight': 'balanced', 'clf__estimator__degree': 3, 'clf__estimator__gamma': 0.1, 'clf__estimator__kernel': 'linear', 'tfidf__max_df': 1.0, 'tfidf__max_features': None, 'tfidf__min_df': 5, 'tfidf__ngram_range': (1, 3), 'tfidf__norm': None, 'tfidf__sublinear_tf': True, 'tfidf__use_idf': True}\n",
      "Epoch 6/10\n",
      "Epoch 7/10\n",
      "Epoch 8/10\n",
      "Epoch 9/10\n",
      "New best score: 0.6614 with params: {'clf__estimator__C': 100, 'clf__estimator__class_weight': 'balanced', 'clf__estimator__degree': 3, 'clf__estimator__gamma': 1, 'clf__estimator__kernel': 'rbf', 'tfidf__max_df': 1.0, 'tfidf__max_features': None, 'tfidf__min_df': 2, 'tfidf__ngram_range': (1, 1), 'tfidf__norm': 'l2', 'tfidf__sublinear_tf': False, 'tfidf__use_idf': False}\n",
      "Epoch 10/10\n"
     ]
    }
   ],
   "source": [
    "N = 10  # Number of epochs\n",
    "for epoch in range(1, N+1): \n",
    "    print(f\"Epoch {epoch}/{N}\")\n",
    "    \n",
    "    # subset of parameters to try in epoch\n",
    "    sampled_parameters = np.random.choice(list(parameters), replace=False, size=2) \n",
    "    \n",
    "    for params in sampled_parameters:\n",
    "        # Setup pipeline with the current parameters\n",
    "        pipeline.set_params(**params)\n",
    "        \n",
    "        # Fit the pipeline on the training data\n",
    "        pipeline.fit(utterances_train, slot_types_train_bin)\n",
    "        \n",
    "        # Evaluate on the validation set\n",
    "        current_score = f1_score(slot_types_validate_bin, pipeline.predict(utterances_validate), average='micro')\n",
    "        \n",
    "        # Update best score and parameters if current model is better\n",
    "        if current_score > best_score:\n",
    "            best_score = current_score\n",
    "            best_params = params\n",
    "            print(f\"New best score: {best_score:.4f} with params: {params}\")\n"
   ]
  },
  {
   "cell_type": "code",
   "execution_count": 38,
   "metadata": {},
   "outputs": [
    {
     "data": {
      "text/html": [
       "<style>#sk-container-id-5 {color: black;background-color: white;}#sk-container-id-5 pre{padding: 0;}#sk-container-id-5 div.sk-toggleable {background-color: white;}#sk-container-id-5 label.sk-toggleable__label {cursor: pointer;display: block;width: 100%;margin-bottom: 0;padding: 0.3em;box-sizing: border-box;text-align: center;}#sk-container-id-5 label.sk-toggleable__label-arrow:before {content: \"▸\";float: left;margin-right: 0.25em;color: #696969;}#sk-container-id-5 label.sk-toggleable__label-arrow:hover:before {color: black;}#sk-container-id-5 div.sk-estimator:hover label.sk-toggleable__label-arrow:before {color: black;}#sk-container-id-5 div.sk-toggleable__content {max-height: 0;max-width: 0;overflow: hidden;text-align: left;background-color: #f0f8ff;}#sk-container-id-5 div.sk-toggleable__content pre {margin: 0.2em;color: black;border-radius: 0.25em;background-color: #f0f8ff;}#sk-container-id-5 input.sk-toggleable__control:checked~div.sk-toggleable__content {max-height: 200px;max-width: 100%;overflow: auto;}#sk-container-id-5 input.sk-toggleable__control:checked~label.sk-toggleable__label-arrow:before {content: \"▾\";}#sk-container-id-5 div.sk-estimator input.sk-toggleable__control:checked~label.sk-toggleable__label {background-color: #d4ebff;}#sk-container-id-5 div.sk-label input.sk-toggleable__control:checked~label.sk-toggleable__label {background-color: #d4ebff;}#sk-container-id-5 input.sk-hidden--visually {border: 0;clip: rect(1px 1px 1px 1px);clip: rect(1px, 1px, 1px, 1px);height: 1px;margin: -1px;overflow: hidden;padding: 0;position: absolute;width: 1px;}#sk-container-id-5 div.sk-estimator {font-family: monospace;background-color: #f0f8ff;border: 1px dotted black;border-radius: 0.25em;box-sizing: border-box;margin-bottom: 0.5em;}#sk-container-id-5 div.sk-estimator:hover {background-color: #d4ebff;}#sk-container-id-5 div.sk-parallel-item::after {content: \"\";width: 100%;border-bottom: 1px solid gray;flex-grow: 1;}#sk-container-id-5 div.sk-label:hover label.sk-toggleable__label {background-color: #d4ebff;}#sk-container-id-5 div.sk-serial::before {content: \"\";position: absolute;border-left: 1px solid gray;box-sizing: border-box;top: 0;bottom: 0;left: 50%;z-index: 0;}#sk-container-id-5 div.sk-serial {display: flex;flex-direction: column;align-items: center;background-color: white;padding-right: 0.2em;padding-left: 0.2em;position: relative;}#sk-container-id-5 div.sk-item {position: relative;z-index: 1;}#sk-container-id-5 div.sk-parallel {display: flex;align-items: stretch;justify-content: center;background-color: white;position: relative;}#sk-container-id-5 div.sk-item::before, #sk-container-id-5 div.sk-parallel-item::before {content: \"\";position: absolute;border-left: 1px solid gray;box-sizing: border-box;top: 0;bottom: 0;left: 50%;z-index: -1;}#sk-container-id-5 div.sk-parallel-item {display: flex;flex-direction: column;z-index: 1;position: relative;background-color: white;}#sk-container-id-5 div.sk-parallel-item:first-child::after {align-self: flex-end;width: 50%;}#sk-container-id-5 div.sk-parallel-item:last-child::after {align-self: flex-start;width: 50%;}#sk-container-id-5 div.sk-parallel-item:only-child::after {width: 0;}#sk-container-id-5 div.sk-dashed-wrapped {border: 1px dashed gray;margin: 0 0.4em 0.5em 0.4em;box-sizing: border-box;padding-bottom: 0.4em;background-color: white;}#sk-container-id-5 div.sk-label label {font-family: monospace;font-weight: bold;display: inline-block;line-height: 1.2em;}#sk-container-id-5 div.sk-label-container {text-align: center;}#sk-container-id-5 div.sk-container {/* jupyter's `normalize.less` sets `[hidden] { display: none; }` but bootstrap.min.css set `[hidden] { display: none !important; }` so we also need the `!important` here to be able to override the default hidden behavior on the sphinx rendered scikit-learn.org. See: https://github.com/scikit-learn/scikit-learn/issues/21755 */display: inline-block !important;position: relative;}#sk-container-id-5 div.sk-text-repr-fallback {display: none;}</style><div id=\"sk-container-id-5\" class=\"sk-top-container\"><div class=\"sk-text-repr-fallback\"><pre>Pipeline(steps=[(&#x27;tfidf&#x27;, TfidfVectorizer(min_df=2, use_idf=False)),\n",
       "                (&#x27;clf&#x27;,\n",
       "                 OneVsRestClassifier(estimator=SVC(C=100,\n",
       "                                                   class_weight=&#x27;balanced&#x27;,\n",
       "                                                   gamma=1, probability=True,\n",
       "                                                   random_state=42)))])</pre><b>In a Jupyter environment, please rerun this cell to show the HTML representation or trust the notebook. <br />On GitHub, the HTML representation is unable to render, please try loading this page with nbviewer.org.</b></div><div class=\"sk-container\" hidden><div class=\"sk-item sk-dashed-wrapped\"><div class=\"sk-label-container\"><div class=\"sk-label sk-toggleable\"><input class=\"sk-toggleable__control sk-hidden--visually\" id=\"sk-estimator-id-15\" type=\"checkbox\" ><label for=\"sk-estimator-id-15\" class=\"sk-toggleable__label sk-toggleable__label-arrow\">Pipeline</label><div class=\"sk-toggleable__content\"><pre>Pipeline(steps=[(&#x27;tfidf&#x27;, TfidfVectorizer(min_df=2, use_idf=False)),\n",
       "                (&#x27;clf&#x27;,\n",
       "                 OneVsRestClassifier(estimator=SVC(C=100,\n",
       "                                                   class_weight=&#x27;balanced&#x27;,\n",
       "                                                   gamma=1, probability=True,\n",
       "                                                   random_state=42)))])</pre></div></div></div><div class=\"sk-serial\"><div class=\"sk-item\"><div class=\"sk-estimator sk-toggleable\"><input class=\"sk-toggleable__control sk-hidden--visually\" id=\"sk-estimator-id-16\" type=\"checkbox\" ><label for=\"sk-estimator-id-16\" class=\"sk-toggleable__label sk-toggleable__label-arrow\">TfidfVectorizer</label><div class=\"sk-toggleable__content\"><pre>TfidfVectorizer(min_df=2, use_idf=False)</pre></div></div></div><div class=\"sk-item sk-dashed-wrapped\"><div class=\"sk-label-container\"><div class=\"sk-label sk-toggleable\"><input class=\"sk-toggleable__control sk-hidden--visually\" id=\"sk-estimator-id-17\" type=\"checkbox\" ><label for=\"sk-estimator-id-17\" class=\"sk-toggleable__label sk-toggleable__label-arrow\">clf: OneVsRestClassifier</label><div class=\"sk-toggleable__content\"><pre>OneVsRestClassifier(estimator=SVC(C=100, class_weight=&#x27;balanced&#x27;, gamma=1,\n",
       "                                  probability=True, random_state=42))</pre></div></div></div><div class=\"sk-parallel\"><div class=\"sk-parallel-item\"><div class=\"sk-item\"><div class=\"sk-label-container\"><div class=\"sk-label sk-toggleable\"><input class=\"sk-toggleable__control sk-hidden--visually\" id=\"sk-estimator-id-18\" type=\"checkbox\" ><label for=\"sk-estimator-id-18\" class=\"sk-toggleable__label sk-toggleable__label-arrow\">estimator: SVC</label><div class=\"sk-toggleable__content\"><pre>SVC(C=100, class_weight=&#x27;balanced&#x27;, gamma=1, probability=True, random_state=42)</pre></div></div></div><div class=\"sk-serial\"><div class=\"sk-item\"><div class=\"sk-estimator sk-toggleable\"><input class=\"sk-toggleable__control sk-hidden--visually\" id=\"sk-estimator-id-19\" type=\"checkbox\" ><label for=\"sk-estimator-id-19\" class=\"sk-toggleable__label sk-toggleable__label-arrow\">SVC</label><div class=\"sk-toggleable__content\"><pre>SVC(C=100, class_weight=&#x27;balanced&#x27;, gamma=1, probability=True, random_state=42)</pre></div></div></div></div></div></div></div></div></div></div></div></div>"
      ],
      "text/plain": [
       "Pipeline(steps=[('tfidf', TfidfVectorizer(min_df=2, use_idf=False)),\n",
       "                ('clf',\n",
       "                 OneVsRestClassifier(estimator=SVC(C=100,\n",
       "                                                   class_weight='balanced',\n",
       "                                                   gamma=1, probability=True,\n",
       "                                                   random_state=42)))])"
      ]
     },
     "execution_count": 38,
     "metadata": {},
     "output_type": "execute_result"
    }
   ],
   "source": [
    "\n",
    "pipeline.set_params(**best_params)\n"
   ]
  },
  {
   "cell_type": "code",
   "execution_count": 15,
   "metadata": {},
   "outputs": [
    {
     "data": {
      "text/html": [
       "<style>#sk-container-id-1 {color: black;background-color: white;}#sk-container-id-1 pre{padding: 0;}#sk-container-id-1 div.sk-toggleable {background-color: white;}#sk-container-id-1 label.sk-toggleable__label {cursor: pointer;display: block;width: 100%;margin-bottom: 0;padding: 0.3em;box-sizing: border-box;text-align: center;}#sk-container-id-1 label.sk-toggleable__label-arrow:before {content: \"▸\";float: left;margin-right: 0.25em;color: #696969;}#sk-container-id-1 label.sk-toggleable__label-arrow:hover:before {color: black;}#sk-container-id-1 div.sk-estimator:hover label.sk-toggleable__label-arrow:before {color: black;}#sk-container-id-1 div.sk-toggleable__content {max-height: 0;max-width: 0;overflow: hidden;text-align: left;background-color: #f0f8ff;}#sk-container-id-1 div.sk-toggleable__content pre {margin: 0.2em;color: black;border-radius: 0.25em;background-color: #f0f8ff;}#sk-container-id-1 input.sk-toggleable__control:checked~div.sk-toggleable__content {max-height: 200px;max-width: 100%;overflow: auto;}#sk-container-id-1 input.sk-toggleable__control:checked~label.sk-toggleable__label-arrow:before {content: \"▾\";}#sk-container-id-1 div.sk-estimator input.sk-toggleable__control:checked~label.sk-toggleable__label {background-color: #d4ebff;}#sk-container-id-1 div.sk-label input.sk-toggleable__control:checked~label.sk-toggleable__label {background-color: #d4ebff;}#sk-container-id-1 input.sk-hidden--visually {border: 0;clip: rect(1px 1px 1px 1px);clip: rect(1px, 1px, 1px, 1px);height: 1px;margin: -1px;overflow: hidden;padding: 0;position: absolute;width: 1px;}#sk-container-id-1 div.sk-estimator {font-family: monospace;background-color: #f0f8ff;border: 1px dotted black;border-radius: 0.25em;box-sizing: border-box;margin-bottom: 0.5em;}#sk-container-id-1 div.sk-estimator:hover {background-color: #d4ebff;}#sk-container-id-1 div.sk-parallel-item::after {content: \"\";width: 100%;border-bottom: 1px solid gray;flex-grow: 1;}#sk-container-id-1 div.sk-label:hover label.sk-toggleable__label {background-color: #d4ebff;}#sk-container-id-1 div.sk-serial::before {content: \"\";position: absolute;border-left: 1px solid gray;box-sizing: border-box;top: 0;bottom: 0;left: 50%;z-index: 0;}#sk-container-id-1 div.sk-serial {display: flex;flex-direction: column;align-items: center;background-color: white;padding-right: 0.2em;padding-left: 0.2em;position: relative;}#sk-container-id-1 div.sk-item {position: relative;z-index: 1;}#sk-container-id-1 div.sk-parallel {display: flex;align-items: stretch;justify-content: center;background-color: white;position: relative;}#sk-container-id-1 div.sk-item::before, #sk-container-id-1 div.sk-parallel-item::before {content: \"\";position: absolute;border-left: 1px solid gray;box-sizing: border-box;top: 0;bottom: 0;left: 50%;z-index: -1;}#sk-container-id-1 div.sk-parallel-item {display: flex;flex-direction: column;z-index: 1;position: relative;background-color: white;}#sk-container-id-1 div.sk-parallel-item:first-child::after {align-self: flex-end;width: 50%;}#sk-container-id-1 div.sk-parallel-item:last-child::after {align-self: flex-start;width: 50%;}#sk-container-id-1 div.sk-parallel-item:only-child::after {width: 0;}#sk-container-id-1 div.sk-dashed-wrapped {border: 1px dashed gray;margin: 0 0.4em 0.5em 0.4em;box-sizing: border-box;padding-bottom: 0.4em;background-color: white;}#sk-container-id-1 div.sk-label label {font-family: monospace;font-weight: bold;display: inline-block;line-height: 1.2em;}#sk-container-id-1 div.sk-label-container {text-align: center;}#sk-container-id-1 div.sk-container {/* jupyter's `normalize.less` sets `[hidden] { display: none; }` but bootstrap.min.css set `[hidden] { display: none !important; }` so we also need the `!important` here to be able to override the default hidden behavior on the sphinx rendered scikit-learn.org. See: https://github.com/scikit-learn/scikit-learn/issues/21755 */display: inline-block !important;position: relative;}#sk-container-id-1 div.sk-text-repr-fallback {display: none;}</style><div id=\"sk-container-id-1\" class=\"sk-top-container\"><div class=\"sk-text-repr-fallback\"><pre>OneVsRestClassifier(estimator=SVC(C=0.1, gamma=0.1, kernel=&#x27;linear&#x27;,\n",
       "                                  probability=True, random_state=42))</pre><b>In a Jupyter environment, please rerun this cell to show the HTML representation or trust the notebook. <br />On GitHub, the HTML representation is unable to render, please try loading this page with nbviewer.org.</b></div><div class=\"sk-container\" hidden><div class=\"sk-item sk-dashed-wrapped\"><div class=\"sk-label-container\"><div class=\"sk-label sk-toggleable\"><input class=\"sk-toggleable__control sk-hidden--visually\" id=\"sk-estimator-id-1\" type=\"checkbox\" ><label for=\"sk-estimator-id-1\" class=\"sk-toggleable__label sk-toggleable__label-arrow\">OneVsRestClassifier</label><div class=\"sk-toggleable__content\"><pre>OneVsRestClassifier(estimator=SVC(C=0.1, gamma=0.1, kernel=&#x27;linear&#x27;,\n",
       "                                  probability=True, random_state=42))</pre></div></div></div><div class=\"sk-parallel\"><div class=\"sk-parallel-item\"><div class=\"sk-item\"><div class=\"sk-label-container\"><div class=\"sk-label sk-toggleable\"><input class=\"sk-toggleable__control sk-hidden--visually\" id=\"sk-estimator-id-2\" type=\"checkbox\" ><label for=\"sk-estimator-id-2\" class=\"sk-toggleable__label sk-toggleable__label-arrow\">estimator: SVC</label><div class=\"sk-toggleable__content\"><pre>SVC(C=0.1, gamma=0.1, kernel=&#x27;linear&#x27;, probability=True, random_state=42)</pre></div></div></div><div class=\"sk-serial\"><div class=\"sk-item\"><div class=\"sk-estimator sk-toggleable\"><input class=\"sk-toggleable__control sk-hidden--visually\" id=\"sk-estimator-id-3\" type=\"checkbox\" ><label for=\"sk-estimator-id-3\" class=\"sk-toggleable__label sk-toggleable__label-arrow\">SVC</label><div class=\"sk-toggleable__content\"><pre>SVC(C=0.1, gamma=0.1, kernel=&#x27;linear&#x27;, probability=True, random_state=42)</pre></div></div></div></div></div></div></div></div></div></div>"
      ],
      "text/plain": [
       "OneVsRestClassifier(estimator=SVC(C=0.1, gamma=0.1, kernel='linear',\n",
       "                                  probability=True, random_state=42))"
      ]
     },
     "execution_count": 15,
     "metadata": {},
     "output_type": "execute_result"
    }
   ],
   "source": [
    "from sklearn.utils import shuffle\n",
    "\n",
    "# Combining training and validation sets\n",
    "X_combined = utterances_train + utterances_validate\n",
    "y_combined_bin = np.concatenate((slot_types_train_bin, slot_types_validate_bin), axis=0)\n",
    "\n",
    "# Ensuring data is properly shuffled\n",
    "X_combined, y_combined_bin = shuffle(X_combined, y_combined_bin, random_state=42)\n",
    "\n",
    "# Transform combined data\n",
    "X_combined_tfidf = pipeline.named_steps['tfidf'].fit_transform(X_combined)\n",
    "\n",
    "# Retrain\n",
    "pipeline.named_steps['clf'].fit(X_combined_tfidf, y_combined_bin)"
   ]
  },
  {
   "cell_type": "code",
   "execution_count": 18,
   "metadata": {},
   "outputs": [
    {
     "name": "stdout",
     "output_type": "stream",
     "text": [
      "Naive Classifier Test Results:\n",
      "                   precision    recall  f1-score   support\n",
      "\n",
      "       hotel-area       0.23      0.48      0.31       178\n",
      "    hotel-bookday       0.19      0.42      0.26       165\n",
      " hotel-bookpeople       0.21      0.47      0.29       162\n",
      "   hotel-bookstay       0.22      0.51      0.31       167\n",
      "   hotel-internet       0.26      0.52      0.35       186\n",
      "       hotel-name       0.22      0.48      0.30       175\n",
      "    hotel-parking       0.24      0.47      0.32       183\n",
      " hotel-pricerange       0.26      0.48      0.34       200\n",
      "       hotel-type       0.30      0.47      0.36       222\n",
      "   train-arriveby       0.20      0.55      0.29       131\n",
      " train-bookpeople       0.15      0.60      0.23        91\n",
      "        train-day       0.40      0.54      0.46       278\n",
      "  train-departure       0.40      0.54      0.46       277\n",
      "train-destination       0.38      0.51      0.44       284\n",
      "    train-leaveat       0.22      0.56      0.32       147\n",
      "\n",
      "        micro avg       0.26      0.50      0.34      2846\n",
      "        macro avg       0.26      0.51      0.34      2846\n",
      "     weighted avg       0.28      0.50      0.35      2846\n",
      "      samples avg       0.26      0.51      0.32      2846\n",
      "\n",
      "Hamming Loss: 0.5060813900320074\n"
     ]
    }
   ],
   "source": [
    "from sklearn.dummy import DummyClassifier\n",
    "from sklearn.metrics import classification_report, accuracy_score, hamming_loss\n",
    "from sklearn.preprocessing import MultiLabelBinarizer\n",
    "\n",
    "# Setup the MultiLabelBinarizer if not already done\n",
    "mlb = MultiLabelBinarizer()\n",
    "y_train_mlb = mlb.fit_transform(slot_types_train)  # Assuming y_train is your multi-labels array\n",
    "y_test_mlb = mlb.transform(slot_types_test)\n",
    "\n",
    "# Naive classifier\n",
    "dummy_clf = DummyClassifier(strategy='uniform', random_state=0)\n",
    "dummy_clf.fit(utterances_train, y_train_mlb)  # Train on the multi-label binarized labels\n",
    "\n",
    "y_pred_dummy = dummy_clf.predict(utterances_test)\n",
    "\n",
    "y_pred_dummy_labels = mlb.inverse_transform(y_pred_dummy)\n",
    "\n",
    "# Evaluate the naive classifier\n",
    "print(\"Naive Classifier Test Results:\")\n",
    "print(classification_report(y_test_mlb, y_pred_dummy, target_names=mlb.classes_))\n",
    "\n",
    "print(\"Hamming Loss:\", hamming_loss(y_test_mlb, y_pred_dummy))\n",
    "\n",
    "jaccard = jaccard_score(y_test_mlb, y_pred_dummy, average='samples')\n",
    "print(\"Jaccard Score:\", jaccard)\n"
   ]
  },
  {
   "cell_type": "code",
   "execution_count": 5,
   "metadata": {},
   "outputs": [],
   "source": [
    "import joblib\n",
    "from sklearn.metrics import classification_report, hamming_loss, jaccard_score\n",
    "\n",
    "# Load the trained model and MultiLabelBinarizer\n",
    "pipeline = joblib.load(\"saved_models_synth\\\\finalized_model_slot_values_SVM.joblib\")\n",
    "mlb = joblib.load(\"saved_models_synth\\\\mlb_slot_values_SVM.joblib\")\n"
   ]
  },
  {
   "cell_type": "code",
   "execution_count": 8,
   "metadata": {},
   "outputs": [
    {
     "name": "stdout",
     "output_type": "stream",
     "text": [
      "Test Set Results:\n",
      "                   precision    recall  f1-score   support\n",
      "\n",
      "       hotel-area       0.12      0.01      0.01       178\n",
      "    hotel-bookday       0.00      0.00      0.00       165\n",
      " hotel-bookpeople       0.44      0.05      0.09       162\n",
      "   hotel-bookstay       0.49      0.25      0.33       167\n",
      "   hotel-internet       0.00      0.00      0.00       186\n",
      "       hotel-name       0.38      0.30      0.34       175\n",
      "    hotel-parking       0.00      0.00      0.00       183\n",
      " hotel-pricerange       0.21      0.03      0.05       200\n",
      "       hotel-type       0.66      0.10      0.18       222\n",
      "   train-arriveby       0.33      0.02      0.03       131\n",
      " train-bookpeople       0.00      0.00      0.00        91\n",
      "        train-day       0.54      0.12      0.19       278\n",
      "  train-departure       0.54      0.14      0.22       277\n",
      "train-destination       0.63      0.15      0.25       284\n",
      "    train-leaveat       0.41      0.46      0.43       147\n",
      "\n",
      "        micro avg       0.46      0.11      0.18      2846\n",
      "        macro avg       0.32      0.11      0.14      2846\n",
      "     weighted avg       0.36      0.11      0.15      2846\n",
      "      samples avg       0.27      0.12      0.15      2846\n",
      "\n",
      "Hamming Loss: 0.26547782350251486\n",
      "Jaccard Score: 0.10409455656369238\n"
     ]
    },
    {
     "name": "stderr",
     "output_type": "stream",
     "text": [
      "f:\\UTILITARE\\Miniconda\\envs\\School_Py\\lib\\site-packages\\sklearn\\metrics\\_classification.py:1344: UndefinedMetricWarning: Precision and F-score are ill-defined and being set to 0.0 in labels with no predicted samples. Use `zero_division` parameter to control this behavior.\n",
      "  _warn_prf(average, modifier, msg_start, len(result))\n",
      "f:\\UTILITARE\\Miniconda\\envs\\School_Py\\lib\\site-packages\\sklearn\\metrics\\_classification.py:1344: UndefinedMetricWarning: Precision and F-score are ill-defined and being set to 0.0 in samples with no predicted labels. Use `zero_division` parameter to control this behavior.\n",
      "  _warn_prf(average, modifier, msg_start, len(result))\n"
     ]
    }
   ],
   "source": [
    "# Predict on the test set\n",
    "y_pred_test_bin = pipeline.predict(utterances_test)\n",
    "\n",
    "# Convert predictions back to labels\n",
    "y_pred_test = mlb.inverse_transform(y_pred_test_bin)\n",
    "slot_types_test_actual = mlb.inverse_transform(slot_types_test_bin)\n",
    "\n",
    "# Evaluate performance\n",
    "print(\"Test Set Results:\")\n",
    "print(classification_report(slot_types_test_bin, y_pred_test_bin, target_names=mlb.classes_))\n",
    "\n",
    "hamming_loss_value = hamming_loss(slot_types_test_bin, y_pred_test_bin)\n",
    "print(\"Hamming Loss:\", hamming_loss_value)\n",
    "\n",
    "jaccard = jaccard_score(slot_types_test_bin, y_pred_test_bin, average='samples')  # For multilabel classification\n",
    "print(\"Jaccard Score:\", jaccard)"
   ]
  },
  {
   "cell_type": "code",
   "execution_count": 13,
   "metadata": {},
   "outputs": [
    {
     "name": "stdout",
     "output_type": "stream",
     "text": [
      "\n",
      "Mispredicted Examples:\n",
      "Utterance: Can you check the availability at the University Arms Hotel for five people?\n",
      "True Labels: hotel-bookpeople, hotel-name\n",
      "Predicted Labels: hotel-area, hotel-bookday, hotel-internet, hotel-name, hotel-type, train-arriveby, train-day, train-leaveat\n",
      "\n",
      "Utterance: Thursday please.\n",
      "True Labels: hotel-bookday, hotel-bookpeople, hotel-bookstay, hotel-name\n",
      "Predicted Labels: hotel-area, hotel-bookday, hotel-internet, hotel-name, hotel-type, train-arriveby, train-day, train-leaveat\n",
      "\n",
      "Utterance: Actually for 5 nights and there will be 5 of us staying\n",
      "True Labels: hotel-bookday, hotel-bookpeople, hotel-bookstay, hotel-name\n",
      "Predicted Labels: hotel-area, hotel-bookday, hotel-internet, hotel-name, hotel-type, train-arriveby, train-day, train-leaveat\n",
      "\n",
      "Utterance: Thank you so much, that is all that I need for now. Have a wonderful day.\n",
      "True Labels: hotel-bookday, hotel-bookpeople, hotel-bookstay, hotel-name\n",
      "Predicted Labels: hotel-area, hotel-bookday, hotel-internet, hotel-name, hotel-type, train-arriveby, train-day, train-leaveat\n",
      "\n",
      "Utterance: Can you help me find an expensive hotel in the south to stay at? Thanks.\n",
      "True Labels: hotel-area, hotel-pricerange\n",
      "Predicted Labels: hotel-area, hotel-bookday, hotel-internet, hotel-name, hotel-type, train-arriveby, train-day, train-leaveat\n",
      "\n",
      "Utterance: Do they have a guesthouse available?\n",
      "True Labels: hotel-area, hotel-pricerange\n",
      "Predicted Labels: hotel-area, hotel-bookday, hotel-internet, hotel-name, hotel-type, train-arriveby, train-day, train-leaveat\n",
      "\n",
      "Utterance: How about one in the moderate price range?\n",
      "True Labels: hotel-area, hotel-pricerange\n",
      "Predicted Labels: hotel-area, hotel-bookday, hotel-internet, hotel-name, hotel-type, train-arriveby, train-day, train-leaveat\n",
      "\n",
      "Utterance: Could you pick the better of the two and tell me the star rating?\n",
      "True Labels: hotel-area, hotel-pricerange, hotel-type\n",
      "Predicted Labels: hotel-area, hotel-bookday, hotel-internet, hotel-name, hotel-type, train-arriveby, train-day, train-leaveat\n",
      "\n",
      "Utterance: No, just get me their phone number and I'll give them a ring\n",
      "True Labels: hotel-area, hotel-name, hotel-pricerange, hotel-type\n",
      "Predicted Labels: hotel-area, hotel-bookday, hotel-internet, hotel-name, hotel-type, train-arriveby, train-day, train-leaveat\n",
      "\n",
      "Utterance: Hello, I would like to find the el shaddai hotel. Can you help me?\n",
      "True Labels: hotel-name\n",
      "Predicted Labels: hotel-area, hotel-bookday, hotel-internet, hotel-name, hotel-type, train-arriveby, train-day, train-leaveat\n",
      "\n",
      "Utterance: Can I book a stay there for 1 person for 5 nights starting tuesday please?\n",
      "True Labels: hotel-bookday, hotel-bookpeople, hotel-bookstay, hotel-name\n",
      "Predicted Labels: hotel-area, hotel-bookday, hotel-internet, hotel-name, hotel-type, train-arriveby, train-day, train-leaveat\n",
      "\n",
      "Utterance: Nope, that'll do it. Thanks for your help!\n",
      "True Labels: hotel-bookday, hotel-bookpeople, hotel-bookstay, hotel-name\n",
      "Predicted Labels: hotel-area, hotel-bookday, hotel-internet, hotel-name, hotel-type, train-arriveby, train-day, train-leaveat\n",
      "\n",
      "Utterance: I am searching for a guesthouse in town that has free parking, do you know of any?\n",
      "True Labels: hotel-parking, hotel-type\n",
      "Predicted Labels: hotel-area, hotel-bookday, hotel-internet, hotel-name, hotel-type, train-arriveby, train-day, train-leaveat\n",
      "\n",
      "Utterance: I don't care what the price is but do you have anything in the east?\n",
      "True Labels: hotel-area, hotel-parking, hotel-pricerange, hotel-type\n",
      "Predicted Labels: hotel-area, hotel-bookday, hotel-internet, hotel-name, hotel-type, train-arriveby, train-day, train-leaveat\n",
      "\n",
      "Utterance: Yes, find me some place that 7 people can stay for 3 nights. We'll be arriving on Monday.\n",
      "True Labels: hotel-area, hotel-bookday, hotel-bookpeople, hotel-bookstay, hotel-parking, hotel-pricerange, hotel-type\n",
      "Predicted Labels: hotel-area, hotel-bookday, hotel-internet, hotel-name, hotel-type, train-arriveby, train-day, train-leaveat\n",
      "\n",
      "Utterance: That doesn't matter to me.\n",
      "True Labels: hotel-area, hotel-bookday, hotel-bookpeople, hotel-bookstay, hotel-internet, hotel-parking, hotel-pricerange, hotel-type\n",
      "Predicted Labels: hotel-area, hotel-bookday, hotel-internet, hotel-name, hotel-type, train-arriveby, train-day, train-leaveat\n",
      "\n",
      "Utterance: That's all I need right now. Thank you for your help. Good bye.\n",
      "True Labels: hotel-area, hotel-bookday, hotel-bookpeople, hotel-bookstay, hotel-internet, hotel-name, hotel-parking, hotel-pricerange, hotel-type\n",
      "Predicted Labels: hotel-area, hotel-bookday, hotel-internet, hotel-name, hotel-type, train-arriveby, train-day, train-leaveat\n",
      "\n",
      "Utterance: I am looking for a place to stay. The hotel should be in the expensive price range and should have a star of 0\n",
      "True Labels: hotel-pricerange, hotel-type\n",
      "Predicted Labels: hotel-area, hotel-bookday, hotel-internet, hotel-name, hotel-type, train-arriveby, train-day, train-leaveat\n",
      "\n",
      "Utterance: how about a star of 0?\n",
      "True Labels: hotel-pricerange, hotel-type\n",
      "Predicted Labels: hotel-area, hotel-bookday, hotel-internet, hotel-name, hotel-type, train-arriveby, train-day, train-leaveat\n",
      "\n",
      "Utterance: Ok how about a cheap priced hotel, free wifi would be a plus.\n",
      "True Labels: hotel-internet, hotel-pricerange\n",
      "Predicted Labels: hotel-area, hotel-bookday, hotel-internet, hotel-name, hotel-type, train-arriveby, train-day, train-leaveat\n",
      "\n",
      "Utterance: Yeah. Can you help me book it please? It'll be for 8 people\n",
      "True Labels: hotel-bookpeople, hotel-internet, hotel-pricerange\n",
      "Predicted Labels: hotel-area, hotel-bookday, hotel-internet, hotel-name, hotel-type, train-arriveby, train-day, train-leaveat\n",
      "\n",
      "Utterance: 2 nights for 8 people starting on sunday.\n",
      "True Labels: hotel-bookday, hotel-bookpeople, hotel-bookstay, hotel-internet, hotel-name, hotel-pricerange\n",
      "Predicted Labels: hotel-area, hotel-bookday, hotel-internet, hotel-name, hotel-type, train-arriveby, train-day, train-leaveat\n",
      "\n",
      "Utterance: No thank you, that is all the info I needed. Have a great day!\n",
      "True Labels: hotel-bookday, hotel-bookpeople, hotel-bookstay, hotel-internet, hotel-name, hotel-pricerange\n",
      "Predicted Labels: hotel-area, hotel-bookday, hotel-internet, hotel-name, hotel-type, train-arriveby, train-day, train-leaveat\n",
      "\n",
      "Utterance: Hi I am looking for some info on the Worth House hotel.\n",
      "True Labels: hotel-name\n",
      "Predicted Labels: hotel-area, hotel-bookday, hotel-internet, hotel-name, hotel-type, train-arriveby, train-day, train-leaveat\n",
      "\n",
      "Utterance: Thank you so much!\n",
      "True Labels: hotel-name\n",
      "Predicted Labels: hotel-area, hotel-bookday, hotel-internet, hotel-name, hotel-type, train-arriveby, train-day, train-leaveat\n",
      "\n",
      "Utterance: I'm not ready to book but I appreciate your help. Thanks!\n",
      "True Labels: hotel-name\n",
      "Predicted Labels: hotel-area, hotel-bookday, hotel-internet, hotel-name, hotel-type, train-arriveby, train-day, train-leaveat\n",
      "\n",
      "Utterance: I'm looking for a moderately priced hotel that offers free wifi. Do you have any of those?\n",
      "True Labels: hotel-internet, hotel-pricerange, hotel-type\n",
      "Predicted Labels: hotel-area, hotel-bookday, hotel-internet, hotel-name, hotel-type, train-arriveby, train-day, train-leaveat\n",
      "\n",
      "Utterance: I am sorry I am actually looking for a 4 star hotel with free parking. Is there any available?\n",
      "True Labels: hotel-internet, hotel-parking, hotel-pricerange, hotel-type\n",
      "Predicted Labels: hotel-area, hotel-bookday, hotel-internet, hotel-name, hotel-type, train-arriveby, train-day, train-leaveat\n",
      "\n",
      "Utterance: Can you locate me a 3 star hotel with parking.\n",
      "True Labels: hotel-internet, hotel-parking, hotel-pricerange, hotel-type\n",
      "Predicted Labels: hotel-area, hotel-bookday, hotel-internet, hotel-name, hotel-type, train-arriveby, train-day, train-leaveat\n",
      "\n",
      "Utterance: Could you check again? A moderate priced, 4 star hotel or guesthouse, that offers free wifi and parking.\n",
      "True Labels: hotel-internet, hotel-parking, hotel-pricerange, hotel-type\n",
      "Predicted Labels: hotel-area, hotel-bookday, hotel-internet, hotel-name, hotel-type, train-arriveby, train-day, train-leaveat\n",
      "\n",
      "Utterance: Are there any 4 star hotels or guesthouses with free parking and wifi in a different price range?\n",
      "True Labels: hotel-internet, hotel-parking, hotel-pricerange, hotel-type\n",
      "Predicted Labels: hotel-area, hotel-bookday, hotel-internet, hotel-name, hotel-type, train-arriveby, train-day, train-leaveat\n",
      "\n",
      "Utterance: Okay. That will work. I'll need to book it for Thursday, 3 nights, and 7 people.\n",
      "True Labels: hotel-bookday, hotel-bookpeople, hotel-bookstay, hotel-internet, hotel-name, hotel-parking, hotel-pricerange, hotel-type\n",
      "Predicted Labels: hotel-area, hotel-bookday, hotel-internet, hotel-name, hotel-type, train-arriveby, train-day, train-leaveat\n",
      "\n",
      "Utterance: please give me the reference number for the hotel\n",
      "True Labels: hotel-bookday, hotel-bookpeople, hotel-bookstay, hotel-internet, hotel-name, hotel-parking, hotel-pricerange, hotel-type\n",
      "Predicted Labels: hotel-area, hotel-bookday, hotel-internet, hotel-name, hotel-type, train-arriveby, train-day, train-leaveat\n",
      "\n",
      "Utterance: I want to find a place to stay in the north with free parking.\n",
      "True Labels: hotel-area, hotel-parking\n",
      "Predicted Labels: hotel-area, hotel-bookday, hotel-internet, hotel-name, hotel-type, train-arriveby, train-day, train-leaveat\n",
      "\n",
      "Utterance: Yes, I would prefer a moderate price range.\n",
      "True Labels: hotel-area, hotel-parking, hotel-pricerange\n",
      "Predicted Labels: hotel-area, hotel-bookday, hotel-internet, hotel-name, hotel-type, train-arriveby, train-day, train-leaveat\n",
      "\n",
      "Utterance: That sounds great, could you make the reservations for me there then? I will be there Sunday with 3 people and we will stay for 2 nights.\n",
      "True Labels: hotel-area, hotel-bookday, hotel-bookpeople, hotel-bookstay, hotel-name, hotel-parking, hotel-pricerange\n",
      "Predicted Labels: hotel-area, hotel-bookday, hotel-internet, hotel-name, hotel-type, train-arriveby, train-day, train-leaveat\n",
      "\n",
      "Utterance: No,lets try ext weekend,see if you can book it for then ?\n",
      "True Labels: hotel-area, hotel-bookday, hotel-bookpeople, hotel-bookstay, hotel-name, hotel-parking, hotel-pricerange\n",
      "Predicted Labels: hotel-area, hotel-bookday, hotel-internet, hotel-name, hotel-type, train-arriveby, train-day, train-leaveat\n",
      "\n",
      "Utterance: Yes, same price range.\n",
      "True Labels: hotel-area, hotel-bookday, hotel-bookpeople, hotel-bookstay, hotel-parking, hotel-pricerange\n",
      "Predicted Labels: hotel-area, hotel-bookday, hotel-internet, hotel-name, hotel-type, train-arriveby, train-day, train-leaveat\n",
      "\n",
      "Utterance: Yes, please.\n",
      "True Labels: hotel-area, hotel-bookday, hotel-bookpeople, hotel-bookstay, hotel-name, hotel-parking, hotel-pricerange\n",
      "Predicted Labels: hotel-area, hotel-bookday, hotel-internet, hotel-name, hotel-type, train-arriveby, train-day, train-leaveat\n",
      "\n",
      "Utterance: Okay great. Thank you very much.\n",
      "True Labels: hotel-area, hotel-bookday, hotel-bookpeople, hotel-bookstay, hotel-name, hotel-parking, hotel-pricerange\n",
      "Predicted Labels: hotel-area, hotel-bookday, hotel-internet, hotel-name, hotel-type, train-arriveby, train-day, train-leaveat\n",
      "\n",
      "Utterance: That will be all. Thank you for your help.\n",
      "True Labels: hotel-area, hotel-bookday, hotel-bookpeople, hotel-bookstay, hotel-name, hotel-parking, hotel-pricerange\n",
      "Predicted Labels: hotel-area, hotel-bookday, hotel-internet, hotel-name, hotel-type, train-arriveby, train-day, train-leaveat\n",
      "\n",
      "Utterance: I'm looking for a hotel with a 4 star rating to stay at and I don't need to have internet. Can you help?\n",
      "True Labels: hotel-internet, hotel-type\n",
      "Predicted Labels: hotel-area, hotel-bookday, hotel-internet, hotel-name, hotel-type, train-arriveby, train-day, train-leaveat\n",
      "\n",
      "Utterance: Tell me about the expensive options.\n",
      "True Labels: hotel-internet, hotel-pricerange, hotel-type\n",
      "Predicted Labels: hotel-area, hotel-bookday, hotel-internet, hotel-name, hotel-type, train-arriveby, train-day, train-leaveat\n",
      "\n",
      "Utterance: The University Arms sounds good.\n",
      "True Labels: hotel-internet, hotel-name, hotel-pricerange, hotel-type\n",
      "Predicted Labels: hotel-area, hotel-bookday, hotel-internet, hotel-name, hotel-type, train-arriveby, train-day, train-leaveat\n",
      "\n",
      "Utterance: I need it for 8 people, 2 nights from Monday.\n",
      "True Labels: hotel-bookday, hotel-bookpeople, hotel-bookstay, hotel-internet, hotel-name, hotel-pricerange, hotel-type\n",
      "Predicted Labels: hotel-area, hotel-bookday, hotel-internet, hotel-name, hotel-type, train-arriveby, train-day, train-leaveat\n",
      "\n",
      "Utterance: Can you help me find a place to stay while in cambridge in the north that has free wifi?\n",
      "True Labels: hotel-area, hotel-internet\n",
      "Predicted Labels: hotel-area, hotel-bookday, hotel-internet, hotel-name, hotel-type, train-arriveby, train-day, train-leaveat\n",
      "\n",
      "Utterance: I would like one with 4 stars.\n",
      "True Labels: hotel-area, hotel-internet\n",
      "Predicted Labels: hotel-area, hotel-bookday, hotel-internet, hotel-name, hotel-type, train-arriveby, train-day, train-leaveat\n",
      "\n",
      "Utterance: That sounds like a perfect fit. Please book it for 4 nights starting this Friday, for 3 people.\n",
      "True Labels: hotel-area, hotel-bookday, hotel-bookpeople, hotel-bookstay, hotel-internet, hotel-name\n",
      "Predicted Labels: hotel-area, hotel-bookday, hotel-internet, hotel-name, hotel-type, train-arriveby, train-day, train-leaveat\n",
      "\n",
      "Utterance: i need a hotel in the north\n",
      "True Labels: hotel-area\n",
      "Predicted Labels: hotel-area, hotel-bookday, hotel-internet, hotel-name, hotel-type, train-arriveby, train-day, train-leaveat\n",
      "\n",
      "Utterance: It should be a hotel. I don't care if it has parking.\n",
      "True Labels: hotel-area, hotel-parking, hotel-type\n",
      "Predicted Labels: hotel-area, hotel-bookday, hotel-internet, hotel-name, hotel-type, train-arriveby, train-day, train-leaveat\n",
      "\n",
      "Utterance: Please pick one for me. The wife just \"politely requested\" that we change our mind on the parking, can you pick one that includes free parking?\n",
      "True Labels: hotel-area, hotel-parking, hotel-type\n",
      "Predicted Labels: hotel-area, hotel-bookday, hotel-internet, hotel-name, hotel-type, train-arriveby, train-day, train-leaveat\n",
      "\n",
      "Utterance: Yes please. I'll need it booked for Saturday, for 4 nights, and 3 people.\n",
      "True Labels: hotel-area, hotel-bookday, hotel-bookpeople, hotel-bookstay, hotel-name, hotel-parking, hotel-type\n",
      "Predicted Labels: hotel-area, hotel-bookday, hotel-internet, hotel-name, hotel-type, train-arriveby, train-day, train-leaveat\n",
      "\n",
      "Utterance: My wife and I thank you. That would be it\n",
      "True Labels: hotel-area, hotel-bookday, hotel-bookpeople, hotel-bookstay, hotel-name, hotel-parking, hotel-type\n",
      "Predicted Labels: hotel-area, hotel-bookday, hotel-internet, hotel-name, hotel-type, train-arriveby, train-day, train-leaveat\n",
      "\n",
      "Utterance: Umm you too, as much as I have enjoyed the chat, I think this is the end of the dialogue.\n",
      "True Labels: hotel-area, hotel-bookday, hotel-bookpeople, hotel-bookstay, hotel-name, hotel-parking, hotel-type\n",
      "Predicted Labels: hotel-area, hotel-bookday, hotel-internet, hotel-name, hotel-type, train-arriveby, train-day, train-leaveat\n",
      "\n",
      "Utterance: Could you give me some details for Carolina bed and breakfast?\n",
      "True Labels: hotel-name\n",
      "Predicted Labels: hotel-area, hotel-bookday, hotel-internet, hotel-name, hotel-type, train-arriveby, train-day, train-leaveat\n",
      "\n",
      "Utterance: No, that sounds wonderful. Can you book a room for me for 4 nights starting on Friday? It will just be myself.\n",
      "True Labels: hotel-bookday, hotel-bookpeople, hotel-bookstay, hotel-name\n",
      "Predicted Labels: hotel-area, hotel-bookday, hotel-internet, hotel-name, hotel-type, train-arriveby, train-day, train-leaveat\n",
      "\n",
      "Utterance: No, that's all I need. Thanks for your help.\n",
      "True Labels: hotel-bookday, hotel-bookpeople, hotel-bookstay, hotel-name\n",
      "Predicted Labels: hotel-area, hotel-bookday, hotel-internet, hotel-name, hotel-type, train-arriveby, train-day, train-leaveat\n",
      "\n",
      "Utterance: Hello, I am looking for a hotel in the north part of town. The hotel needs to include free parking.\n",
      "True Labels: hotel-area, hotel-parking, hotel-type\n",
      "Predicted Labels: hotel-area, hotel-bookday, hotel-internet, hotel-name, hotel-type, train-arriveby, train-day, train-leaveat\n",
      "\n",
      "Utterance: That sounds great! Can you tell me more about it?\n",
      "True Labels: hotel-area, hotel-parking, hotel-type\n",
      "Predicted Labels: hotel-area, hotel-bookday, hotel-internet, hotel-name, hotel-type, train-arriveby, train-day, train-leaveat\n",
      "\n",
      "Utterance: Yes, please book for 4 nights starting Wednesday. There will be 8 of us.\n",
      "True Labels: hotel-area, hotel-bookday, hotel-bookpeople, hotel-bookstay, hotel-name, hotel-parking, hotel-type\n",
      "Predicted Labels: hotel-area, hotel-bookday, hotel-internet, hotel-name, hotel-type, train-arriveby, train-day, train-leaveat\n",
      "\n",
      "Utterance: That should do it! Thank you!\n",
      "True Labels: hotel-area, hotel-bookday, hotel-bookpeople, hotel-bookstay, hotel-name, hotel-parking, hotel-type\n",
      "Predicted Labels: hotel-area, hotel-bookday, hotel-internet, hotel-name, hotel-type, train-arriveby, train-day, train-leaveat\n",
      "\n",
      "Utterance: Hi, I'm looking for a hotel, the archway house?\n",
      "True Labels: hotel-name\n",
      "Predicted Labels: hotel-area, hotel-bookday, hotel-internet, hotel-name, hotel-type, train-arriveby, train-day, train-leaveat\n",
      "\n",
      "Utterance: Yes, please book for 8 people, for 4 nights starting from Saturday.\n",
      "True Labels: hotel-bookday, hotel-bookpeople, hotel-bookstay, hotel-name\n",
      "Predicted Labels: hotel-area, hotel-bookday, hotel-internet, hotel-name, hotel-type, train-arriveby, train-day, train-leaveat\n",
      "\n",
      "Utterance: No, that's all I need.\n",
      "True Labels: hotel-bookday, hotel-bookpeople, hotel-bookstay, hotel-name\n",
      "Predicted Labels: hotel-area, hotel-bookday, hotel-internet, hotel-name, hotel-type, train-arriveby, train-day, train-leaveat\n",
      "\n",
      "Utterance: I want to find some information about a hotel called alexander bed and breakfast.\n",
      "True Labels: hotel-name\n",
      "Predicted Labels: hotel-area, hotel-bookday, hotel-internet, hotel-name, hotel-type, train-arriveby, train-day, train-leaveat\n",
      "\n",
      "Utterance: Do they have reservations available for 6 people and 3 nights starting from Thursday?\n",
      "True Labels: hotel-bookday, hotel-bookpeople, hotel-bookstay, hotel-name, hotel-pricerange\n",
      "Predicted Labels: hotel-area, hotel-bookday, hotel-internet, hotel-name, hotel-type, train-arriveby, train-day, train-leaveat\n",
      "\n",
      "Utterance: I'm looking for a moderate priced place to stay with free parking please.\n",
      "True Labels: hotel-parking, hotel-pricerange\n",
      "Predicted Labels: hotel-area, hotel-bookday, hotel-internet, hotel-name, hotel-type, train-arriveby, train-day, train-leaveat\n",
      "\n",
      "Utterance: what is the star rating? i'm actually looking for 4 star rating in the east part of town.\n",
      "True Labels: hotel-area, hotel-parking, hotel-pricerange\n",
      "Predicted Labels: hotel-area, hotel-bookday, hotel-internet, hotel-name, hotel-type, train-arriveby, train-day, train-leaveat\n",
      "\n",
      "Utterance: I would like to be booked into the Warkworth House starting Tuesday.\n",
      "True Labels: hotel-area, hotel-bookday, hotel-name, hotel-parking, hotel-pricerange\n",
      "Predicted Labels: hotel-area, hotel-bookday, hotel-internet, hotel-name, hotel-type, train-arriveby, train-day, train-leaveat\n",
      "\n",
      "Utterance: Seven, and three Nights from Tuesday on.\n",
      "True Labels: hotel-area, hotel-bookday, hotel-bookpeople, hotel-bookstay, hotel-name, hotel-parking, hotel-pricerange\n",
      "Predicted Labels: hotel-area, hotel-bookday, hotel-internet, hotel-name, hotel-type, train-arriveby, train-day, train-leaveat\n",
      "\n",
      "Utterance: Yes, any in the same pricerange.\n",
      "True Labels: hotel-area, hotel-bookday, hotel-bookpeople, hotel-bookstay, hotel-name, hotel-parking, hotel-pricerange\n",
      "Predicted Labels: hotel-area, hotel-bookday, hotel-internet, hotel-name, hotel-type, train-arriveby, train-day, train-leaveat\n",
      "\n",
      "Utterance: Thank you so much, that was all I needed today.\n",
      "True Labels: hotel-area, hotel-bookday, hotel-bookpeople, hotel-bookstay, hotel-name, hotel-parking, hotel-pricerange\n",
      "Predicted Labels: hotel-area, hotel-bookday, hotel-internet, hotel-name, hotel-type, train-arriveby, train-day, train-leaveat\n",
      "\n",
      "Utterance: I need a hotel in the south\n",
      "True Labels: hotel-area, hotel-type\n",
      "Predicted Labels: hotel-area, hotel-bookday, hotel-internet, hotel-name, hotel-type, train-arriveby, train-day, train-leaveat\n",
      "\n",
      "Utterance: does it include free parking?\n",
      "True Labels: hotel-area, hotel-name, hotel-parking, hotel-type\n",
      "Predicted Labels: hotel-area, hotel-bookday, hotel-internet, hotel-name, hotel-type, train-arriveby, train-day, train-leaveat\n",
      "\n",
      "Utterance: Thank you goodbye\n",
      "True Labels: hotel-area, hotel-name, hotel-parking, hotel-type\n",
      "Predicted Labels: hotel-area, hotel-bookday, hotel-internet, hotel-name, hotel-type, train-arriveby, train-day, train-leaveat\n",
      "\n",
      "Utterance: Hello! I'm looking for a place to stay with free parking and zero stars.\n",
      "True Labels: hotel-parking, hotel-type\n",
      "Predicted Labels: hotel-area, hotel-bookday, hotel-internet, hotel-name, hotel-type, train-arriveby, train-day, train-leaveat\n",
      "\n",
      "Utterance: Do you have anything in the east?\n",
      "True Labels: hotel-area, hotel-parking, hotel-type\n",
      "Predicted Labels: hotel-area, hotel-bookday, hotel-internet, hotel-name, hotel-type, train-arriveby, train-day, train-leaveat\n",
      "\n",
      "Utterance: No can you please check in the north instead then?\n",
      "True Labels: hotel-area, hotel-parking\n",
      "Predicted Labels: hotel-area, hotel-bookday, hotel-internet, hotel-name, hotel-type, train-arriveby, train-day, train-leaveat\n",
      "\n",
      "Utterance: Yes, I would like to make a reservation on Saturday for 6 people and we will be staying for 2 nights.\n",
      "True Labels: hotel-area, hotel-bookday, hotel-bookpeople, hotel-bookstay, hotel-name, hotel-parking\n",
      "Predicted Labels: hotel-area, hotel-bookday, hotel-internet, hotel-name, hotel-type, train-arriveby, train-day, train-leaveat\n",
      "\n",
      "Utterance: Yes i would like something in the same pricerange.\n",
      "True Labels: hotel-area, hotel-bookday, hotel-bookpeople, hotel-bookstay, hotel-parking, hotel-pricerange\n",
      "Predicted Labels: hotel-area, hotel-bookday, hotel-internet, hotel-name, hotel-type, train-arriveby, train-day, train-leaveat\n",
      "\n",
      "Utterance: You can change any other criteria, but the price range should be the same as the city centre north b and b. Please try again.\n",
      "True Labels: hotel-area, hotel-bookday, hotel-bookpeople, hotel-bookstay, hotel-parking, hotel-pricerange\n",
      "Predicted Labels: hotel-area, hotel-bookday, hotel-internet, hotel-name, hotel-type, train-arriveby, train-day, train-leaveat\n",
      "\n",
      "Utterance: That's great. Thanks. Do you have their address?\n",
      "True Labels: hotel-area, hotel-bookday, hotel-bookpeople, hotel-bookstay, hotel-name, hotel-parking, hotel-pricerange\n",
      "Predicted Labels: hotel-area, hotel-bookday, hotel-internet, hotel-name, hotel-type, train-arriveby, train-day, train-leaveat\n",
      "\n",
      "Utterance: OK, I'm all set here. Thanks for your help.\n",
      "True Labels: hotel-area, hotel-bookday, hotel-bookpeople, hotel-bookstay, hotel-name, hotel-parking, hotel-pricerange\n",
      "Predicted Labels: hotel-area, hotel-bookday, hotel-internet, hotel-name, hotel-type, train-arriveby, train-day, train-leaveat\n",
      "\n",
      "Utterance: I'm looking to get some info on a hotel called cityroomz.\n",
      "True Labels: hotel-name\n",
      "Predicted Labels: hotel-area, hotel-bookday, hotel-internet, hotel-name, hotel-type, train-arriveby, train-day, train-leaveat\n",
      "\n",
      "Utterance: Yes please book it for one person for 2 nights starting friday.\n",
      "True Labels: hotel-bookday, hotel-bookpeople, hotel-bookstay, hotel-name\n",
      "Predicted Labels: hotel-area, hotel-bookday, hotel-internet, hotel-name, hotel-type, train-arriveby, train-day, train-leaveat\n",
      "\n",
      "Utterance: Thank you very much for your help. Have a great day.\n",
      "True Labels: hotel-bookday, hotel-bookpeople, hotel-bookstay, hotel-name\n",
      "Predicted Labels: hotel-area, hotel-bookday, hotel-internet, hotel-name, hotel-type, train-arriveby, train-day, train-leaveat\n",
      "\n",
      "Utterance: Any chance you can direct me to where I can locate a cheap room for the night?\n",
      "True Labels: hotel-pricerange\n",
      "Predicted Labels: hotel-area, hotel-bookday, hotel-internet, hotel-name, hotel-type, train-arriveby, train-day, train-leaveat\n",
      "\n",
      "Utterance: A guest house, with free parking, would be just the thing.\n",
      "True Labels: hotel-parking, hotel-pricerange, hotel-type\n",
      "Predicted Labels: hotel-area, hotel-bookday, hotel-internet, hotel-name, hotel-type, train-arriveby, train-day, train-leaveat\n",
      "\n",
      "Utterance: That sounds perfect, actually. Can you book me a room on Thursday for 5 people for a 4 night stay?\n",
      "True Labels: hotel-bookday, hotel-bookpeople, hotel-bookstay, hotel-name, hotel-parking, hotel-pricerange, hotel-type\n",
      "Predicted Labels: hotel-area, hotel-bookday, hotel-internet, hotel-name, hotel-type, train-arriveby, train-day, train-leaveat\n",
      "\n",
      "Utterance: No, that gives me everything I need.\n",
      "True Labels: hotel-bookday, hotel-bookpeople, hotel-bookstay, hotel-name, hotel-parking, hotel-pricerange, hotel-type\n",
      "Predicted Labels: hotel-area, hotel-bookday, hotel-internet, hotel-name, hotel-type, train-arriveby, train-day, train-leaveat\n",
      "\n",
      "Utterance: I'm looking for a guesthouse to stay in that includes free wi-fi.\n",
      "True Labels: hotel-internet, hotel-type\n",
      "Predicted Labels: hotel-area, hotel-bookday, hotel-internet, hotel-name, hotel-type, train-arriveby, train-day, train-leaveat\n",
      "\n",
      "Utterance: It should be in the moderate price range with free parking\n",
      "True Labels: hotel-internet, hotel-parking, hotel-pricerange, hotel-type\n",
      "Predicted Labels: hotel-area, hotel-bookday, hotel-internet, hotel-name, hotel-type, train-arriveby, train-day, train-leaveat\n",
      "\n",
      "Utterance: Yes please book it for 2 people and 4 nights starting from sunday.\n",
      "True Labels: hotel-bookday, hotel-bookpeople, hotel-bookstay, hotel-internet, hotel-parking, hotel-pricerange, hotel-type\n",
      "Predicted Labels: hotel-area, hotel-bookday, hotel-internet, hotel-name, hotel-type, train-arriveby, train-day, train-leaveat\n",
      "\n",
      "Utterance: Yes, that's perfect! Thank you so much for your help.\n",
      "True Labels: hotel-bookday, hotel-bookpeople, hotel-bookstay, hotel-internet, hotel-name, hotel-parking, hotel-pricerange, hotel-type\n",
      "Predicted Labels: hotel-area, hotel-bookday, hotel-internet, hotel-name, hotel-type, train-arriveby, train-day, train-leaveat\n",
      "\n",
      "Utterance: Hi, I need a guest house please.\n",
      "True Labels: hotel-type\n",
      "Predicted Labels: hotel-area, hotel-bookday, hotel-internet, hotel-name, hotel-type, train-arriveby, train-day, train-leaveat\n",
      "\n",
      "Utterance: No, but I need free wifi and I would like a 2 star guesthouse please.\n",
      "True Labels: hotel-internet, hotel-type\n",
      "Predicted Labels: hotel-area, hotel-bookday, hotel-internet, hotel-name, hotel-type, train-arriveby, train-day, train-leaveat\n",
      "\n",
      "Utterance: Yes, how about a guesthouse with 3 stars and free wifi instead?\n",
      "True Labels: hotel-internet, hotel-type\n",
      "Predicted Labels: hotel-area, hotel-bookday, hotel-internet, hotel-name, hotel-type, train-arriveby, train-day, train-leaveat\n",
      "\n",
      "Utterance: I'm sorry. I changed my mind. I don't want a guesthouse. Are there any hotels with 2 stars?\n",
      "True Labels: hotel-internet, hotel-type\n",
      "Predicted Labels: hotel-area, hotel-bookday, hotel-internet, hotel-name, hotel-type, train-arriveby, train-day, train-leaveat\n",
      "\n",
      "Utterance: No, just any 2-star hotel with free wifi will do.\n",
      "True Labels: hotel-internet, hotel-type\n",
      "Predicted Labels: hotel-area, hotel-bookday, hotel-internet, hotel-name, hotel-type, train-arriveby, train-day, train-leaveat\n",
      "\n",
      "Utterance: I would like it for 6 people for 2 nights starting on Wednesday.\n",
      "True Labels: hotel-bookday, hotel-bookpeople, hotel-bookstay, hotel-internet, hotel-type\n",
      "Predicted Labels: hotel-area, hotel-bookday, hotel-internet, hotel-name, hotel-type, train-arriveby, train-day, train-leaveat\n",
      "\n",
      "Utterance: Great that was all I needed today, thank you.\n",
      "True Labels: hotel-bookday, hotel-bookpeople, hotel-bookstay, hotel-internet, hotel-name, hotel-type\n",
      "Predicted Labels: hotel-area, hotel-bookday, hotel-internet, hotel-name, hotel-type, train-arriveby, train-day, train-leaveat\n",
      "\n",
      "Utterance: Yeah, hi. I could use some help finding something priced kind of moderately to stay at this weekend.\n",
      "True Labels: hotel-pricerange\n",
      "Predicted Labels: hotel-area, hotel-bookday, hotel-internet, hotel-name, hotel-type, train-arriveby, train-day, train-leaveat\n",
      "\n",
      "Utterance: I would like something north. I also need free WiFi.\n",
      "True Labels: hotel-area, hotel-internet, hotel-pricerange\n",
      "Predicted Labels: hotel-area, hotel-bookday, hotel-internet, hotel-name, hotel-type, train-arriveby, train-day, train-leaveat\n",
      "\n",
      "Utterance: Free parking is great but not required. The star rating isn't important.\n",
      "True Labels: hotel-area, hotel-internet, hotel-parking, hotel-pricerange\n",
      "Predicted Labels: hotel-area, hotel-bookday, hotel-internet, hotel-name, hotel-type, train-arriveby, train-day, train-leaveat\n",
      "\n",
      "Utterance: Doesn't matter. I just need a place with room for a party of 4 for 5 nights beginning Thursday.\n",
      "True Labels: hotel-area, hotel-bookday, hotel-bookpeople, hotel-bookstay, hotel-internet, hotel-parking, hotel-pricerange, hotel-type\n",
      "Predicted Labels: hotel-area, hotel-bookday, hotel-internet, hotel-name, hotel-type, train-arriveby, train-day, train-leaveat\n",
      "\n",
      "Utterance: Awesome. That's all I needed. Thanks.\n",
      "True Labels: hotel-area, hotel-bookday, hotel-bookpeople, hotel-bookstay, hotel-internet, hotel-name, hotel-parking, hotel-pricerange, hotel-type\n",
      "Predicted Labels: hotel-area, hotel-bookday, hotel-internet, hotel-name, hotel-type, train-arriveby, train-day, train-leaveat\n",
      "\n",
      "Utterance: Im looking for a hotel with free parking and wifi please.\n",
      "True Labels: hotel-internet, hotel-parking, hotel-type\n",
      "Predicted Labels: hotel-area, hotel-bookday, hotel-internet, hotel-name, hotel-type, train-arriveby, train-day, train-leaveat\n",
      "\n",
      "Utterance: I am looking for one with a 4 star rating in the guesthouse style.\n",
      "True Labels: hotel-internet, hotel-parking, hotel-type\n",
      "Predicted Labels: hotel-area, hotel-bookday, hotel-internet, hotel-name, hotel-type, train-arriveby, train-day, train-leaveat\n",
      "\n",
      "Utterance: I definitely want the four star in a guesthouse style, not a hotel. Would you check again, please.\n",
      "True Labels: hotel-internet, hotel-parking, hotel-type\n",
      "Predicted Labels: hotel-area, hotel-bookday, hotel-internet, hotel-name, hotel-type, train-arriveby, train-day, train-leaveat\n",
      "\n",
      "Utterance: No, just whichever one can accommodate 3 people for 5 nights beginning Saturday\n",
      "True Labels: hotel-bookday, hotel-bookpeople, hotel-bookstay, hotel-internet, hotel-name, hotel-parking, hotel-type\n",
      "Predicted Labels: hotel-area, hotel-bookday, hotel-internet, hotel-name, hotel-type, train-arriveby, train-day, train-leaveat\n",
      "\n",
      "Utterance: Thank you so much for your help\n",
      "True Labels: hotel-bookday, hotel-bookpeople, hotel-bookstay, hotel-internet, hotel-name, hotel-parking, hotel-type\n",
      "Predicted Labels: hotel-area, hotel-bookday, hotel-internet, hotel-name, hotel-type, train-arriveby, train-day, train-leaveat\n",
      "\n",
      "Utterance: No thank you that is all I needed.\n",
      "True Labels: hotel-bookday, hotel-bookpeople, hotel-bookstay, hotel-internet, hotel-name, hotel-parking, hotel-type\n",
      "Predicted Labels: hotel-area, hotel-bookday, hotel-internet, hotel-name, hotel-type, train-arriveby, train-day, train-leaveat\n",
      "\n",
      "Utterance: Hi I'm looking for a hotel in the are that includes free wifi.\n",
      "True Labels: hotel-internet, hotel-type\n",
      "Predicted Labels: hotel-area, hotel-bookday, hotel-internet, hotel-name, hotel-type, train-arriveby, train-day, train-leaveat\n",
      "\n",
      "Utterance: I would like to be in the west, and it would be great if it was an expensive hotel.\n",
      "True Labels: hotel-area, hotel-internet, hotel-pricerange, hotel-type\n",
      "Predicted Labels: hotel-area, hotel-bookday, hotel-internet, hotel-name, hotel-type, train-arriveby, train-day, train-leaveat\n",
      "\n",
      "Utterance: Yes please for this weekend.Thank You.\n",
      "True Labels: hotel-area, hotel-internet, hotel-name, hotel-pricerange, hotel-type\n",
      "Predicted Labels: hotel-area, hotel-bookday, hotel-internet, hotel-name, hotel-type, train-arriveby, train-day, train-leaveat\n",
      "\n",
      "Utterance: There will be 2 people and a total of 4 nights stay starting from tuesday.\n",
      "True Labels: hotel-area, hotel-bookday, hotel-bookpeople, hotel-bookstay, hotel-internet, hotel-name, hotel-pricerange, hotel-type\n",
      "Predicted Labels: hotel-area, hotel-bookday, hotel-internet, hotel-name, hotel-type, train-arriveby, train-day, train-leaveat\n",
      "\n",
      "Utterance: Yes, as long as the hotel is in the expensive price range, please try booking it.\n",
      "True Labels: hotel-area, hotel-bookday, hotel-bookpeople, hotel-bookstay, hotel-pricerange, hotel-type\n",
      "Predicted Labels: hotel-area, hotel-bookday, hotel-internet, hotel-name, hotel-type, train-arriveby, train-day, train-leaveat\n",
      "\n",
      "Utterance: Thank you. That's everything I need.\n",
      "True Labels: hotel-area, hotel-bookday, hotel-bookpeople, hotel-bookstay, hotel-name, hotel-pricerange, hotel-type\n",
      "Predicted Labels: hotel-area, hotel-bookday, hotel-internet, hotel-name, hotel-type, train-arriveby, train-day, train-leaveat\n",
      "\n",
      "Utterance: So, I need a guesthouse with free parking.\n",
      "True Labels: hotel-parking, hotel-type\n",
      "Predicted Labels: hotel-area, hotel-bookday, hotel-internet, hotel-name, hotel-type, train-arriveby, train-day, train-leaveat\n",
      "\n",
      "Utterance: Yes, I would like it to be in the south and in the moderate range please.\n",
      "True Labels: hotel-area, hotel-parking, hotel-pricerange, hotel-type\n",
      "Predicted Labels: hotel-area, hotel-bookday, hotel-internet, hotel-name, hotel-type, train-arriveby, train-day, train-leaveat\n",
      "\n",
      "Utterance: Yes, that would be great. I would be happy with either of those options.\n",
      "True Labels: hotel-area, hotel-parking, hotel-pricerange, hotel-type\n",
      "Predicted Labels: hotel-area, hotel-bookday, hotel-internet, hotel-name, hotel-type, train-arriveby, train-day, train-leaveat\n",
      "\n",
      "Utterance: No thank you. Could I get the postcode please?\n",
      "True Labels: hotel-area, hotel-parking, hotel-pricerange, hotel-type\n",
      "Predicted Labels: hotel-area, hotel-bookday, hotel-internet, hotel-name, hotel-type, train-arriveby, train-day, train-leaveat\n",
      "\n",
      "Utterance: That is all for now, thanks .\n",
      "True Labels: hotel-area, hotel-parking, hotel-pricerange, hotel-type\n",
      "Predicted Labels: hotel-area, hotel-bookday, hotel-internet, hotel-name, hotel-type, train-arriveby, train-day, train-leaveat\n",
      "\n",
      "Utterance: Can you help me find a 4 star hotel to stay at that has free wifi? Thanks.\n",
      "True Labels: hotel-internet, hotel-type\n",
      "Predicted Labels: hotel-area, hotel-bookday, hotel-internet, hotel-name, hotel-type, train-arriveby, train-day, train-leaveat\n",
      "\n",
      "Utterance: That doesn't matter as long as I'm in the east part of town.\n",
      "True Labels: hotel-area, hotel-internet, hotel-type\n",
      "Predicted Labels: hotel-area, hotel-bookday, hotel-internet, hotel-name, hotel-type, train-arriveby, train-day, train-leaveat\n",
      "\n",
      "Utterance: Can you please check again? Hopefully, there was just an error in inputting the information into the search system. Thanks\n",
      "True Labels: hotel-area, hotel-internet, hotel-type\n",
      "Predicted Labels: hotel-area, hotel-bookday, hotel-internet, hotel-name, hotel-type, train-arriveby, train-day, train-leaveat\n",
      "\n",
      "Utterance: Can you check for a guesthouse with those requirements mentioned above?\n",
      "True Labels: hotel-area, hotel-internet, hotel-type\n",
      "Predicted Labels: hotel-area, hotel-bookday, hotel-internet, hotel-name, hotel-type, train-arriveby, train-day, train-leaveat\n",
      "\n",
      "Utterance: I'm interested in rooms for the night where you can get free wifi.\n",
      "True Labels: hotel-internet\n",
      "Predicted Labels: hotel-area, hotel-bookday, hotel-internet, hotel-name, hotel-type, train-arriveby, train-day, train-leaveat\n",
      "\n",
      "Utterance: I'm looking for something in a moderate price range, but it must have at least a 4 star rating.\n",
      "True Labels: hotel-internet, hotel-pricerange\n",
      "Predicted Labels: hotel-area, hotel-bookday, hotel-internet, hotel-name, hotel-type, train-arriveby, train-day, train-leaveat\n",
      "\n",
      "Utterance: I don't have a preference for the area.\n",
      "True Labels: hotel-area, hotel-internet, hotel-pricerange\n",
      "Predicted Labels: hotel-area, hotel-bookday, hotel-internet, hotel-name, hotel-type, train-arriveby, train-day, train-leaveat\n",
      "\n",
      "Utterance: that will be nice. get me the reference numbers\n",
      "True Labels: hotel-area, hotel-internet, hotel-name, hotel-pricerange\n",
      "Predicted Labels: hotel-area, hotel-bookday, hotel-internet, hotel-name, hotel-type, train-arriveby, train-day, train-leaveat\n",
      "\n",
      "Utterance: Please book for Sunday for 3 nights and 6 people.\n",
      "True Labels: hotel-area, hotel-bookday, hotel-bookpeople, hotel-bookstay, hotel-internet, hotel-name, hotel-pricerange\n",
      "Predicted Labels: hotel-area, hotel-bookday, hotel-internet, hotel-name, hotel-type, train-arriveby, train-day, train-leaveat\n",
      "\n",
      "Utterance: No, I need it for those days. Can you try different hotel?\n",
      "True Labels: hotel-area, hotel-bookday, hotel-bookpeople, hotel-bookstay, hotel-internet, hotel-name, hotel-pricerange\n",
      "Predicted Labels: hotel-area, hotel-bookday, hotel-internet, hotel-name, hotel-type, train-arriveby, train-day, train-leaveat\n",
      "\n",
      "Utterance: Sounds good. Can you try and book that one please.\n",
      "True Labels: hotel-area, hotel-bookday, hotel-bookpeople, hotel-bookstay, hotel-internet, hotel-name, hotel-pricerange\n",
      "Predicted Labels: hotel-area, hotel-bookday, hotel-internet, hotel-name, hotel-type, train-arriveby, train-day, train-leaveat\n",
      "\n",
      "Utterance: Can we try for just 2 nights then?\n",
      "True Labels: hotel-area, hotel-bookday, hotel-bookpeople, hotel-bookstay, hotel-internet, hotel-name, hotel-pricerange\n",
      "Predicted Labels: hotel-area, hotel-bookday, hotel-internet, hotel-name, hotel-type, train-arriveby, train-day, train-leaveat\n",
      "\n",
      "Utterance: nope, that's all I need thank you!\n",
      "True Labels: hotel-area, hotel-bookday, hotel-bookpeople, hotel-bookstay, hotel-internet, hotel-name, hotel-pricerange\n",
      "Predicted Labels: hotel-area, hotel-bookday, hotel-internet, hotel-name, hotel-type, train-arriveby, train-day, train-leaveat\n",
      "\n",
      "Utterance: I'd prefer a hotel rather than a guesthouse.\n",
      "True Labels: hotel-type\n",
      "Predicted Labels: hotel-area, hotel-bookday, hotel-internet, hotel-name, hotel-type, train-arriveby, train-day, train-leaveat\n",
      "\n",
      "Utterance: Could you give me more information the the Lensfield?\n",
      "True Labels: hotel-name, hotel-type\n",
      "Predicted Labels: hotel-area, hotel-bookday, hotel-internet, hotel-name, hotel-type, train-arriveby, train-day, train-leaveat\n",
      "\n",
      "Utterance: Yes please, book it for Saturday for 3 people for 3 nights.\n",
      "True Labels: hotel-bookday, hotel-bookpeople, hotel-bookstay, hotel-name, hotel-type\n",
      "Predicted Labels: hotel-area, hotel-bookday, hotel-internet, hotel-name, hotel-type, train-arriveby, train-day, train-leaveat\n",
      "\n",
      "Utterance: How about 2 nights? Would that work?\n",
      "True Labels: hotel-bookday, hotel-bookpeople, hotel-bookstay, hotel-name, hotel-type\n",
      "Predicted Labels: hotel-area, hotel-bookday, hotel-internet, hotel-name, hotel-type, train-arriveby, train-day, train-leaveat\n",
      "\n",
      "Utterance: Great, thank you! That is all I need today.\n",
      "True Labels: hotel-bookday, hotel-bookpeople, hotel-bookstay, hotel-name, hotel-type\n",
      "Predicted Labels: hotel-area, hotel-bookday, hotel-internet, hotel-name, hotel-type, train-arriveby, train-day, train-leaveat\n",
      "\n",
      "Utterance: I am looking for a moderate price placed to say in the North side of the city please.\n",
      "True Labels: hotel-area, hotel-pricerange\n",
      "Predicted Labels: hotel-area, hotel-bookday, hotel-internet, hotel-name, hotel-type, train-arriveby, train-day, train-leaveat\n",
      "\n",
      "Utterance: As long as there is available parking I'd like to book my reservation there please.\n",
      "True Labels: hotel-area, hotel-name, hotel-parking, hotel-pricerange\n",
      "Predicted Labels: hotel-area, hotel-bookday, hotel-internet, hotel-name, hotel-type, train-arriveby, train-day, train-leaveat\n",
      "\n",
      "Utterance: Can I get it starting Monday for 3 nights with 6 people please\n",
      "True Labels: hotel-area, hotel-bookday, hotel-bookpeople, hotel-bookstay, hotel-name, hotel-parking, hotel-pricerange\n",
      "Predicted Labels: hotel-area, hotel-bookday, hotel-internet, hotel-name, hotel-type, train-arriveby, train-day, train-leaveat\n",
      "\n",
      "Utterance: Sure. Check only for hotels which include free parking also.\n",
      "True Labels: hotel-parking, hotel-type\n",
      "Predicted Labels: hotel-area, hotel-bookday, hotel-internet, hotel-name, hotel-type, train-arriveby, train-day, train-leaveat\n",
      "\n",
      "Utterance: Yes, please try 5-star hotels with free parking.\n",
      "True Labels: hotel-parking, hotel-type\n",
      "Predicted Labels: hotel-area, hotel-bookday, hotel-internet, hotel-name, hotel-type, train-arriveby, train-day, train-leaveat\n",
      "\n",
      "Utterance: try out 1 night then\n",
      "True Labels: hotel-bookstay, hotel-parking, hotel-type\n",
      "Predicted Labels: hotel-area, hotel-bookday, hotel-internet, hotel-name, hotel-type, train-arriveby, train-day, train-leaveat\n",
      "\n",
      "Utterance: I want to stay at a 3 star hotel with free parking.\n",
      "True Labels: hotel-bookstay, hotel-parking, hotel-type\n",
      "Predicted Labels: hotel-area, hotel-bookday, hotel-internet, hotel-name, hotel-type, train-arriveby, train-day, train-leaveat\n",
      "\n",
      "Utterance: The centre will be fine. Thank you.\n",
      "True Labels: hotel-area, hotel-bookstay, hotel-parking, hotel-type\n",
      "Predicted Labels: hotel-area, hotel-bookday, hotel-internet, hotel-name, hotel-type, train-arriveby, train-day, train-leaveat\n",
      "\n",
      "Utterance: Ok, could you book it for 8 people starting Wednesday for 2 nights please.\n",
      "True Labels: hotel-area, hotel-bookday, hotel-bookpeople, hotel-bookstay, hotel-name, hotel-parking, hotel-type\n",
      "Predicted Labels: hotel-area, hotel-bookday, hotel-internet, hotel-name, hotel-type, train-arriveby, train-day, train-leaveat\n",
      "\n",
      "Utterance: Yes, could you try for one night?\n",
      "True Labels: hotel-area, hotel-bookday, hotel-bookpeople, hotel-bookstay, hotel-name, hotel-parking, hotel-type\n",
      "Predicted Labels: hotel-area, hotel-bookday, hotel-internet, hotel-name, hotel-type, train-arriveby, train-day, train-leaveat\n",
      "\n",
      "Utterance: That's all I need. Thanks ever so much!\n",
      "True Labels: hotel-area, hotel-bookday, hotel-bookpeople, hotel-bookstay, hotel-name, hotel-parking, hotel-type\n",
      "Predicted Labels: hotel-area, hotel-bookday, hotel-internet, hotel-name, hotel-type, train-arriveby, train-day, train-leaveat\n",
      "\n",
      "Utterance: I am looking for a place to stay. The hotel should have a star of 4 and should be in the type of guesthouse\n",
      "True Labels: hotel-type\n",
      "Predicted Labels: hotel-area, hotel-bookday, hotel-internet, hotel-name, hotel-type, train-arriveby, train-day, train-leaveat\n",
      "\n",
      "Utterance: Any part of town as long as it includes free parking.\n",
      "True Labels: hotel-parking, hotel-type\n",
      "Predicted Labels: hotel-area, hotel-bookday, hotel-internet, hotel-name, hotel-type, train-arriveby, train-day, train-leaveat\n",
      "\n",
      "Utterance: You read my mind. Yes, free parking.\n",
      "True Labels: hotel-parking, hotel-type\n",
      "Predicted Labels: hotel-area, hotel-bookday, hotel-internet, hotel-name, hotel-type, train-arriveby, train-day, train-leaveat\n",
      "\n",
      "Utterance: No, I'm not picky.\n",
      "True Labels: hotel-parking, hotel-type\n",
      "Predicted Labels: hotel-area, hotel-bookday, hotel-internet, hotel-name, hotel-type, train-arriveby, train-day, train-leaveat\n",
      "\n",
      "Utterance: Yes, if Acorn House has free parking, please book my reservation.\n",
      "True Labels: hotel-name, hotel-parking, hotel-type\n",
      "Predicted Labels: hotel-area, hotel-bookday, hotel-internet, hotel-name, hotel-type, train-arriveby, train-day, train-leaveat\n",
      "\n",
      "Utterance: I'm sorry I don't need a reservation. Could you just confirm the price range, postcode and what area that is in?\n",
      "True Labels: hotel-name, hotel-parking, hotel-type\n",
      "Predicted Labels: hotel-area, hotel-bookday, hotel-internet, hotel-name, hotel-type, train-arriveby, train-day, train-leaveat\n",
      "\n",
      "Utterance: Thanks so much. I won't be needing anything further today.\n",
      "True Labels: hotel-name, hotel-parking, hotel-type\n",
      "Predicted Labels: hotel-area, hotel-bookday, hotel-internet, hotel-name, hotel-type, train-arriveby, train-day, train-leaveat\n",
      "\n",
      "Utterance: Can you help me find a place to stay? I'm looking for somewhere that include free wifi and free parking.\n",
      "True Labels: hotel-internet, hotel-parking\n",
      "Predicted Labels: hotel-area, hotel-bookday, hotel-internet, hotel-name, hotel-type, train-arriveby, train-day, train-leaveat\n",
      "\n",
      "Utterance: Area doesn't matter, but I would like a cheap guesthouse, if possible.\n",
      "True Labels: hotel-internet, hotel-parking, hotel-pricerange, hotel-type\n",
      "Predicted Labels: hotel-area, hotel-bookday, hotel-internet, hotel-name, hotel-type, train-arriveby, train-day, train-leaveat\n",
      "\n",
      "Utterance: Could I get the hotel's phone number and postcode please?\n",
      "True Labels: hotel-internet, hotel-parking, hotel-pricerange, hotel-type\n",
      "Predicted Labels: hotel-area, hotel-bookday, hotel-internet, hotel-name, hotel-type, train-arriveby, train-day, train-leaveat\n",
      "\n",
      "Utterance: No, you helped me out. Thanks. Goodbye.\n",
      "True Labels: hotel-internet, hotel-parking, hotel-pricerange, hotel-type\n",
      "Predicted Labels: hotel-area, hotel-bookday, hotel-internet, hotel-name, hotel-type, train-arriveby, train-day, train-leaveat\n",
      "\n",
      "Utterance: I'm looking for a guesthouse to stay in that includes free wi-fi.\n",
      "True Labels: hotel-internet, hotel-type\n",
      "Predicted Labels: hotel-area, hotel-bookday, hotel-internet, hotel-name, hotel-type, train-arriveby, train-day, train-leaveat\n",
      "\n",
      "Utterance: I need a cheap one that has free wifi.\n",
      "True Labels: hotel-internet, hotel-type\n",
      "Predicted Labels: hotel-area, hotel-bookday, hotel-internet, hotel-name, hotel-type, train-arriveby, train-day, train-leaveat\n",
      "\n",
      "Utterance: Well I also would like free parking if that helps.\n",
      "True Labels: hotel-internet, hotel-parking, hotel-pricerange, hotel-type\n",
      "Predicted Labels: hotel-area, hotel-bookday, hotel-internet, hotel-name, hotel-type, train-arriveby, train-day, train-leaveat\n",
      "\n",
      "Utterance: Yes that one would be great. Can you book for saturday?\n",
      "True Labels: hotel-internet, hotel-parking, hotel-pricerange, hotel-type\n",
      "Predicted Labels: hotel-area, hotel-bookday, hotel-internet, hotel-name, hotel-type, train-arriveby, train-day, train-leaveat\n",
      "\n",
      "Utterance: I need to book 8 people for 3 nights starting on Saturday.\n",
      "True Labels: hotel-bookday, hotel-bookpeople, hotel-bookstay, hotel-internet, hotel-parking, hotel-pricerange, hotel-type\n",
      "Predicted Labels: hotel-area, hotel-bookday, hotel-internet, hotel-name, hotel-type, train-arriveby, train-day, train-leaveat\n",
      "\n",
      "Utterance: Yes but one in the same price range.\n",
      "True Labels: hotel-bookday, hotel-bookpeople, hotel-bookstay, hotel-internet, hotel-parking, hotel-pricerange, hotel-type\n",
      "Predicted Labels: hotel-area, hotel-bookday, hotel-internet, hotel-name, hotel-type, train-arriveby, train-day, train-leaveat\n",
      "\n",
      "Utterance: No. That is all I need. Thank you so much!\n",
      "True Labels: hotel-bookday, hotel-bookpeople, hotel-bookstay, hotel-internet, hotel-name, hotel-parking, hotel-pricerange, hotel-type\n",
      "Predicted Labels: hotel-area, hotel-bookday, hotel-internet, hotel-name, hotel-type, train-arriveby, train-day, train-leaveat\n",
      "\n",
      "Utterance: The hotel is the Lovell Lodge, I need to make a reservation if you can find it.\n",
      "True Labels: hotel-name\n",
      "Predicted Labels: hotel-area, hotel-bookday, hotel-internet, hotel-name, hotel-type, train-arriveby, train-day, train-leaveat\n",
      "\n",
      "Utterance: Yes, I'd like to book 5 people for 5 nights starting Sunday.\n",
      "True Labels: hotel-bookday, hotel-bookpeople, hotel-bookstay, hotel-name\n",
      "Predicted Labels: hotel-area, hotel-bookday, hotel-internet, hotel-name, hotel-type, train-arriveby, train-day, train-leaveat\n",
      "\n",
      "Utterance: Thank you! That's all I needed.\n",
      "True Labels: hotel-bookday, hotel-bookpeople, hotel-bookstay, hotel-name\n",
      "Predicted Labels: hotel-area, hotel-bookday, hotel-internet, hotel-name, hotel-type, train-arriveby, train-day, train-leaveat\n",
      "\n",
      "Utterance: I have heard a lot of good things about the Arbury Lodge Guesthouse. Would you be able to provide any information on them?\n",
      "True Labels: hotel-name, hotel-type\n",
      "Predicted Labels: hotel-area, hotel-bookday, hotel-internet, hotel-name, hotel-type, train-arriveby, train-day, train-leaveat\n",
      "\n",
      "Utterance: No thank you. How many stars does it have? What is the postcode?\n",
      "True Labels: hotel-name, hotel-type\n",
      "Predicted Labels: hotel-area, hotel-bookday, hotel-internet, hotel-name, hotel-type, train-arriveby, train-day, train-leaveat\n",
      "\n",
      "Utterance: Okay thank you that is all I need to know.\n",
      "True Labels: hotel-name, hotel-type\n",
      "Predicted Labels: hotel-area, hotel-bookday, hotel-internet, hotel-name, hotel-type, train-arriveby, train-day, train-leaveat\n",
      "\n",
      "Utterance: Hi. Have you heard of a hotel called Warkworth House?\n",
      "True Labels: hotel-name\n",
      "Predicted Labels: hotel-area, hotel-bookday, hotel-internet, hotel-name, hotel-type, train-arriveby, train-day, train-leaveat\n",
      "\n",
      "Utterance: Can I get the price range on it?\n",
      "True Labels: hotel-name\n",
      "Predicted Labels: hotel-area, hotel-bookday, hotel-internet, hotel-name, hotel-type, train-arriveby, train-day, train-leaveat\n",
      "\n",
      "Utterance: No, that's all the information I'll need for now. Thanks so much!\n",
      "True Labels: hotel-name\n",
      "Predicted Labels: hotel-area, hotel-bookday, hotel-internet, hotel-name, hotel-type, train-arriveby, train-day, train-leaveat\n",
      "\n",
      "Utterance: No, but thank you!\n",
      "True Labels: hotel-name\n",
      "Predicted Labels: hotel-area, hotel-bookday, hotel-internet, hotel-name, hotel-type, train-arriveby, train-day, train-leaveat\n",
      "\n",
      "Utterance: Could I ask for your help in finding a guesthouse to put my friends up in nearby?\n",
      "True Labels: hotel-type\n",
      "Predicted Labels: hotel-area, hotel-bookday, hotel-internet, hotel-name, hotel-type, train-arriveby, train-day, train-leaveat\n",
      "\n",
      "Utterance: Some place moderately priced, with free wifi.\n",
      "True Labels: hotel-internet, hotel-pricerange, hotel-type\n",
      "Predicted Labels: hotel-area, hotel-bookday, hotel-internet, hotel-name, hotel-type, train-arriveby, train-day, train-leaveat\n",
      "\n",
      "Utterance: I don't have a preference. Which one looks best to you?\n",
      "True Labels: hotel-area, hotel-internet, hotel-pricerange, hotel-type\n",
      "Predicted Labels: hotel-area, hotel-bookday, hotel-internet, hotel-name, hotel-type, train-arriveby, train-day, train-leaveat\n",
      "\n",
      "Utterance: No thank you, that is all I needed. Have a great day!\n",
      "True Labels: hotel-area, hotel-internet, hotel-pricerange, hotel-type\n",
      "Predicted Labels: hotel-area, hotel-bookday, hotel-internet, hotel-name, hotel-type, train-arriveby, train-day, train-leaveat\n",
      "\n",
      "Utterance: I will be sure to do that.\n",
      "True Labels: hotel-area, hotel-internet, hotel-pricerange, hotel-type\n",
      "Predicted Labels: hotel-area, hotel-bookday, hotel-internet, hotel-name, hotel-type, train-arriveby, train-day, train-leaveat\n",
      "\n",
      "Utterance: I am visiting in the northern area of town. I need to find me a place to stay for the night. Can you help?\n",
      "True Labels: hotel-area, hotel-type\n",
      "Predicted Labels: hotel-area, hotel-bookday, hotel-internet, hotel-name, hotel-type, train-arriveby, train-day, train-leaveat\n",
      "\n",
      "Utterance: I'd like it to have free parking and free wifi.\n",
      "True Labels: hotel-area, hotel-internet, hotel-parking\n",
      "Predicted Labels: hotel-area, hotel-bookday, hotel-internet, hotel-name, hotel-type, train-arriveby, train-day, train-leaveat\n",
      "\n",
      "Utterance: Is the Arbury Lodge moderately priced? If so, I would like to book a room for 1 person for 3 nights on Saturday.\n",
      "True Labels: hotel-area, hotel-bookday, hotel-bookpeople, hotel-bookstay, hotel-internet, hotel-name, hotel-parking, hotel-pricerange\n",
      "Predicted Labels: hotel-area, hotel-bookday, hotel-internet, hotel-name, hotel-type, train-arriveby, train-day, train-leaveat\n",
      "\n",
      "Utterance: Alright, can you try for just one night?\n",
      "True Labels: hotel-area, hotel-bookday, hotel-bookpeople, hotel-bookstay, hotel-internet, hotel-name, hotel-parking, hotel-pricerange\n",
      "Predicted Labels: hotel-area, hotel-bookday, hotel-internet, hotel-name, hotel-type, train-arriveby, train-day, train-leaveat\n",
      "\n",
      "Utterance: No, that should do it. Thanks so much for your help!\n",
      "True Labels: hotel-area, hotel-bookday, hotel-bookpeople, hotel-bookstay, hotel-internet, hotel-name, hotel-parking, hotel-pricerange\n",
      "Predicted Labels: hotel-area, hotel-bookday, hotel-internet, hotel-name, hotel-type, train-arriveby, train-day, train-leaveat\n",
      "\n",
      "Utterance: Hi, I need a place to stay with free wifi and in a moderate price range.\n",
      "True Labels: hotel-internet, hotel-pricerange\n",
      "Predicted Labels: hotel-area, hotel-bookday, hotel-internet, hotel-name, hotel-type, train-arriveby, train-day, train-leaveat\n",
      "\n",
      "Utterance: I prefer the eastern part of town and something that is 4-star rated.\n",
      "True Labels: hotel-area, hotel-internet, hotel-pricerange\n",
      "Predicted Labels: hotel-area, hotel-bookday, hotel-internet, hotel-name, hotel-type, train-arriveby, train-day, train-leaveat\n",
      "\n",
      "Utterance: Yes I am looking for free parking.\n",
      "True Labels: hotel-area, hotel-internet, hotel-parking, hotel-pricerange\n",
      "Predicted Labels: hotel-area, hotel-bookday, hotel-internet, hotel-name, hotel-type, train-arriveby, train-day, train-leaveat\n",
      "\n",
      "Utterance: No thanks, I am not quite ready to make a reservation yet. Thanks for the information.\n",
      "True Labels: hotel-area, hotel-internet, hotel-parking, hotel-pricerange\n",
      "Predicted Labels: hotel-area, hotel-bookday, hotel-internet, hotel-name, hotel-type, train-arriveby, train-day, train-leaveat\n",
      "\n",
      "Utterance: No, that's all I need. I'm going to give the hotel a call. Thank you for your help!\n",
      "True Labels: hotel-area, hotel-internet, hotel-parking, hotel-pricerange\n",
      "Predicted Labels: hotel-area, hotel-bookday, hotel-internet, hotel-name, hotel-type, train-arriveby, train-day, train-leaveat\n",
      "\n",
      "Utterance: Hello! I am looking for a play stay, I would like it in the expensive range and to stay in the north\n",
      "True Labels: hotel-area, hotel-pricerange\n",
      "Predicted Labels: hotel-area, hotel-bookday, hotel-internet, hotel-name, hotel-type, train-arriveby, train-day, train-leaveat\n",
      "\n",
      "Utterance: Are you sure there is no place to stay that is expensive and in the north?\n",
      "True Labels: hotel-area, hotel-pricerange\n",
      "Predicted Labels: hotel-area, hotel-bookday, hotel-internet, hotel-name, hotel-type, train-arriveby, train-day, train-leaveat\n",
      "\n",
      "Utterance: Yes please. An expensive hotel in the north with free parking and free internet. Can you book the room for me please?\n",
      "True Labels: hotel-area, hotel-internet, hotel-parking, hotel-pricerange\n",
      "Predicted Labels: hotel-area, hotel-bookday, hotel-internet, hotel-name, hotel-type, train-arriveby, train-day, train-leaveat\n",
      "\n",
      "Utterance: A hotel, please. For 4 people and 4 nights.\n",
      "True Labels: hotel-area, hotel-internet, hotel-parking, hotel-pricerange, hotel-type\n",
      "Predicted Labels: hotel-area, hotel-bookday, hotel-internet, hotel-name, hotel-type, train-arriveby, train-day, train-leaveat\n",
      "\n",
      "Utterance: Book it please! Can you also provide a reference number? thanks!\n",
      "True Labels: hotel-area, hotel-internet, hotel-parking, hotel-pricerange, hotel-type\n",
      "Predicted Labels: hotel-area, hotel-bookday, hotel-internet, hotel-name, hotel-type, train-arriveby, train-day, train-leaveat\n",
      "\n",
      "Utterance: Please book for 4 people and 4 nights starting from tuesday.\n",
      "True Labels: hotel-area, hotel-bookday, hotel-bookpeople, hotel-bookstay, hotel-internet, hotel-name, hotel-parking, hotel-pricerange, hotel-type\n",
      "Predicted Labels: hotel-area, hotel-bookday, hotel-internet, hotel-name, hotel-type, train-arriveby, train-day, train-leaveat\n",
      "\n",
      "Utterance: Nope. Thank you so much for your help.\n",
      "True Labels: hotel-area, hotel-bookday, hotel-bookpeople, hotel-bookstay, hotel-internet, hotel-name, hotel-parking, hotel-pricerange, hotel-type\n",
      "Predicted Labels: hotel-area, hotel-bookday, hotel-internet, hotel-name, hotel-type, train-arriveby, train-day, train-leaveat\n",
      "\n",
      "Utterance: am looking for a place to to stay that has cheap price range it should be in a type of hotel\n",
      "True Labels: hotel-pricerange, hotel-type\n",
      "Predicted Labels: hotel-area, hotel-bookday, hotel-internet, hotel-name, hotel-type, train-arriveby, train-day, train-leaveat\n",
      "\n",
      "Utterance: no, i just need to make sure it's cheap. oh, and i need parking\n",
      "True Labels: hotel-parking, hotel-pricerange, hotel-type\n",
      "Predicted Labels: hotel-area, hotel-bookday, hotel-internet, hotel-name, hotel-type, train-arriveby, train-day, train-leaveat\n",
      "\n",
      "Utterance: Yes, please. 6 people 3 nights starting on tuesday.\n",
      "True Labels: hotel-bookday, hotel-bookpeople, hotel-bookstay, hotel-parking, hotel-pricerange, hotel-type\n",
      "Predicted Labels: hotel-area, hotel-bookday, hotel-internet, hotel-name, hotel-type, train-arriveby, train-day, train-leaveat\n",
      "\n",
      "Utterance: how about only 2 nights.\n",
      "True Labels: hotel-bookday, hotel-bookpeople, hotel-bookstay, hotel-parking, hotel-pricerange, hotel-type\n",
      "Predicted Labels: hotel-area, hotel-bookday, hotel-internet, hotel-name, hotel-type, train-arriveby, train-day, train-leaveat\n",
      "\n",
      "Utterance: No, that will be all. Good bye.\n",
      "True Labels: hotel-bookday, hotel-bookpeople, hotel-bookstay, hotel-parking, hotel-pricerange, hotel-type\n",
      "Predicted Labels: hotel-area, hotel-bookday, hotel-internet, hotel-name, hotel-type, train-arriveby, train-day, train-leaveat\n",
      "\n",
      "Utterance: I need a place to stay that is cheap.\n",
      "True Labels: hotel-pricerange\n",
      "Predicted Labels: hotel-area, hotel-bookday, hotel-internet, hotel-name, hotel-type, train-arriveby, train-day, train-leaveat\n",
      "\n",
      "Utterance: I actually want a 0 star location and with free parking too\n",
      "True Labels: hotel-area, hotel-parking, hotel-pricerange\n",
      "Predicted Labels: hotel-area, hotel-bookday, hotel-internet, hotel-name, hotel-type, train-arriveby, train-day, train-leaveat\n",
      "\n",
      "Utterance: I don't care what part of town it is in.\n",
      "True Labels: hotel-area, hotel-parking, hotel-pricerange\n",
      "Predicted Labels: hotel-area, hotel-bookday, hotel-internet, hotel-name, hotel-type, train-arriveby, train-day, train-leaveat\n",
      "\n",
      "Utterance: Sure. There will be 5 people for 5 nights and we will be arriving on Wednesday.\n",
      "True Labels: hotel-area, hotel-bookday, hotel-bookpeople, hotel-bookstay, hotel-name, hotel-parking, hotel-pricerange\n",
      "Predicted Labels: hotel-area, hotel-bookday, hotel-internet, hotel-name, hotel-type, train-arriveby, train-day, train-leaveat\n",
      "\n",
      "Utterance: What is the reference number?\n",
      "True Labels: hotel-area, hotel-bookday, hotel-bookpeople, hotel-bookstay, hotel-name, hotel-parking, hotel-pricerange\n",
      "Predicted Labels: hotel-area, hotel-bookday, hotel-internet, hotel-name, hotel-type, train-arriveby, train-day, train-leaveat\n",
      "\n",
      "Utterance: Nope, that's it. Thanks!\n",
      "True Labels: hotel-area, hotel-bookday, hotel-bookpeople, hotel-bookstay, hotel-name, hotel-parking, hotel-pricerange\n",
      "Predicted Labels: hotel-area, hotel-bookday, hotel-internet, hotel-name, hotel-type, train-arriveby, train-day, train-leaveat\n",
      "\n",
      "Utterance: I need a five starts hotel close to a mall and main restaurants. The hotel should include free wifi in the room.\n",
      "True Labels: hotel-internet\n",
      "Predicted Labels: hotel-area, hotel-bookday, hotel-internet, hotel-name, hotel-type, train-arriveby, train-day, train-leaveat\n",
      "\n",
      "Utterance: How about something with 4 stars and something expensive.\n",
      "True Labels: hotel-internet, hotel-pricerange\n",
      "Predicted Labels: hotel-area, hotel-bookday, hotel-internet, hotel-name, hotel-type, train-arriveby, train-day, train-leaveat\n",
      "\n",
      "Utterance: Maybe. Is either one a 4 star hotel? If so, I'd like to book a room for 4 nights.\n",
      "True Labels: hotel-bookstay, hotel-internet, hotel-pricerange\n",
      "Predicted Labels: hotel-area, hotel-bookday, hotel-internet, hotel-name, hotel-type, train-arriveby, train-day, train-leaveat\n",
      "\n",
      "Utterance: I need a reservation for 4 nights starting Saturday.\n",
      "True Labels: hotel-bookday, hotel-bookstay, hotel-internet, hotel-pricerange\n",
      "Predicted Labels: hotel-area, hotel-bookday, hotel-internet, hotel-name, hotel-type, train-arriveby, train-day, train-leaveat\n",
      "\n",
      "Utterance: 3 people. Can I get the reference number please?\n",
      "True Labels: hotel-bookday, hotel-bookpeople, hotel-bookstay, hotel-internet, hotel-pricerange\n",
      "Predicted Labels: hotel-area, hotel-bookday, hotel-internet, hotel-name, hotel-type, train-arriveby, train-day, train-leaveat\n",
      "\n",
      "Utterance: Will you try Sunday arrival?\n",
      "True Labels: hotel-bookday, hotel-bookpeople, hotel-bookstay, hotel-internet, hotel-pricerange\n",
      "Predicted Labels: hotel-area, hotel-bookday, hotel-internet, hotel-name, hotel-type, train-arriveby, train-day, train-leaveat\n",
      "\n",
      "Utterance: Yes, can you try it for 3 nights, please.\n",
      "True Labels: hotel-bookday, hotel-bookpeople, hotel-bookstay, hotel-internet, hotel-pricerange\n",
      "Predicted Labels: hotel-area, hotel-bookday, hotel-internet, hotel-name, hotel-type, train-arriveby, train-day, train-leaveat\n",
      "\n",
      "Utterance: I may have been confusing you. Could you try and book a 4 star, expensive hotel for 3 nights, starting on Saturday? 3 people. Wifi please.\n",
      "True Labels: hotel-bookday, hotel-bookpeople, hotel-bookstay, hotel-internet, hotel-name, hotel-pricerange\n",
      "Predicted Labels: hotel-area, hotel-bookday, hotel-internet, hotel-name, hotel-type, train-arriveby, train-day, train-leaveat\n",
      "\n",
      "Utterance: Whew, thanks, sorry for all of the confusion. I think that covers everything. thanks so much for the help.\n",
      "True Labels: hotel-bookday, hotel-bookpeople, hotel-bookstay, hotel-internet, hotel-name, hotel-pricerange\n",
      "Predicted Labels: hotel-area, hotel-bookday, hotel-internet, hotel-name, hotel-type, train-arriveby, train-day, train-leaveat\n",
      "\n",
      "Utterance: I am looking for a place to stay that is a guesthouse located in the center of town.\n",
      "True Labels: hotel-area, hotel-type\n",
      "Predicted Labels: hotel-area, hotel-bookday, hotel-internet, hotel-name, hotel-type, train-arriveby, train-day, train-leaveat\n",
      "\n",
      "Utterance: The hotel should have a star of 0 and should include free parking.\n",
      "True Labels: hotel-area, hotel-parking, hotel-type\n",
      "Predicted Labels: hotel-area, hotel-bookday, hotel-internet, hotel-name, hotel-type, train-arriveby, train-day, train-leaveat\n",
      "\n",
      "Utterance: Yes, four people for four nights, starting Sunday, please.\n",
      "True Labels: hotel-area, hotel-bookday, hotel-bookpeople, hotel-bookstay, hotel-name, hotel-parking, hotel-type\n",
      "Predicted Labels: hotel-area, hotel-bookday, hotel-internet, hotel-name, hotel-type, train-arriveby, train-day, train-leaveat\n",
      "\n",
      "Utterance: Can you try another hotel in the same price range?\n",
      "True Labels: hotel-bookday, hotel-bookpeople, hotel-bookstay, hotel-type\n",
      "Predicted Labels: hotel-area, hotel-bookday, hotel-internet, hotel-name, hotel-type, train-arriveby, train-day, train-leaveat\n",
      "\n",
      "Utterance: Yes please do try that.\n",
      "True Labels: hotel-bookday, hotel-bookpeople, hotel-bookstay, hotel-name, hotel-type\n",
      "Predicted Labels: hotel-area, hotel-bookday, hotel-internet, hotel-name, hotel-type, train-arriveby, train-day, train-leaveat\n",
      "\n",
      "Utterance: Thank you. Can you give me the address and the phone number?\n",
      "True Labels: hotel-bookday, hotel-bookpeople, hotel-bookstay, hotel-name, hotel-type\n",
      "Predicted Labels: hotel-area, hotel-bookday, hotel-internet, hotel-name, hotel-type, train-arriveby, train-day, train-leaveat\n",
      "\n",
      "Utterance: No. I think that is all I need. Thanks for your help!\n",
      "True Labels: hotel-bookday, hotel-bookpeople, hotel-bookstay, hotel-name, hotel-type\n",
      "Predicted Labels: hotel-area, hotel-bookday, hotel-internet, hotel-name, hotel-type, train-arriveby, train-day, train-leaveat\n",
      "\n",
      "Utterance: Thank you.I am looking for a guest house .I am also looking for one that is rather cheap.\n",
      "True Labels: hotel-pricerange, hotel-type\n",
      "Predicted Labels: hotel-area, hotel-bookday, hotel-internet, hotel-name, hotel-type, train-arriveby, train-day, train-leaveat\n",
      "\n",
      "Utterance: The hotel doesn't need to have free parking and should have a star of 3.\n",
      "True Labels: hotel-parking, hotel-pricerange, hotel-type\n",
      "Predicted Labels: hotel-area, hotel-bookday, hotel-internet, hotel-name, hotel-type, train-arriveby, train-day, train-leaveat\n",
      "\n",
      "Utterance: advic me on any other option\n",
      "True Labels: hotel-parking, hotel-pricerange, hotel-type\n",
      "Predicted Labels: hotel-area, hotel-bookday, hotel-internet, hotel-name, hotel-type, train-arriveby, train-day, train-leaveat\n",
      "\n",
      "Utterance: No, how about a moderate-price guesthouse, please. Try that.\n",
      "True Labels: hotel-parking, hotel-pricerange, hotel-type\n",
      "Predicted Labels: hotel-area, hotel-bookday, hotel-internet, hotel-name, hotel-type, train-arriveby, train-day, train-leaveat\n",
      "\n",
      "Utterance: Can I just get the phone number instead please?\n",
      "True Labels: hotel-parking, hotel-pricerange, hotel-type\n",
      "Predicted Labels: hotel-area, hotel-bookday, hotel-internet, hotel-name, hotel-type, train-arriveby, train-day, train-leaveat\n",
      "\n",
      "Utterance: No, that is all. good bye.\n",
      "True Labels: hotel-parking, hotel-pricerange, hotel-type\n",
      "Predicted Labels: hotel-area, hotel-bookday, hotel-internet, hotel-name, hotel-type, train-arriveby, train-day, train-leaveat\n",
      "\n",
      "Utterance: I need a place to stay in the east that has free wifi.\n",
      "True Labels: hotel-area, hotel-internet\n",
      "Predicted Labels: hotel-area, hotel-bookday, hotel-internet, hotel-name, hotel-type, train-arriveby, train-day, train-leaveat\n",
      "\n",
      "Utterance: A 4 star guesthouse would be ideal, thank you.\n",
      "True Labels: hotel-area, hotel-internet, hotel-type\n",
      "Predicted Labels: hotel-area, hotel-bookday, hotel-internet, hotel-name, hotel-type, train-arriveby, train-day, train-leaveat\n",
      "\n",
      "Utterance: Either would be fine as long as it can accommodate 6 people for 2 nights starting this Sunday.\n",
      "True Labels: hotel-area, hotel-internet, hotel-pricerange, hotel-type\n",
      "Predicted Labels: hotel-area, hotel-bookday, hotel-internet, hotel-name, hotel-type, train-arriveby, train-day, train-leaveat\n",
      "\n",
      "Utterance: Yes please and I need the address,thank you.\n",
      "True Labels: hotel-area, hotel-bookday, hotel-bookpeople, hotel-bookstay, hotel-internet, hotel-name, hotel-pricerange, hotel-type\n",
      "Predicted Labels: hotel-area, hotel-bookday, hotel-internet, hotel-name, hotel-type, train-arriveby, train-day, train-leaveat\n",
      "\n",
      "Utterance: Could you try a different hotel in the same pricerange please?\n",
      "True Labels: hotel-area, hotel-bookday, hotel-bookpeople, hotel-bookstay, hotel-internet, hotel-pricerange, hotel-type\n",
      "Predicted Labels: hotel-area, hotel-bookday, hotel-internet, hotel-name, hotel-type, train-arriveby, train-day, train-leaveat\n",
      "\n",
      "Utterance: Thank you so much for all your help. That is all I need.\n",
      "True Labels: hotel-area, hotel-bookday, hotel-bookpeople, hotel-bookstay, hotel-internet, hotel-name, hotel-pricerange, hotel-type\n",
      "Predicted Labels: hotel-area, hotel-bookday, hotel-internet, hotel-name, hotel-type, train-arriveby, train-day, train-leaveat\n",
      "\n",
      "Utterance: I need help finding a guesthouse with a star rating of 3.\n",
      "True Labels: hotel-type\n",
      "Predicted Labels: hotel-area, hotel-bookday, hotel-internet, hotel-name, hotel-type, train-arriveby, train-day, train-leaveat\n",
      "\n",
      "Utterance: I do not have a preference for an area but I would like it to be in the moderate price range and free wifi.\n",
      "True Labels: hotel-internet, hotel-type\n",
      "Predicted Labels: hotel-area, hotel-bookday, hotel-internet, hotel-name, hotel-type, train-arriveby, train-day, train-leaveat\n",
      "\n",
      "Utterance: I need a hotel not a gueshouse sorry. On tuesday for 2 people for 5 nights please. I am sorry.\n",
      "True Labels: hotel-internet, hotel-type\n",
      "Predicted Labels: hotel-area, hotel-bookday, hotel-internet, hotel-name, hotel-type, train-arriveby, train-day, train-leaveat\n",
      "\n",
      "Utterance: Any area would be fine.\n",
      "True Labels: hotel-internet, hotel-type\n",
      "Predicted Labels: hotel-area, hotel-bookday, hotel-internet, hotel-name, hotel-type, train-arriveby, train-day, train-leaveat\n",
      "\n",
      "Utterance: Yes please book that and provide me with the reference number.\n",
      "True Labels: hotel-bookday, hotel-bookpeople, hotel-bookstay, hotel-internet, hotel-name, hotel-type\n",
      "Predicted Labels: hotel-area, hotel-bookday, hotel-internet, hotel-name, hotel-type, train-arriveby, train-day, train-leaveat\n",
      "\n",
      "Utterance: Yes please as long as it's in the same price range.\n",
      "True Labels: hotel-bookday, hotel-bookpeople, hotel-bookstay, hotel-internet, hotel-name, hotel-type\n",
      "Predicted Labels: hotel-area, hotel-bookday, hotel-internet, hotel-name, hotel-type, train-arriveby, train-day, train-leaveat\n",
      "\n",
      "Utterance: Thanks, that's all I need. Have a nice day.\n",
      "True Labels: hotel-bookday, hotel-bookpeople, hotel-bookstay, hotel-internet, hotel-name, hotel-type\n",
      "Predicted Labels: hotel-area, hotel-bookday, hotel-internet, hotel-name, hotel-type, train-arriveby, train-day, train-leaveat\n",
      "\n",
      "Utterance: Konnichiwa, I am coming to town and will be staying a few days. I need a place in town centre that offers free parking. Can you help me?\n",
      "True Labels: hotel-area, hotel-parking\n",
      "Predicted Labels: hotel-area, hotel-bookday, hotel-internet, hotel-name, hotel-type, train-arriveby, train-day, train-leaveat\n",
      "\n",
      "Utterance: I will take one of the cheap guesthouses please?\n",
      "True Labels: hotel-area, hotel-parking, hotel-pricerange, hotel-type\n",
      "Predicted Labels: hotel-area, hotel-bookday, hotel-internet, hotel-name, hotel-type, train-arriveby, train-day, train-leaveat\n",
      "\n",
      "Utterance: That sounds great. I'd like to book it for 2 people. We'll be arriving Tuesday and we'd like to stay for 5 nights please.\n",
      "True Labels: hotel-area, hotel-bookday, hotel-bookpeople, hotel-bookstay, hotel-name, hotel-parking, hotel-pricerange, hotel-type\n",
      "Predicted Labels: hotel-area, hotel-bookday, hotel-internet, hotel-name, hotel-type, train-arriveby, train-day, train-leaveat\n",
      "\n",
      "Utterance: No, that's all. Thank you.\n",
      "True Labels: hotel-area, hotel-bookday, hotel-bookpeople, hotel-bookstay, hotel-name, hotel-parking, hotel-pricerange, hotel-type\n",
      "Predicted Labels: hotel-area, hotel-bookday, hotel-internet, hotel-name, hotel-type, train-arriveby, train-day, train-leaveat\n",
      "\n",
      "Utterance: Hi, I am looking for a cheap place to stay that has free wifi. Can you find anything like that?\n",
      "True Labels: hotel-internet, hotel-pricerange\n",
      "Predicted Labels: hotel-area, hotel-bookday, hotel-internet, hotel-name, hotel-type, train-arriveby, train-day, train-leaveat\n",
      "\n",
      "Utterance: I don't care about the area but I need one with 3 stars, please.\n",
      "True Labels: hotel-internet, hotel-pricerange\n",
      "Predicted Labels: hotel-area, hotel-bookday, hotel-internet, hotel-name, hotel-type, train-arriveby, train-day, train-leaveat\n",
      "\n",
      "Utterance: Can you see if there are any in the moderate range?\n",
      "True Labels: hotel-internet, hotel-pricerange\n",
      "Predicted Labels: hotel-area, hotel-bookday, hotel-internet, hotel-name, hotel-type, train-arriveby, train-day, train-leaveat\n",
      "\n",
      "Utterance: Great! Which of those three would you recommend?\n",
      "True Labels: hotel-internet, hotel-pricerange\n",
      "Predicted Labels: hotel-area, hotel-bookday, hotel-internet, hotel-name, hotel-type, train-arriveby, train-day, train-leaveat\n",
      "\n",
      "Utterance: Please just pick the best one and book it for Thursday.\n",
      "True Labels: hotel-internet, hotel-pricerange\n",
      "Predicted Labels: hotel-area, hotel-bookday, hotel-internet, hotel-name, hotel-type, train-arriveby, train-day, train-leaveat\n",
      "\n",
      "Utterance: Sure, 2 people, checking in on Thursday for 3 nights please.\n",
      "True Labels: hotel-bookday, hotel-bookpeople, hotel-bookstay, hotel-internet, hotel-name, hotel-pricerange\n",
      "Predicted Labels: hotel-area, hotel-bookday, hotel-internet, hotel-name, hotel-type, train-arriveby, train-day, train-leaveat\n",
      "\n",
      "Utterance: No that is all, thanks.\n",
      "True Labels: hotel-bookday, hotel-bookpeople, hotel-bookstay, hotel-internet, hotel-name, hotel-pricerange\n",
      "Predicted Labels: hotel-area, hotel-bookday, hotel-internet, hotel-name, hotel-type, train-arriveby, train-day, train-leaveat\n",
      "\n",
      "Utterance: You have a fantastic day as well. Good bye!\n",
      "True Labels: hotel-bookday, hotel-bookpeople, hotel-bookstay, hotel-internet, hotel-name, hotel-pricerange\n",
      "Predicted Labels: hotel-area, hotel-bookday, hotel-internet, hotel-name, hotel-type, train-arriveby, train-day, train-leaveat\n",
      "\n",
      "Utterance: Hi, I am looking for a guesthouse that includes free parking. Do you have anything available?\n",
      "True Labels: hotel-parking, hotel-type\n",
      "Predicted Labels: hotel-area, hotel-bookday, hotel-internet, hotel-name, hotel-type, train-arriveby, train-day, train-leaveat\n",
      "\n",
      "Utterance: That sounds great!\n",
      "True Labels: hotel-name, hotel-parking, hotel-type\n",
      "Predicted Labels: hotel-area, hotel-bookday, hotel-internet, hotel-name, hotel-type, train-arriveby, train-day, train-leaveat\n",
      "\n",
      "Utterance: I will need the reference number please.\n",
      "True Labels: hotel-name, hotel-parking, hotel-type\n",
      "Predicted Labels: hotel-area, hotel-bookday, hotel-internet, hotel-name, hotel-type, train-arriveby, train-day, train-leaveat\n",
      "\n",
      "Utterance: Friday. There will be 5 people in my party, and I'll need a reservation for 5 nights.\n",
      "True Labels: hotel-bookday, hotel-bookpeople, hotel-bookstay, hotel-name, hotel-parking, hotel-type\n",
      "Predicted Labels: hotel-area, hotel-bookday, hotel-internet, hotel-name, hotel-type, train-arriveby, train-day, train-leaveat\n",
      "\n",
      "Utterance: That is all I needed, thank you.\n",
      "True Labels: hotel-bookday, hotel-bookpeople, hotel-bookstay, hotel-name, hotel-parking, hotel-type\n",
      "Predicted Labels: hotel-area, hotel-bookday, hotel-internet, hotel-name, hotel-type, train-arriveby, train-day, train-leaveat\n",
      "\n",
      "Utterance: Hey I'm looking for a hotel that has free parking, can you find one?\n",
      "True Labels: hotel-parking, hotel-type\n",
      "Predicted Labels: hotel-area, hotel-bookday, hotel-internet, hotel-name, hotel-type, train-arriveby, train-day, train-leaveat\n",
      "\n",
      "Utterance: I am looking for one in the expensive price range\n",
      "True Labels: hotel-parking, hotel-pricerange, hotel-type\n",
      "Predicted Labels: hotel-area, hotel-bookday, hotel-internet, hotel-name, hotel-type, train-arriveby, train-day, train-leaveat\n",
      "\n",
      "Utterance: Is the huntingdon marriott a hotel with free parking, expensive and a 0 star.If so, that would be great.\n",
      "True Labels: hotel-name, hotel-parking, hotel-pricerange, hotel-type\n",
      "Predicted Labels: hotel-area, hotel-bookday, hotel-internet, hotel-name, hotel-type, train-arriveby, train-day, train-leaveat\n",
      "\n",
      "Utterance: Two guests will be staying for 4 nights beginning on Monday.\n",
      "True Labels: hotel-bookday, hotel-bookpeople, hotel-bookstay, hotel-name, hotel-parking, hotel-pricerange, hotel-type\n",
      "Predicted Labels: hotel-area, hotel-bookday, hotel-internet, hotel-name, hotel-type, train-arriveby, train-day, train-leaveat\n",
      "\n",
      "Utterance: Yes please but it needs to be in the same price range.\n",
      "True Labels: hotel-bookday, hotel-bookpeople, hotel-bookstay, hotel-parking, hotel-pricerange, hotel-type\n",
      "Predicted Labels: hotel-area, hotel-bookday, hotel-internet, hotel-name, hotel-type, train-arriveby, train-day, train-leaveat\n",
      "\n",
      "Utterance: Yes one in the same price range.\n",
      "True Labels: hotel-bookday, hotel-bookpeople, hotel-bookstay, hotel-parking, hotel-pricerange, hotel-type\n",
      "Predicted Labels: hotel-area, hotel-bookday, hotel-internet, hotel-name, hotel-type, train-arriveby, train-day, train-leaveat\n",
      "\n",
      "Utterance: Yes, if you could. That would be great.\n",
      "True Labels: hotel-bookday, hotel-bookpeople, hotel-bookstay, hotel-name, hotel-parking, hotel-pricerange, hotel-type\n",
      "Predicted Labels: hotel-area, hotel-bookday, hotel-internet, hotel-name, hotel-type, train-arriveby, train-day, train-leaveat\n",
      "\n",
      "Utterance: Thanks, that's all I need today. Goodbye!\n",
      "True Labels: hotel-bookday, hotel-bookpeople, hotel-bookstay, hotel-name, hotel-parking, hotel-pricerange, hotel-type\n",
      "Predicted Labels: hotel-area, hotel-bookday, hotel-internet, hotel-name, hotel-type, train-arriveby, train-day, train-leaveat\n",
      "\n",
      "Utterance: I'm hoping to find Rosa's Bed and Breakfast.\n",
      "True Labels: hotel-name\n",
      "Predicted Labels: hotel-area, hotel-bookday, hotel-internet, hotel-name, hotel-type, train-arriveby, train-day, train-leaveat\n",
      "\n",
      "Utterance: Yes. I need a reservation for 3 people for 2 nights starting from Saturday.\n",
      "True Labels: hotel-bookday, hotel-bookpeople, hotel-bookstay, hotel-name\n",
      "Predicted Labels: hotel-area, hotel-bookday, hotel-internet, hotel-name, hotel-type, train-arriveby, train-day, train-leaveat\n",
      "\n",
      "Utterance: Yes can you find a different hotel in the same price range?\n",
      "True Labels: hotel-bookday, hotel-bookpeople, hotel-bookstay, hotel-name, hotel-pricerange, hotel-type\n",
      "Predicted Labels: hotel-area, hotel-bookday, hotel-internet, hotel-name, hotel-type, train-arriveby, train-day, train-leaveat\n",
      "\n",
      "Utterance: Yes, try another area, please.\n",
      "True Labels: hotel-bookday, hotel-bookpeople, hotel-bookstay, hotel-pricerange, hotel-type\n",
      "Predicted Labels: hotel-area, hotel-bookday, hotel-internet, hotel-name, hotel-type, train-arriveby, train-day, train-leaveat\n",
      "\n",
      "Utterance: Thanks, that's all I need. Have a nice day.\n",
      "True Labels: hotel-bookday, hotel-bookpeople, hotel-bookstay, hotel-name, hotel-pricerange, hotel-type\n",
      "Predicted Labels: hotel-area, hotel-bookday, hotel-internet, hotel-name, hotel-type, train-arriveby, train-day, train-leaveat\n",
      "\n",
      "Utterance: I want a place to stay. Is there an expensive hotel? It doesn't need to include internet.\n",
      "True Labels: hotel-internet, hotel-pricerange\n",
      "Predicted Labels: hotel-area, hotel-bookday, hotel-internet, hotel-name, hotel-type, train-arriveby, train-day, train-leaveat\n",
      "\n",
      "Utterance: If you have anything in the south that would be perfect.\n",
      "True Labels: hotel-area, hotel-internet, hotel-pricerange\n",
      "Predicted Labels: hotel-area, hotel-bookday, hotel-internet, hotel-name, hotel-type, train-arriveby, train-day, train-leaveat\n",
      "\n",
      "Utterance: not now but will come back laiter\n",
      "True Labels: hotel-area, hotel-internet, hotel-pricerange\n",
      "Predicted Labels: hotel-area, hotel-bookday, hotel-internet, hotel-name, hotel-type, train-arriveby, train-day, train-leaveat\n",
      "\n",
      "Utterance: That is all I need, thank you.\n",
      "True Labels: hotel-area, hotel-internet, hotel-pricerange\n",
      "Predicted Labels: hotel-area, hotel-bookday, hotel-internet, hotel-name, hotel-type, train-arriveby, train-day, train-leaveat\n",
      "\n",
      "Utterance: I am hoping you can find a guesthouse in the north part of town for me.\n",
      "True Labels: hotel-area, hotel-type\n",
      "Predicted Labels: hotel-area, hotel-bookday, hotel-internet, hotel-name, hotel-type, train-arriveby, train-day, train-leaveat\n",
      "\n",
      "Utterance: Well I would like one that's in a moderate price range. It needs to include free parking.\n",
      "True Labels: hotel-area, hotel-parking, hotel-pricerange, hotel-type\n",
      "Predicted Labels: hotel-area, hotel-bookday, hotel-internet, hotel-name, hotel-type, train-arriveby, train-day, train-leaveat\n",
      "\n",
      "Utterance: No, that doesn't matter. I need to book one for Wednesday.\n",
      "True Labels: hotel-area, hotel-bookday, hotel-parking, hotel-pricerange, hotel-type\n",
      "Predicted Labels: hotel-area, hotel-bookday, hotel-internet, hotel-name, hotel-type, train-arriveby, train-day, train-leaveat\n",
      "\n",
      "Utterance: Yes, that works. I'd like to book 3 days for 7 people. I also need the reference number as well.\n",
      "True Labels: hotel-area, hotel-bookday, hotel-bookpeople, hotel-bookstay, hotel-parking, hotel-pricerange, hotel-type\n",
      "Predicted Labels: hotel-area, hotel-bookday, hotel-internet, hotel-name, hotel-type, train-arriveby, train-day, train-leaveat\n",
      "\n",
      "Utterance: 2 nights, then.\n",
      "True Labels: hotel-area, hotel-bookday, hotel-bookpeople, hotel-bookstay, hotel-parking, hotel-pricerange, hotel-type\n",
      "Predicted Labels: hotel-area, hotel-bookday, hotel-internet, hotel-name, hotel-type, train-arriveby, train-day, train-leaveat\n",
      "\n",
      "Utterance: Yes, please. Something in the north, again.\n",
      "True Labels: hotel-area, hotel-bookday, hotel-bookpeople, hotel-bookstay, hotel-name, hotel-parking, hotel-pricerange, hotel-type\n",
      "Predicted Labels: hotel-area, hotel-bookday, hotel-internet, hotel-name, hotel-type, train-arriveby, train-day, train-leaveat\n",
      "\n",
      "Utterance: Nope. I think I'm all set. Thank you kindly.\n",
      "True Labels: hotel-area, hotel-bookday, hotel-bookpeople, hotel-bookstay, hotel-name, hotel-parking, hotel-pricerange, hotel-type\n",
      "Predicted Labels: hotel-area, hotel-bookday, hotel-internet, hotel-name, hotel-type, train-arriveby, train-day, train-leaveat\n",
      "\n",
      "Utterance: I would like a four star hotel.\n",
      "True Labels: hotel-type\n",
      "Predicted Labels: hotel-area, hotel-bookday, hotel-internet, hotel-name, hotel-type, train-arriveby, train-day, train-leaveat\n",
      "\n",
      "Utterance: No but I need it to have free parking and cheap.\n",
      "True Labels: hotel-parking, hotel-pricerange, hotel-type\n",
      "Predicted Labels: hotel-area, hotel-bookday, hotel-internet, hotel-name, hotel-type, train-arriveby, train-day, train-leaveat\n",
      "\n",
      "Utterance: I'm looking for a hotel type place to stay. Are any of those hotels?\n",
      "True Labels: hotel-parking, hotel-pricerange, hotel-type\n",
      "Predicted Labels: hotel-area, hotel-bookday, hotel-internet, hotel-name, hotel-type, train-arriveby, train-day, train-leaveat\n",
      "\n",
      "Utterance: Cambridge Belfry sounds great, can I get the reference number once you make that reservation?\n",
      "True Labels: hotel-name, hotel-parking, hotel-pricerange, hotel-type\n",
      "Predicted Labels: hotel-area, hotel-bookday, hotel-internet, hotel-name, hotel-type, train-arriveby, train-day, train-leaveat\n",
      "\n",
      "Utterance: 4 people, 5 nights on saturday. If that's not available try a different one same price range.\n",
      "True Labels: hotel-bookday, hotel-bookpeople, hotel-bookstay, hotel-name, hotel-parking, hotel-pricerange, hotel-type\n",
      "Predicted Labels: hotel-area, hotel-bookday, hotel-internet, hotel-name, hotel-type, train-arriveby, train-day, train-leaveat\n",
      "\n",
      "Utterance: Yes one that is in the same price range.\n",
      "True Labels: hotel-bookday, hotel-bookpeople, hotel-bookstay, hotel-parking, hotel-pricerange, hotel-type\n",
      "Predicted Labels: hotel-area, hotel-bookday, hotel-internet, hotel-name, hotel-type, train-arriveby, train-day, train-leaveat\n",
      "\n",
      "Utterance: Yes. That sounds great. Please try to book it.\n",
      "True Labels: hotel-bookday, hotel-bookpeople, hotel-bookstay, hotel-name, hotel-parking, hotel-pricerange, hotel-type\n",
      "Predicted Labels: hotel-area, hotel-bookday, hotel-internet, hotel-name, hotel-type, train-arriveby, train-day, train-leaveat\n",
      "\n",
      "Utterance: Thank you. That's all I needed today.\n",
      "True Labels: hotel-bookday, hotel-bookpeople, hotel-bookstay, hotel-name, hotel-parking, hotel-pricerange, hotel-type\n",
      "Predicted Labels: hotel-area, hotel-bookday, hotel-internet, hotel-name, hotel-type, train-arriveby, train-day, train-leaveat\n",
      "\n",
      "Utterance: I am looking for a place to stay. The hotel should be in the type of guesthouse and should include free wifi\n",
      "True Labels: hotel-internet, hotel-type\n",
      "Predicted Labels: hotel-area, hotel-bookday, hotel-internet, hotel-name, hotel-type, train-arriveby, train-day, train-leaveat\n",
      "\n",
      "Utterance: I would prefer a price range of expensive\n",
      "True Labels: hotel-internet, hotel-pricerange, hotel-type\n",
      "Predicted Labels: hotel-area, hotel-bookday, hotel-internet, hotel-name, hotel-type, train-arriveby, train-day, train-leaveat\n",
      "\n",
      "Utterance: How about moderate price range with a star of 4?\n",
      "True Labels: hotel-internet, hotel-pricerange, hotel-type\n",
      "Predicted Labels: hotel-area, hotel-bookday, hotel-internet, hotel-name, hotel-type, train-arriveby, train-day, train-leaveat\n",
      "\n",
      "Utterance: Area doesn't matter but I need to know if they have free parking\n",
      "True Labels: hotel-internet, hotel-parking, hotel-pricerange, hotel-type\n",
      "Predicted Labels: hotel-area, hotel-bookday, hotel-internet, hotel-name, hotel-type, train-arriveby, train-day, train-leaveat\n",
      "\n",
      "Utterance: Sounds great, Thank you.\n",
      "True Labels: hotel-internet, hotel-parking, hotel-pricerange, hotel-type\n",
      "Predicted Labels: hotel-area, hotel-bookday, hotel-internet, hotel-name, hotel-type, train-arriveby, train-day, train-leaveat\n",
      "\n",
      "Utterance: Yes please make a reservation in my name. Thank you.\n",
      "True Labels: hotel-internet, hotel-parking, hotel-pricerange, hotel-type\n",
      "Predicted Labels: hotel-area, hotel-bookday, hotel-internet, hotel-name, hotel-type, train-arriveby, train-day, train-leaveat\n",
      "\n",
      "Utterance: I'm sorry I don't need a reservation right now. Can you just tell me if they offer free parking?\n",
      "True Labels: hotel-internet, hotel-name, hotel-parking, hotel-pricerange, hotel-type\n",
      "Predicted Labels: hotel-area, hotel-bookday, hotel-internet, hotel-name, hotel-type, train-arriveby, train-day, train-leaveat\n",
      "\n",
      "Utterance: Great, thanks. That is all I needed.\n",
      "True Labels: hotel-internet, hotel-name, hotel-parking, hotel-pricerange, hotel-type\n",
      "Predicted Labels: hotel-area, hotel-bookday, hotel-internet, hotel-name, hotel-type, train-arriveby, train-day, train-leaveat\n",
      "\n",
      "Utterance: No, I can book myself later. Thanks. Good bye.\n",
      "True Labels: hotel-internet, hotel-name, hotel-parking, hotel-pricerange, hotel-type\n",
      "Predicted Labels: hotel-area, hotel-bookday, hotel-internet, hotel-name, hotel-type, train-arriveby, train-day, train-leaveat\n",
      "\n",
      "Utterance: Find me a place to stay that has free parking, but I don't need internet.\n",
      "True Labels: hotel-internet, hotel-parking\n",
      "Predicted Labels: hotel-area, hotel-bookday, hotel-internet, hotel-name, hotel-type, train-arriveby, train-day, train-leaveat\n",
      "\n",
      "Utterance: I would prefer to be in the Centre.\n",
      "True Labels: hotel-area, hotel-internet, hotel-parking\n",
      "Predicted Labels: hotel-area, hotel-bookday, hotel-internet, hotel-name, hotel-type, train-arriveby, train-day, train-leaveat\n",
      "\n",
      "Utterance: Do you have one in a 4 star rating that has free wifi?\n",
      "True Labels: hotel-area, hotel-internet, hotel-parking\n",
      "Predicted Labels: hotel-area, hotel-bookday, hotel-internet, hotel-name, hotel-type, train-arriveby, train-day, train-leaveat\n",
      "\n",
      "Utterance: I really need a hotel in the east. Can you take a look at those for me?\n",
      "True Labels: hotel-area, hotel-internet, hotel-parking\n",
      "Predicted Labels: hotel-area, hotel-bookday, hotel-internet, hotel-name, hotel-type, train-arriveby, train-day, train-leaveat\n",
      "\n",
      "Utterance: no, should have four stars though.\n",
      "True Labels: hotel-area, hotel-internet, hotel-parking\n",
      "Predicted Labels: hotel-area, hotel-bookday, hotel-internet, hotel-name, hotel-type, train-arriveby, train-day, train-leaveat\n",
      "\n",
      "Utterance: I do need internet.\n",
      "True Labels: hotel-area, hotel-internet, hotel-parking\n",
      "Predicted Labels: hotel-area, hotel-bookday, hotel-internet, hotel-name, hotel-type, train-arriveby, train-day, train-leaveat\n",
      "\n",
      "Utterance: yes, I suppose.\n",
      "True Labels: hotel-internet, hotel-parking\n",
      "Predicted Labels: hotel-area, hotel-bookday, hotel-internet, hotel-name, hotel-type, train-arriveby, train-day, train-leaveat\n",
      "\n",
      "Utterance: No thank you that will be all\n",
      "True Labels: hotel-internet, hotel-parking\n",
      "Predicted Labels: hotel-area, hotel-bookday, hotel-internet, hotel-name, hotel-type, train-arriveby, train-day, train-leaveat\n",
      "\n",
      "Utterance: I am looking for a place to stay with free wifi and a 0 star rating.\n",
      "True Labels: hotel-internet\n",
      "Predicted Labels: hotel-area, hotel-bookday, hotel-internet, hotel-name, hotel-type, train-arriveby, train-day, train-leaveat\n",
      "\n",
      "Utterance: One with moderate price range, please.\n",
      "True Labels: hotel-internet, hotel-pricerange\n",
      "Predicted Labels: hotel-area, hotel-bookday, hotel-internet, hotel-name, hotel-type, train-arriveby, train-day, train-leaveat\n",
      "\n",
      "Utterance: Yes please that would be great. Can you do it for 5 people for 5 nights starting sunday\n",
      "True Labels: hotel-bookday, hotel-bookpeople, hotel-bookstay, hotel-internet, hotel-name, hotel-pricerange\n",
      "Predicted Labels: hotel-area, hotel-bookday, hotel-internet, hotel-name, hotel-type, train-arriveby, train-day, train-leaveat\n",
      "\n",
      "Utterance: Can you find a hotel in the same price range?\n",
      "True Labels: hotel-bookday, hotel-bookpeople, hotel-bookstay, hotel-internet, hotel-pricerange\n",
      "Predicted Labels: hotel-area, hotel-bookday, hotel-internet, hotel-name, hotel-type, train-arriveby, train-day, train-leaveat\n",
      "\n",
      "Utterance: Do they have rooms available for 5 people for 5 nights starting on Sunday?\n",
      "True Labels: hotel-bookday, hotel-bookpeople, hotel-bookstay, hotel-internet, hotel-name, hotel-pricerange\n",
      "Predicted Labels: hotel-area, hotel-bookday, hotel-internet, hotel-name, hotel-type, train-arriveby, train-day, train-leaveat\n",
      "\n",
      "Utterance: Yes that's fine. Thank you so much!\n",
      "True Labels: hotel-bookday, hotel-bookpeople, hotel-bookstay, hotel-internet, hotel-name, hotel-pricerange\n",
      "Predicted Labels: hotel-area, hotel-bookday, hotel-internet, hotel-name, hotel-type, train-arriveby, train-day, train-leaveat\n",
      "\n",
      "Utterance: We will. Thanks again.\n",
      "True Labels: hotel-bookday, hotel-bookpeople, hotel-bookstay, hotel-internet, hotel-name, hotel-pricerange\n",
      "Predicted Labels: hotel-area, hotel-bookday, hotel-internet, hotel-name, hotel-type, train-arriveby, train-day, train-leaveat\n",
      "\n",
      "Utterance: I dont want wifi, just somewhere with four stars.\n",
      "True Labels: hotel-internet\n",
      "Predicted Labels: hotel-area, hotel-bookday, hotel-internet, hotel-name, hotel-type, train-arriveby, train-day, train-leaveat\n",
      "\n",
      "Utterance: I guess it's OK if they have it, as long as they won't charge me for not using it. But 4-star accommodations are a must.\n",
      "True Labels: hotel-internet\n",
      "Predicted Labels: hotel-area, hotel-bookday, hotel-internet, hotel-name, hotel-type, train-arriveby, train-day, train-leaveat\n",
      "\n",
      "Utterance: Are there any in the South side of the city?\n",
      "True Labels: hotel-area, hotel-internet\n",
      "Predicted Labels: hotel-area, hotel-bookday, hotel-internet, hotel-name, hotel-type, train-arriveby, train-day, train-leaveat\n",
      "\n",
      "Utterance: How about a place in any area with free wifi.\n",
      "True Labels: hotel-area, hotel-internet\n",
      "Predicted Labels: hotel-area, hotel-bookday, hotel-internet, hotel-name, hotel-type, train-arriveby, train-day, train-leaveat\n",
      "\n",
      "Utterance: Yes, please.\n",
      "True Labels: hotel-area, hotel-internet, hotel-name\n",
      "Predicted Labels: hotel-area, hotel-bookday, hotel-internet, hotel-name, hotel-type, train-arriveby, train-day, train-leaveat\n",
      "\n",
      "Utterance: I need it for 7 people for 4 nights staring from Tuesday please.\n",
      "True Labels: hotel-area, hotel-bookday, hotel-bookpeople, hotel-bookstay, hotel-internet, hotel-name\n",
      "Predicted Labels: hotel-area, hotel-bookday, hotel-internet, hotel-name, hotel-type, train-arriveby, train-day, train-leaveat\n",
      "\n",
      "Utterance: Yes please and in the same price range.\n",
      "True Labels: hotel-area, hotel-bookday, hotel-bookpeople, hotel-bookstay, hotel-internet, hotel-pricerange\n",
      "Predicted Labels: hotel-area, hotel-bookday, hotel-internet, hotel-name, hotel-type, train-arriveby, train-day, train-leaveat\n",
      "\n",
      "Utterance: Thank you so much for your help.\n",
      "True Labels: hotel-area, hotel-bookday, hotel-bookpeople, hotel-bookstay, hotel-internet, hotel-name, hotel-pricerange\n",
      "Predicted Labels: hotel-area, hotel-bookday, hotel-internet, hotel-name, hotel-type, train-arriveby, train-day, train-leaveat\n",
      "\n",
      "Utterance: Nope. You have been so helpful. Thank you!\n",
      "True Labels: hotel-area, hotel-bookday, hotel-bookpeople, hotel-bookstay, hotel-internet, hotel-name, hotel-pricerange\n",
      "Predicted Labels: hotel-area, hotel-bookday, hotel-internet, hotel-name, hotel-type, train-arriveby, train-day, train-leaveat\n",
      "\n",
      "Utterance: Hey, I need a place to stay with free wifi and free parking.\n",
      "True Labels: hotel-internet, hotel-parking\n",
      "Predicted Labels: hotel-area, hotel-bookday, hotel-internet, hotel-name, hotel-type, train-arriveby, train-day, train-leaveat\n",
      "\n",
      "Utterance: Thanks! I really don't care about the area. I need stay in a guesthouse that has free wifi and parking.\n",
      "True Labels: hotel-internet, hotel-parking, hotel-type\n",
      "Predicted Labels: hotel-area, hotel-bookday, hotel-internet, hotel-name, hotel-type, train-arriveby, train-day, train-leaveat\n",
      "\n",
      "Utterance: I don't mind about the price but I want something with 4 stars .\n",
      "True Labels: hotel-internet, hotel-parking, hotel-type\n",
      "Predicted Labels: hotel-area, hotel-bookday, hotel-internet, hotel-name, hotel-type, train-arriveby, train-day, train-leaveat\n",
      "\n",
      "Utterance: That sounds nice. Can you get it for four nights starting Thursday?\n",
      "True Labels: hotel-bookday, hotel-bookstay, hotel-internet, hotel-name, hotel-parking, hotel-type\n",
      "Predicted Labels: hotel-area, hotel-bookday, hotel-internet, hotel-name, hotel-type, train-arriveby, train-day, train-leaveat\n",
      "\n",
      "Utterance: Four people. Thanks.\n",
      "True Labels: hotel-bookday, hotel-bookpeople, hotel-bookstay, hotel-internet, hotel-name, hotel-parking, hotel-type\n",
      "Predicted Labels: hotel-area, hotel-bookday, hotel-internet, hotel-name, hotel-type, train-arriveby, train-day, train-leaveat\n",
      "\n",
      "Utterance: Thanks so much. That is all I need. Bye.\n",
      "True Labels: hotel-bookday, hotel-bookpeople, hotel-bookstay, hotel-internet, hotel-name, hotel-parking, hotel-type\n",
      "Predicted Labels: hotel-area, hotel-bookday, hotel-internet, hotel-name, hotel-type, train-arriveby, train-day, train-leaveat\n",
      "\n",
      "Utterance: Yes, I am looking for a hotel please. I would need free wifi and free parking.\n",
      "True Labels: hotel-internet, hotel-parking, hotel-type\n",
      "Predicted Labels: hotel-area, hotel-bookday, hotel-internet, hotel-name, hotel-type, train-arriveby, train-day, train-leaveat\n",
      "\n",
      "Utterance: I don't have a preference but I would like it to be 4 stars?\n",
      "True Labels: hotel-internet, hotel-parking\n",
      "Predicted Labels: hotel-area, hotel-bookday, hotel-internet, hotel-name, hotel-type, train-arriveby, train-day, train-leaveat\n",
      "\n",
      "Utterance: Any price range is fine. I just need a reservation for 3 people for 5 nights starting on Saturday.\n",
      "True Labels: hotel-bookday, hotel-bookpeople, hotel-bookstay, hotel-internet, hotel-parking\n",
      "Predicted Labels: hotel-area, hotel-bookday, hotel-internet, hotel-name, hotel-type, train-arriveby, train-day, train-leaveat\n",
      "\n",
      "Utterance: No that is all I needed today. Thank you.\n",
      "True Labels: hotel-bookday, hotel-bookpeople, hotel-bookstay, hotel-internet, hotel-name, hotel-parking\n",
      "Predicted Labels: hotel-area, hotel-bookday, hotel-internet, hotel-name, hotel-type, train-arriveby, train-day, train-leaveat\n",
      "\n",
      "Utterance: Are there any 4-star guesthouses?\n",
      "True Labels: hotel-type\n",
      "Predicted Labels: hotel-area, hotel-bookday, hotel-internet, hotel-name, hotel-type, train-arriveby, train-day, train-leaveat\n",
      "\n",
      "Utterance: Yes. the hotel should be located in the North and should include free wifi\n",
      "True Labels: hotel-area, hotel-internet, hotel-type\n",
      "Predicted Labels: hotel-area, hotel-bookday, hotel-internet, hotel-name, hotel-type, train-arriveby, train-day, train-leaveat\n",
      "\n",
      "Utterance: Does Home from Home have free wifi?\n",
      "True Labels: hotel-area, hotel-internet, hotel-type\n",
      "Predicted Labels: hotel-area, hotel-bookday, hotel-internet, hotel-name, hotel-type, train-arriveby, train-day, train-leaveat\n",
      "\n",
      "Utterance: No, thanks. Have a nice day.\n",
      "True Labels: hotel-area, hotel-internet, hotel-type\n",
      "Predicted Labels: hotel-area, hotel-bookday, hotel-internet, hotel-name, hotel-type, train-arriveby, train-day, train-leaveat\n",
      "\n",
      "Utterance: Hello, I am looking for a hotel in the north part of town. The hotel needs to include free parking.\n",
      "True Labels: hotel-area, hotel-parking, hotel-type\n",
      "Predicted Labels: hotel-area, hotel-bookday, hotel-internet, hotel-name, hotel-type, train-arriveby, train-day, train-leaveat\n",
      "\n",
      "Utterance: That sounds great! Can you tell me more about it?\n",
      "True Labels: hotel-area, hotel-parking, hotel-type\n",
      "Predicted Labels: hotel-area, hotel-bookday, hotel-internet, hotel-name, hotel-type, train-arriveby, train-day, train-leaveat\n",
      "\n",
      "Utterance: Yes, please book for 4 nights starting Wednesday. There will be 8 of us.\n",
      "True Labels: hotel-area, hotel-bookday, hotel-bookpeople, hotel-bookstay, hotel-name, hotel-parking, hotel-type\n",
      "Predicted Labels: hotel-area, hotel-bookday, hotel-internet, hotel-name, hotel-type, train-arriveby, train-day, train-leaveat\n",
      "\n",
      "Utterance: That should do it! Thank you!\n",
      "True Labels: hotel-area, hotel-bookday, hotel-bookpeople, hotel-bookstay, hotel-name, hotel-parking, hotel-type\n",
      "Predicted Labels: hotel-area, hotel-bookday, hotel-internet, hotel-name, hotel-type, train-arriveby, train-day, train-leaveat\n",
      "\n",
      "Utterance: I would like for the hotel to be located in the south and include free wifi.\n",
      "True Labels: hotel-area, hotel-internet\n",
      "Predicted Labels: hotel-area, hotel-bookday, hotel-internet, hotel-name, hotel-type, train-arriveby, train-day, train-leaveat\n",
      "\n",
      "Utterance: Either is fine. Can you see if one of them might have a room on Wednesday for 3 people and 3 nights?\n",
      "True Labels: hotel-area, hotel-bookday, hotel-bookpeople, hotel-bookstay, hotel-internet, hotel-pricerange, hotel-type\n",
      "Predicted Labels: hotel-area, hotel-bookday, hotel-internet, hotel-name, hotel-type, train-arriveby, train-day, train-leaveat\n",
      "\n",
      "Utterance: Can I have the address and phone number please?\n",
      "True Labels: hotel-area, hotel-bookday, hotel-bookpeople, hotel-bookstay, hotel-internet, hotel-name, hotel-pricerange, hotel-type\n",
      "Predicted Labels: hotel-area, hotel-bookday, hotel-internet, hotel-name, hotel-type, train-arriveby, train-day, train-leaveat\n",
      "\n",
      "Utterance: Thanks so much!\n",
      "True Labels: hotel-area, hotel-bookday, hotel-bookpeople, hotel-bookstay, hotel-internet, hotel-name, hotel-pricerange, hotel-type\n",
      "Predicted Labels: hotel-area, hotel-bookday, hotel-internet, hotel-name, hotel-type, train-arriveby, train-day, train-leaveat\n",
      "\n",
      "Utterance: I am looking for a place to stay with free wifi and at least a 3 star rating.\n",
      "True Labels: hotel-internet\n",
      "Predicted Labels: hotel-area, hotel-bookday, hotel-internet, hotel-name, hotel-type, train-arriveby, train-day, train-leaveat\n",
      "\n",
      "Utterance: Can you confirm if the Bridge Guesthouse also has free parking and is in the east?\n",
      "True Labels: hotel-internet, hotel-name\n",
      "Predicted Labels: hotel-area, hotel-bookday, hotel-internet, hotel-name, hotel-type, train-arriveby, train-day, train-leaveat\n",
      "\n",
      "Utterance: The Bridge guest house would be just fine. Can I get the address, phone and postcode please?\n",
      "True Labels: hotel-internet, hotel-name\n",
      "Predicted Labels: hotel-area, hotel-bookday, hotel-internet, hotel-name, hotel-type, train-arriveby, train-day, train-leaveat\n",
      "\n",
      "Utterance: I'm looking for a hotel in the west, internet is optional.\n",
      "True Labels: hotel-area, hotel-internet, hotel-type\n",
      "Predicted Labels: hotel-area, hotel-bookday, hotel-internet, hotel-name, hotel-type, train-arriveby, train-day, train-leaveat\n",
      "\n",
      "Utterance: I am looking for it to be cheap.\n",
      "True Labels: hotel-area, hotel-internet, hotel-pricerange, hotel-type\n",
      "Predicted Labels: hotel-area, hotel-bookday, hotel-internet, hotel-name, hotel-type, train-arriveby, train-day, train-leaveat\n",
      "\n",
      "Utterance: Is that a hotel type place to stay?\n",
      "True Labels: hotel-area, hotel-internet, hotel-pricerange, hotel-type\n",
      "Predicted Labels: hotel-area, hotel-bookday, hotel-internet, hotel-name, hotel-type, train-arriveby, train-day, train-leaveat\n",
      "\n",
      "Utterance: Alright, book that for 4 people and 5 nights starting from sunday.\n",
      "True Labels: hotel-area, hotel-bookday, hotel-bookpeople, hotel-bookstay, hotel-internet, hotel-name, hotel-pricerange, hotel-type\n",
      "Predicted Labels: hotel-area, hotel-bookday, hotel-internet, hotel-name, hotel-type, train-arriveby, train-day, train-leaveat\n",
      "\n",
      "Utterance: How about a different hotel in the same price range?\n",
      "True Labels: hotel-area, hotel-bookday, hotel-bookpeople, hotel-bookstay, hotel-internet, hotel-pricerange, hotel-type\n",
      "Predicted Labels: hotel-area, hotel-bookday, hotel-internet, hotel-name, hotel-type, train-arriveby, train-day, train-leaveat\n",
      "\n",
      "Utterance: Yes please and I need the reference number\n",
      "True Labels: hotel-area, hotel-bookday, hotel-bookpeople, hotel-bookstay, hotel-internet, hotel-name, hotel-pricerange, hotel-type\n",
      "Predicted Labels: hotel-area, hotel-bookday, hotel-internet, hotel-name, hotel-type, train-arriveby, train-day, train-leaveat\n",
      "\n",
      "Utterance: No thank you that is all.\n",
      "True Labels: hotel-area, hotel-bookday, hotel-bookpeople, hotel-bookstay, hotel-internet, hotel-name, hotel-pricerange, hotel-type\n",
      "Predicted Labels: hotel-area, hotel-bookday, hotel-internet, hotel-name, hotel-type, train-arriveby, train-day, train-leaveat\n",
      "\n",
      "Utterance: I am looking for a hotel to stay at located in the centre.\n",
      "True Labels: hotel-area, hotel-type\n",
      "Predicted Labels: hotel-area, hotel-bookday, hotel-internet, hotel-name, hotel-type, train-arriveby, train-day, train-leaveat\n",
      "\n",
      "Utterance: I would like expensive, please.\n",
      "True Labels: hotel-area, hotel-pricerange, hotel-type\n",
      "Predicted Labels: hotel-area, hotel-bookday, hotel-internet, hotel-name, hotel-type, train-arriveby, train-day, train-leaveat\n",
      "\n",
      "Utterance: Yes, you can. I'll try the Gonville.\n",
      "True Labels: hotel-area, hotel-name, hotel-pricerange, hotel-type\n",
      "Predicted Labels: hotel-area, hotel-bookday, hotel-internet, hotel-name, hotel-type, train-arriveby, train-day, train-leaveat\n",
      "\n",
      "Utterance: Please book for 4 people.\n",
      "True Labels: hotel-area, hotel-name, hotel-pricerange, hotel-type\n",
      "Predicted Labels: hotel-area, hotel-bookday, hotel-internet, hotel-name, hotel-type, train-arriveby, train-day, train-leaveat\n",
      "\n",
      "Utterance: I will be arriving on Sunday and staying for 3 nights. And there will be 2 people, not 4.\n",
      "True Labels: hotel-area, hotel-bookday, hotel-bookpeople, hotel-bookstay, hotel-name, hotel-pricerange, hotel-type\n",
      "Predicted Labels: hotel-area, hotel-bookday, hotel-internet, hotel-name, hotel-type, train-arriveby, train-day, train-leaveat\n",
      "\n",
      "Utterance: No that's all. Thanks.\n",
      "True Labels: hotel-area, hotel-bookday, hotel-bookpeople, hotel-bookstay, hotel-name, hotel-pricerange, hotel-type\n",
      "Predicted Labels: hotel-area, hotel-bookday, hotel-internet, hotel-name, hotel-type, train-arriveby, train-day, train-leaveat\n",
      "\n",
      "Utterance: Hi, I'm looking for a 1 star place to stay with free wifi.\n",
      "True Labels: hotel-internet\n",
      "Predicted Labels: hotel-area, hotel-bookday, hotel-internet, hotel-name, hotel-type, train-arriveby, train-day, train-leaveat\n",
      "\n",
      "Utterance: Alright. I wanted a 1 star, but I guess I can listen to the 2 star options.\n",
      "True Labels: hotel-internet\n",
      "Predicted Labels: hotel-area, hotel-bookday, hotel-internet, hotel-name, hotel-type, train-arriveby, train-day, train-leaveat\n",
      "\n",
      "Utterance: Hmm. What do you what about 4 star hotels?\n",
      "True Labels: hotel-internet\n",
      "Predicted Labels: hotel-area, hotel-bookday, hotel-internet, hotel-name, hotel-type, train-arriveby, train-day, train-leaveat\n",
      "\n",
      "Utterance: Well, I'd like to book one. I don't think it matters which one.\n",
      "True Labels: hotel-internet\n",
      "Predicted Labels: hotel-area, hotel-bookday, hotel-internet, hotel-name, hotel-type, train-arriveby, train-day, train-leaveat\n",
      "\n",
      "Utterance: I need it for two nights starting on Saturday.\n",
      "True Labels: hotel-bookday, hotel-bookstay, hotel-internet\n",
      "Predicted Labels: hotel-area, hotel-bookday, hotel-internet, hotel-name, hotel-type, train-arriveby, train-day, train-leaveat\n",
      "\n",
      "Utterance: It would be for 7 people.\n",
      "True Labels: hotel-bookday, hotel-bookpeople, hotel-bookstay, hotel-internet\n",
      "Predicted Labels: hotel-area, hotel-bookday, hotel-internet, hotel-name, hotel-type, train-arriveby, train-day, train-leaveat\n",
      "\n",
      "Utterance: No, that is all. Thank you. Bye.\n",
      "True Labels: hotel-bookday, hotel-bookpeople, hotel-bookstay, hotel-internet, hotel-name\n",
      "Predicted Labels: hotel-area, hotel-bookday, hotel-internet, hotel-name, hotel-type, train-arriveby, train-day, train-leaveat\n",
      "\n",
      "Utterance: I'm looking for a hotel to stay at in the centre, can you look this up for me?\n",
      "True Labels: hotel-area, hotel-type\n",
      "Predicted Labels: hotel-area, hotel-bookday, hotel-internet, hotel-name, hotel-type, train-arriveby, train-day, train-leaveat\n",
      "\n",
      "Utterance: Not in terms of that, but do they have free parking and have a 3 star rating?\n",
      "True Labels: hotel-area, hotel-type\n",
      "Predicted Labels: hotel-area, hotel-bookday, hotel-internet, hotel-name, hotel-type, train-arriveby, train-day, train-leaveat\n",
      "\n",
      "Utterance: Okay, I'd like to book a room at the Gonville Hotel for 4 nights. There will be 6 people and we will be arriving on Saturday.\n",
      "True Labels: hotel-area, hotel-bookday, hotel-bookpeople, hotel-bookstay, hotel-name, hotel-type\n",
      "Predicted Labels: hotel-area, hotel-bookday, hotel-internet, hotel-name, hotel-type, train-arriveby, train-day, train-leaveat\n",
      "\n",
      "Utterance: Yes, what about 2 nights instead of 4?\n",
      "True Labels: hotel-area, hotel-bookday, hotel-bookpeople, hotel-bookstay, hotel-name, hotel-type\n",
      "Predicted Labels: hotel-area, hotel-bookday, hotel-internet, hotel-name, hotel-type, train-arriveby, train-day, train-leaveat\n",
      "\n",
      "Utterance: No, that looks like everything. Thanks. Bye.\n",
      "True Labels: hotel-area, hotel-bookday, hotel-bookpeople, hotel-bookstay, hotel-name, hotel-type\n",
      "Predicted Labels: hotel-area, hotel-bookday, hotel-internet, hotel-name, hotel-type, train-arriveby, train-day, train-leaveat\n",
      "\n",
      "Utterance: Hello, I am looking for the address and phone number of the hotel Cambridge Belfry.\n",
      "True Labels: hotel-name\n",
      "Predicted Labels: hotel-area, hotel-bookday, hotel-internet, hotel-name, hotel-type, train-arriveby, train-day, train-leaveat\n",
      "\n",
      "Utterance: What is the price range of the hotel?\n",
      "True Labels: hotel-name\n",
      "Predicted Labels: hotel-area, hotel-bookday, hotel-internet, hotel-name, hotel-type, train-arriveby, train-day, train-leaveat\n",
      "\n",
      "Utterance: No, that'll be all, thanks. Goodbye.\n",
      "True Labels: hotel-name\n",
      "Predicted Labels: hotel-area, hotel-bookday, hotel-internet, hotel-name, hotel-type, train-arriveby, train-day, train-leaveat\n",
      "\n",
      "Utterance: Can you help me find a hotel called Limehouse? Thanks.\n",
      "True Labels: hotel-name\n",
      "Predicted Labels: hotel-area, hotel-bookday, hotel-internet, hotel-name, hotel-type, train-arriveby, train-day, train-leaveat\n",
      "\n",
      "Utterance: Yes book for 8 people for 2 nights starting on Tuesday.\n",
      "True Labels: hotel-bookday, hotel-bookpeople, hotel-bookstay, hotel-name\n",
      "Predicted Labels: hotel-area, hotel-bookday, hotel-internet, hotel-name, hotel-type, train-arriveby, train-day, train-leaveat\n",
      "\n",
      "Utterance: No, that should be it. Thanks so much.\n",
      "True Labels: hotel-bookday, hotel-bookpeople, hotel-bookstay, hotel-name\n",
      "Predicted Labels: hotel-area, hotel-bookday, hotel-internet, hotel-name, hotel-type, train-arriveby, train-day, train-leaveat\n",
      "\n",
      "Utterance: I'm looking for a place to stay on the north side.\n",
      "True Labels: hotel-area\n",
      "Predicted Labels: hotel-area, hotel-bookday, hotel-internet, hotel-name, hotel-type, train-arriveby, train-day, train-leaveat\n",
      "\n",
      "Utterance: I'm looking for one with 0 stars, please.\n",
      "True Labels: hotel-area\n",
      "Predicted Labels: hotel-area, hotel-bookday, hotel-internet, hotel-name, hotel-type, train-arriveby, train-day, train-leaveat\n",
      "\n",
      "Utterance: One more thing, I'd also like the price range please.\n",
      "True Labels: hotel-area\n",
      "Predicted Labels: hotel-area, hotel-bookday, hotel-internet, hotel-name, hotel-type, train-arriveby, train-day, train-leaveat\n",
      "\n",
      "Utterance: Thank you. I think that's all I need today.\n",
      "True Labels: hotel-area\n",
      "Predicted Labels: hotel-area, hotel-bookday, hotel-internet, hotel-name, hotel-type, train-arriveby, train-day, train-leaveat\n",
      "\n",
      "Utterance: I would like it to be in the south and have a rating of 3 stars.\n",
      "True Labels: hotel-area\n",
      "Predicted Labels: hotel-area, hotel-bookday, hotel-internet, hotel-name, hotel-type, train-arriveby, train-day, train-leaveat\n",
      "\n",
      "Utterance: Does either offer free parking?\n",
      "True Labels: hotel-area\n",
      "Predicted Labels: hotel-area, hotel-bookday, hotel-internet, hotel-name, hotel-type, train-arriveby, train-day, train-leaveat\n",
      "\n",
      "Utterance: Okay can you please book it for 7 people for 4 nights starting on Tuesday?\n",
      "True Labels: hotel-area\n",
      "Predicted Labels: hotel-area, hotel-bookday, hotel-internet, hotel-name, hotel-type, train-arriveby, train-day, train-leaveat\n",
      "\n",
      "Utterance: The hotel, please.\n",
      "True Labels: hotel-area, hotel-bookday, hotel-bookpeople, hotel-bookstay\n",
      "Predicted Labels: hotel-area, hotel-bookday, hotel-internet, hotel-name, hotel-type, train-arriveby, train-day, train-leaveat\n",
      "\n",
      "Utterance: I need a hotel with a zero star rating and I dont need free parking\n",
      "True Labels: hotel-parking\n",
      "Predicted Labels: hotel-area, hotel-bookday, hotel-internet, hotel-name, hotel-type, train-arriveby, train-day, train-leaveat\n",
      "\n",
      "Utterance: i hope its in the centre\n",
      "True Labels: hotel-area, hotel-parking\n",
      "Predicted Labels: hotel-area, hotel-bookday, hotel-internet, hotel-name, hotel-type, train-arriveby, train-day, train-leaveat\n",
      "\n",
      "Utterance: I need to book it for one person for 5 nights starting Friday.\n",
      "True Labels: hotel-area, hotel-bookday, hotel-bookpeople, hotel-bookstay, hotel-name, hotel-parking\n",
      "Predicted Labels: hotel-area, hotel-bookday, hotel-internet, hotel-name, hotel-type, train-arriveby, train-day, train-leaveat\n",
      "\n",
      "Utterance: advice me please of a better duration\n",
      "True Labels: hotel-area, hotel-bookday, hotel-bookpeople, hotel-bookstay, hotel-name, hotel-parking\n",
      "Predicted Labels: hotel-area, hotel-bookday, hotel-internet, hotel-name, hotel-type, train-arriveby, train-day, train-leaveat\n",
      "\n",
      "Utterance: I'm sorry, did I say Friday? I meant I want a booking for 5 nights starting on THURSDAY.\n",
      "True Labels: hotel-area, hotel-bookday, hotel-bookpeople, hotel-bookstay, hotel-name, hotel-parking\n",
      "Predicted Labels: hotel-area, hotel-bookday, hotel-internet, hotel-name, hotel-type, train-arriveby, train-day, train-leaveat\n",
      "\n",
      "Utterance: Then I can I get one on Saturday for 5 nights?\n",
      "True Labels: hotel-area, hotel-bookday, hotel-bookpeople, hotel-bookstay, hotel-name, hotel-parking\n",
      "Predicted Labels: hotel-area, hotel-bookday, hotel-internet, hotel-name, hotel-type, train-arriveby, train-day, train-leaveat\n",
      "\n",
      "Utterance: Great, thank you for the help.\n",
      "True Labels: hotel-area, hotel-bookday, hotel-bookpeople, hotel-bookstay, hotel-name, hotel-parking\n",
      "Predicted Labels: hotel-area, hotel-bookday, hotel-internet, hotel-name, hotel-type, train-arriveby, train-day, train-leaveat\n",
      "\n",
      "Utterance: That is all. Thank you. Goodbye\n",
      "True Labels: hotel-area, hotel-bookday, hotel-bookpeople, hotel-bookstay, hotel-name, hotel-parking\n",
      "Predicted Labels: hotel-area, hotel-bookday, hotel-internet, hotel-name, hotel-type, train-arriveby, train-day, train-leaveat\n",
      "\n",
      "Utterance: On Saturday I need a train that will arrive by 21:45.\n",
      "True Labels: train-arriveby, train-day\n",
      "Predicted Labels: hotel-area, hotel-bookday, hotel-internet, hotel-name, hotel-type, train-arriveby, train-day, train-leaveat\n",
      "\n",
      "Utterance: I will be leaving from Ely and going to london.\n",
      "True Labels: train-arriveby, train-day, train-departure\n",
      "Predicted Labels: hotel-area, hotel-bookday, hotel-internet, hotel-name, hotel-type, train-arriveby, train-day, train-leaveat\n",
      "\n",
      "Utterance: Either one is fine with me.\n",
      "True Labels: train-arriveby, train-day, train-departure\n",
      "Predicted Labels: hotel-area, hotel-bookday, hotel-internet, hotel-name, hotel-type, train-arriveby, train-day, train-leaveat\n",
      "\n",
      "Utterance: Yes I'm sure. I need to book that for 5 people.\n",
      "True Labels: train-arriveby, train-bookpeople, train-day, train-departure\n",
      "Predicted Labels: hotel-area, hotel-bookday, hotel-internet, hotel-name, hotel-type, train-arriveby, train-day, train-leaveat\n",
      "\n",
      "Utterance: i AM looking for a train. The train should depart from Bournemouth and should leave on Sunday.\n",
      "True Labels: train-day, train-departure\n",
      "Predicted Labels: hotel-area, hotel-bookday, hotel-internet, hotel-name, hotel-type, train-arriveby, train-day, train-leaveat\n",
      "\n",
      "Utterance: I'm sorry I misspoke earlier, I'm actually looking to leave from Broxbourne and would like to go to Cambridge.\n",
      "True Labels: train-day, train-departure, train-destination\n",
      "Predicted Labels: hotel-area, hotel-bookday, hotel-internet, hotel-name, hotel-type, train-arriveby, train-day, train-leaveat\n",
      "\n",
      "Utterance: Hello, I need to book a train for Thursday leaving to Peterborough.\n",
      "True Labels: train-day, train-destination\n",
      "Predicted Labels: hotel-area, hotel-bookday, hotel-internet, hotel-name, hotel-type, train-arriveby, train-day, train-leaveat\n",
      "\n",
      "Utterance: I would like to leave Cambridge after 09:15.\n",
      "True Labels: train-day, train-departure, train-destination, train-leaveat\n",
      "Predicted Labels: hotel-area, hotel-bookday, hotel-internet, hotel-name, hotel-type, train-arriveby, train-day, train-leaveat\n",
      "\n",
      "Utterance: Yes just one seat, and I'll need the reference number.\n",
      "True Labels: train-bookpeople, train-day, train-departure, train-destination, train-leaveat\n",
      "Predicted Labels: hotel-area, hotel-bookday, hotel-internet, hotel-name, hotel-type, train-arriveby, train-day, train-leaveat\n",
      "\n",
      "Utterance: Thank you so much for your help. Have a great day!\n",
      "True Labels: train-bookpeople, train-day, train-departure, train-destination, train-leaveat\n",
      "Predicted Labels: hotel-area, hotel-bookday, hotel-internet, hotel-name, hotel-type, train-arriveby, train-day, train-leaveat\n",
      "\n",
      "Utterance: I am wanting to book a train arriving in Stevenage by 19:15. Can you help me?\n",
      "True Labels: train-arriveby, train-destination\n",
      "Predicted Labels: hotel-area, hotel-bookday, hotel-internet, hotel-name, hotel-type, train-arriveby, train-day, train-leaveat\n",
      "\n",
      "Utterance: I will be leaving cambridge on Thursday.\n",
      "True Labels: train-arriveby, train-day, train-departure, train-destination\n",
      "Predicted Labels: hotel-area, hotel-bookday, hotel-internet, hotel-name, hotel-type, train-arriveby, train-day, train-leaveat\n",
      "\n",
      "Utterance: That sounds good. What is the travel time for that train?\n",
      "True Labels: train-arriveby, train-day, train-departure, train-destination, train-leaveat\n",
      "Predicted Labels: hotel-area, hotel-bookday, hotel-internet, hotel-name, hotel-type, train-arriveby, train-day, train-leaveat\n",
      "\n",
      "Utterance: No need to book a ticket. I can take care of that later. But thank you. Have a nice night!\n",
      "True Labels: train-arriveby, train-day, train-departure, train-destination, train-leaveat\n",
      "Predicted Labels: hotel-area, hotel-bookday, hotel-internet, hotel-name, hotel-type, train-arriveby, train-day, train-leaveat\n",
      "\n",
      "Utterance: I need a train to Peterborough that will be there no later than 17:15.\n",
      "True Labels: train-arriveby, train-destination\n",
      "Predicted Labels: hotel-area, hotel-bookday, hotel-internet, hotel-name, hotel-type, train-arriveby, train-day, train-leaveat\n",
      "\n",
      "Utterance: I am looking for a train arriving in Peterborough.\n",
      "True Labels: train-arriveby, train-destination\n",
      "Predicted Labels: hotel-area, hotel-bookday, hotel-internet, hotel-name, hotel-type, train-arriveby, train-day, train-leaveat\n",
      "\n",
      "Utterance: I'll be leaving Cambridge on Sunday.\n",
      "True Labels: train-arriveby, train-day, train-departure, train-destination\n",
      "Predicted Labels: hotel-area, hotel-bookday, hotel-internet, hotel-name, hotel-type, train-arriveby, train-day, train-leaveat\n",
      "\n",
      "Utterance: Yes, that will be fine can you get me a ticket?\n",
      "True Labels: train-arriveby, train-day, train-departure, train-destination\n",
      "Predicted Labels: hotel-area, hotel-bookday, hotel-internet, hotel-name, hotel-type, train-arriveby, train-day, train-leaveat\n",
      "\n",
      "Utterance: I need 7 tickets.\n",
      "True Labels: train-arriveby, train-bookpeople, train-day, train-departure, train-destination\n",
      "Predicted Labels: hotel-area, hotel-bookday, hotel-internet, hotel-name, hotel-type, train-arriveby, train-day, train-leaveat\n",
      "\n",
      "Utterance: I am also looking for a place to stay.\n",
      "True Labels: train-arriveby, train-bookpeople, train-day, train-departure, train-destination\n",
      "Predicted Labels: hotel-area, hotel-bookday, hotel-internet, hotel-name, hotel-type, train-arriveby, train-day, train-leaveat\n",
      "\n",
      "Utterance: I plan to leave from stevenage to go to Cambridge.\n",
      "True Labels: train-departure, train-destination\n",
      "Predicted Labels: hotel-area, hotel-bookday, hotel-internet, hotel-name, hotel-type, train-arriveby, train-day, train-leaveat\n",
      "\n",
      "Utterance: I want to leave on Sunday and arrive by 12:15.\n",
      "True Labels: train-arriveby, train-day, train-departure, train-destination\n",
      "Predicted Labels: hotel-area, hotel-bookday, hotel-internet, hotel-name, hotel-type, train-arriveby, train-day, train-leaveat\n",
      "\n",
      "Utterance: Thank you, I will check them out and get back to you.\n",
      "True Labels: train-arriveby, train-day, train-departure, train-destination\n",
      "Predicted Labels: hotel-area, hotel-bookday, hotel-internet, hotel-name, hotel-type, train-arriveby, train-day, train-leaveat\n",
      "\n",
      "Utterance: That information is very overwhelming. Can you please pick the best option that meets my criteria and book for 6 people.\n",
      "True Labels: train-arriveby, train-bookpeople, train-day, train-departure, train-destination\n",
      "Predicted Labels: hotel-area, hotel-bookday, hotel-internet, hotel-name, hotel-type, train-arriveby, train-day, train-leaveat\n",
      "\n",
      "Utterance: I think you're confused. I need the info, you're the help desk.\n",
      "True Labels: train-arriveby, train-bookpeople, train-day, train-departure, train-destination, train-leaveat\n",
      "Predicted Labels: hotel-area, hotel-bookday, hotel-internet, hotel-name, hotel-type, train-arriveby, train-day, train-leaveat\n",
      "\n",
      "Utterance: That's more like it. And, what's the reference number?\n",
      "True Labels: train-arriveby, train-bookpeople, train-day, train-departure, train-destination, train-leaveat\n",
      "Predicted Labels: hotel-area, hotel-bookday, hotel-internet, hotel-name, hotel-type, train-arriveby, train-day, train-leaveat\n",
      "\n",
      "Utterance: That was all. Thank you\n",
      "True Labels: train-arriveby, train-bookpeople, train-day, train-departure, train-destination, train-leaveat\n",
      "Predicted Labels: hotel-area, hotel-bookday, hotel-internet, hotel-name, hotel-type, train-arriveby, train-day, train-leaveat\n",
      "\n",
      "Utterance: I would like to take a train from leicester that arrives by 16:15.\n",
      "True Labels: train-arriveby, train-departure\n",
      "Predicted Labels: hotel-area, hotel-bookday, hotel-internet, hotel-name, hotel-type, train-arriveby, train-day, train-leaveat\n",
      "\n",
      "Utterance: I need the train to go to Cambridge and leave on Saturday.\n",
      "True Labels: train-arriveby, train-day, train-departure, train-destination\n",
      "Predicted Labels: hotel-area, hotel-bookday, hotel-internet, hotel-name, hotel-type, train-arriveby, train-day, train-leaveat\n",
      "\n",
      "Utterance: I just need to know the price of the ticket and travel time between Leicester and Cambridge.\n",
      "True Labels: train-arriveby, train-day, train-departure, train-destination\n",
      "Predicted Labels: hotel-area, hotel-bookday, hotel-internet, hotel-name, hotel-type, train-arriveby, train-day, train-leaveat\n",
      "\n",
      "Utterance: I need help finding a train leaving Cambridge after 20:45.\n",
      "True Labels: train-departure, train-leaveat\n",
      "Predicted Labels: hotel-area, hotel-bookday, hotel-internet, hotel-name, hotel-type, train-arriveby, train-day, train-leaveat\n",
      "\n",
      "Utterance: I need to get to london liverpool street.\n",
      "True Labels: train-departure, train-destination, train-leaveat\n",
      "Predicted Labels: hotel-area, hotel-bookday, hotel-internet, hotel-name, hotel-type, train-arriveby, train-day, train-leaveat\n",
      "\n",
      "Utterance: I would like to leave on Thursday\n",
      "True Labels: train-day, train-departure, train-destination, train-leaveat\n",
      "Predicted Labels: hotel-area, hotel-bookday, hotel-internet, hotel-name, hotel-type, train-arriveby, train-day, train-leaveat\n",
      "\n",
      "Utterance: Thanks, that's all. Good bye.\n",
      "True Labels: train-arriveby, train-bookpeople, train-day, train-departure, train-destination, train-leaveat\n",
      "Predicted Labels: hotel-area, hotel-bookday, hotel-internet, hotel-name, hotel-type, train-arriveby, train-day, train-leaveat\n",
      "\n",
      "Utterance: Stansted Airport. And I'm headed to Cambridge.\n",
      "True Labels: train-departure, train-destination\n",
      "Predicted Labels: hotel-area, hotel-bookday, hotel-internet, hotel-name, hotel-type, train-arriveby, train-day, train-leaveat\n",
      "\n",
      "Utterance: I'll be travelling on Monday.\n",
      "True Labels: train-day, train-departure, train-destination\n",
      "Predicted Labels: hotel-area, hotel-bookday, hotel-internet, hotel-name, hotel-type, train-arriveby, train-day, train-leaveat\n",
      "\n",
      "Utterance: anytime after 13:00\n",
      "True Labels: train-day, train-departure, train-destination, train-leaveat\n",
      "Predicted Labels: hotel-area, hotel-bookday, hotel-internet, hotel-name, hotel-type, train-arriveby, train-day, train-leaveat\n",
      "\n",
      "Utterance: I don't need it booked, just please forward me the train ID and arrival time.\n",
      "True Labels: train-day, train-departure, train-destination, train-leaveat\n",
      "Predicted Labels: hotel-area, hotel-bookday, hotel-internet, hotel-name, hotel-type, train-arriveby, train-day, train-leaveat\n",
      "\n",
      "Utterance: I need a train to Broxbourne, leaving after 09:15\n",
      "True Labels: train-destination, train-leaveat\n",
      "Predicted Labels: hotel-area, hotel-bookday, hotel-internet, hotel-name, hotel-type, train-arriveby, train-day, train-leaveat\n",
      "\n",
      "Utterance: I would like to depart from cambridge on friday\n",
      "True Labels: train-bookpeople, train-day, train-departure, train-destination, train-leaveat\n",
      "Predicted Labels: hotel-area, hotel-bookday, hotel-internet, hotel-name, hotel-type, train-arriveby, train-day, train-leaveat\n",
      "\n",
      "Utterance: What time will I arrive?\n",
      "True Labels: train-bookpeople, train-day, train-departure, train-destination, train-leaveat\n",
      "Predicted Labels: hotel-area, hotel-bookday, hotel-internet, hotel-name, hotel-type, train-arriveby, train-day, train-leaveat\n",
      "\n",
      "Utterance: How long is the train ride?\n",
      "True Labels: train-bookpeople, train-day, train-departure, train-destination, train-leaveat\n",
      "Predicted Labels: hotel-area, hotel-bookday, hotel-internet, hotel-name, hotel-type, train-arriveby, train-day, train-leaveat\n",
      "\n",
      "Utterance: Thank you! That's all I needed.\n",
      "True Labels: train-bookpeople, train-day, train-departure, train-destination, train-leaveat\n",
      "Predicted Labels: hotel-area, hotel-bookday, hotel-internet, hotel-name, hotel-type, train-arriveby, train-day, train-leaveat\n",
      "\n",
      "Utterance: i am looking for a train that will arrive at 20:45 and leaving on sunday\n",
      "True Labels: train-arriveby, train-day\n",
      "Predicted Labels: hotel-area, hotel-bookday, hotel-internet, hotel-name, hotel-type, train-arriveby, train-day, train-leaveat\n",
      "\n",
      "Utterance: Cambridge, and I need it go to Bishops Stortford.\n",
      "True Labels: train-arriveby, train-day, train-departure, train-destination\n",
      "Predicted Labels: hotel-area, hotel-bookday, hotel-internet, hotel-name, hotel-type, train-arriveby, train-day, train-leaveat\n",
      "\n",
      "Utterance: I don't care. I just want to arrive at 20:45.\n",
      "True Labels: train-arriveby, train-day, train-departure, train-destination\n",
      "Predicted Labels: hotel-area, hotel-bookday, hotel-internet, hotel-name, hotel-type, train-arriveby, train-day, train-leaveat\n",
      "\n",
      "Utterance: Can I please speak with the manager? Giving me all this information at once is not helpful.\n",
      "True Labels: train-arriveby, train-day, train-departure, train-destination\n",
      "Predicted Labels: hotel-area, hotel-bookday, hotel-internet, hotel-name, hotel-type, train-arriveby, train-day, train-leaveat\n",
      "\n",
      "Utterance: Yes, could you please give me the travel time, and departure time?\n",
      "True Labels: train-arriveby, train-day, train-departure, train-destination\n",
      "Predicted Labels: hotel-area, hotel-bookday, hotel-internet, hotel-name, hotel-type, train-arriveby, train-day, train-leaveat\n",
      "\n",
      "Utterance: Thanks, that is all I need. good bye.\n",
      "True Labels: train-arriveby, train-day, train-departure, train-destination\n",
      "Predicted Labels: hotel-area, hotel-bookday, hotel-internet, hotel-name, hotel-type, train-arriveby, train-day, train-leaveat\n",
      "\n",
      "Utterance: Hello! I'm looking for a train leaving on saturday going to cambridge.\n",
      "True Labels: train-day, train-destination\n",
      "Predicted Labels: hotel-area, hotel-bookday, hotel-internet, hotel-name, hotel-type, train-arriveby, train-day, train-leaveat\n",
      "\n",
      "Utterance: I'd like to leave after 19:30.\n",
      "True Labels: train-day, train-destination, train-leaveat\n",
      "Predicted Labels: hotel-area, hotel-bookday, hotel-internet, hotel-name, hotel-type, train-arriveby, train-day, train-leaveat\n",
      "\n",
      "Utterance: I am leaving from Broxbourne and it should leave after 19:30. I would also like a booking for 6 people.\n",
      "True Labels: train-bookpeople, train-day, train-departure, train-destination, train-leaveat\n",
      "Predicted Labels: hotel-area, hotel-bookday, hotel-internet, hotel-name, hotel-type, train-arriveby, train-day, train-leaveat\n",
      "\n",
      "Utterance: Yes thank you that's all I needed!\n",
      "True Labels: train-bookpeople, train-day, train-departure, train-destination, train-leaveat\n",
      "Predicted Labels: hotel-area, hotel-bookday, hotel-internet, hotel-name, hotel-type, train-arriveby, train-day, train-leaveat\n",
      "\n",
      "Utterance: i am looking for a train. The train should leave on Monday and should arrive by 12:45.\n",
      "True Labels: train-arriveby, train-day\n",
      "Predicted Labels: hotel-area, hotel-bookday, hotel-internet, hotel-name, hotel-type, train-arriveby, train-day, train-leaveat\n",
      "\n",
      "Utterance: I would like to depart from Cambridge, and travel to Bishops Stortford.\n",
      "True Labels: train-arriveby, train-day, train-departure, train-destination\n",
      "Predicted Labels: hotel-area, hotel-bookday, hotel-internet, hotel-name, hotel-type, train-arriveby, train-day, train-leaveat\n",
      "\n",
      "Utterance: I want to get there by 12:45.\n",
      "True Labels: train-arriveby, train-day, train-departure, train-destination\n",
      "Predicted Labels: hotel-area, hotel-bookday, hotel-internet, hotel-name, hotel-type, train-arriveby, train-day, train-leaveat\n",
      "\n",
      "Utterance: I need to book it right now but what is that travel time?\n",
      "True Labels: train-arriveby, train-day, train-departure, train-destination\n",
      "Predicted Labels: hotel-area, hotel-bookday, hotel-internet, hotel-name, hotel-type, train-arriveby, train-day, train-leaveat\n",
      "\n",
      "Utterance: What is the price for that train?\n",
      "True Labels: train-arriveby, train-day, train-departure, train-destination, train-leaveat\n",
      "Predicted Labels: hotel-area, hotel-bookday, hotel-internet, hotel-name, hotel-type, train-arriveby, train-day, train-leaveat\n",
      "\n",
      "Utterance: Not right now. I need to make sure of how many of us can go. Thank you\n",
      "True Labels: train-arriveby, train-day, train-departure, train-destination, train-leaveat\n",
      "Predicted Labels: hotel-area, hotel-bookday, hotel-internet, hotel-name, hotel-type, train-arriveby, train-day, train-leaveat\n",
      "\n",
      "Utterance: I'm looking for a train leaving on sunday going to cambridge.\n",
      "True Labels: train-day, train-destination\n",
      "Predicted Labels: hotel-area, hotel-bookday, hotel-internet, hotel-name, hotel-type, train-arriveby, train-day, train-leaveat\n",
      "\n",
      "Utterance: I want to depart from London Liverpool Street after 15:00.\n",
      "True Labels: train-day, train-departure, train-destination, train-leaveat\n",
      "Predicted Labels: hotel-area, hotel-bookday, hotel-internet, hotel-name, hotel-type, train-arriveby, train-day, train-leaveat\n",
      "\n",
      "Utterance: No, I will book it myself later. Thanks, that's all I need.\n",
      "True Labels: train-day, train-departure, train-destination, train-leaveat\n",
      "Predicted Labels: hotel-area, hotel-bookday, hotel-internet, hotel-name, hotel-type, train-arriveby, train-day, train-leaveat\n",
      "\n",
      "Utterance: Could you help me find a train? I am looking for one to take me to Cambridge and I need it to leave by 17:45 on Saturday.\n",
      "True Labels: train-day, train-destination, train-leaveat\n",
      "Predicted Labels: hotel-area, hotel-bookday, hotel-internet, hotel-name, hotel-type, train-arriveby, train-day, train-leaveat\n",
      "\n",
      "Utterance: I am leaving from cambridge heading to norwich please.\n",
      "True Labels: train-day, train-departure, train-destination, train-leaveat\n",
      "Predicted Labels: hotel-area, hotel-bookday, hotel-internet, hotel-name, hotel-type, train-arriveby, train-day, train-leaveat\n",
      "\n",
      "Utterance: Yes, that would be fine.\n",
      "True Labels: train-day, train-departure, train-destination, train-leaveat\n",
      "Predicted Labels: hotel-area, hotel-bookday, hotel-internet, hotel-name, hotel-type, train-arriveby, train-day, train-leaveat\n",
      "\n",
      "Utterance: I need to book the train for four people, and I'll need the reference number, please.\n",
      "True Labels: train-bookpeople, train-day, train-departure, train-destination, train-leaveat\n",
      "Predicted Labels: hotel-area, hotel-bookday, hotel-internet, hotel-name, hotel-type, train-arriveby, train-day, train-leaveat\n",
      "\n",
      "Utterance: No. Thank you, you were very helpful.\n",
      "True Labels: train-bookpeople, train-day, train-departure, train-destination, train-leaveat\n",
      "Predicted Labels: hotel-area, hotel-bookday, hotel-internet, hotel-name, hotel-type, train-arriveby, train-day, train-leaveat\n",
      "\n",
      "Utterance: Hi! I need a train to Leicester. I want to leave after 14:45.\n",
      "True Labels: train-destination, train-leaveat\n",
      "Predicted Labels: hotel-area, hotel-bookday, hotel-internet, hotel-name, hotel-type, train-arriveby, train-day, train-leaveat\n",
      "\n",
      "Utterance: For Thursday please and I want to go to Cambridge.\n",
      "True Labels: train-day, train-destination, train-leaveat\n",
      "Predicted Labels: hotel-area, hotel-bookday, hotel-internet, hotel-name, hotel-type, train-arriveby, train-day, train-leaveat\n",
      "\n",
      "Utterance: Actually I need a train leaving leicester going to Cambridge. Not the reverse.\n",
      "True Labels: train-day, train-departure, train-destination, train-leaveat\n",
      "Predicted Labels: hotel-area, hotel-bookday, hotel-internet, hotel-name, hotel-type, train-arriveby, train-day, train-leaveat\n",
      "\n",
      "Utterance: Yes, please. I need tickets for 5 people and a reference number, if possible.\n",
      "True Labels: train-bookpeople, train-day, train-departure, train-destination, train-leaveat\n",
      "Predicted Labels: hotel-area, hotel-bookday, hotel-internet, hotel-name, hotel-type, train-arriveby, train-day, train-leaveat\n",
      "\n",
      "Utterance: Thank you for your help.\n",
      "True Labels: train-bookpeople, train-day, train-departure, train-destination, train-leaveat\n",
      "Predicted Labels: hotel-area, hotel-bookday, hotel-internet, hotel-name, hotel-type, train-arriveby, train-day, train-leaveat\n",
      "\n",
      "Utterance: Hi I need to get to Cambridge by 5:30 PM. Is there a train for that?\n",
      "True Labels: train-arriveby, train-destination\n",
      "Predicted Labels: hotel-area, hotel-bookday, hotel-internet, hotel-name, hotel-type, train-arriveby, train-day, train-leaveat\n",
      "\n",
      "Utterance: I will be departing from Norwich on Wednesday.\n",
      "True Labels: train-arriveby, train-day, train-departure, train-destination\n",
      "Predicted Labels: hotel-area, hotel-bookday, hotel-internet, hotel-name, hotel-type, train-arriveby, train-day, train-leaveat\n",
      "\n",
      "Utterance: That would be fine. How long is the trip?\n",
      "True Labels: train-arriveby, train-day, train-departure, train-destination\n",
      "Predicted Labels: hotel-area, hotel-bookday, hotel-internet, hotel-name, hotel-type, train-arriveby, train-day, train-leaveat\n",
      "\n",
      "Utterance: Thank you for the information!\n",
      "True Labels: train-arriveby, train-day, train-departure, train-destination\n",
      "Predicted Labels: hotel-area, hotel-bookday, hotel-internet, hotel-name, hotel-type, train-arriveby, train-day, train-leaveat\n",
      "\n",
      "Utterance: Yes, one ticket is fine.\n",
      "True Labels: train-arriveby, train-bookpeople, train-day, train-departure, train-destination\n",
      "Predicted Labels: hotel-area, hotel-bookday, hotel-internet, hotel-name, hotel-type, train-arriveby, train-day, train-leaveat\n",
      "\n",
      "Utterance: Nope, that's it! Thanks!\n",
      "True Labels: train-arriveby, train-bookpeople, train-day, train-departure, train-destination\n",
      "Predicted Labels: hotel-area, hotel-bookday, hotel-internet, hotel-name, hotel-type, train-arriveby, train-day, train-leaveat\n",
      "\n",
      "Utterance: That's all thank you\n",
      "True Labels: train-arriveby, train-bookpeople, train-day, train-departure, train-destination\n",
      "Predicted Labels: hotel-area, hotel-bookday, hotel-internet, hotel-name, hotel-type, train-arriveby, train-day, train-leaveat\n",
      "\n",
      "Utterance: I am looking for a train to leave on Monday.\n",
      "True Labels: train-day\n",
      "Predicted Labels: hotel-area, hotel-bookday, hotel-internet, hotel-name, hotel-type, train-arriveby, train-day, train-leaveat\n",
      "\n",
      "Utterance: I need to arrive at bishops stortford by 20:00.\n",
      "True Labels: train-arriveby, train-day, train-destination\n",
      "Predicted Labels: hotel-area, hotel-bookday, hotel-internet, hotel-name, hotel-type, train-arriveby, train-day, train-leaveat\n",
      "\n",
      "Utterance: I just need the train ID, departure time, and price of one please\n",
      "True Labels: train-arriveby, train-day, train-destination\n",
      "Predicted Labels: hotel-area, hotel-bookday, hotel-internet, hotel-name, hotel-type, train-arriveby, train-day, train-leaveat\n",
      "\n",
      "Utterance: Can I get the price of the ticket please?\n",
      "True Labels: train-arriveby, train-day, train-departure, train-destination\n",
      "Predicted Labels: hotel-area, hotel-bookday, hotel-internet, hotel-name, hotel-type, train-arriveby, train-day, train-leaveat\n",
      "\n",
      "Utterance: No thank you. That is all.\n",
      "True Labels: train-arriveby, train-day, train-departure, train-destination\n",
      "Predicted Labels: hotel-area, hotel-bookday, hotel-internet, hotel-name, hotel-type, train-arriveby, train-day, train-leaveat\n",
      "\n",
      "Utterance: Can I please get information for a train going from cambridge to broxbourne?\n",
      "True Labels: train-departure, train-destination\n",
      "Predicted Labels: hotel-area, hotel-bookday, hotel-internet, hotel-name, hotel-type, train-arriveby, train-day, train-leaveat\n",
      "\n",
      "Utterance: I want to travel on Friday, please.\n",
      "True Labels: train-day, train-departure, train-destination\n",
      "Predicted Labels: hotel-area, hotel-bookday, hotel-internet, hotel-name, hotel-type, train-arriveby, train-day, train-leaveat\n",
      "\n",
      "Utterance: Can you give me the train ID and price of the first train that departs after 19:45?\n",
      "True Labels: train-day, train-departure, train-destination, train-leaveat\n",
      "Predicted Labels: hotel-area, hotel-bookday, hotel-internet, hotel-name, hotel-type, train-arriveby, train-day, train-leaveat\n",
      "\n",
      "Utterance: no, that's it for today\n",
      "True Labels: train-day, train-departure, train-destination, train-leaveat\n",
      "Predicted Labels: hotel-area, hotel-bookday, hotel-internet, hotel-name, hotel-type, train-arriveby, train-day, train-leaveat\n",
      "\n",
      "Utterance: Thank you for your assistance. Goodbye.\n",
      "True Labels: train-day, train-departure, train-destination, train-leaveat\n",
      "Predicted Labels: hotel-area, hotel-bookday, hotel-internet, hotel-name, hotel-type, train-arriveby, train-day, train-leaveat\n",
      "\n",
      "Utterance: Am looking for a train,it should depart from cambridge and should go to ely\n",
      "True Labels: train-departure, train-destination\n",
      "Predicted Labels: hotel-area, hotel-bookday, hotel-internet, hotel-name, hotel-type, train-arriveby, train-day, train-leaveat\n",
      "\n",
      "Utterance: I need to travel on wednesday and get there by 17:15.\n",
      "True Labels: train-arriveby, train-day, train-departure, train-destination\n",
      "Predicted Labels: hotel-area, hotel-bookday, hotel-internet, hotel-name, hotel-type, train-arriveby, train-day, train-leaveat\n",
      "\n",
      "Utterance: Can you give me the price?\n",
      "True Labels: train-arriveby, train-day, train-departure, train-destination\n",
      "Predicted Labels: hotel-area, hotel-bookday, hotel-internet, hotel-name, hotel-type, train-arriveby, train-day, train-leaveat\n",
      "\n",
      "Utterance: Alright. I'll take it! That train will be perfect.\n",
      "True Labels: train-arriveby, train-day, train-departure, train-destination\n",
      "Predicted Labels: hotel-area, hotel-bookday, hotel-internet, hotel-name, hotel-type, train-arriveby, train-day, train-leaveat\n",
      "\n",
      "Utterance: Oh, I don't need to book now. I just need the information for reference. Thank you. Goodbye.\n",
      "True Labels: train-arriveby, train-day, train-departure, train-destination\n",
      "Predicted Labels: hotel-area, hotel-bookday, hotel-internet, hotel-name, hotel-type, train-arriveby, train-day, train-leaveat\n",
      "\n",
      "Utterance: I'm looking to book a train that leaves on Wednesday after 12:45, if you could help me with this that would be great!\n",
      "True Labels: train-day, train-leaveat\n",
      "Predicted Labels: hotel-area, hotel-bookday, hotel-internet, hotel-name, hotel-type, train-arriveby, train-day, train-leaveat\n",
      "\n",
      "Utterance: I'll be going to Peterborough from Cambridge.\n",
      "True Labels: train-day, train-departure, train-destination, train-leaveat\n",
      "Predicted Labels: hotel-area, hotel-bookday, hotel-internet, hotel-name, hotel-type, train-arriveby, train-day, train-leaveat\n",
      "\n",
      "Utterance: I'm sorry, I had that backwards, I need a train that departs FROM Peterborough and goes to Cambridge.\n",
      "True Labels: train-day, train-departure, train-destination, train-leaveat\n",
      "Predicted Labels: hotel-area, hotel-bookday, hotel-internet, hotel-name, hotel-type, train-arriveby, train-day, train-leaveat\n",
      "\n",
      "Utterance: Yes they are.\n",
      "True Labels: train-day, train-departure, train-destination, train-leaveat\n",
      "Predicted Labels: hotel-area, hotel-bookday, hotel-internet, hotel-name, hotel-type, train-arriveby, train-day, train-leaveat\n",
      "\n",
      "Utterance: Yes please book it for 1 person and provide the reference number\n",
      "True Labels: train-arriveby, train-bookpeople, train-day, train-departure, train-destination, train-leaveat\n",
      "Predicted Labels: hotel-area, hotel-bookday, hotel-internet, hotel-name, hotel-type, train-arriveby, train-day, train-leaveat\n",
      "\n",
      "Utterance: Thanks for the service. Good day to you!\n",
      "True Labels: train-arriveby, train-bookpeople, train-day, train-departure, train-destination, train-leaveat\n",
      "Predicted Labels: hotel-area, hotel-bookday, hotel-internet, hotel-name, hotel-type, train-arriveby, train-day, train-leaveat\n",
      "\n",
      "Utterance: I need to leave from Cambridge on Sunday.\n",
      "True Labels: train-day, train-departure\n",
      "Predicted Labels: hotel-area, hotel-bookday, hotel-internet, hotel-name, hotel-type, train-arriveby, train-day, train-leaveat\n",
      "\n",
      "Utterance: Well, I'm thinking I need to leave sometime after 10:45 for Norwich.\n",
      "True Labels: train-day, train-departure, train-destination, train-leaveat\n",
      "Predicted Labels: hotel-area, hotel-bookday, hotel-internet, hotel-name, hotel-type, train-arriveby, train-day, train-leaveat\n",
      "\n",
      "Utterance: Yes, I'd like one ticket please.\n",
      "True Labels: train-bookpeople, train-day, train-departure, train-destination, train-leaveat\n",
      "Predicted Labels: hotel-area, hotel-bookday, hotel-internet, hotel-name, hotel-type, train-arriveby, train-day, train-leaveat\n",
      "\n",
      "Utterance: Thank you very much. I am all set. Have a nice day.\n",
      "True Labels: train-bookpeople, train-day, train-departure, train-destination, train-leaveat\n",
      "Predicted Labels: hotel-area, hotel-bookday, hotel-internet, hotel-name, hotel-type, train-arriveby, train-day, train-leaveat\n",
      "\n",
      "Utterance: Hi there. I need to book a train from Cambridge to Broxbourne.\n",
      "True Labels: train-departure, train-destination\n",
      "Predicted Labels: hotel-area, hotel-bookday, hotel-internet, hotel-name, hotel-type, train-arriveby, train-day, train-leaveat\n",
      "\n",
      "Utterance: I'm sorry, I actually need to travel from Broxbourne to Cambridge. And yes, I actually do need to leave after 13:00 on Tuesday.\n",
      "True Labels: train-day, train-departure, train-destination, train-leaveat\n",
      "Predicted Labels: hotel-area, hotel-bookday, hotel-internet, hotel-name, hotel-type, train-arriveby, train-day, train-leaveat\n",
      "\n",
      "Utterance: Yes, that would be great. I need 8 seats.\n",
      "True Labels: train-bookpeople, train-day, train-departure, train-destination, train-leaveat\n",
      "Predicted Labels: hotel-area, hotel-bookday, hotel-internet, hotel-name, hotel-type, train-arriveby, train-day, train-leaveat\n",
      "\n",
      "Utterance: No, that's all I need. Thanks.\n",
      "True Labels: train-bookpeople, train-day, train-departure, train-destination, train-leaveat\n",
      "Predicted Labels: hotel-area, hotel-bookday, hotel-internet, hotel-name, hotel-type, train-arriveby, train-day, train-leaveat\n",
      "\n",
      "Utterance: I'd like a train to Leicester to arrive by 9:45.\n",
      "True Labels: train-arriveby, train-destination\n",
      "Predicted Labels: hotel-area, hotel-bookday, hotel-internet, hotel-name, hotel-type, train-arriveby, train-day, train-leaveat\n",
      "\n",
      "Utterance: I'd like to leave from Cambridge, please.\n",
      "True Labels: train-arriveby, train-departure, train-destination\n",
      "Predicted Labels: hotel-area, hotel-bookday, hotel-internet, hotel-name, hotel-type, train-arriveby, train-day, train-leaveat\n",
      "\n",
      "Utterance: I need to leave on Tuesday.\n",
      "True Labels: train-arriveby, train-day, train-departure, train-destination\n",
      "Predicted Labels: hotel-area, hotel-bookday, hotel-internet, hotel-name, hotel-type, train-arriveby, train-day, train-leaveat\n",
      "\n",
      "Utterance: I sure would, thanks. I will need seats for 8 people.\n",
      "True Labels: train-arriveby, train-bookpeople, train-day, train-departure, train-destination\n",
      "Predicted Labels: hotel-area, hotel-bookday, hotel-internet, hotel-name, hotel-type, train-arriveby, train-day, train-leaveat\n",
      "\n",
      "Utterance: No thank you. Have a great day!\n",
      "True Labels: train-arriveby, train-bookpeople, train-day, train-departure, train-destination\n",
      "Predicted Labels: hotel-area, hotel-bookday, hotel-internet, hotel-name, hotel-type, train-arriveby, train-day, train-leaveat\n",
      "\n",
      "Utterance: Hello, I'd like some information on a train going to cambridge.\n",
      "True Labels: train-destination\n",
      "Predicted Labels: hotel-area, hotel-bookday, hotel-internet, hotel-name, hotel-type, train-arriveby, train-day, train-leaveat\n",
      "\n",
      "Utterance: I am leaving Stevenage on Thursday and I want to arrive by 10:15.\n",
      "True Labels: train-day, train-departure, train-destination\n",
      "Predicted Labels: hotel-area, hotel-bookday, hotel-internet, hotel-name, hotel-type, train-arriveby, train-day, train-leaveat\n",
      "\n",
      "Utterance: I need the train Thursday\n",
      "True Labels: train-day, train-departure, train-destination\n",
      "Predicted Labels: hotel-area, hotel-bookday, hotel-internet, hotel-name, hotel-type, train-arriveby, train-day, train-leaveat\n",
      "\n",
      "Utterance: I am looking to book a train. I need to leave Cambridge and go to London Liverpool Street.\n",
      "True Labels: train-departure, train-destination\n",
      "Predicted Labels: hotel-area, hotel-bookday, hotel-internet, hotel-name, hotel-type, train-arriveby, train-day, train-leaveat\n",
      "\n",
      "Utterance: yes. i should leave after 13:45 and should leave on thursday\n",
      "True Labels: train-day, train-departure, train-destination, train-leaveat\n",
      "Predicted Labels: hotel-area, hotel-bookday, hotel-internet, hotel-name, hotel-type, train-arriveby, train-day, train-leaveat\n",
      "\n",
      "Utterance: Could you tell me when the train arrives in London Liverpool Street?\n",
      "True Labels: train-day, train-departure, train-destination, train-leaveat\n",
      "Predicted Labels: hotel-area, hotel-bookday, hotel-internet, hotel-name, hotel-type, train-arriveby, train-day, train-leaveat\n",
      "\n",
      "Utterance: yes pliz.may i also get the arrival time\n",
      "True Labels: train-day, train-departure, train-destination, train-leaveat\n",
      "Predicted Labels: hotel-area, hotel-bookday, hotel-internet, hotel-name, hotel-type, train-arriveby, train-day, train-leaveat\n",
      "\n",
      "Utterance: Not yet. I just needed to get the details. Thanks for helping me. Goodbye.\n",
      "True Labels: train-day, train-departure, train-destination, train-leaveat\n",
      "Predicted Labels: hotel-area, hotel-bookday, hotel-internet, hotel-name, hotel-type, train-arriveby, train-day, train-leaveat\n",
      "\n",
      "Utterance: I'd like to take the train to cambridge from birmingham new street on tuesday, can you help me with that?\n",
      "True Labels: train-day, train-departure, train-destination\n",
      "Predicted Labels: hotel-area, hotel-bookday, hotel-internet, hotel-name, hotel-type, train-arriveby, train-day, train-leaveat\n",
      "\n",
      "Utterance: Yes, I'd like to arrive by 19:30, please.\n",
      "True Labels: train-arriveby, train-day, train-departure, train-destination\n",
      "Predicted Labels: hotel-area, hotel-bookday, hotel-internet, hotel-name, hotel-type, train-arriveby, train-day, train-leaveat\n",
      "\n",
      "Utterance: Yes, book please and I need travel tome and price\n",
      "True Labels: train-arriveby, train-day, train-departure, train-destination\n",
      "Predicted Labels: hotel-area, hotel-bookday, hotel-internet, hotel-name, hotel-type, train-arriveby, train-day, train-leaveat\n",
      "\n",
      "Utterance: I only need one ticket today.\n",
      "True Labels: train-arriveby, train-bookpeople, train-day, train-departure, train-destination\n",
      "Predicted Labels: hotel-area, hotel-bookday, hotel-internet, hotel-name, hotel-type, train-arriveby, train-day, train-leaveat\n",
      "\n",
      "Utterance: No, thank you for your help\n",
      "True Labels: train-arriveby, train-bookpeople, train-day, train-departure, train-destination\n",
      "Predicted Labels: hotel-area, hotel-bookday, hotel-internet, hotel-name, hotel-type, train-arriveby, train-day, train-leaveat\n",
      "\n",
      "Utterance: I'd like to find a train arriving in peterborough by 8:00.\n",
      "True Labels: train-arriveby, train-destination\n",
      "Predicted Labels: hotel-area, hotel-bookday, hotel-internet, hotel-name, hotel-type, train-arriveby, train-day, train-leaveat\n",
      "\n",
      "Utterance: I am planning to travel on Thursday.\n",
      "True Labels: train-arriveby, train-day, train-departure, train-destination\n",
      "Predicted Labels: hotel-area, hotel-bookday, hotel-internet, hotel-name, hotel-type, train-arriveby, train-day, train-leaveat\n",
      "\n",
      "Utterance: Yes, I'll need 4 tickets please.\n",
      "True Labels: train-arriveby, train-bookpeople, train-day, train-departure, train-destination\n",
      "Predicted Labels: hotel-area, hotel-bookday, hotel-internet, hotel-name, hotel-type, train-arriveby, train-day, train-leaveat\n",
      "\n",
      "Utterance: Great, thanks! That's all I needed.\n",
      "True Labels: train-arriveby, train-bookpeople, train-day, train-departure, train-destination\n",
      "Predicted Labels: hotel-area, hotel-bookday, hotel-internet, hotel-name, hotel-type, train-arriveby, train-day, train-leaveat\n",
      "\n",
      "Utterance: I am looking for a train to London Kings Cross that departs after 08:15.\n",
      "True Labels: train-destination, train-leaveat\n",
      "Predicted Labels: hotel-area, hotel-bookday, hotel-internet, hotel-name, hotel-type, train-arriveby, train-day, train-leaveat\n",
      "\n",
      "Utterance: I'll be travelling on a Wednesday.\n",
      "True Labels: train-destination, train-leaveat\n",
      "Predicted Labels: hotel-area, hotel-bookday, hotel-internet, hotel-name, hotel-type, train-arriveby, train-day, train-leaveat\n",
      "\n",
      "Utterance: Yes. What do you have available?\n",
      "True Labels: train-departure, train-destination, train-leaveat\n",
      "Predicted Labels: hotel-area, hotel-bookday, hotel-internet, hotel-name, hotel-type, train-arriveby, train-day, train-leaveat\n",
      "\n",
      "Utterance: That's great. Please book me two tickets.\n",
      "True Labels: train-bookpeople, train-departure, train-destination, train-leaveat\n",
      "Predicted Labels: hotel-area, hotel-bookday, hotel-internet, hotel-name, hotel-type, train-arriveby, train-day, train-leaveat\n",
      "\n",
      "Utterance: No thank you, that is all.\n",
      "True Labels: train-bookpeople, train-departure, train-destination, train-leaveat\n",
      "Predicted Labels: hotel-area, hotel-bookday, hotel-internet, hotel-name, hotel-type, train-arriveby, train-day, train-leaveat\n",
      "\n",
      "Utterance: I want to get train tickets for Monday please, leaving from Cambridge, if you would.\n",
      "True Labels: train-day, train-departure\n",
      "Predicted Labels: hotel-area, hotel-bookday, hotel-internet, hotel-name, hotel-type, train-arriveby, train-day, train-leaveat\n",
      "\n",
      "Utterance: Hello I need to arrive at london kings cross no later than 16:45.\n",
      "True Labels: train-arriveby, train-day, train-departure, train-destination\n",
      "Predicted Labels: hotel-area, hotel-bookday, hotel-internet, hotel-name, hotel-type, train-arriveby, train-day, train-leaveat\n",
      "\n",
      "Utterance: I don't have a preference on leave time.\n",
      "True Labels: train-arriveby, train-day, train-departure, train-destination\n",
      "Predicted Labels: hotel-area, hotel-bookday, hotel-internet, hotel-name, hotel-type, train-arriveby, train-day, train-leaveat\n",
      "\n",
      "Utterance: thank you. can i get the reference number please\n",
      "True Labels: train-arriveby, train-day, train-departure, train-destination\n",
      "Predicted Labels: hotel-area, hotel-bookday, hotel-internet, hotel-name, hotel-type, train-arriveby, train-day, train-leaveat\n",
      "\n",
      "Utterance: I don't need to book any tickets. I'll need the departure time, travel time and train id if you could specify them instead of just sending numbers.\n",
      "True Labels: train-arriveby, train-day, train-departure, train-destination\n",
      "Predicted Labels: hotel-area, hotel-bookday, hotel-internet, hotel-name, hotel-type, train-arriveby, train-day, train-leaveat\n",
      "\n",
      "Utterance: Okay, I believe that's all I need. Thanks for your help.\n",
      "True Labels: train-arriveby, train-day, train-departure, train-destination\n",
      "Predicted Labels: hotel-area, hotel-bookday, hotel-internet, hotel-name, hotel-type, train-arriveby, train-day, train-leaveat\n",
      "\n",
      "Utterance: No, thanks. Nothing else.\n",
      "True Labels: train-arriveby, train-day, train-departure, train-destination\n",
      "Predicted Labels: hotel-area, hotel-bookday, hotel-internet, hotel-name, hotel-type, train-arriveby, train-day, train-leaveat\n",
      "\n",
      "Utterance: Hi! I need a train from London Liverpool street sometime after 19:30, please.\n",
      "True Labels: train-departure\n",
      "Predicted Labels: hotel-area, hotel-bookday, hotel-internet, hotel-name, hotel-type, train-arriveby, train-day, train-leaveat\n",
      "\n",
      "Utterance: I would like to go this Saturday to Cambridge.\n",
      "True Labels: train-day, train-departure, train-destination, train-leaveat\n",
      "Predicted Labels: hotel-area, hotel-bookday, hotel-internet, hotel-name, hotel-type, train-arriveby, train-day, train-leaveat\n",
      "\n",
      "Utterance: I'll take the 21:39, I'll need 7 tickets please.\n",
      "True Labels: train-bookpeople, train-day, train-departure, train-destination, train-leaveat\n",
      "Predicted Labels: hotel-area, hotel-bookday, hotel-internet, hotel-name, hotel-type, train-arriveby, train-day, train-leaveat\n",
      "\n",
      "Utterance: You have been very helpful. Thank you. Goodbye.\n",
      "True Labels: train-bookpeople, train-day, train-departure, train-destination, train-leaveat\n",
      "Predicted Labels: hotel-area, hotel-bookday, hotel-internet, hotel-name, hotel-type, train-arriveby, train-day, train-leaveat\n",
      "\n",
      "Utterance: I'm looking for a train going to london liverpool street.\n",
      "True Labels: train-destination\n",
      "Predicted Labels: hotel-area, hotel-bookday, hotel-internet, hotel-name, hotel-type, train-arriveby, train-day, train-leaveat\n",
      "\n",
      "Utterance: I am actually leaving on Saturday from cambridge.\n",
      "True Labels: train-day, train-destination\n",
      "Predicted Labels: hotel-area, hotel-bookday, hotel-internet, hotel-name, hotel-type, train-arriveby, train-day, train-leaveat\n",
      "\n",
      "Utterance: Great, can you please book it for 2 people and give me the reference number? Thanks.\n",
      "True Labels: train-day, train-departure, train-destination\n",
      "Predicted Labels: hotel-area, hotel-bookday, hotel-internet, hotel-name, hotel-type, train-arriveby, train-day, train-leaveat\n",
      "\n",
      "Utterance: I want to book a train. I would like to depart from cambridge and arrive by 16:45\n",
      "True Labels: train-arriveby, train-departure\n",
      "Predicted Labels: hotel-area, hotel-bookday, hotel-internet, hotel-name, hotel-type, train-arriveby, train-day, train-leaveat\n",
      "\n",
      "Utterance: The train should depart from cambridge and should arrive by 16:45. Going to Ely\n",
      "True Labels: train-arriveby, train-departure, train-destination\n",
      "Predicted Labels: hotel-area, hotel-bookday, hotel-internet, hotel-name, hotel-type, train-arriveby, train-day, train-leaveat\n",
      "\n",
      "Utterance: I would like to go on Saturday.\n",
      "True Labels: train-arriveby, train-day, train-departure, train-destination\n",
      "Predicted Labels: hotel-area, hotel-bookday, hotel-internet, hotel-name, hotel-type, train-arriveby, train-day, train-leaveat\n",
      "\n",
      "Utterance: Sure, I would like to book that train for 4 passengers.\n",
      "True Labels: train-arriveby, train-bookpeople, train-day, train-departure, train-destination\n",
      "Predicted Labels: hotel-area, hotel-bookday, hotel-internet, hotel-name, hotel-type, train-arriveby, train-day, train-leaveat\n",
      "\n",
      "Utterance: That's wonderful. I am all set. Thank you. Goodbye.\n",
      "True Labels: train-arriveby, train-bookpeople, train-day, train-departure, train-destination\n",
      "Predicted Labels: hotel-area, hotel-bookday, hotel-internet, hotel-name, hotel-type, train-arriveby, train-day, train-leaveat\n",
      "\n",
      "Utterance: I need a train into cambridge leaving after 20:30, please.\n",
      "True Labels: train-destination, train-leaveat\n",
      "Predicted Labels: hotel-area, hotel-bookday, hotel-internet, hotel-name, hotel-type, train-arriveby, train-day, train-leaveat\n",
      "\n",
      "Utterance: I'm leaving London Liverpool Street on Sunday after 20:30.\n",
      "True Labels: train-day, train-departure, train-destination, train-leaveat\n",
      "Predicted Labels: hotel-area, hotel-bookday, hotel-internet, hotel-name, hotel-type, train-arriveby, train-day, train-leaveat\n",
      "\n",
      "Utterance: There are none closer to a 20:30 departure?\n",
      "True Labels: train-day, train-departure, train-destination, train-leaveat\n",
      "Predicted Labels: hotel-area, hotel-bookday, hotel-internet, hotel-name, hotel-type, train-arriveby, train-day, train-leaveat\n",
      "\n",
      "Utterance: That works. What is the price on that? And how long is the ride?\n",
      "True Labels: train-day, train-departure, train-destination, train-leaveat\n",
      "Predicted Labels: hotel-area, hotel-bookday, hotel-internet, hotel-name, hotel-type, train-arriveby, train-day, train-leaveat\n",
      "\n",
      "Utterance: No, I'm not ready to book yet. Thanks for your help. I am all set.\n",
      "True Labels: train-day, train-departure, train-destination, train-leaveat\n",
      "Predicted Labels: hotel-area, hotel-bookday, hotel-internet, hotel-name, hotel-type, train-arriveby, train-day, train-leaveat\n",
      "\n",
      "Utterance: That is all. Thank you.\n",
      "True Labels: train-day, train-departure, train-destination, train-leaveat\n",
      "Predicted Labels: hotel-area, hotel-bookday, hotel-internet, hotel-name, hotel-type, train-arriveby, train-day, train-leaveat\n",
      "\n",
      "Utterance: Could you help me find a train? I am looking for one to take me to Cambridge and I need it to leave by 17:45 on Saturday.\n",
      "True Labels: train-day, train-destination, train-leaveat\n",
      "Predicted Labels: hotel-area, hotel-bookday, hotel-internet, hotel-name, hotel-type, train-arriveby, train-day, train-leaveat\n",
      "\n",
      "Utterance: I am leaving from cambridge heading to norwich please.\n",
      "True Labels: train-day, train-departure, train-destination, train-leaveat\n",
      "Predicted Labels: hotel-area, hotel-bookday, hotel-internet, hotel-name, hotel-type, train-arriveby, train-day, train-leaveat\n",
      "\n",
      "Utterance: Yes, that would be fine.\n",
      "True Labels: train-day, train-departure, train-destination, train-leaveat\n",
      "Predicted Labels: hotel-area, hotel-bookday, hotel-internet, hotel-name, hotel-type, train-arriveby, train-day, train-leaveat\n",
      "\n",
      "Utterance: I need to book the train for four people, and I'll need the reference number, please.\n",
      "True Labels: train-bookpeople, train-day, train-departure, train-destination, train-leaveat\n",
      "Predicted Labels: hotel-area, hotel-bookday, hotel-internet, hotel-name, hotel-type, train-arriveby, train-day, train-leaveat\n",
      "\n",
      "Utterance: No. Thank you, you were very helpful.\n",
      "True Labels: train-bookpeople, train-day, train-departure, train-destination, train-leaveat\n",
      "Predicted Labels: hotel-area, hotel-bookday, hotel-internet, hotel-name, hotel-type, train-arriveby, train-day, train-leaveat\n",
      "\n",
      "Utterance: I'd like to find a train that leaves after 17:00 on Saturday.\n",
      "True Labels: train-day, train-leaveat\n",
      "Predicted Labels: hotel-area, hotel-bookday, hotel-internet, hotel-name, hotel-type, train-arriveby, train-day, train-leaveat\n",
      "\n",
      "Utterance: I'll be departing from Broxbourne and I'd like to go to Cambridge.\n",
      "True Labels: train-day, train-departure, train-destination, train-leaveat\n",
      "Predicted Labels: hotel-area, hotel-bookday, hotel-internet, hotel-name, hotel-type, train-arriveby, train-day, train-leaveat\n",
      "\n",
      "Utterance: I'm not looking to book at the moment, can I just get the train ID? Thanks!\n",
      "True Labels: train-day, train-departure, train-destination, train-leaveat\n",
      "Predicted Labels: hotel-area, hotel-bookday, hotel-internet, hotel-name, hotel-type, train-arriveby, train-day, train-leaveat\n",
      "\n",
      "Utterance: That is all I need for today. thank you. Goodbye.\n",
      "True Labels: train-day, train-departure, train-destination, train-leaveat\n",
      "Predicted Labels: hotel-area, hotel-bookday, hotel-internet, hotel-name, hotel-type, train-arriveby, train-day, train-leaveat\n",
      "\n",
      "Utterance: I'm are looking for a train. The train should go to cambridge and should leave on saturday.\n",
      "True Labels: train-day, train-destination\n",
      "Predicted Labels: hotel-area, hotel-bookday, hotel-internet, hotel-name, hotel-type, train-arriveby, train-day, train-leaveat\n",
      "\n",
      "Utterance: I will be departing from Norwich.\n",
      "True Labels: train-day, train-departure, train-destination\n",
      "Predicted Labels: hotel-area, hotel-bookday, hotel-internet, hotel-name, hotel-type, train-arriveby, train-day, train-leaveat\n",
      "\n",
      "Utterance: I would like to leave after 14:30 .\n",
      "True Labels: train-day, train-departure, train-destination, train-leaveat\n",
      "Predicted Labels: hotel-area, hotel-bookday, hotel-internet, hotel-name, hotel-type, train-arriveby, train-day, train-leaveat\n",
      "\n",
      "Utterance: Yes. That works. I need 3 tickets, please.\n",
      "True Labels: train-bookpeople, train-day, train-departure, train-destination, train-leaveat\n",
      "Predicted Labels: hotel-area, hotel-bookday, hotel-internet, hotel-name, hotel-type, train-arriveby, train-day, train-leaveat\n",
      "\n",
      "Utterance: Great, thank you for your help!\n",
      "True Labels: train-bookpeople, train-day, train-departure, train-destination, train-leaveat\n",
      "Predicted Labels: hotel-area, hotel-bookday, hotel-internet, hotel-name, hotel-type, train-arriveby, train-day, train-leaveat\n",
      "\n",
      "Utterance: I want to get a train to travel from Cambridge to Bishops Stortford.\n",
      "True Labels: train-departure, train-destination\n",
      "Predicted Labels: hotel-area, hotel-bookday, hotel-internet, hotel-name, hotel-type, train-arriveby, train-day, train-leaveat\n",
      "\n",
      "Utterance: I'd like to leave on Monday after 8:15, please.\n",
      "True Labels: train-day, train-departure, train-destination, train-leaveat\n",
      "Predicted Labels: hotel-area, hotel-bookday, hotel-internet, hotel-name, hotel-type, train-arriveby, train-day, train-leaveat\n",
      "\n",
      "Utterance: No, that sounds good.\n",
      "True Labels: train-day, train-departure, train-destination, train-leaveat\n",
      "Predicted Labels: hotel-area, hotel-bookday, hotel-internet, hotel-name, hotel-type, train-arriveby, train-day, train-leaveat\n",
      "\n",
      "Utterance: Just one ticket please.\n",
      "True Labels: train-bookpeople, train-day, train-departure, train-destination, train-leaveat\n",
      "Predicted Labels: hotel-area, hotel-bookday, hotel-internet, hotel-name, hotel-type, train-arriveby, train-day, train-leaveat\n",
      "\n",
      "Utterance: Thank you very much for the assistance\n",
      "True Labels: train-bookpeople, train-day, train-departure, train-destination, train-leaveat\n",
      "Predicted Labels: hotel-area, hotel-bookday, hotel-internet, hotel-name, hotel-type, train-arriveby, train-day, train-leaveat\n",
      "\n",
      "Utterance: No that is all I need for the day.\n",
      "True Labels: train-bookpeople, train-day, train-departure, train-destination, train-leaveat\n",
      "Predicted Labels: hotel-area, hotel-bookday, hotel-internet, hotel-name, hotel-type, train-arriveby, train-day, train-leaveat\n",
      "\n",
      "Utterance: We are leaving London Kings Cross and need to do so after 12:45 on Friday for 6 people and can I get the reference number for the booking?\n",
      "True Labels: train-bookpeople, train-day, train-departure, train-leaveat\n",
      "Predicted Labels: hotel-area, hotel-bookday, hotel-internet, hotel-name, hotel-type, train-arriveby, train-day, train-leaveat\n",
      "\n",
      "Utterance: I need to depart from London Kings Cross and go to Cambridge.\n",
      "True Labels: train-bookpeople, train-day, train-departure, train-destination, train-leaveat\n",
      "Predicted Labels: hotel-area, hotel-bookday, hotel-internet, hotel-name, hotel-type, train-arriveby, train-day, train-leaveat\n",
      "\n",
      "Utterance: Okay thank you. That is all I need.\n",
      "True Labels: train-bookpeople, train-day, train-departure, train-destination, train-leaveat\n",
      "Predicted Labels: hotel-area, hotel-bookday, hotel-internet, hotel-name, hotel-type, train-arriveby, train-day, train-leaveat\n",
      "\n",
      "Utterance: I am looking for a train departing from london liverpool street on thursday to go to cambridge.\n",
      "True Labels: train-day, train-departure, train-destination\n",
      "Predicted Labels: hotel-area, hotel-bookday, hotel-internet, hotel-name, hotel-type, train-arriveby, train-day, train-leaveat\n",
      "\n",
      "Utterance: I need to arrive by 09:30. The booking is for me only and I will need a reference number please.\n",
      "True Labels: train-arriveby, train-day, train-departure, train-destination\n",
      "Predicted Labels: hotel-area, hotel-bookday, hotel-internet, hotel-name, hotel-type, train-arriveby, train-day, train-leaveat\n",
      "\n",
      "Utterance: That sounds good. Please book me for one person and give me the reference number.\n",
      "True Labels: train-arriveby, train-bookpeople, train-day, train-departure, train-destination\n",
      "Predicted Labels: hotel-area, hotel-bookday, hotel-internet, hotel-name, hotel-type, train-arriveby, train-day, train-leaveat\n",
      "\n",
      "Utterance: No, that's everything today, thank you.\n",
      "True Labels: train-arriveby, train-bookpeople, train-day, train-departure, train-destination\n",
      "Predicted Labels: hotel-area, hotel-bookday, hotel-internet, hotel-name, hotel-type, train-arriveby, train-day, train-leaveat\n",
      "\n",
      "Utterance: Looking for atrain leaving on Tuesday to Cambridge.\n",
      "True Labels: train-day, train-departure\n",
      "Predicted Labels: hotel-area, hotel-bookday, hotel-internet, hotel-name, hotel-type, train-arriveby, train-day, train-leaveat\n",
      "\n",
      "Utterance: That's a lot. I am going to Peterborough.\n",
      "True Labels: train-day, train-departure, train-destination\n",
      "Predicted Labels: hotel-area, hotel-bookday, hotel-internet, hotel-name, hotel-type, train-arriveby, train-day, train-leaveat\n",
      "\n",
      "Utterance: The train should leave after 15:30 and should go to peterborough.\n",
      "True Labels: train-day, train-departure, train-destination, train-leaveat\n",
      "Predicted Labels: hotel-area, hotel-bookday, hotel-internet, hotel-name, hotel-type, train-arriveby, train-day, train-leaveat\n",
      "\n",
      "Utterance: No, I can arrive at anytime.\n",
      "True Labels: train-bookpeople, train-day, train-departure, train-destination, train-leaveat\n",
      "Predicted Labels: hotel-area, hotel-bookday, hotel-internet, hotel-name, hotel-type, train-arriveby, train-day, train-leaveat\n",
      "\n",
      "Utterance: Ok great, thanks for the help.\n",
      "True Labels: train-bookpeople, train-day, train-departure, train-destination, train-leaveat\n",
      "Predicted Labels: hotel-area, hotel-bookday, hotel-internet, hotel-name, hotel-type, train-arriveby, train-day, train-leaveat\n",
      "\n",
      "Utterance: No, that is all. Good bye.\n",
      "True Labels: train-bookpeople, train-day, train-departure, train-destination, train-leaveat\n",
      "Predicted Labels: hotel-area, hotel-bookday, hotel-internet, hotel-name, hotel-type, train-arriveby, train-day, train-leaveat\n",
      "\n",
      "Utterance: I need a train on Wednesday that leaves after 16:00.\n",
      "True Labels: train-leaveat\n",
      "Predicted Labels: hotel-area, hotel-bookday, hotel-internet, hotel-name, hotel-type, train-arriveby, train-day, train-leaveat\n",
      "\n",
      "Utterance: I would like to go to Ely, from Cambridge.\n",
      "True Labels: train-day, train-departure, train-destination, train-leaveat\n",
      "Predicted Labels: hotel-area, hotel-bookday, hotel-internet, hotel-name, hotel-type, train-arriveby, train-day, train-leaveat\n",
      "\n",
      "Utterance: Yes. One ticket. I need the travel time and train ID.\n",
      "True Labels: train-bookpeople, train-day, train-departure, train-destination, train-leaveat\n",
      "Predicted Labels: hotel-area, hotel-bookday, hotel-internet, hotel-name, hotel-type, train-arriveby, train-day, train-leaveat\n",
      "\n",
      "Utterance: I believe I am good for the moment thank you for your help.\n",
      "True Labels: train-bookpeople, train-day, train-departure, train-destination, train-leaveat\n",
      "Predicted Labels: hotel-area, hotel-bookday, hotel-internet, hotel-name, hotel-type, train-arriveby, train-day, train-leaveat\n",
      "\n",
      "Utterance: I'm looking for a train arriving at 13:30, departing from cambridge.\n",
      "True Labels: train-arriveby, train-departure\n",
      "Predicted Labels: hotel-area, hotel-bookday, hotel-internet, hotel-name, hotel-type, train-arriveby, train-day, train-leaveat\n",
      "\n",
      "Utterance: I need to leave Sunday to go to Ely.\n",
      "True Labels: train-arriveby, train-day, train-departure, train-destination\n",
      "Predicted Labels: hotel-area, hotel-bookday, hotel-internet, hotel-name, hotel-type, train-arriveby, train-day, train-leaveat\n",
      "\n",
      "Utterance: Yes can I get a ticket for 8 people please\n",
      "True Labels: train-arriveby, train-bookpeople, train-day, train-departure, train-destination\n",
      "Predicted Labels: hotel-area, hotel-bookday, hotel-internet, hotel-name, hotel-type, train-arriveby, train-day, train-leaveat\n",
      "\n",
      "Utterance: Great that's all that I needed today, thank you for all your help!\n",
      "True Labels: train-arriveby, train-bookpeople, train-day, train-departure, train-destination\n",
      "Predicted Labels: hotel-area, hotel-bookday, hotel-internet, hotel-name, hotel-type, train-arriveby, train-day, train-leaveat\n",
      "\n",
      "Utterance: NO thank you very much.\n",
      "True Labels: train-arriveby, train-bookpeople, train-day, train-departure, train-destination\n",
      "Predicted Labels: hotel-area, hotel-bookday, hotel-internet, hotel-name, hotel-type, train-arriveby, train-day, train-leaveat\n",
      "\n",
      "Utterance: I am in need of a train that can arrive by 12:45 an leave on Saturday.\n",
      "True Labels: train-arriveby, train-day\n",
      "Predicted Labels: hotel-area, hotel-bookday, hotel-internet, hotel-name, hotel-type, train-arriveby, train-day, train-leaveat\n",
      "\n",
      "Utterance: I want to get to Norwich please.\n",
      "True Labels: train-arriveby, train-day\n",
      "Predicted Labels: hotel-area, hotel-bookday, hotel-internet, hotel-name, hotel-type, train-arriveby, train-day, train-leaveat\n",
      "\n",
      "Utterance: Does it depart from Cambridge?\n",
      "True Labels: train-arriveby, train-day\n",
      "Predicted Labels: hotel-area, hotel-bookday, hotel-internet, hotel-name, hotel-type, train-arriveby, train-day, train-leaveat\n",
      "\n",
      "Utterance: Let me get the train ID and price for the one arriving at 11:55.\n",
      "True Labels: train-day, train-departure, train-destination\n",
      "Predicted Labels: hotel-area, hotel-bookday, hotel-internet, hotel-name, hotel-type, train-arriveby, train-day, train-leaveat\n",
      "\n",
      "Utterance: No, but I have all the information I need. Thanks.\n",
      "True Labels: train-day, train-departure, train-destination\n",
      "Predicted Labels: hotel-area, hotel-bookday, hotel-internet, hotel-name, hotel-type, train-arriveby, train-day, train-leaveat\n",
      "\n",
      "Utterance: I am looking for a train from kings lynn.\n",
      "True Labels: train-departure\n",
      "Predicted Labels: hotel-area, hotel-bookday, hotel-internet, hotel-name, hotel-type, train-arriveby, train-day, train-leaveat\n",
      "\n",
      "Utterance: I would like to travel on Thursday.\n",
      "True Labels: train-day, train-departure\n",
      "Predicted Labels: hotel-area, hotel-bookday, hotel-internet, hotel-name, hotel-type, train-arriveby, train-day, train-leaveat\n",
      "\n",
      "Utterance: I'd like to go after 10:00.\n",
      "True Labels: train-day, train-departure, train-leaveat\n",
      "Predicted Labels: hotel-area, hotel-bookday, hotel-internet, hotel-name, hotel-type, train-arriveby, train-day, train-leaveat\n",
      "\n",
      "Utterance: Please book that for 8 people. Please give me the reference number.\n",
      "True Labels: train-bookpeople, train-day, train-departure, train-leaveat\n",
      "Predicted Labels: hotel-area, hotel-bookday, hotel-internet, hotel-name, hotel-type, train-arriveby, train-day, train-leaveat\n",
      "\n",
      "Utterance: Thank you so much for your help. No, that is all.\n",
      "True Labels: train-bookpeople, train-day, train-departure, train-leaveat\n",
      "Predicted Labels: hotel-area, hotel-bookday, hotel-internet, hotel-name, hotel-type, train-arriveby, train-day, train-leaveat\n",
      "\n",
      "Utterance: I need a train out to London Liverpool Street on Saturday.\n",
      "True Labels: train-day, train-destination\n",
      "Predicted Labels: hotel-area, hotel-bookday, hotel-internet, hotel-name, hotel-type, train-arriveby, train-day, train-leaveat\n",
      "\n",
      "Utterance: I'd like to leave sometime after 16:15, leaving from Cambridge.\n",
      "True Labels: train-day, train-departure, train-destination, train-leaveat\n",
      "Predicted Labels: hotel-area, hotel-bookday, hotel-internet, hotel-name, hotel-type, train-arriveby, train-day, train-leaveat\n",
      "\n",
      "Utterance: Can you tell me how much that will cost and how long the journey is?\n",
      "True Labels: train-day, train-departure, train-destination, train-leaveat\n",
      "Predicted Labels: hotel-area, hotel-bookday, hotel-internet, hotel-name, hotel-type, train-arriveby, train-day, train-leaveat\n",
      "\n",
      "Utterance: Not at this time. Thank you for everything!\n",
      "True Labels: train-day, train-departure, train-destination, train-leaveat\n",
      "Predicted Labels: hotel-area, hotel-bookday, hotel-internet, hotel-name, hotel-type, train-arriveby, train-day, train-leaveat\n",
      "\n",
      "Utterance: Okay. Thank you.\n",
      "True Labels: train-day, train-departure, train-destination, train-leaveat\n",
      "Predicted Labels: hotel-area, hotel-bookday, hotel-internet, hotel-name, hotel-type, train-arriveby, train-day, train-leaveat\n",
      "\n",
      "Utterance: Hi, I'm looking to book a train ticket to Liverpool Street station in London. Are there any that depart at or around 18:00?\n",
      "True Labels: train-destination\n",
      "Predicted Labels: hotel-area, hotel-bookday, hotel-internet, hotel-name, hotel-type, train-arriveby, train-day, train-leaveat\n",
      "\n",
      "Utterance: I'm actually looking for one on Friday. Are there any that will arrive by 18:00 at Liverpool on Friday?\n",
      "True Labels: train-arriveby, train-day, train-departure, train-destination\n",
      "Predicted Labels: hotel-area, hotel-bookday, hotel-internet, hotel-name, hotel-type, train-arriveby, train-day, train-leaveat\n",
      "\n",
      "Utterance: Yes and can you tell me the price of the ticket?\n",
      "True Labels: train-arriveby, train-day, train-departure, train-destination\n",
      "Predicted Labels: hotel-area, hotel-bookday, hotel-internet, hotel-name, hotel-type, train-arriveby, train-day, train-leaveat\n",
      "\n",
      "Utterance: Thank you, that will be all.\n",
      "True Labels: train-arriveby, train-day, train-departure, train-destination\n",
      "Predicted Labels: hotel-area, hotel-bookday, hotel-internet, hotel-name, hotel-type, train-arriveby, train-day, train-leaveat\n",
      "\n",
      "Utterance: Thank you.\n",
      "True Labels: train-arriveby, train-day, train-departure, train-destination\n",
      "Predicted Labels: hotel-area, hotel-bookday, hotel-internet, hotel-name, hotel-type, train-arriveby, train-day, train-leaveat\n",
      "\n",
      "Utterance: I am looking for a train departing Cambridge.\n",
      "True Labels: train-departure\n",
      "Predicted Labels: hotel-area, hotel-bookday, hotel-internet, hotel-name, hotel-type, train-arriveby, train-day, train-leaveat\n",
      "\n",
      "Utterance: I need to g to london liverpool street on Saturday.\n",
      "True Labels: train-day, train-departure, train-destination\n",
      "Predicted Labels: hotel-area, hotel-bookday, hotel-internet, hotel-name, hotel-type, train-arriveby, train-day, train-leaveat\n",
      "\n",
      "Utterance: No, I just need to arrive by 15:00\n",
      "True Labels: train-arriveby, train-day, train-departure, train-destination\n",
      "Predicted Labels: hotel-area, hotel-bookday, hotel-internet, hotel-name, hotel-type, train-arriveby, train-day, train-leaveat\n",
      "\n",
      "Utterance: Yes, that will be perfect. What's the travel time?\n",
      "True Labels: train-arriveby, train-day, train-departure, train-destination\n",
      "Predicted Labels: hotel-area, hotel-bookday, hotel-internet, hotel-name, hotel-type, train-arriveby, train-day, train-leaveat\n",
      "\n",
      "Utterance: I'm looking for a train that leaves Wednesday and arrives by 9:30.\n",
      "True Labels: train-arriveby, train-day\n",
      "Predicted Labels: hotel-area, hotel-bookday, hotel-internet, hotel-name, hotel-type, train-arriveby, train-day, train-leaveat\n",
      "\n",
      "Utterance: Oh, sorry coming in from Kings Lynn\n",
      "True Labels: train-arriveby, train-day, train-departure\n",
      "Predicted Labels: hotel-area, hotel-bookday, hotel-internet, hotel-name, hotel-type, train-arriveby, train-day, train-leaveat\n",
      "\n",
      "Utterance: May I make a booking for six people?\n",
      "True Labels: train-arriveby, train-bookpeople, train-day, train-departure\n",
      "Predicted Labels: hotel-area, hotel-bookday, hotel-internet, hotel-name, hotel-type, train-arriveby, train-day, train-leaveat\n",
      "\n",
      "Utterance: Great. Thank you.\n",
      "True Labels: train-arriveby, train-bookpeople, train-day, train-departure\n",
      "Predicted Labels: hotel-area, hotel-bookday, hotel-internet, hotel-name, hotel-type, train-arriveby, train-day, train-leaveat\n",
      "\n",
      "Utterance: am looking for a train it should leave on sunday and should depart from bishops stortford\n",
      "True Labels: train-day, train-departure\n",
      "Predicted Labels: hotel-area, hotel-bookday, hotel-internet, hotel-name, hotel-type, train-arriveby, train-day, train-leaveat\n",
      "\n",
      "Utterance: I'm going to Cambridge.\n",
      "True Labels: train-day, train-departure, train-destination\n",
      "Predicted Labels: hotel-area, hotel-bookday, hotel-internet, hotel-name, hotel-type, train-arriveby, train-day, train-leaveat\n",
      "\n",
      "Utterance: I want to depart after 18:30.\n",
      "True Labels: train-day, train-departure, train-destination, train-leaveat\n",
      "Predicted Labels: hotel-area, hotel-bookday, hotel-internet, hotel-name, hotel-type, train-arriveby, train-day, train-leaveat\n",
      "\n",
      "Utterance: Yes, I need 1 ticket and can you please give me the reference number?\n",
      "True Labels: train-bookpeople, train-day, train-departure, train-destination, train-leaveat\n",
      "Predicted Labels: hotel-area, hotel-bookday, hotel-internet, hotel-name, hotel-type, train-arriveby, train-day, train-leaveat\n",
      "\n",
      "Utterance: Thanks ever so much! You've been very helpful.\n",
      "True Labels: train-bookpeople, train-day, train-departure, train-destination, train-leaveat\n",
      "Predicted Labels: hotel-area, hotel-bookday, hotel-internet, hotel-name, hotel-type, train-arriveby, train-day, train-leaveat\n",
      "\n",
      "Utterance: i i'm looking for a train. The train should depart from cambridge and should go to stevenage.\n",
      "True Labels: train-departure, train-destination\n",
      "Predicted Labels: hotel-area, hotel-bookday, hotel-internet, hotel-name, hotel-type, train-arriveby, train-day, train-leaveat\n",
      "\n",
      "Utterance: I need to leave on thursday after 16:30. Can you provide me with the train ID?\n",
      "True Labels: train-day, train-departure, train-destination, train-leaveat\n",
      "Predicted Labels: hotel-area, hotel-bookday, hotel-internet, hotel-name, hotel-type, train-arriveby, train-day, train-leaveat\n",
      "\n",
      "Utterance: No thank you. That is all I need.\n",
      "True Labels: train-day, train-departure, train-destination, train-leaveat\n",
      "Predicted Labels: hotel-area, hotel-bookday, hotel-internet, hotel-name, hotel-type, train-arriveby, train-day, train-leaveat\n",
      "\n",
      "Utterance: Which trains arrive in Cambridge by 17:15?\n",
      "True Labels: train-arriveby, train-destination\n",
      "Predicted Labels: hotel-area, hotel-bookday, hotel-internet, hotel-name, hotel-type, train-arriveby, train-day, train-leaveat\n",
      "\n",
      "Utterance: Yes I need it to depart from norwich.\n",
      "True Labels: train-arriveby, train-departure, train-destination\n",
      "Predicted Labels: hotel-area, hotel-bookday, hotel-internet, hotel-name, hotel-type, train-arriveby, train-day, train-leaveat\n",
      "\n",
      "Utterance: Yes, what is the ID and price, please?\n",
      "True Labels: train-arriveby, train-departure, train-destination\n",
      "Predicted Labels: hotel-area, hotel-bookday, hotel-internet, hotel-name, hotel-type, train-arriveby, train-day, train-leaveat\n",
      "\n",
      "Utterance: And what is the price and departure time?\n",
      "True Labels: train-arriveby, train-departure, train-destination\n",
      "Predicted Labels: hotel-area, hotel-bookday, hotel-internet, hotel-name, hotel-type, train-arriveby, train-day, train-leaveat\n",
      "\n",
      "Utterance: Yes please book it for me.\n",
      "True Labels: train-arriveby, train-bookpeople, train-departure, train-destination\n",
      "Predicted Labels: hotel-area, hotel-bookday, hotel-internet, hotel-name, hotel-type, train-arriveby, train-day, train-leaveat\n",
      "\n",
      "Utterance: I will be departing from Stansted Airport to go to Cambridge on Wednesday.\n",
      "True Labels: train-day, train-departure, train-destination\n",
      "Predicted Labels: hotel-area, hotel-bookday, hotel-internet, hotel-name, hotel-type, train-arriveby, train-day, train-leaveat\n",
      "\n",
      "Utterance: I would like to arrive by 13:15.\n",
      "True Labels: train-arriveby, train-day, train-departure, train-destination\n",
      "Predicted Labels: hotel-area, hotel-bookday, hotel-internet, hotel-name, hotel-type, train-arriveby, train-day, train-leaveat\n",
      "\n",
      "Utterance: I am looking for a train from cambridge on monday.\n",
      "True Labels: train-day, train-departure\n",
      "Predicted Labels: hotel-area, hotel-bookday, hotel-internet, hotel-name, hotel-type, train-arriveby, train-day, train-leaveat\n",
      "\n",
      "Utterance: My destination is Norwich. I am hoping I could catch a train after 15:15.\n",
      "True Labels: train-day, train-departure, train-destination, train-leaveat\n",
      "Predicted Labels: hotel-area, hotel-bookday, hotel-internet, hotel-name, hotel-type, train-arriveby, train-day, train-leaveat\n",
      "\n",
      "Utterance: Yes. I will be by myself. Looking for one ticket please.\n",
      "True Labels: train-day, train-departure, train-destination, train-leaveat\n",
      "Predicted Labels: hotel-area, hotel-bookday, hotel-internet, hotel-name, hotel-type, train-arriveby, train-day, train-leaveat\n",
      "\n",
      "Utterance: No, I just need the price and arrival time.\n",
      "True Labels: train-day, train-departure, train-destination, train-leaveat\n",
      "Predicted Labels: hotel-area, hotel-bookday, hotel-internet, hotel-name, hotel-type, train-arriveby, train-day, train-leaveat\n",
      "\n",
      "Utterance: Not at this time. Thanks for the information.\n",
      "True Labels: train-day, train-departure, train-destination, train-leaveat\n",
      "Predicted Labels: hotel-area, hotel-bookday, hotel-internet, hotel-name, hotel-type, train-arriveby, train-day, train-leaveat\n",
      "\n",
      "Utterance: I need a train from Cambridge to Norwich please.\n",
      "True Labels: train-departure, train-destination\n",
      "Predicted Labels: hotel-area, hotel-bookday, hotel-internet, hotel-name, hotel-type, train-arriveby, train-day, train-leaveat\n",
      "\n",
      "Utterance: I would like to depart on Sunday.\n",
      "True Labels: train-day, train-departure, train-destination\n",
      "Predicted Labels: hotel-area, hotel-bookday, hotel-internet, hotel-name, hotel-type, train-arriveby, train-day, train-leaveat\n",
      "\n",
      "Utterance: I need to arrive by 12:30.\n",
      "True Labels: train-arriveby, train-day, train-departure, train-destination\n",
      "Predicted Labels: hotel-area, hotel-bookday, hotel-internet, hotel-name, hotel-type, train-arriveby, train-day, train-leaveat\n",
      "\n",
      "Utterance: I need the reference number, please.\n",
      "True Labels: train-arriveby, train-day, train-departure, train-destination\n",
      "Predicted Labels: hotel-area, hotel-bookday, hotel-internet, hotel-name, hotel-type, train-arriveby, train-day, train-leaveat\n",
      "\n",
      "Utterance: I only want one ticket please.\n",
      "True Labels: train-arriveby, train-bookpeople, train-day, train-departure, train-destination\n",
      "Predicted Labels: hotel-area, hotel-bookday, hotel-internet, hotel-name, hotel-type, train-arriveby, train-day, train-leaveat\n",
      "\n",
      "Utterance: Okay great. Thanks for your help.\n",
      "True Labels: train-arriveby, train-bookpeople, train-day, train-departure, train-destination\n",
      "Predicted Labels: hotel-area, hotel-bookday, hotel-internet, hotel-name, hotel-type, train-arriveby, train-day, train-leaveat\n",
      "\n",
      "Utterance: I am looking for a train that goes to cambridge and arrives at the destination after 13:00.\n",
      "True Labels: train-destination, train-leaveat\n",
      "Predicted Labels: hotel-area, hotel-bookday, hotel-internet, hotel-name, hotel-type, train-arriveby, train-day, train-leaveat\n",
      "\n",
      "Utterance: I will be traveling on Saturday and want to leave from peterborough.\n",
      "True Labels: train-day, train-destination, train-leaveat\n",
      "Predicted Labels: hotel-area, hotel-bookday, hotel-internet, hotel-name, hotel-type, train-arriveby, train-day, train-leaveat\n",
      "\n",
      "Utterance: No I need an earlier train.\n",
      "True Labels: train-day, train-destination, train-leaveat\n",
      "Predicted Labels: hotel-area, hotel-bookday, hotel-internet, hotel-name, hotel-type, train-arriveby, train-day, train-leaveat\n",
      "\n",
      "Utterance: I'm sorry I may have confused you. I would want to go from Petersborough to Cambridge on Saturday and arrive by 13:00, so anything that will get me there before that.\n",
      "True Labels: train-day, train-departure, train-destination, train-leaveat\n",
      "Predicted Labels: hotel-area, hotel-bookday, hotel-internet, hotel-name, hotel-type, train-arriveby, train-day, train-leaveat\n",
      "\n",
      "Utterance: It doesn't matter. I just need to get to Cambridge before 13:00. I will need 5 seats please.\n",
      "True Labels: train-arriveby, train-day, train-departure, train-destination\n",
      "Predicted Labels: hotel-area, hotel-bookday, hotel-internet, hotel-name, hotel-type, train-arriveby, train-day, train-leaveat\n",
      "\n",
      "Utterance: That sounds perfect, can you book that for 5 people for me, please?\n",
      "True Labels: train-arriveby, train-bookpeople, train-day, train-departure, train-destination\n",
      "Predicted Labels: hotel-area, hotel-bookday, hotel-internet, hotel-name, hotel-type, train-arriveby, train-day, train-leaveat\n",
      "\n",
      "Utterance: You've been very helpful. Thank you. Goodbye.\n",
      "True Labels: train-arriveby, train-day, train-departure, train-destination\n",
      "Predicted Labels: hotel-area, hotel-bookday, hotel-internet, hotel-name, hotel-type, train-arriveby, train-day, train-leaveat\n",
      "\n",
      "Utterance: I need a train from broxbourne on Tuesday.\n",
      "True Labels: train-day, train-departure\n",
      "Predicted Labels: hotel-area, hotel-bookday, hotel-internet, hotel-name, hotel-type, train-arriveby, train-day, train-leaveat\n",
      "\n",
      "Utterance: Travelling to Cambridge, I need to arrive by 14:45.\n",
      "True Labels: train-arriveby, train-day, train-departure, train-destination\n",
      "Predicted Labels: hotel-area, hotel-bookday, hotel-internet, hotel-name, hotel-type, train-arriveby, train-day, train-leaveat\n",
      "\n",
      "Utterance: No, but I need two tickets.\n",
      "True Labels: train-arriveby, train-bookpeople, train-day, train-departure, train-destination\n",
      "Predicted Labels: hotel-area, hotel-bookday, hotel-internet, hotel-name, hotel-type, train-arriveby, train-day, train-leaveat\n",
      "\n",
      "Utterance: Great. That's all I need. Thanks.\n",
      "True Labels: train-arriveby, train-bookpeople, train-day, train-departure, train-destination\n",
      "Predicted Labels: hotel-area, hotel-bookday, hotel-internet, hotel-name, hotel-type, train-arriveby, train-day, train-leaveat\n",
      "\n",
      "Utterance: I need to book a train departing from Cambridge after 9:15.\n",
      "True Labels: train-departure\n",
      "Predicted Labels: hotel-area, hotel-bookday, hotel-internet, hotel-name, hotel-type, train-arriveby, train-day, train-leaveat\n",
      "\n",
      "Utterance: I am going to Stevenage, on Wednesday.\n",
      "True Labels: train-day, train-departure, train-destination, train-leaveat\n",
      "Predicted Labels: hotel-area, hotel-bookday, hotel-internet, hotel-name, hotel-type, train-arriveby, train-day, train-leaveat\n",
      "\n",
      "Utterance: Could you tell me what the price of this trip is?\n",
      "True Labels: train-day, train-departure, train-destination, train-leaveat\n",
      "Predicted Labels: hotel-area, hotel-bookday, hotel-internet, hotel-name, hotel-type, train-arriveby, train-day, train-leaveat\n",
      "\n",
      "Utterance: Yes, what's the train ID and what time does it arrive?\n",
      "True Labels: train-day, train-departure, train-destination, train-leaveat\n",
      "Predicted Labels: hotel-area, hotel-bookday, hotel-internet, hotel-name, hotel-type, train-arriveby, train-day, train-leaveat\n",
      "\n",
      "Utterance: Great. That is all I need.\n",
      "True Labels: train-day, train-departure, train-destination, train-leaveat\n",
      "Predicted Labels: hotel-area, hotel-bookday, hotel-internet, hotel-name, hotel-type, train-arriveby, train-day, train-leaveat\n",
      "\n",
      "Utterance: Can you help me book a train on Sunday?\n",
      "True Labels: train-day\n",
      "Predicted Labels: hotel-area, hotel-bookday, hotel-internet, hotel-name, hotel-type, train-arriveby, train-day, train-leaveat\n",
      "\n",
      "Utterance: I want to go to Ely.\n",
      "True Labels: train-day, train-destination\n",
      "Predicted Labels: hotel-area, hotel-bookday, hotel-internet, hotel-name, hotel-type, train-arriveby, train-day, train-leaveat\n",
      "\n",
      "Utterance: I need it to leave after 08:15 please.\n",
      "True Labels: train-day, train-destination, train-leaveat\n",
      "Predicted Labels: hotel-area, hotel-bookday, hotel-internet, hotel-name, hotel-type, train-arriveby, train-day, train-leaveat\n",
      "\n",
      "Utterance: Yes please book just one ticket for me.\n",
      "True Labels: train-bookpeople, train-day, train-departure, train-destination, train-leaveat\n",
      "Predicted Labels: hotel-area, hotel-bookday, hotel-internet, hotel-name, hotel-type, train-arriveby, train-day, train-leaveat\n",
      "\n",
      "Utterance: Yes, what is the reference number for the reservation?\n",
      "True Labels: train-bookpeople, train-day, train-departure, train-destination, train-leaveat\n",
      "Predicted Labels: hotel-area, hotel-bookday, hotel-internet, hotel-name, hotel-type, train-arriveby, train-day, train-leaveat\n",
      "\n",
      "Utterance: No that is all for now. Thank you for all your help.\n",
      "True Labels: train-bookpeople, train-day, train-departure, train-destination, train-leaveat\n",
      "Predicted Labels: hotel-area, hotel-bookday, hotel-internet, hotel-name, hotel-type, train-arriveby, train-day, train-leaveat\n",
      "\n",
      "Utterance: I need to leave Cambridge on Sunday by train.\n",
      "True Labels: train-day, train-departure\n",
      "Predicted Labels: hotel-area, hotel-bookday, hotel-internet, hotel-name, hotel-type, train-arriveby, train-day, train-leaveat\n",
      "\n",
      "Utterance: That will be fine I guess. It will arrive by 19:15, I'm sure?\n",
      "True Labels: train-arriveby, train-day, train-departure\n",
      "Predicted Labels: hotel-area, hotel-bookday, hotel-internet, hotel-name, hotel-type, train-arriveby, train-day, train-leaveat\n",
      "\n",
      "Utterance: Yes, let's go ahead and book that.\n",
      "True Labels: train-arriveby, train-day, train-departure, train-destination\n",
      "Predicted Labels: hotel-area, hotel-bookday, hotel-internet, hotel-name, hotel-type, train-arriveby, train-day, train-leaveat\n",
      "\n",
      "Utterance: Yes, please give me travel time and departure time, please.\n",
      "True Labels: train-arriveby, train-bookpeople, train-day, train-departure, train-destination\n",
      "Predicted Labels: hotel-area, hotel-bookday, hotel-internet, hotel-name, hotel-type, train-arriveby, train-day, train-leaveat\n",
      "\n",
      "Utterance: No, that's all I need, thank you.\n",
      "True Labels: train-arriveby, train-bookpeople, train-day, train-departure, train-destination\n",
      "Predicted Labels: hotel-area, hotel-bookday, hotel-internet, hotel-name, hotel-type, train-arriveby, train-day, train-leaveat\n",
      "\n",
      "Utterance: Thanks for your help bye!\n",
      "True Labels: train-arriveby, train-bookpeople, train-day, train-departure, train-destination\n",
      "Predicted Labels: hotel-area, hotel-bookday, hotel-internet, hotel-name, hotel-type, train-arriveby, train-day, train-leaveat\n",
      "\n",
      "Utterance: I need a train that leaves on tuesday and should depart from cambridge.\n",
      "True Labels: train-day, train-departure\n",
      "Predicted Labels: hotel-area, hotel-bookday, hotel-internet, hotel-name, hotel-type, train-arriveby, train-day, train-leaveat\n",
      "\n",
      "Utterance: I am going to Peterborough and want to arrive by 13:30.\n",
      "True Labels: train-day, train-departure, train-destination\n",
      "Predicted Labels: hotel-area, hotel-bookday, hotel-internet, hotel-name, hotel-type, train-arriveby, train-day, train-leaveat\n",
      "\n",
      "Utterance: Yes, please! I need 6 seats.\n",
      "True Labels: train-bookpeople, train-day, train-departure, train-destination\n",
      "Predicted Labels: hotel-area, hotel-bookday, hotel-internet, hotel-name, hotel-type, train-arriveby, train-day, train-leaveat\n",
      "\n",
      "Utterance: Thank you so much, that's all I need today.\n",
      "True Labels: train-bookpeople, train-day, train-departure, train-destination\n",
      "Predicted Labels: hotel-area, hotel-bookday, hotel-internet, hotel-name, hotel-type, train-arriveby, train-day, train-leaveat\n",
      "\n",
      "Utterance: I need a train that leaves on Sunday for Broxbourne.\n",
      "True Labels: train-day, train-destination\n",
      "Predicted Labels: hotel-area, hotel-bookday, hotel-internet, hotel-name, hotel-type, train-arriveby, train-day, train-leaveat\n",
      "\n",
      "Utterance: I want it to leave from cambridge after 09:15.\n",
      "True Labels: train-day, train-destination, train-leaveat\n",
      "Predicted Labels: hotel-area, hotel-bookday, hotel-internet, hotel-name, hotel-type, train-arriveby, train-day, train-leaveat\n",
      "\n",
      "Utterance: Not looking to book, can I just get the train ID, price, and travel time? Thanks!\n",
      "True Labels: train-day, train-departure, train-destination, train-leaveat\n",
      "Predicted Labels: hotel-area, hotel-bookday, hotel-internet, hotel-name, hotel-type, train-arriveby, train-day, train-leaveat\n",
      "\n",
      "Utterance: There are no trains going to broxbourne from cambridge on Sunday after 09:15?\n",
      "True Labels: train-day, train-departure, train-destination, train-leaveat\n",
      "Predicted Labels: hotel-area, hotel-bookday, hotel-internet, hotel-name, hotel-type, train-arriveby, train-day, train-leaveat\n",
      "\n",
      "Utterance: I need to go TO Broxbourne FROM Cambridge on Sunday, leaving any time after 9:15. Please check again with those details, please.\n",
      "True Labels: train-day, train-departure, train-destination, train-leaveat\n",
      "Predicted Labels: hotel-area, hotel-bookday, hotel-internet, hotel-name, hotel-type, train-arriveby, train-day, train-leaveat\n",
      "\n",
      "Utterance: Great. What's the train ID and price?\n",
      "True Labels: train-day, train-departure, train-destination, train-leaveat\n",
      "Predicted Labels: hotel-area, hotel-bookday, hotel-internet, hotel-name, hotel-type, train-arriveby, train-day, train-leaveat\n",
      "\n",
      "Utterance: Yes, what is the duration of the train ride?\n",
      "True Labels: train-day, train-departure, train-destination, train-leaveat\n",
      "Predicted Labels: hotel-area, hotel-bookday, hotel-internet, hotel-name, hotel-type, train-arriveby, train-day, train-leaveat\n",
      "\n",
      "Utterance: No, that's all right.\n",
      "True Labels: train-day, train-departure, train-destination, train-leaveat\n",
      "Predicted Labels: hotel-area, hotel-bookday, hotel-internet, hotel-name, hotel-type, train-arriveby, train-day, train-leaveat\n",
      "\n",
      "Utterance: I was wondering if you could help me in finding a train to the airport.\n",
      "True Labels: train-destination\n",
      "Predicted Labels: hotel-area, hotel-bookday, hotel-internet, hotel-name, hotel-type, train-arriveby, train-day, train-leaveat\n",
      "\n",
      "Utterance: I will need to leave from Cambridge if that's ok\n",
      "True Labels: train-departure, train-destination\n",
      "Predicted Labels: hotel-area, hotel-bookday, hotel-internet, hotel-name, hotel-type, train-arriveby, train-day, train-leaveat\n",
      "\n",
      "Utterance: On Wednesday. I need the train to arrive by 19:15.\n",
      "True Labels: train-day, train-departure, train-destination\n",
      "Predicted Labels: hotel-area, hotel-bookday, hotel-internet, hotel-name, hotel-type, train-arriveby, train-day, train-leaveat\n",
      "\n",
      "Utterance: I'd like to book 3 tickets on the train arriving at 19:08, please. And would it be possible to have a reference number for the booking?\n",
      "True Labels: train-bookpeople, train-day, train-departure, train-destination\n",
      "Predicted Labels: hotel-area, hotel-bookday, hotel-internet, hotel-name, hotel-type, train-arriveby, train-day, train-leaveat\n",
      "\n",
      "Utterance: Yes, it will. Thanks so much. Have a nice day.\n",
      "True Labels: train-bookpeople, train-day, train-departure, train-destination\n",
      "Predicted Labels: hotel-area, hotel-bookday, hotel-internet, hotel-name, hotel-type, train-arriveby, train-day, train-leaveat\n",
      "\n",
      "Utterance: Can you help me find a train? I am looking for that departs from Cambridge on Saturday.\n",
      "True Labels: train-day, train-departure\n",
      "Predicted Labels: hotel-area, hotel-bookday, hotel-internet, hotel-name, hotel-type, train-arriveby, train-day, train-leaveat\n",
      "\n",
      "Utterance: I would like to go to Birmingham New Street and the train should leave after 14:15.\n",
      "True Labels: train-day, train-departure, train-destination, train-leaveat\n",
      "Predicted Labels: hotel-area, hotel-bookday, hotel-internet, hotel-name, hotel-type, train-arriveby, train-day, train-leaveat\n",
      "\n",
      "Utterance: That would be great. Can you get me 7 tickets on that train?\n",
      "True Labels: train-bookpeople, train-day, train-departure, train-destination, train-leaveat\n",
      "Predicted Labels: hotel-area, hotel-bookday, hotel-internet, hotel-name, hotel-type, train-arriveby, train-day, train-leaveat\n",
      "\n",
      "Utterance: Ok. Is that also the reference number? Thanks.\n",
      "True Labels: train-bookpeople, train-day, train-departure, train-destination, train-leaveat\n",
      "Predicted Labels: hotel-area, hotel-bookday, hotel-internet, hotel-name, hotel-type, train-arriveby, train-day, train-leaveat\n",
      "\n",
      "Utterance: Okay. Thank you very much.\n",
      "True Labels: train-bookpeople, train-day, train-departure, train-destination, train-leaveat\n",
      "Predicted Labels: hotel-area, hotel-bookday, hotel-internet, hotel-name, hotel-type, train-arriveby, train-day, train-leaveat\n",
      "\n",
      "Utterance: No, that would be all. Thanks. Have a night day.\n",
      "True Labels: train-bookpeople, train-day, train-departure, train-destination, train-leaveat\n",
      "Predicted Labels: hotel-area, hotel-bookday, hotel-internet, hotel-name, hotel-type, train-arriveby, train-day, train-leaveat\n",
      "\n",
      "Utterance: I need a train to Norwich, leaving after 21:30.\n",
      "True Labels: train-destination, train-leaveat\n",
      "Predicted Labels: hotel-area, hotel-bookday, hotel-internet, hotel-name, hotel-type, train-arriveby, train-day, train-leaveat\n",
      "\n",
      "Utterance: I am leaving on Thursday.\n",
      "True Labels: train-day, train-destination, train-leaveat\n",
      "Predicted Labels: hotel-area, hotel-bookday, hotel-internet, hotel-name, hotel-type, train-arriveby, train-day, train-leaveat\n",
      "\n",
      "Utterance: I'll be leaving from Cambridge\n",
      "True Labels: train-day, train-departure, train-destination, train-leaveat\n",
      "Predicted Labels: hotel-area, hotel-bookday, hotel-internet, hotel-name, hotel-type, train-arriveby, train-day, train-leaveat\n",
      "\n",
      "Utterance: What would be the arrival time of that train?\n",
      "True Labels: train-day, train-departure, train-destination, train-leaveat\n",
      "Predicted Labels: hotel-area, hotel-bookday, hotel-internet, hotel-name, hotel-type, train-arriveby, train-day, train-leaveat\n",
      "\n",
      "Utterance: What is the total travel time for this trip?\n",
      "True Labels: train-day, train-departure, train-destination, train-leaveat\n",
      "Predicted Labels: hotel-area, hotel-bookday, hotel-internet, hotel-name, hotel-type, train-arriveby, train-day, train-leaveat\n",
      "\n",
      "Utterance: Hey there! Can you give me some options for trains leaving Wednesday from Norwich? We are going to Cambridge.\n",
      "True Labels: train-day, train-departure, train-destination\n",
      "Predicted Labels: hotel-area, hotel-bookday, hotel-internet, hotel-name, hotel-type, train-arriveby, train-day, train-leaveat\n",
      "\n",
      "Utterance: I need to arrive by 19:45. I need to book for 5 people.\n",
      "True Labels: train-arriveby, train-bookpeople, train-day, train-departure, train-destination\n",
      "Predicted Labels: hotel-area, hotel-bookday, hotel-internet, hotel-name, hotel-type, train-arriveby, train-day, train-leaveat\n",
      "\n",
      "Utterance: No that's all. Thanks for your help!\n",
      "True Labels: train-arriveby, train-bookpeople, train-day, train-departure, train-destination\n",
      "Predicted Labels: hotel-area, hotel-bookday, hotel-internet, hotel-name, hotel-type, train-arriveby, train-day, train-leaveat\n",
      "\n",
      "Utterance: Hello, do any trains run on Saturday?\n",
      "True Labels: train-day\n",
      "Predicted Labels: hotel-area, hotel-bookday, hotel-internet, hotel-name, hotel-type, train-arriveby, train-day, train-leaveat\n",
      "\n",
      "Utterance: I'm looking for the train which arrives in Cambridge from Leicester. It should arrive by 19:30\n",
      "True Labels: train-arriveby, train-day, train-departure, train-destination\n",
      "Predicted Labels: hotel-area, hotel-bookday, hotel-internet, hotel-name, hotel-type, train-arriveby, train-day, train-leaveat\n",
      "\n",
      "Utterance: No I don't have a leave time preference. Just not too early if I don't have too.\n",
      "True Labels: train-arriveby, train-day, train-departure, train-destination, train-leaveat\n",
      "Predicted Labels: hotel-area, hotel-bookday, hotel-internet, hotel-name, hotel-type, train-arriveby, train-day, train-leaveat\n",
      "\n",
      "Utterance: That might be too early.\n",
      "True Labels: train-arriveby, train-day, train-departure, train-destination, train-leaveat\n",
      "Predicted Labels: hotel-area, hotel-bookday, hotel-internet, hotel-name, hotel-type, train-arriveby, train-day, train-leaveat\n",
      "\n",
      "Utterance: I'll take the one that leaves at 9:09. It's fine. What is the travel time on that train?\n",
      "True Labels: train-arriveby, train-day, train-departure, train-destination, train-leaveat\n",
      "Predicted Labels: hotel-area, hotel-bookday, hotel-internet, hotel-name, hotel-type, train-arriveby, train-day, train-leaveat\n",
      "\n",
      "Utterance: I need a train to take me from Cambridge to Broxbourne.\n",
      "True Labels: train-departure, train-destination\n",
      "Predicted Labels: hotel-area, hotel-bookday, hotel-internet, hotel-name, hotel-type, train-arriveby, train-day, train-leaveat\n",
      "\n",
      "Utterance: I don't know. I want to get there at 08:15 though.\n",
      "True Labels: train-arriveby, train-departure, train-destination\n",
      "Predicted Labels: hotel-area, hotel-bookday, hotel-internet, hotel-name, hotel-type, train-arriveby, train-day, train-leaveat\n",
      "\n",
      "Utterance: I will be travelling on Monday.\n",
      "True Labels: train-arriveby, train-day, train-departure, train-destination\n",
      "Predicted Labels: hotel-area, hotel-bookday, hotel-internet, hotel-name, hotel-type, train-arriveby, train-day, train-leaveat\n",
      "\n",
      "Utterance: Yes that will be fine thank you. Can you tell me how long the journey will be and how much it will cost and when the train leaves?\n",
      "True Labels: train-arriveby, train-day, train-departure, train-destination\n",
      "Predicted Labels: hotel-area, hotel-bookday, hotel-internet, hotel-name, hotel-type, train-arriveby, train-day, train-leaveat\n",
      "\n",
      "Utterance: What is the exact departure time please?\n",
      "True Labels: train-arriveby, train-day, train-departure, train-destination\n",
      "Predicted Labels: hotel-area, hotel-bookday, hotel-internet, hotel-name, hotel-type, train-arriveby, train-day, train-leaveat\n",
      "\n",
      "Utterance: Can you book me a seat on the train please?\n",
      "True Labels: train-arriveby, train-bookpeople, train-day, train-departure, train-destination, train-leaveat\n",
      "Predicted Labels: hotel-area, hotel-bookday, hotel-internet, hotel-name, hotel-type, train-arriveby, train-day, train-leaveat\n",
      "\n",
      "Utterance: Actually, I am not ready to book quite yet. Thank you for all of your help. Have a nice day. Bye.\n",
      "True Labels: train-arriveby, train-bookpeople, train-day, train-departure, train-destination, train-leaveat\n",
      "Predicted Labels: hotel-area, hotel-bookday, hotel-internet, hotel-name, hotel-type, train-arriveby, train-day, train-leaveat\n",
      "\n"
     ]
    }
   ],
   "source": [
    "# Display the mispredicted examples\n",
    "print(\"\\nMispredicted Examples:\")\n",
    "for i, (actual, predicted) in enumerate(zip(slot_types_test_actual, y_pred_test)):\n",
    "    if set(actual) != set(predicted):  # Comparing sets for multi-label mispredictions\n",
    "        print(f\"Utterance: {utterances_test[i]}\")\n",
    "        print(f\"True Labels: {', '.join(actual)}\")\n",
    "        print(f\"Predicted Labels: {', '.join(predicted)}\")\n",
    "        print()"
   ]
  },
  {
   "cell_type": "code",
   "execution_count": 9,
   "metadata": {},
   "outputs": [
    {
     "data": {
      "application/vnd.plotly.v1+json": {
       "config": {
        "plotlyServerURL": "https://plot.ly"
       },
       "data": [
        {
         "mode": "lines",
         "name": "hotel-area",
         "type": "scatter",
         "x": [
          1,
          0.0056179775280898875,
          0
         ],
         "y": [
          0.24417009602194786,
          0.125,
          1
         ]
        },
        {
         "mode": "lines",
         "name": "hotel-bookday",
         "type": "scatter",
         "x": [
          1,
          0
         ],
         "y": [
          0.22633744855967078,
          1
         ]
        },
        {
         "mode": "lines",
         "name": "hotel-bookpeople",
         "type": "scatter",
         "x": [
          1,
          0.04938271604938271,
          0
         ],
         "y": [
          0.2222222222222222,
          0.4444444444444444,
          1
         ]
        },
        {
         "mode": "lines",
         "name": "hotel-bookstay",
         "type": "scatter",
         "x": [
          1,
          0.25149700598802394,
          0
         ],
         "y": [
          0.22908093278463648,
          0.49411764705882355,
          1
         ]
        },
        {
         "mode": "lines",
         "name": "hotel-internet",
         "type": "scatter",
         "x": [
          1,
          0
         ],
         "y": [
          0.2551440329218107,
          1
         ]
        },
        {
         "mode": "lines",
         "name": "hotel-name",
         "type": "scatter",
         "x": [
          1,
          0.3028571428571429,
          0
         ],
         "y": [
          0.24005486968449932,
          0.37857142857142856,
          1
         ]
        },
        {
         "mode": "lines",
         "name": "hotel-parking",
         "type": "scatter",
         "x": [
          1,
          0,
          0
         ],
         "y": [
          0.25102880658436216,
          0,
          1
         ]
        },
        {
         "mode": "lines",
         "name": "hotel-pricerange",
         "type": "scatter",
         "x": [
          1,
          0.03,
          0
         ],
         "y": [
          0.27434842249657065,
          0.21428571428571427,
          1
         ]
        },
        {
         "mode": "lines",
         "name": "hotel-type",
         "type": "scatter",
         "x": [
          1,
          0.1036036036036036,
          0
         ],
         "y": [
          0.3045267489711934,
          0.6571428571428571,
          1
         ]
        },
        {
         "mode": "lines",
         "name": "train-arriveby",
         "type": "scatter",
         "x": [
          1,
          0.015267175572519083,
          0
         ],
         "y": [
          0.17969821673525377,
          0.3333333333333333,
          1
         ]
        },
        {
         "mode": "lines",
         "name": "train-bookpeople",
         "type": "scatter",
         "x": [
          1,
          0
         ],
         "y": [
          0.12482853223593965,
          1
         ]
        },
        {
         "mode": "lines",
         "name": "train-day",
         "type": "scatter",
         "x": [
          1,
          0.11510791366906475,
          0
         ],
         "y": [
          0.3813443072702332,
          0.5423728813559322,
          1
         ]
        },
        {
         "mode": "lines",
         "name": "train-departure",
         "type": "scatter",
         "x": [
          1,
          0.1371841155234657,
          0
         ],
         "y": [
          0.37997256515775035,
          0.5352112676056338,
          1
         ]
        },
        {
         "mode": "lines",
         "name": "train-destination",
         "type": "scatter",
         "x": [
          1,
          0.15492957746478872,
          0
         ],
         "y": [
          0.3895747599451303,
          0.6285714285714286,
          1
         ]
        },
        {
         "mode": "lines",
         "name": "train-leaveat",
         "type": "scatter",
         "x": [
          1,
          0.4557823129251701,
          0
         ],
         "y": [
          0.20164609053497942,
          0.40606060606060607,
          1
         ]
        }
       ],
       "layout": {
        "legend": {
         "title": {
          "text": "Labels"
         }
        },
        "template": {
         "data": {
          "bar": [
           {
            "error_x": {
             "color": "#2a3f5f"
            },
            "error_y": {
             "color": "#2a3f5f"
            },
            "marker": {
             "line": {
              "color": "#E5ECF6",
              "width": 0.5
             },
             "pattern": {
              "fillmode": "overlay",
              "size": 10,
              "solidity": 0.2
             }
            },
            "type": "bar"
           }
          ],
          "barpolar": [
           {
            "marker": {
             "line": {
              "color": "#E5ECF6",
              "width": 0.5
             },
             "pattern": {
              "fillmode": "overlay",
              "size": 10,
              "solidity": 0.2
             }
            },
            "type": "barpolar"
           }
          ],
          "carpet": [
           {
            "aaxis": {
             "endlinecolor": "#2a3f5f",
             "gridcolor": "white",
             "linecolor": "white",
             "minorgridcolor": "white",
             "startlinecolor": "#2a3f5f"
            },
            "baxis": {
             "endlinecolor": "#2a3f5f",
             "gridcolor": "white",
             "linecolor": "white",
             "minorgridcolor": "white",
             "startlinecolor": "#2a3f5f"
            },
            "type": "carpet"
           }
          ],
          "choropleth": [
           {
            "colorbar": {
             "outlinewidth": 0,
             "ticks": ""
            },
            "type": "choropleth"
           }
          ],
          "contour": [
           {
            "colorbar": {
             "outlinewidth": 0,
             "ticks": ""
            },
            "colorscale": [
             [
              0,
              "#0d0887"
             ],
             [
              0.1111111111111111,
              "#46039f"
             ],
             [
              0.2222222222222222,
              "#7201a8"
             ],
             [
              0.3333333333333333,
              "#9c179e"
             ],
             [
              0.4444444444444444,
              "#bd3786"
             ],
             [
              0.5555555555555556,
              "#d8576b"
             ],
             [
              0.6666666666666666,
              "#ed7953"
             ],
             [
              0.7777777777777778,
              "#fb9f3a"
             ],
             [
              0.8888888888888888,
              "#fdca26"
             ],
             [
              1,
              "#f0f921"
             ]
            ],
            "type": "contour"
           }
          ],
          "contourcarpet": [
           {
            "colorbar": {
             "outlinewidth": 0,
             "ticks": ""
            },
            "type": "contourcarpet"
           }
          ],
          "heatmap": [
           {
            "colorbar": {
             "outlinewidth": 0,
             "ticks": ""
            },
            "colorscale": [
             [
              0,
              "#0d0887"
             ],
             [
              0.1111111111111111,
              "#46039f"
             ],
             [
              0.2222222222222222,
              "#7201a8"
             ],
             [
              0.3333333333333333,
              "#9c179e"
             ],
             [
              0.4444444444444444,
              "#bd3786"
             ],
             [
              0.5555555555555556,
              "#d8576b"
             ],
             [
              0.6666666666666666,
              "#ed7953"
             ],
             [
              0.7777777777777778,
              "#fb9f3a"
             ],
             [
              0.8888888888888888,
              "#fdca26"
             ],
             [
              1,
              "#f0f921"
             ]
            ],
            "type": "heatmap"
           }
          ],
          "heatmapgl": [
           {
            "colorbar": {
             "outlinewidth": 0,
             "ticks": ""
            },
            "colorscale": [
             [
              0,
              "#0d0887"
             ],
             [
              0.1111111111111111,
              "#46039f"
             ],
             [
              0.2222222222222222,
              "#7201a8"
             ],
             [
              0.3333333333333333,
              "#9c179e"
             ],
             [
              0.4444444444444444,
              "#bd3786"
             ],
             [
              0.5555555555555556,
              "#d8576b"
             ],
             [
              0.6666666666666666,
              "#ed7953"
             ],
             [
              0.7777777777777778,
              "#fb9f3a"
             ],
             [
              0.8888888888888888,
              "#fdca26"
             ],
             [
              1,
              "#f0f921"
             ]
            ],
            "type": "heatmapgl"
           }
          ],
          "histogram": [
           {
            "marker": {
             "pattern": {
              "fillmode": "overlay",
              "size": 10,
              "solidity": 0.2
             }
            },
            "type": "histogram"
           }
          ],
          "histogram2d": [
           {
            "colorbar": {
             "outlinewidth": 0,
             "ticks": ""
            },
            "colorscale": [
             [
              0,
              "#0d0887"
             ],
             [
              0.1111111111111111,
              "#46039f"
             ],
             [
              0.2222222222222222,
              "#7201a8"
             ],
             [
              0.3333333333333333,
              "#9c179e"
             ],
             [
              0.4444444444444444,
              "#bd3786"
             ],
             [
              0.5555555555555556,
              "#d8576b"
             ],
             [
              0.6666666666666666,
              "#ed7953"
             ],
             [
              0.7777777777777778,
              "#fb9f3a"
             ],
             [
              0.8888888888888888,
              "#fdca26"
             ],
             [
              1,
              "#f0f921"
             ]
            ],
            "type": "histogram2d"
           }
          ],
          "histogram2dcontour": [
           {
            "colorbar": {
             "outlinewidth": 0,
             "ticks": ""
            },
            "colorscale": [
             [
              0,
              "#0d0887"
             ],
             [
              0.1111111111111111,
              "#46039f"
             ],
             [
              0.2222222222222222,
              "#7201a8"
             ],
             [
              0.3333333333333333,
              "#9c179e"
             ],
             [
              0.4444444444444444,
              "#bd3786"
             ],
             [
              0.5555555555555556,
              "#d8576b"
             ],
             [
              0.6666666666666666,
              "#ed7953"
             ],
             [
              0.7777777777777778,
              "#fb9f3a"
             ],
             [
              0.8888888888888888,
              "#fdca26"
             ],
             [
              1,
              "#f0f921"
             ]
            ],
            "type": "histogram2dcontour"
           }
          ],
          "mesh3d": [
           {
            "colorbar": {
             "outlinewidth": 0,
             "ticks": ""
            },
            "type": "mesh3d"
           }
          ],
          "parcoords": [
           {
            "line": {
             "colorbar": {
              "outlinewidth": 0,
              "ticks": ""
             }
            },
            "type": "parcoords"
           }
          ],
          "pie": [
           {
            "automargin": true,
            "type": "pie"
           }
          ],
          "scatter": [
           {
            "fillpattern": {
             "fillmode": "overlay",
             "size": 10,
             "solidity": 0.2
            },
            "type": "scatter"
           }
          ],
          "scatter3d": [
           {
            "line": {
             "colorbar": {
              "outlinewidth": 0,
              "ticks": ""
             }
            },
            "marker": {
             "colorbar": {
              "outlinewidth": 0,
              "ticks": ""
             }
            },
            "type": "scatter3d"
           }
          ],
          "scattercarpet": [
           {
            "marker": {
             "colorbar": {
              "outlinewidth": 0,
              "ticks": ""
             }
            },
            "type": "scattercarpet"
           }
          ],
          "scattergeo": [
           {
            "marker": {
             "colorbar": {
              "outlinewidth": 0,
              "ticks": ""
             }
            },
            "type": "scattergeo"
           }
          ],
          "scattergl": [
           {
            "marker": {
             "colorbar": {
              "outlinewidth": 0,
              "ticks": ""
             }
            },
            "type": "scattergl"
           }
          ],
          "scattermapbox": [
           {
            "marker": {
             "colorbar": {
              "outlinewidth": 0,
              "ticks": ""
             }
            },
            "type": "scattermapbox"
           }
          ],
          "scatterpolar": [
           {
            "marker": {
             "colorbar": {
              "outlinewidth": 0,
              "ticks": ""
             }
            },
            "type": "scatterpolar"
           }
          ],
          "scatterpolargl": [
           {
            "marker": {
             "colorbar": {
              "outlinewidth": 0,
              "ticks": ""
             }
            },
            "type": "scatterpolargl"
           }
          ],
          "scatterternary": [
           {
            "marker": {
             "colorbar": {
              "outlinewidth": 0,
              "ticks": ""
             }
            },
            "type": "scatterternary"
           }
          ],
          "surface": [
           {
            "colorbar": {
             "outlinewidth": 0,
             "ticks": ""
            },
            "colorscale": [
             [
              0,
              "#0d0887"
             ],
             [
              0.1111111111111111,
              "#46039f"
             ],
             [
              0.2222222222222222,
              "#7201a8"
             ],
             [
              0.3333333333333333,
              "#9c179e"
             ],
             [
              0.4444444444444444,
              "#bd3786"
             ],
             [
              0.5555555555555556,
              "#d8576b"
             ],
             [
              0.6666666666666666,
              "#ed7953"
             ],
             [
              0.7777777777777778,
              "#fb9f3a"
             ],
             [
              0.8888888888888888,
              "#fdca26"
             ],
             [
              1,
              "#f0f921"
             ]
            ],
            "type": "surface"
           }
          ],
          "table": [
           {
            "cells": {
             "fill": {
              "color": "#EBF0F8"
             },
             "line": {
              "color": "white"
             }
            },
            "header": {
             "fill": {
              "color": "#C8D4E3"
             },
             "line": {
              "color": "white"
             }
            },
            "type": "table"
           }
          ]
         },
         "layout": {
          "annotationdefaults": {
           "arrowcolor": "#2a3f5f",
           "arrowhead": 0,
           "arrowwidth": 1
          },
          "autotypenumbers": "strict",
          "coloraxis": {
           "colorbar": {
            "outlinewidth": 0,
            "ticks": ""
           }
          },
          "colorscale": {
           "diverging": [
            [
             0,
             "#8e0152"
            ],
            [
             0.1,
             "#c51b7d"
            ],
            [
             0.2,
             "#de77ae"
            ],
            [
             0.3,
             "#f1b6da"
            ],
            [
             0.4,
             "#fde0ef"
            ],
            [
             0.5,
             "#f7f7f7"
            ],
            [
             0.6,
             "#e6f5d0"
            ],
            [
             0.7,
             "#b8e186"
            ],
            [
             0.8,
             "#7fbc41"
            ],
            [
             0.9,
             "#4d9221"
            ],
            [
             1,
             "#276419"
            ]
           ],
           "sequential": [
            [
             0,
             "#0d0887"
            ],
            [
             0.1111111111111111,
             "#46039f"
            ],
            [
             0.2222222222222222,
             "#7201a8"
            ],
            [
             0.3333333333333333,
             "#9c179e"
            ],
            [
             0.4444444444444444,
             "#bd3786"
            ],
            [
             0.5555555555555556,
             "#d8576b"
            ],
            [
             0.6666666666666666,
             "#ed7953"
            ],
            [
             0.7777777777777778,
             "#fb9f3a"
            ],
            [
             0.8888888888888888,
             "#fdca26"
            ],
            [
             1,
             "#f0f921"
            ]
           ],
           "sequentialminus": [
            [
             0,
             "#0d0887"
            ],
            [
             0.1111111111111111,
             "#46039f"
            ],
            [
             0.2222222222222222,
             "#7201a8"
            ],
            [
             0.3333333333333333,
             "#9c179e"
            ],
            [
             0.4444444444444444,
             "#bd3786"
            ],
            [
             0.5555555555555556,
             "#d8576b"
            ],
            [
             0.6666666666666666,
             "#ed7953"
            ],
            [
             0.7777777777777778,
             "#fb9f3a"
            ],
            [
             0.8888888888888888,
             "#fdca26"
            ],
            [
             1,
             "#f0f921"
            ]
           ]
          },
          "colorway": [
           "#636efa",
           "#EF553B",
           "#00cc96",
           "#ab63fa",
           "#FFA15A",
           "#19d3f3",
           "#FF6692",
           "#B6E880",
           "#FF97FF",
           "#FECB52"
          ],
          "font": {
           "color": "#2a3f5f"
          },
          "geo": {
           "bgcolor": "white",
           "lakecolor": "white",
           "landcolor": "#E5ECF6",
           "showlakes": true,
           "showland": true,
           "subunitcolor": "white"
          },
          "hoverlabel": {
           "align": "left"
          },
          "hovermode": "closest",
          "mapbox": {
           "style": "light"
          },
          "paper_bgcolor": "white",
          "plot_bgcolor": "#E5ECF6",
          "polar": {
           "angularaxis": {
            "gridcolor": "white",
            "linecolor": "white",
            "ticks": ""
           },
           "bgcolor": "#E5ECF6",
           "radialaxis": {
            "gridcolor": "white",
            "linecolor": "white",
            "ticks": ""
           }
          },
          "scene": {
           "xaxis": {
            "backgroundcolor": "#E5ECF6",
            "gridcolor": "white",
            "gridwidth": 2,
            "linecolor": "white",
            "showbackground": true,
            "ticks": "",
            "zerolinecolor": "white"
           },
           "yaxis": {
            "backgroundcolor": "#E5ECF6",
            "gridcolor": "white",
            "gridwidth": 2,
            "linecolor": "white",
            "showbackground": true,
            "ticks": "",
            "zerolinecolor": "white"
           },
           "zaxis": {
            "backgroundcolor": "#E5ECF6",
            "gridcolor": "white",
            "gridwidth": 2,
            "linecolor": "white",
            "showbackground": true,
            "ticks": "",
            "zerolinecolor": "white"
           }
          },
          "shapedefaults": {
           "line": {
            "color": "#2a3f5f"
           }
          },
          "ternary": {
           "aaxis": {
            "gridcolor": "white",
            "linecolor": "white",
            "ticks": ""
           },
           "baxis": {
            "gridcolor": "white",
            "linecolor": "white",
            "ticks": ""
           },
           "bgcolor": "#E5ECF6",
           "caxis": {
            "gridcolor": "white",
            "linecolor": "white",
            "ticks": ""
           }
          },
          "title": {
           "x": 0.05
          },
          "xaxis": {
           "automargin": true,
           "gridcolor": "white",
           "linecolor": "white",
           "ticks": "",
           "title": {
            "standoff": 15
           },
           "zerolinecolor": "white",
           "zerolinewidth": 2
          },
          "yaxis": {
           "automargin": true,
           "gridcolor": "white",
           "linecolor": "white",
           "ticks": "",
           "title": {
            "standoff": 15
           },
           "zerolinecolor": "white",
           "zerolinewidth": 2
          }
         }
        },
        "title": {
         "text": "Precision-Recall Curve for Each Label"
        },
        "xaxis": {
         "title": {
          "text": "Recall"
         }
        },
        "yaxis": {
         "title": {
          "text": "Precision"
         }
        }
       }
      }
     },
     "metadata": {},
     "output_type": "display_data"
    }
   ],
   "source": [
    "import plotly.graph_objects as go\n",
    "from sklearn.metrics import precision_recall_curve  \n",
    "\n",
    "\n",
    "fig = go.Figure()\n",
    "\n",
    "\n",
    "precision = {}\n",
    "recall = {}\n",
    "\n",
    "for i, label in enumerate(mlb.classes_):\n",
    "    # Calculate precision and recall for each class\n",
    "    precision[label], recall[label], _ = precision_recall_curve(slot_types_test_bin[:, i], y_pred_test_bin[:, i])\n",
    "    \n",
    "    # Create a trace for the precision-recall curve\n",
    "    fig.add_trace(go.Scatter(\n",
    "        x=recall[label], \n",
    "        y=precision[label], \n",
    "        mode='lines', \n",
    "        name=label\n",
    "    ))\n",
    "\n",
    "# Add titles and labels\n",
    "fig.update_layout(\n",
    "    title='Precision-Recall Curve for Each Label',\n",
    "    xaxis_title='Recall',\n",
    "    yaxis_title='Precision',\n",
    "    legend_title='Labels'\n",
    ")\n",
    "\n",
    "# Show the figure\n",
    "fig.show()\n"
   ]
  },
  {
   "cell_type": "code",
   "execution_count": 41,
   "metadata": {},
   "outputs": [
    {
     "name": "stdout",
     "output_type": "stream",
     "text": [
      "Model saved as saved_models\\finalized_model_slot_values_SVM.joblib\n",
      "Label binarizer saved as saved_models\\mlb_slot_values_SVM.joblib\n"
     ]
    }
   ],
   "source": [
    "import joblib\n",
    "\n",
    "# Save the model as a checkpoint\n",
    "model_filename = 'saved_models\\\\finalized_model_slot_values_SVM.joblib'\n",
    "joblib.dump(pipeline, model_filename)\n",
    "\n",
    "# Save the MultiLabelBinarizer\n",
    "mlb_filename = 'saved_models\\\\mlb_slot_values_SVM.joblib'\n",
    "joblib.dump(mlb, mlb_filename)\n",
    "\n",
    "print(f\"Model saved as {model_filename}\")\n",
    "print(f\"Label binarizer saved as {mlb_filename}\")\n"
   ]
  },
  {
   "cell_type": "code",
   "execution_count": 42,
   "metadata": {},
   "outputs": [],
   "source": [
    "# Load the model and label binarizer\n",
    "#loaded_pipeline = joblib.load(model_filename)\n",
    "#loaded_mlb = joblib.load(mlb_filename)"
   ]
  },
  {
   "cell_type": "code",
   "execution_count": 12,
   "metadata": {},
   "outputs": [],
   "source": [
    "from sklearn.pipeline import Pipeline\n",
    "from sklearn.feature_extraction.text import TfidfVectorizer\n",
    "from sklearn.naive_bayes import MultinomialNB\n",
    "from sklearn.multiclass import OneVsRestClassifier\n",
    "from sklearn.preprocessing import MultiLabelBinarizer\n",
    "from sklearn.metrics import f1_score, make_scorer\n",
    "\n",
    "mlb = MultiLabelBinarizer()\n",
    "slot_types_train_bin = mlb.fit_transform(slot_types_train)\n",
    "slot_types_test_bin = mlb.transform(slot_types_test)\n",
    "slot_types_validate_bin = mlb.transform(slot_types_validate)\n",
    "\n",
    "# Define the pipeline\n",
    "pipeline_nb = Pipeline([\n",
    "    ('tfidf', TfidfVectorizer()),\n",
    "    ('clf', OneVsRestClassifier(MultinomialNB()))\n",
    "])\n",
    "\n",
    "# Define hyperparameters to tune\n",
    "parameters = ParameterGrid({\n",
    "    'tfidf__ngram_range': [(1, 1), (1, 2), (1, 3)],\n",
    "    'tfidf__max_df': [0.5, 0.75, 1.0],\n",
    "    'tfidf__min_df': [1, 2, 3, 5],\n",
    "    'tfidf__use_idf': [True, False],\n",
    "    'tfidf__norm': ['l1', 'l2', None],\n",
    "    'tfidf__sublinear_tf': [True, False],\n",
    "    'tfidf__max_features': [None, 5000, 10000, 20000],\n",
    "    \n",
    "    'clf__estimator__alpha': [0.001, 0.01, 0.1, 1.0, 10.0, 100.0],\n",
    "})\n",
    "\n",
    "# Scorer for GridSearchCV\n",
    "f1_scorer = make_scorer(f1_score, average='micro')\n"
   ]
  },
  {
   "cell_type": "code",
   "execution_count": 57,
   "metadata": {},
   "outputs": [
    {
     "name": "stdout",
     "output_type": "stream",
     "text": [
      "Epoch 1/10\n",
      "New best score: 0.0579 with params: {'clf__estimator__alpha': 100.0, 'tfidf__max_df': 0.75, 'tfidf__max_features': 20000, 'tfidf__min_df': 5, 'tfidf__ngram_range': (1, 1), 'tfidf__norm': 'l2', 'tfidf__sublinear_tf': False, 'tfidf__use_idf': True}\n",
      "New best score: 0.5769 with params: {'clf__estimator__alpha': 10.0, 'tfidf__max_df': 0.75, 'tfidf__max_features': None, 'tfidf__min_df': 2, 'tfidf__ngram_range': (1, 2), 'tfidf__norm': None, 'tfidf__sublinear_tf': False, 'tfidf__use_idf': False}\n",
      "Epoch 2/10\n",
      "Epoch 3/10\n",
      "New best score: 0.6285 with params: {'clf__estimator__alpha': 10.0, 'tfidf__max_df': 0.5, 'tfidf__max_features': None, 'tfidf__min_df': 5, 'tfidf__ngram_range': (1, 1), 'tfidf__norm': None, 'tfidf__sublinear_tf': True, 'tfidf__use_idf': False}\n",
      "Epoch 4/10\n",
      "Epoch 5/10\n",
      "Epoch 6/10\n",
      "New best score: 0.6339 with params: {'clf__estimator__alpha': 0.1, 'tfidf__max_df': 0.5, 'tfidf__max_features': 5000, 'tfidf__min_df': 1, 'tfidf__ngram_range': (1, 1), 'tfidf__norm': None, 'tfidf__sublinear_tf': True, 'tfidf__use_idf': False}\n",
      "Epoch 7/10\n",
      "New best score: 0.6500 with params: {'clf__estimator__alpha': 0.1, 'tfidf__max_df': 0.5, 'tfidf__max_features': 10000, 'tfidf__min_df': 3, 'tfidf__ngram_range': (1, 3), 'tfidf__norm': 'l2', 'tfidf__sublinear_tf': False, 'tfidf__use_idf': True}\n",
      "Epoch 8/10\n",
      "Epoch 9/10\n",
      "New best score: 0.6524 with params: {'clf__estimator__alpha': 0.1, 'tfidf__max_df': 0.75, 'tfidf__max_features': 5000, 'tfidf__min_df': 1, 'tfidf__ngram_range': (1, 3), 'tfidf__norm': None, 'tfidf__sublinear_tf': False, 'tfidf__use_idf': False}\n",
      "Epoch 10/10\n"
     ]
    }
   ],
   "source": [
    "best_score = 0\n",
    "best_params = None\n",
    "\n",
    "\n",
    "for epoch in range(1, N+1): \n",
    "    print(f\"Epoch {epoch}/{N}\")\n",
    "    \n",
    "    # subset of parameters to try in epoch\n",
    "    sampled_parameters = np.random.choice(list(parameters), replace=False, size=2) \n",
    "    \n",
    "    for params in sampled_parameters:\n",
    "        # Setup pipeline with the current parameters\n",
    "        pipeline_nb.set_params(**params)\n",
    "        \n",
    "        # Fit the pipeline on the training data\n",
    "        pipeline_nb.fit(utterances_train, slot_types_train_bin)\n",
    "        \n",
    "        # Evaluate on the validation set\n",
    "        current_score = f1_score(slot_types_validate_bin, pipeline_nb.predict(utterances_validate), average='micro')\n",
    "        \n",
    "        # Update best score and parameters if current model is better\n",
    "        if current_score > best_score:\n",
    "            best_score = current_score\n",
    "            best_params = params\n",
    "            print(f\"New best score: {best_score:.4f} with params: {params}\")\n"
   ]
  },
  {
   "cell_type": "code",
   "execution_count": 58,
   "metadata": {},
   "outputs": [
    {
     "data": {
      "text/html": [
       "<style>#sk-container-id-8 {color: black;background-color: white;}#sk-container-id-8 pre{padding: 0;}#sk-container-id-8 div.sk-toggleable {background-color: white;}#sk-container-id-8 label.sk-toggleable__label {cursor: pointer;display: block;width: 100%;margin-bottom: 0;padding: 0.3em;box-sizing: border-box;text-align: center;}#sk-container-id-8 label.sk-toggleable__label-arrow:before {content: \"▸\";float: left;margin-right: 0.25em;color: #696969;}#sk-container-id-8 label.sk-toggleable__label-arrow:hover:before {color: black;}#sk-container-id-8 div.sk-estimator:hover label.sk-toggleable__label-arrow:before {color: black;}#sk-container-id-8 div.sk-toggleable__content {max-height: 0;max-width: 0;overflow: hidden;text-align: left;background-color: #f0f8ff;}#sk-container-id-8 div.sk-toggleable__content pre {margin: 0.2em;color: black;border-radius: 0.25em;background-color: #f0f8ff;}#sk-container-id-8 input.sk-toggleable__control:checked~div.sk-toggleable__content {max-height: 200px;max-width: 100%;overflow: auto;}#sk-container-id-8 input.sk-toggleable__control:checked~label.sk-toggleable__label-arrow:before {content: \"▾\";}#sk-container-id-8 div.sk-estimator input.sk-toggleable__control:checked~label.sk-toggleable__label {background-color: #d4ebff;}#sk-container-id-8 div.sk-label input.sk-toggleable__control:checked~label.sk-toggleable__label {background-color: #d4ebff;}#sk-container-id-8 input.sk-hidden--visually {border: 0;clip: rect(1px 1px 1px 1px);clip: rect(1px, 1px, 1px, 1px);height: 1px;margin: -1px;overflow: hidden;padding: 0;position: absolute;width: 1px;}#sk-container-id-8 div.sk-estimator {font-family: monospace;background-color: #f0f8ff;border: 1px dotted black;border-radius: 0.25em;box-sizing: border-box;margin-bottom: 0.5em;}#sk-container-id-8 div.sk-estimator:hover {background-color: #d4ebff;}#sk-container-id-8 div.sk-parallel-item::after {content: \"\";width: 100%;border-bottom: 1px solid gray;flex-grow: 1;}#sk-container-id-8 div.sk-label:hover label.sk-toggleable__label {background-color: #d4ebff;}#sk-container-id-8 div.sk-serial::before {content: \"\";position: absolute;border-left: 1px solid gray;box-sizing: border-box;top: 0;bottom: 0;left: 50%;z-index: 0;}#sk-container-id-8 div.sk-serial {display: flex;flex-direction: column;align-items: center;background-color: white;padding-right: 0.2em;padding-left: 0.2em;position: relative;}#sk-container-id-8 div.sk-item {position: relative;z-index: 1;}#sk-container-id-8 div.sk-parallel {display: flex;align-items: stretch;justify-content: center;background-color: white;position: relative;}#sk-container-id-8 div.sk-item::before, #sk-container-id-8 div.sk-parallel-item::before {content: \"\";position: absolute;border-left: 1px solid gray;box-sizing: border-box;top: 0;bottom: 0;left: 50%;z-index: -1;}#sk-container-id-8 div.sk-parallel-item {display: flex;flex-direction: column;z-index: 1;position: relative;background-color: white;}#sk-container-id-8 div.sk-parallel-item:first-child::after {align-self: flex-end;width: 50%;}#sk-container-id-8 div.sk-parallel-item:last-child::after {align-self: flex-start;width: 50%;}#sk-container-id-8 div.sk-parallel-item:only-child::after {width: 0;}#sk-container-id-8 div.sk-dashed-wrapped {border: 1px dashed gray;margin: 0 0.4em 0.5em 0.4em;box-sizing: border-box;padding-bottom: 0.4em;background-color: white;}#sk-container-id-8 div.sk-label label {font-family: monospace;font-weight: bold;display: inline-block;line-height: 1.2em;}#sk-container-id-8 div.sk-label-container {text-align: center;}#sk-container-id-8 div.sk-container {/* jupyter's `normalize.less` sets `[hidden] { display: none; }` but bootstrap.min.css set `[hidden] { display: none !important; }` so we also need the `!important` here to be able to override the default hidden behavior on the sphinx rendered scikit-learn.org. See: https://github.com/scikit-learn/scikit-learn/issues/21755 */display: inline-block !important;position: relative;}#sk-container-id-8 div.sk-text-repr-fallback {display: none;}</style><div id=\"sk-container-id-8\" class=\"sk-top-container\"><div class=\"sk-text-repr-fallback\"><pre>OneVsRestClassifier(estimator=MultinomialNB(alpha=0.1))</pre><b>In a Jupyter environment, please rerun this cell to show the HTML representation or trust the notebook. <br />On GitHub, the HTML representation is unable to render, please try loading this page with nbviewer.org.</b></div><div class=\"sk-container\" hidden><div class=\"sk-item sk-dashed-wrapped\"><div class=\"sk-label-container\"><div class=\"sk-label sk-toggleable\"><input class=\"sk-toggleable__control sk-hidden--visually\" id=\"sk-estimator-id-26\" type=\"checkbox\" ><label for=\"sk-estimator-id-26\" class=\"sk-toggleable__label sk-toggleable__label-arrow\">OneVsRestClassifier</label><div class=\"sk-toggleable__content\"><pre>OneVsRestClassifier(estimator=MultinomialNB(alpha=0.1))</pre></div></div></div><div class=\"sk-parallel\"><div class=\"sk-parallel-item\"><div class=\"sk-item\"><div class=\"sk-label-container\"><div class=\"sk-label sk-toggleable\"><input class=\"sk-toggleable__control sk-hidden--visually\" id=\"sk-estimator-id-27\" type=\"checkbox\" ><label for=\"sk-estimator-id-27\" class=\"sk-toggleable__label sk-toggleable__label-arrow\">estimator: MultinomialNB</label><div class=\"sk-toggleable__content\"><pre>MultinomialNB(alpha=0.1)</pre></div></div></div><div class=\"sk-serial\"><div class=\"sk-item\"><div class=\"sk-estimator sk-toggleable\"><input class=\"sk-toggleable__control sk-hidden--visually\" id=\"sk-estimator-id-28\" type=\"checkbox\" ><label for=\"sk-estimator-id-28\" class=\"sk-toggleable__label sk-toggleable__label-arrow\">MultinomialNB</label><div class=\"sk-toggleable__content\"><pre>MultinomialNB(alpha=0.1)</pre></div></div></div></div></div></div></div></div></div></div>"
      ],
      "text/plain": [
       "OneVsRestClassifier(estimator=MultinomialNB(alpha=0.1))"
      ]
     },
     "execution_count": 58,
     "metadata": {},
     "output_type": "execute_result"
    }
   ],
   "source": [
    "# Configure pipeline with the best parameters\n",
    "pipeline_nb.set_params(**best_params)\n",
    "\n",
    "# Combining training and validation sets\n",
    "X_combined = utterances_train + utterances_validate\n",
    "y_combined_bin = np.concatenate((slot_types_train_bin, slot_types_validate_bin), axis=0)\n",
    "\n",
    "# Ensuring data is properly shuffled\n",
    "X_combined, y_combined_bin = shuffle(X_combined, y_combined_bin, random_state=42)\n",
    "\n",
    "# Transform combined data\n",
    "X_combined_tfidf = pipeline_nb.named_steps['tfidf'].fit_transform(X_combined)\n",
    "\n",
    "# Retrain\n",
    "pipeline_nb.named_steps['clf'].fit(X_combined_tfidf, y_combined_bin)\n",
    "\n",
    "\n"
   ]
  },
  {
   "cell_type": "code",
   "execution_count": 10,
   "metadata": {},
   "outputs": [],
   "source": [
    "import joblib\n",
    "from sklearn.metrics import classification_report, hamming_loss, jaccard_score\n",
    "\n",
    "# Load the trained model and MultiLabelBinarizer\n",
    "pipeline_nb = joblib.load(\"saved_models_synth\\\\finalized_model_slot_values_NB.joblib\")\n",
    "mlb = joblib.load(\"saved_models_synth\\\\mlb_slot_values_NB.joblib\")\n"
   ]
  },
  {
   "cell_type": "code",
   "execution_count": 15,
   "metadata": {},
   "outputs": [
    {
     "name": "stdout",
     "output_type": "stream",
     "text": [
      "['hotel-area' 'hotel-bookday' 'hotel-bookpeople' 'hotel-bookstay'\n",
      " 'hotel-internet' 'hotel-name' 'hotel-parking' 'hotel-pricerange'\n",
      " 'hotel-type' 'train-arriveby' 'train-bookpeople' 'train-day'\n",
      " 'train-departure' 'train-destination' 'train-leaveat']\n"
     ]
    }
   ],
   "source": [
    "print(mlb.classes_)"
   ]
  },
  {
   "cell_type": "code",
   "execution_count": 16,
   "metadata": {},
   "outputs": [
    {
     "name": "stdout",
     "output_type": "stream",
     "text": [
      "Unique classes in the test dataset: {'hotel-parking', 'train-bookpeople', 'hotel-area', 'train-destination', 'hotel-name', 'hotel-pricerange', 'hotel-internet', 'hotel-bookpeople', 'hotel-bookstay', 'train-arriveby', 'hotel-type', 'train-leaveat', 'train-departure', 'hotel-bookday', 'train-day'}\n"
     ]
    }
   ],
   "source": [
    "test_classes = mlb.inverse_transform(slot_types_test_bin)\n",
    "\n",
    "# Flatten the list of labels and get unique classes\n",
    "unique_test_classes = set([label for sublist in test_classes for label in sublist])\n",
    "\n",
    "print(\"Unique classes in the test dataset:\", unique_test_classes)"
   ]
  },
  {
   "cell_type": "code",
   "execution_count": 11,
   "metadata": {},
   "outputs": [
    {
     "name": "stdout",
     "output_type": "stream",
     "text": [
      "Final Test Set Results:\n",
      "                   precision    recall  f1-score   support\n",
      "\n",
      "       hotel-area       0.24      1.00      0.39       178\n",
      "    hotel-bookday       0.23      1.00      0.37       165\n",
      " hotel-bookpeople       0.00      0.00      0.00       162\n",
      "   hotel-bookstay       0.00      0.00      0.00       167\n",
      "   hotel-internet       0.26      1.00      0.41       186\n",
      "       hotel-name       0.24      1.00      0.39       175\n",
      "    hotel-parking       0.00      0.00      0.00       183\n",
      " hotel-pricerange       0.00      0.00      0.00       200\n",
      "       hotel-type       0.30      1.00      0.47       222\n",
      "   train-arriveby       0.18      1.00      0.30       131\n",
      " train-bookpeople       0.00      0.00      0.00        91\n",
      "        train-day       0.38      1.00      0.55       278\n",
      "  train-departure       0.00      0.00      0.00       277\n",
      "train-destination       0.00      0.00      0.00       284\n",
      "    train-leaveat       0.20      1.00      0.34       147\n",
      "\n",
      "        micro avg       0.25      0.52      0.34      2846\n",
      "        macro avg       0.14      0.53      0.21      2846\n",
      "     weighted avg       0.14      0.52      0.22      2846\n",
      "      samples avg       0.25      0.55      0.33      2846\n",
      "\n",
      "Hamming Loss: 0.5225422953818015\n",
      "Jaccard Score: 0.20307672056643256\n"
     ]
    },
    {
     "name": "stderr",
     "output_type": "stream",
     "text": [
      "f:\\UTILITARE\\Miniconda\\envs\\School_Py\\lib\\site-packages\\sklearn\\metrics\\_classification.py:1344: UndefinedMetricWarning:\n",
      "\n",
      "Precision and F-score are ill-defined and being set to 0.0 in labels with no predicted samples. Use `zero_division` parameter to control this behavior.\n",
      "\n"
     ]
    }
   ],
   "source": [
    "import numpy as np\n",
    "\n",
    "# Predict on the test set\n",
    "y_pred_test_bin = pipeline_nb.predict(utterances_test)\n",
    "\n",
    "# Check the output shape and adjust if it's not 2D\n",
    "if y_pred_test_bin.ndim == 1:\n",
    "    y_pred_test_bin = y_pred_test_bin.reshape(1, -1)\n",
    "\n",
    "# Ensure there is at least one sample\n",
    "if y_pred_test_bin.size == 0:\n",
    "    print(\"No predictions were made. Check your input data and model.\")\n",
    "else:\n",
    "    # Convert binary predictions back to label format\n",
    "    try:\n",
    "        y_pred_test = mlb.inverse_transform(y_pred_test_bin)\n",
    "        slot_types_test_actual = mlb.inverse_transform(slot_types_test_bin)\n",
    "\n",
    "        # Evaluate performance\n",
    "        print(\"Final Test Set Results:\")\n",
    "        print(classification_report(slot_types_test_bin, y_pred_test_bin, target_names=mlb.classes_))\n",
    "\n",
    "        hamming_loss_value = hamming_loss(slot_types_test_bin, y_pred_test_bin)\n",
    "        print(\"Hamming Loss:\", hamming_loss_value)\n",
    "\n",
    "        jaccard = jaccard_score(slot_types_test_bin, y_pred_test_bin, average='samples')\n",
    "        print(\"Jaccard Score:\", jaccard)\n",
    "    except ValueError as e:\n",
    "        print(\"Error during model evaluation:\", e)\n"
   ]
  },
  {
   "cell_type": "code",
   "execution_count": 12,
   "metadata": {},
   "outputs": [
    {
     "data": {
      "application/vnd.plotly.v1+json": {
       "config": {
        "plotlyServerURL": "https://plot.ly"
       },
       "data": [
        {
         "mode": "lines",
         "name": "hotel-area",
         "type": "scatter",
         "x": [
          1,
          0
         ],
         "y": [
          0.24417009602194786,
          1
         ]
        },
        {
         "mode": "lines",
         "name": "hotel-bookday",
         "type": "scatter",
         "x": [
          1,
          0
         ],
         "y": [
          0.22633744855967078,
          1
         ]
        },
        {
         "mode": "lines",
         "name": "hotel-bookpeople",
         "type": "scatter",
         "x": [
          1,
          0
         ],
         "y": [
          0.2222222222222222,
          1
         ]
        },
        {
         "mode": "lines",
         "name": "hotel-bookstay",
         "type": "scatter",
         "x": [
          1,
          0
         ],
         "y": [
          0.22908093278463648,
          1
         ]
        },
        {
         "mode": "lines",
         "name": "hotel-internet",
         "type": "scatter",
         "x": [
          1,
          0
         ],
         "y": [
          0.2551440329218107,
          1
         ]
        },
        {
         "mode": "lines",
         "name": "hotel-name",
         "type": "scatter",
         "x": [
          1,
          0
         ],
         "y": [
          0.24005486968449932,
          1
         ]
        },
        {
         "mode": "lines",
         "name": "hotel-parking",
         "type": "scatter",
         "x": [
          1,
          0
         ],
         "y": [
          0.25102880658436216,
          1
         ]
        },
        {
         "mode": "lines",
         "name": "hotel-pricerange",
         "type": "scatter",
         "x": [
          1,
          0
         ],
         "y": [
          0.27434842249657065,
          1
         ]
        },
        {
         "mode": "lines",
         "name": "hotel-type",
         "type": "scatter",
         "x": [
          1,
          0
         ],
         "y": [
          0.3045267489711934,
          1
         ]
        },
        {
         "mode": "lines",
         "name": "train-arriveby",
         "type": "scatter",
         "x": [
          1,
          0
         ],
         "y": [
          0.17969821673525377,
          1
         ]
        },
        {
         "mode": "lines",
         "name": "train-bookpeople",
         "type": "scatter",
         "x": [
          1,
          0
         ],
         "y": [
          0.12482853223593965,
          1
         ]
        },
        {
         "mode": "lines",
         "name": "train-day",
         "type": "scatter",
         "x": [
          1,
          0
         ],
         "y": [
          0.3813443072702332,
          1
         ]
        },
        {
         "mode": "lines",
         "name": "train-departure",
         "type": "scatter",
         "x": [
          1,
          0
         ],
         "y": [
          0.37997256515775035,
          1
         ]
        },
        {
         "mode": "lines",
         "name": "train-destination",
         "type": "scatter",
         "x": [
          1,
          0
         ],
         "y": [
          0.3895747599451303,
          1
         ]
        },
        {
         "mode": "lines",
         "name": "train-leaveat",
         "type": "scatter",
         "x": [
          1,
          0
         ],
         "y": [
          0.20164609053497942,
          1
         ]
        }
       ],
       "layout": {
        "legend": {
         "title": {
          "text": "Labels"
         }
        },
        "template": {
         "data": {
          "bar": [
           {
            "error_x": {
             "color": "#2a3f5f"
            },
            "error_y": {
             "color": "#2a3f5f"
            },
            "marker": {
             "line": {
              "color": "#E5ECF6",
              "width": 0.5
             },
             "pattern": {
              "fillmode": "overlay",
              "size": 10,
              "solidity": 0.2
             }
            },
            "type": "bar"
           }
          ],
          "barpolar": [
           {
            "marker": {
             "line": {
              "color": "#E5ECF6",
              "width": 0.5
             },
             "pattern": {
              "fillmode": "overlay",
              "size": 10,
              "solidity": 0.2
             }
            },
            "type": "barpolar"
           }
          ],
          "carpet": [
           {
            "aaxis": {
             "endlinecolor": "#2a3f5f",
             "gridcolor": "white",
             "linecolor": "white",
             "minorgridcolor": "white",
             "startlinecolor": "#2a3f5f"
            },
            "baxis": {
             "endlinecolor": "#2a3f5f",
             "gridcolor": "white",
             "linecolor": "white",
             "minorgridcolor": "white",
             "startlinecolor": "#2a3f5f"
            },
            "type": "carpet"
           }
          ],
          "choropleth": [
           {
            "colorbar": {
             "outlinewidth": 0,
             "ticks": ""
            },
            "type": "choropleth"
           }
          ],
          "contour": [
           {
            "colorbar": {
             "outlinewidth": 0,
             "ticks": ""
            },
            "colorscale": [
             [
              0,
              "#0d0887"
             ],
             [
              0.1111111111111111,
              "#46039f"
             ],
             [
              0.2222222222222222,
              "#7201a8"
             ],
             [
              0.3333333333333333,
              "#9c179e"
             ],
             [
              0.4444444444444444,
              "#bd3786"
             ],
             [
              0.5555555555555556,
              "#d8576b"
             ],
             [
              0.6666666666666666,
              "#ed7953"
             ],
             [
              0.7777777777777778,
              "#fb9f3a"
             ],
             [
              0.8888888888888888,
              "#fdca26"
             ],
             [
              1,
              "#f0f921"
             ]
            ],
            "type": "contour"
           }
          ],
          "contourcarpet": [
           {
            "colorbar": {
             "outlinewidth": 0,
             "ticks": ""
            },
            "type": "contourcarpet"
           }
          ],
          "heatmap": [
           {
            "colorbar": {
             "outlinewidth": 0,
             "ticks": ""
            },
            "colorscale": [
             [
              0,
              "#0d0887"
             ],
             [
              0.1111111111111111,
              "#46039f"
             ],
             [
              0.2222222222222222,
              "#7201a8"
             ],
             [
              0.3333333333333333,
              "#9c179e"
             ],
             [
              0.4444444444444444,
              "#bd3786"
             ],
             [
              0.5555555555555556,
              "#d8576b"
             ],
             [
              0.6666666666666666,
              "#ed7953"
             ],
             [
              0.7777777777777778,
              "#fb9f3a"
             ],
             [
              0.8888888888888888,
              "#fdca26"
             ],
             [
              1,
              "#f0f921"
             ]
            ],
            "type": "heatmap"
           }
          ],
          "heatmapgl": [
           {
            "colorbar": {
             "outlinewidth": 0,
             "ticks": ""
            },
            "colorscale": [
             [
              0,
              "#0d0887"
             ],
             [
              0.1111111111111111,
              "#46039f"
             ],
             [
              0.2222222222222222,
              "#7201a8"
             ],
             [
              0.3333333333333333,
              "#9c179e"
             ],
             [
              0.4444444444444444,
              "#bd3786"
             ],
             [
              0.5555555555555556,
              "#d8576b"
             ],
             [
              0.6666666666666666,
              "#ed7953"
             ],
             [
              0.7777777777777778,
              "#fb9f3a"
             ],
             [
              0.8888888888888888,
              "#fdca26"
             ],
             [
              1,
              "#f0f921"
             ]
            ],
            "type": "heatmapgl"
           }
          ],
          "histogram": [
           {
            "marker": {
             "pattern": {
              "fillmode": "overlay",
              "size": 10,
              "solidity": 0.2
             }
            },
            "type": "histogram"
           }
          ],
          "histogram2d": [
           {
            "colorbar": {
             "outlinewidth": 0,
             "ticks": ""
            },
            "colorscale": [
             [
              0,
              "#0d0887"
             ],
             [
              0.1111111111111111,
              "#46039f"
             ],
             [
              0.2222222222222222,
              "#7201a8"
             ],
             [
              0.3333333333333333,
              "#9c179e"
             ],
             [
              0.4444444444444444,
              "#bd3786"
             ],
             [
              0.5555555555555556,
              "#d8576b"
             ],
             [
              0.6666666666666666,
              "#ed7953"
             ],
             [
              0.7777777777777778,
              "#fb9f3a"
             ],
             [
              0.8888888888888888,
              "#fdca26"
             ],
             [
              1,
              "#f0f921"
             ]
            ],
            "type": "histogram2d"
           }
          ],
          "histogram2dcontour": [
           {
            "colorbar": {
             "outlinewidth": 0,
             "ticks": ""
            },
            "colorscale": [
             [
              0,
              "#0d0887"
             ],
             [
              0.1111111111111111,
              "#46039f"
             ],
             [
              0.2222222222222222,
              "#7201a8"
             ],
             [
              0.3333333333333333,
              "#9c179e"
             ],
             [
              0.4444444444444444,
              "#bd3786"
             ],
             [
              0.5555555555555556,
              "#d8576b"
             ],
             [
              0.6666666666666666,
              "#ed7953"
             ],
             [
              0.7777777777777778,
              "#fb9f3a"
             ],
             [
              0.8888888888888888,
              "#fdca26"
             ],
             [
              1,
              "#f0f921"
             ]
            ],
            "type": "histogram2dcontour"
           }
          ],
          "mesh3d": [
           {
            "colorbar": {
             "outlinewidth": 0,
             "ticks": ""
            },
            "type": "mesh3d"
           }
          ],
          "parcoords": [
           {
            "line": {
             "colorbar": {
              "outlinewidth": 0,
              "ticks": ""
             }
            },
            "type": "parcoords"
           }
          ],
          "pie": [
           {
            "automargin": true,
            "type": "pie"
           }
          ],
          "scatter": [
           {
            "fillpattern": {
             "fillmode": "overlay",
             "size": 10,
             "solidity": 0.2
            },
            "type": "scatter"
           }
          ],
          "scatter3d": [
           {
            "line": {
             "colorbar": {
              "outlinewidth": 0,
              "ticks": ""
             }
            },
            "marker": {
             "colorbar": {
              "outlinewidth": 0,
              "ticks": ""
             }
            },
            "type": "scatter3d"
           }
          ],
          "scattercarpet": [
           {
            "marker": {
             "colorbar": {
              "outlinewidth": 0,
              "ticks": ""
             }
            },
            "type": "scattercarpet"
           }
          ],
          "scattergeo": [
           {
            "marker": {
             "colorbar": {
              "outlinewidth": 0,
              "ticks": ""
             }
            },
            "type": "scattergeo"
           }
          ],
          "scattergl": [
           {
            "marker": {
             "colorbar": {
              "outlinewidth": 0,
              "ticks": ""
             }
            },
            "type": "scattergl"
           }
          ],
          "scattermapbox": [
           {
            "marker": {
             "colorbar": {
              "outlinewidth": 0,
              "ticks": ""
             }
            },
            "type": "scattermapbox"
           }
          ],
          "scatterpolar": [
           {
            "marker": {
             "colorbar": {
              "outlinewidth": 0,
              "ticks": ""
             }
            },
            "type": "scatterpolar"
           }
          ],
          "scatterpolargl": [
           {
            "marker": {
             "colorbar": {
              "outlinewidth": 0,
              "ticks": ""
             }
            },
            "type": "scatterpolargl"
           }
          ],
          "scatterternary": [
           {
            "marker": {
             "colorbar": {
              "outlinewidth": 0,
              "ticks": ""
             }
            },
            "type": "scatterternary"
           }
          ],
          "surface": [
           {
            "colorbar": {
             "outlinewidth": 0,
             "ticks": ""
            },
            "colorscale": [
             [
              0,
              "#0d0887"
             ],
             [
              0.1111111111111111,
              "#46039f"
             ],
             [
              0.2222222222222222,
              "#7201a8"
             ],
             [
              0.3333333333333333,
              "#9c179e"
             ],
             [
              0.4444444444444444,
              "#bd3786"
             ],
             [
              0.5555555555555556,
              "#d8576b"
             ],
             [
              0.6666666666666666,
              "#ed7953"
             ],
             [
              0.7777777777777778,
              "#fb9f3a"
             ],
             [
              0.8888888888888888,
              "#fdca26"
             ],
             [
              1,
              "#f0f921"
             ]
            ],
            "type": "surface"
           }
          ],
          "table": [
           {
            "cells": {
             "fill": {
              "color": "#EBF0F8"
             },
             "line": {
              "color": "white"
             }
            },
            "header": {
             "fill": {
              "color": "#C8D4E3"
             },
             "line": {
              "color": "white"
             }
            },
            "type": "table"
           }
          ]
         },
         "layout": {
          "annotationdefaults": {
           "arrowcolor": "#2a3f5f",
           "arrowhead": 0,
           "arrowwidth": 1
          },
          "autotypenumbers": "strict",
          "coloraxis": {
           "colorbar": {
            "outlinewidth": 0,
            "ticks": ""
           }
          },
          "colorscale": {
           "diverging": [
            [
             0,
             "#8e0152"
            ],
            [
             0.1,
             "#c51b7d"
            ],
            [
             0.2,
             "#de77ae"
            ],
            [
             0.3,
             "#f1b6da"
            ],
            [
             0.4,
             "#fde0ef"
            ],
            [
             0.5,
             "#f7f7f7"
            ],
            [
             0.6,
             "#e6f5d0"
            ],
            [
             0.7,
             "#b8e186"
            ],
            [
             0.8,
             "#7fbc41"
            ],
            [
             0.9,
             "#4d9221"
            ],
            [
             1,
             "#276419"
            ]
           ],
           "sequential": [
            [
             0,
             "#0d0887"
            ],
            [
             0.1111111111111111,
             "#46039f"
            ],
            [
             0.2222222222222222,
             "#7201a8"
            ],
            [
             0.3333333333333333,
             "#9c179e"
            ],
            [
             0.4444444444444444,
             "#bd3786"
            ],
            [
             0.5555555555555556,
             "#d8576b"
            ],
            [
             0.6666666666666666,
             "#ed7953"
            ],
            [
             0.7777777777777778,
             "#fb9f3a"
            ],
            [
             0.8888888888888888,
             "#fdca26"
            ],
            [
             1,
             "#f0f921"
            ]
           ],
           "sequentialminus": [
            [
             0,
             "#0d0887"
            ],
            [
             0.1111111111111111,
             "#46039f"
            ],
            [
             0.2222222222222222,
             "#7201a8"
            ],
            [
             0.3333333333333333,
             "#9c179e"
            ],
            [
             0.4444444444444444,
             "#bd3786"
            ],
            [
             0.5555555555555556,
             "#d8576b"
            ],
            [
             0.6666666666666666,
             "#ed7953"
            ],
            [
             0.7777777777777778,
             "#fb9f3a"
            ],
            [
             0.8888888888888888,
             "#fdca26"
            ],
            [
             1,
             "#f0f921"
            ]
           ]
          },
          "colorway": [
           "#636efa",
           "#EF553B",
           "#00cc96",
           "#ab63fa",
           "#FFA15A",
           "#19d3f3",
           "#FF6692",
           "#B6E880",
           "#FF97FF",
           "#FECB52"
          ],
          "font": {
           "color": "#2a3f5f"
          },
          "geo": {
           "bgcolor": "white",
           "lakecolor": "white",
           "landcolor": "#E5ECF6",
           "showlakes": true,
           "showland": true,
           "subunitcolor": "white"
          },
          "hoverlabel": {
           "align": "left"
          },
          "hovermode": "closest",
          "mapbox": {
           "style": "light"
          },
          "paper_bgcolor": "white",
          "plot_bgcolor": "#E5ECF6",
          "polar": {
           "angularaxis": {
            "gridcolor": "white",
            "linecolor": "white",
            "ticks": ""
           },
           "bgcolor": "#E5ECF6",
           "radialaxis": {
            "gridcolor": "white",
            "linecolor": "white",
            "ticks": ""
           }
          },
          "scene": {
           "xaxis": {
            "backgroundcolor": "#E5ECF6",
            "gridcolor": "white",
            "gridwidth": 2,
            "linecolor": "white",
            "showbackground": true,
            "ticks": "",
            "zerolinecolor": "white"
           },
           "yaxis": {
            "backgroundcolor": "#E5ECF6",
            "gridcolor": "white",
            "gridwidth": 2,
            "linecolor": "white",
            "showbackground": true,
            "ticks": "",
            "zerolinecolor": "white"
           },
           "zaxis": {
            "backgroundcolor": "#E5ECF6",
            "gridcolor": "white",
            "gridwidth": 2,
            "linecolor": "white",
            "showbackground": true,
            "ticks": "",
            "zerolinecolor": "white"
           }
          },
          "shapedefaults": {
           "line": {
            "color": "#2a3f5f"
           }
          },
          "ternary": {
           "aaxis": {
            "gridcolor": "white",
            "linecolor": "white",
            "ticks": ""
           },
           "baxis": {
            "gridcolor": "white",
            "linecolor": "white",
            "ticks": ""
           },
           "bgcolor": "#E5ECF6",
           "caxis": {
            "gridcolor": "white",
            "linecolor": "white",
            "ticks": ""
           }
          },
          "title": {
           "x": 0.05
          },
          "xaxis": {
           "automargin": true,
           "gridcolor": "white",
           "linecolor": "white",
           "ticks": "",
           "title": {
            "standoff": 15
           },
           "zerolinecolor": "white",
           "zerolinewidth": 2
          },
          "yaxis": {
           "automargin": true,
           "gridcolor": "white",
           "linecolor": "white",
           "ticks": "",
           "title": {
            "standoff": 15
           },
           "zerolinecolor": "white",
           "zerolinewidth": 2
          }
         }
        },
        "title": {
         "text": "Precision-Recall Curve for Each Label"
        },
        "xaxis": {
         "title": {
          "text": "Recall"
         }
        },
        "yaxis": {
         "title": {
          "text": "Precision"
         }
        }
       }
      }
     },
     "metadata": {},
     "output_type": "display_data"
    }
   ],
   "source": [
    "\n",
    "from sklearn.metrics import precision_recall_curve\n",
    "\n",
    "\n",
    "fig = go.Figure()\n",
    "\n",
    "for i, label in enumerate(mlb.classes_):\n",
    "\n",
    "    precision[label], recall[label], _ = precision_recall_curve(slot_types_test_bin[:, i], y_pred_test_bin[:, i])\n",
    "    \n",
    "\n",
    "    fig.add_trace(go.Scatter(\n",
    "        x=recall[label], \n",
    "        y=precision[label], \n",
    "        mode='lines', \n",
    "        name=label\n",
    "    ))\n",
    "\n",
    "\n",
    "fig.update_layout(\n",
    "    title='Precision-Recall Curve for Each Label',\n",
    "    xaxis_title='Recall',\n",
    "    yaxis_title='Precision',\n",
    "    legend_title='Labels'\n",
    ")\n",
    "\n",
    "# Show the figure\n",
    "fig.show()"
   ]
  },
  {
   "cell_type": "code",
   "execution_count": null,
   "metadata": {},
   "outputs": [
    {
     "name": "stdout",
     "output_type": "stream",
     "text": [
      "Model saved as saved_models\\finalized_model_slot_values_NB.joblib\n",
      "Label binarizer saved as saved_models\\mlb_slot_values_NB.joblib\n"
     ]
    }
   ],
   "source": [
    "# Save the model as a checkpoint\n",
    "model_filename = 'saved_models\\\\finalized_model_slot_values_NB.joblib'\n",
    "joblib.dump(pipeline, model_filename)\n",
    "\n",
    "# Save the MultiLabelBinarizer\n",
    "mlb_filename = 'saved_models\\\\mlb_slot_values_NB.joblib'\n",
    "joblib.dump(mlb, mlb_filename)\n",
    "\n",
    "print(f\"Model saved as {model_filename}\")\n",
    "print(f\"Label binarizer saved as {mlb_filename}\")"
   ]
  }
 ],
 "metadata": {
  "kernelspec": {
   "display_name": "School_Py",
   "language": "python",
   "name": "python3"
  },
  "language_info": {
   "codemirror_mode": {
    "name": "ipython",
    "version": 3
   },
   "file_extension": ".py",
   "mimetype": "text/x-python",
   "name": "python",
   "nbconvert_exporter": "python",
   "pygments_lexer": "ipython3",
   "version": "3.10.10"
  }
 },
 "nbformat": 4,
 "nbformat_minor": 2
}
