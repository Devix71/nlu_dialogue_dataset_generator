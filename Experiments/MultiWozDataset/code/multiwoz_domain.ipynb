{
 "cells": [
  {
   "cell_type": "code",
   "execution_count": 1,
   "metadata": {},
   "outputs": [
    {
     "data": {
      "text/plain": [
       "(3957,\n",
       " 3957,\n",
       " [\"I'm in search of a place to stay. A hotel, please, with free parking.\",\n",
       "  'It would be great if it included wifi and was in the north.',\n",
       "  'Yes please,parking and WiFi and Car Rental.',\n",
       "  'Yes. I need the reference number too',\n",
       "  'Friday, 5 nights, beginning this friday.'],\n",
       " ['hotel', 'hotel', 'hotel', 'hotel', 'hotel'])"
      ]
     },
     "execution_count": 1,
     "metadata": {},
     "output_type": "execute_result"
    }
   ],
   "source": [
    "import json\n",
    "\n",
    "# Load the dataset\n",
    "with open('combined_train.json', 'r') as file:\n",
    "    data = json.load(file)\n",
    "\n",
    "# Extract utterances and their associated domain (hotel or train)\n",
    "utterances = []\n",
    "labels = []\n",
    "\n",
    "for dialogue in data:\n",
    "    dialogue_service = dialogue[\"services\"][0] if dialogue[\"services\"] else None\n",
    "    for turn in dialogue[\"turns\"]:\n",
    "        if turn[\"speaker\"] == \"USER\":\n",
    "            utterances.append(turn[\"utterance\"])\n",
    "            # label the turn\n",
    "            if dialogue_service == \"hotel\":\n",
    "                labels.append(\"hotel\")\n",
    "            elif dialogue_service == \"train\":\n",
    "                labels.append(\"train\")\n",
    "            else:\n",
    "                # 'other' if the service is not one of the target domains\n",
    "                labels.append(\"other\")\n",
    "\n",
    "# Filter out 'other' labels \n",
    "filtered_utterances_train = [utterance for utterance, label in zip(utterances, labels) if label in [\"hotel\", \"train\"]]\n",
    "filtered_labels_train = [label for label in labels if label in [\"hotel\", \"train\"]]\n",
    "\n",
    "len(filtered_utterances_train), len(filtered_labels_train), filtered_utterances_train[:5], filtered_labels_train[:5]"
   ]
  },
  {
   "cell_type": "code",
   "execution_count": 2,
   "metadata": {},
   "outputs": [
    {
     "name": "stdout",
     "output_type": "stream",
     "text": [
      "Count of 'train' labels: 1829\n",
      "Count of 'hotel' labels: 2128\n"
     ]
    }
   ],
   "source": [
    "# Count instances of 'train' and 'hotel'\n",
    "count_train = filtered_labels_train.count(\"train\")\n",
    "count_hotel = filtered_labels_train.count(\"hotel\")\n",
    "\n",
    "print(\"Count of 'train' labels:\", count_train)\n",
    "print(\"Count of 'hotel' labels:\", count_hotel)\n"
   ]
  },
  {
   "cell_type": "code",
   "execution_count": 3,
   "metadata": {},
   "outputs": [
    {
     "data": {
      "text/plain": [
       "(270,\n",
       " 270,\n",
       " ['I am looking for information on a hotel.',\n",
       "  'I am looking for a hotel called the A and B Guest House.',\n",
       "  'I would like to book it for 7 people for 4 nights starting on Sunday.',\n",
       "  'Hmm, how about a different hotel in the same price range?',\n",
       "  \"Great thank you that's all I needed today\"],\n",
       " ['hotel', 'hotel', 'hotel', 'hotel', 'hotel'])"
      ]
     },
     "execution_count": 3,
     "metadata": {},
     "output_type": "execute_result"
    }
   ],
   "source": [
    "import json\n",
    "\n",
    "# Load the dataset\n",
    "with open('combined_validate.json', 'r') as file:\n",
    "    data = json.load(file)\n",
    "\n",
    "# Extract utterances and their associated domain (hotel or train)\n",
    "utterances = []\n",
    "labels = []\n",
    "\n",
    "for dialogue in data:\n",
    "    dialogue_service = dialogue[\"services\"][0] if dialogue[\"services\"] else None\n",
    "    for turn in dialogue[\"turns\"]:\n",
    "        if turn[\"speaker\"] == \"USER\":\n",
    "            utterances.append(turn[\"utterance\"])\n",
    "            # label the turn\n",
    "            if dialogue_service == \"hotel\":\n",
    "                labels.append(\"hotel\")\n",
    "            elif dialogue_service == \"train\":\n",
    "                labels.append(\"train\")\n",
    "            else:\n",
    "                # 'other' if the service is not one of the target domains\n",
    "                labels.append(\"other\")\n",
    "\n",
    "# Filter out 'other' labels\n",
    "filtered_utterances_validation = [utterance for utterance, label in zip(utterances, labels) if label in [\"hotel\", \"train\"]]\n",
    "filtered_labels_validation = [label for label in labels if label in [\"hotel\", \"train\"]]\n",
    "\n",
    "len(filtered_utterances_validation), len(filtered_labels_validation), filtered_utterances_validation[:5], filtered_labels_validation[:5]\n"
   ]
  },
  {
   "cell_type": "code",
   "execution_count": 4,
   "metadata": {},
   "outputs": [
    {
     "data": {
      "text/plain": [
       "(741,\n",
       " 741,\n",
       " ['Can you check the availability at the University Arms Hotel for five people?',\n",
       "  'Thursday please.',\n",
       "  'Actually for 5 nights and there will be 5 of us staying',\n",
       "  'Thank you so much, that is all that I need for now. Have a wonderful day.',\n",
       "  'Can you help me find an expensive hotel in the south to stay at? Thanks.'],\n",
       " ['hotel', 'hotel', 'hotel', 'hotel', 'hotel'])"
      ]
     },
     "execution_count": 4,
     "metadata": {},
     "output_type": "execute_result"
    }
   ],
   "source": [
    "import json\n",
    "\n",
    "# Load the dataset\n",
    "with open('combined_test.json', 'r') as file:\n",
    "    data = json.load(file)\n",
    "\n",
    "# Extract utterances and their associated domain (hotel or train)\n",
    "utterances = []\n",
    "labels = []\n",
    "\n",
    "for dialogue in data:\n",
    "    dialogue_service = dialogue[\"services\"][0] if dialogue[\"services\"] else None\n",
    "    for turn in dialogue[\"turns\"]:\n",
    "        if turn[\"speaker\"] == \"USER\":\n",
    "            utterances.append(turn[\"utterance\"])\n",
    "            # label the turn\n",
    "            if dialogue_service == \"hotel\":\n",
    "                labels.append(\"hotel\")\n",
    "            elif dialogue_service == \"train\":\n",
    "                labels.append(\"train\")\n",
    "            else:\n",
    "                # Label as 'other'\n",
    "                labels.append(\"other\")\n",
    "\n",
    "# Filter out 'other'\n",
    "filtered_utterances_test = [utterance for utterance, label in zip(utterances, labels) if label in [\"hotel\", \"train\"]]\n",
    "filtered_labels_test = [label for label in labels if label in [\"hotel\", \"train\"]]\n",
    "\n",
    "len(filtered_utterances_test), len(filtered_labels_test), filtered_utterances_test[:5], filtered_labels_test[:5]\n"
   ]
  },
  {
   "cell_type": "code",
   "execution_count": 5,
   "metadata": {},
   "outputs": [
    {
     "name": "stdout",
     "output_type": "stream",
     "text": [
      "{'hotel', 'train'}\n"
     ]
    }
   ],
   "source": [
    "print(set(filtered_labels_train))\n"
   ]
  },
  {
   "cell_type": "code",
   "execution_count": 6,
   "metadata": {},
   "outputs": [],
   "source": [
    "from sklearn.pipeline import Pipeline\n",
    "from sklearn.svm import SVC\n",
    "from sklearn.feature_extraction.text import TfidfVectorizer\n",
    "from sklearn.metrics import classification_report, accuracy_score\n",
    "from sklearn.metrics import make_scorer, f1_score\n",
    "from sklearn.model_selection import ParameterGrid\n",
    "import numpy as np"
   ]
  },
  {
   "cell_type": "code",
   "execution_count": 4,
   "metadata": {},
   "outputs": [],
   "source": [
    "\n",
    "\n",
    "f1_scorer = make_scorer(f1_score, average='micro')\n",
    "\n",
    "pipeline = Pipeline([\n",
    "    ('tfidf', TfidfVectorizer()),\n",
    "    ('svc', SVC(kernel='linear', probability=True, random_state=42))\n",
    "])\n",
    "parameters = ParameterGrid({\n",
    "    'tfidf__ngram_range': [(1, 1), (1, 2), (1, 3)],\n",
    "    'tfidf__max_df': [0.5, 0.75, 1.0],\n",
    "    'tfidf__min_df': [1, 2, 3, 5],\n",
    "    'tfidf__use_idf': [True, False],\n",
    "    'tfidf__norm': ['l1', 'l2', None],\n",
    "    'tfidf__sublinear_tf': [True, False],\n",
    "    'tfidf__max_features': [None, 5000, 10000, 20000],\n",
    "\n",
    "    'svc__C': [0.01, 0.1, 1, 10, 100],  # Adjusted for direct use\n",
    "    'svc__kernel': ['linear', 'rbf', 'poly'],\n",
    "    'svc__degree': [2, 3, 4],  # Only relevant for 'poly' kernel.\n",
    "    'svc__gamma': ['scale', 'auto', 0.1, 1, 10],  # Kernel coefficient\n",
    "    'svc__class_weight': [None, 'balanced']\n",
    "})\n",
    "\n",
    "best_score = 0\n",
    "best_params = {}"
   ]
  },
  {
   "cell_type": "code",
   "execution_count": 91,
   "metadata": {},
   "outputs": [
    {
     "name": "stdout",
     "output_type": "stream",
     "text": [
      "Epoch 1/10\n",
      "New best score: 0.5370 with params: {'svc__C': 0.01, 'svc__class_weight': None, 'svc__degree': 3, 'svc__gamma': 0.1, 'svc__kernel': 'rbf', 'tfidf__max_df': 0.5, 'tfidf__max_features': 5000, 'tfidf__min_df': 2, 'tfidf__ngram_range': (1, 2), 'tfidf__norm': 'l2', 'tfidf__sublinear_tf': False, 'tfidf__use_idf': False}\n",
      "New best score: 0.8222 with params: {'svc__C': 0.1, 'svc__class_weight': None, 'svc__degree': 3, 'svc__gamma': 10, 'svc__kernel': 'rbf', 'tfidf__max_df': 0.75, 'tfidf__max_features': 5000, 'tfidf__min_df': 5, 'tfidf__ngram_range': (1, 3), 'tfidf__norm': 'l1', 'tfidf__sublinear_tf': True, 'tfidf__use_idf': False}\n",
      "Epoch 2/10\n",
      "New best score: 0.8630 with params: {'svc__C': 1, 'svc__class_weight': None, 'svc__degree': 4, 'svc__gamma': 'scale', 'svc__kernel': 'poly', 'tfidf__max_df': 0.5, 'tfidf__max_features': 20000, 'tfidf__min_df': 5, 'tfidf__ngram_range': (1, 3), 'tfidf__norm': 'l2', 'tfidf__sublinear_tf': True, 'tfidf__use_idf': True}\n",
      "Epoch 3/10\n",
      "New best score: 0.8778 with params: {'svc__C': 10, 'svc__class_weight': None, 'svc__degree': 3, 'svc__gamma': 'scale', 'svc__kernel': 'linear', 'tfidf__max_df': 0.75, 'tfidf__max_features': 5000, 'tfidf__min_df': 5, 'tfidf__ngram_range': (1, 1), 'tfidf__norm': 'l2', 'tfidf__sublinear_tf': False, 'tfidf__use_idf': True}\n",
      "Epoch 4/10\n",
      "Epoch 5/10\n",
      "Epoch 6/10\n",
      "Epoch 7/10\n",
      "New best score: 0.8815 with params: {'svc__C': 0.1, 'svc__class_weight': 'balanced', 'svc__degree': 3, 'svc__gamma': 1, 'svc__kernel': 'poly', 'tfidf__max_df': 0.75, 'tfidf__max_features': 20000, 'tfidf__min_df': 3, 'tfidf__ngram_range': (1, 2), 'tfidf__norm': 'l2', 'tfidf__sublinear_tf': True, 'tfidf__use_idf': True}\n",
      "Epoch 8/10\n",
      "Epoch 9/10\n",
      "Epoch 10/10\n"
     ]
    }
   ],
   "source": [
    "N = 10  # Number of epochs\n",
    "for epoch in range(1, N+1): \n",
    "    print(f\"Epoch {epoch}/{N}\")\n",
    "    \n",
    "    # subset of parameters to try in epoch\n",
    "    sampled_parameters = np.random.choice(list(parameters), replace=False, size=2) \n",
    "    \n",
    "    for params in sampled_parameters:\n",
    "        # Setup pipeline with the current parameters\n",
    "        pipeline.set_params(**params)\n",
    "        \n",
    "        # Fit the pipeline on the training data\n",
    "        pipeline.fit(filtered_utterances_train, filtered_labels_train)\n",
    "        \n",
    "        # Evaluate on the validation set\n",
    "        current_score = f1_score(filtered_labels_validation, pipeline.predict(filtered_utterances_validation), average='micro')\n",
    "        \n",
    "        # Update best score and parameters if current model is better\n",
    "        if current_score > best_score:\n",
    "            best_score = current_score\n",
    "            best_params = params\n",
    "            print(f\"New best score: {best_score:.4f} with params: {params}\")"
   ]
  },
  {
   "cell_type": "code",
   "execution_count": 5,
   "metadata": {},
   "outputs": [
    {
     "data": {
      "text/html": [
       "<style>#sk-container-id-1 {color: black;background-color: white;}#sk-container-id-1 pre{padding: 0;}#sk-container-id-1 div.sk-toggleable {background-color: white;}#sk-container-id-1 label.sk-toggleable__label {cursor: pointer;display: block;width: 100%;margin-bottom: 0;padding: 0.3em;box-sizing: border-box;text-align: center;}#sk-container-id-1 label.sk-toggleable__label-arrow:before {content: \"▸\";float: left;margin-right: 0.25em;color: #696969;}#sk-container-id-1 label.sk-toggleable__label-arrow:hover:before {color: black;}#sk-container-id-1 div.sk-estimator:hover label.sk-toggleable__label-arrow:before {color: black;}#sk-container-id-1 div.sk-toggleable__content {max-height: 0;max-width: 0;overflow: hidden;text-align: left;background-color: #f0f8ff;}#sk-container-id-1 div.sk-toggleable__content pre {margin: 0.2em;color: black;border-radius: 0.25em;background-color: #f0f8ff;}#sk-container-id-1 input.sk-toggleable__control:checked~div.sk-toggleable__content {max-height: 200px;max-width: 100%;overflow: auto;}#sk-container-id-1 input.sk-toggleable__control:checked~label.sk-toggleable__label-arrow:before {content: \"▾\";}#sk-container-id-1 div.sk-estimator input.sk-toggleable__control:checked~label.sk-toggleable__label {background-color: #d4ebff;}#sk-container-id-1 div.sk-label input.sk-toggleable__control:checked~label.sk-toggleable__label {background-color: #d4ebff;}#sk-container-id-1 input.sk-hidden--visually {border: 0;clip: rect(1px 1px 1px 1px);clip: rect(1px, 1px, 1px, 1px);height: 1px;margin: -1px;overflow: hidden;padding: 0;position: absolute;width: 1px;}#sk-container-id-1 div.sk-estimator {font-family: monospace;background-color: #f0f8ff;border: 1px dotted black;border-radius: 0.25em;box-sizing: border-box;margin-bottom: 0.5em;}#sk-container-id-1 div.sk-estimator:hover {background-color: #d4ebff;}#sk-container-id-1 div.sk-parallel-item::after {content: \"\";width: 100%;border-bottom: 1px solid gray;flex-grow: 1;}#sk-container-id-1 div.sk-label:hover label.sk-toggleable__label {background-color: #d4ebff;}#sk-container-id-1 div.sk-serial::before {content: \"\";position: absolute;border-left: 1px solid gray;box-sizing: border-box;top: 0;bottom: 0;left: 50%;z-index: 0;}#sk-container-id-1 div.sk-serial {display: flex;flex-direction: column;align-items: center;background-color: white;padding-right: 0.2em;padding-left: 0.2em;position: relative;}#sk-container-id-1 div.sk-item {position: relative;z-index: 1;}#sk-container-id-1 div.sk-parallel {display: flex;align-items: stretch;justify-content: center;background-color: white;position: relative;}#sk-container-id-1 div.sk-item::before, #sk-container-id-1 div.sk-parallel-item::before {content: \"\";position: absolute;border-left: 1px solid gray;box-sizing: border-box;top: 0;bottom: 0;left: 50%;z-index: -1;}#sk-container-id-1 div.sk-parallel-item {display: flex;flex-direction: column;z-index: 1;position: relative;background-color: white;}#sk-container-id-1 div.sk-parallel-item:first-child::after {align-self: flex-end;width: 50%;}#sk-container-id-1 div.sk-parallel-item:last-child::after {align-self: flex-start;width: 50%;}#sk-container-id-1 div.sk-parallel-item:only-child::after {width: 0;}#sk-container-id-1 div.sk-dashed-wrapped {border: 1px dashed gray;margin: 0 0.4em 0.5em 0.4em;box-sizing: border-box;padding-bottom: 0.4em;background-color: white;}#sk-container-id-1 div.sk-label label {font-family: monospace;font-weight: bold;display: inline-block;line-height: 1.2em;}#sk-container-id-1 div.sk-label-container {text-align: center;}#sk-container-id-1 div.sk-container {/* jupyter's `normalize.less` sets `[hidden] { display: none; }` but bootstrap.min.css set `[hidden] { display: none !important; }` so we also need the `!important` here to be able to override the default hidden behavior on the sphinx rendered scikit-learn.org. See: https://github.com/scikit-learn/scikit-learn/issues/21755 */display: inline-block !important;position: relative;}#sk-container-id-1 div.sk-text-repr-fallback {display: none;}</style><div id=\"sk-container-id-1\" class=\"sk-top-container\"><div class=\"sk-text-repr-fallback\"><pre>Pipeline(steps=[(&#x27;tfidf&#x27;, TfidfVectorizer()),\n",
       "                (&#x27;svc&#x27;,\n",
       "                 SVC(kernel=&#x27;linear&#x27;, probability=True, random_state=42))])</pre><b>In a Jupyter environment, please rerun this cell to show the HTML representation or trust the notebook. <br />On GitHub, the HTML representation is unable to render, please try loading this page with nbviewer.org.</b></div><div class=\"sk-container\" hidden><div class=\"sk-item sk-dashed-wrapped\"><div class=\"sk-label-container\"><div class=\"sk-label sk-toggleable\"><input class=\"sk-toggleable__control sk-hidden--visually\" id=\"sk-estimator-id-1\" type=\"checkbox\" ><label for=\"sk-estimator-id-1\" class=\"sk-toggleable__label sk-toggleable__label-arrow\">Pipeline</label><div class=\"sk-toggleable__content\"><pre>Pipeline(steps=[(&#x27;tfidf&#x27;, TfidfVectorizer()),\n",
       "                (&#x27;svc&#x27;,\n",
       "                 SVC(kernel=&#x27;linear&#x27;, probability=True, random_state=42))])</pre></div></div></div><div class=\"sk-serial\"><div class=\"sk-item\"><div class=\"sk-estimator sk-toggleable\"><input class=\"sk-toggleable__control sk-hidden--visually\" id=\"sk-estimator-id-2\" type=\"checkbox\" ><label for=\"sk-estimator-id-2\" class=\"sk-toggleable__label sk-toggleable__label-arrow\">TfidfVectorizer</label><div class=\"sk-toggleable__content\"><pre>TfidfVectorizer()</pre></div></div></div><div class=\"sk-item\"><div class=\"sk-estimator sk-toggleable\"><input class=\"sk-toggleable__control sk-hidden--visually\" id=\"sk-estimator-id-3\" type=\"checkbox\" ><label for=\"sk-estimator-id-3\" class=\"sk-toggleable__label sk-toggleable__label-arrow\">SVC</label><div class=\"sk-toggleable__content\"><pre>SVC(kernel=&#x27;linear&#x27;, probability=True, random_state=42)</pre></div></div></div></div></div></div></div>"
      ],
      "text/plain": [
       "Pipeline(steps=[('tfidf', TfidfVectorizer()),\n",
       "                ('svc',\n",
       "                 SVC(kernel='linear', probability=True, random_state=42))])"
      ]
     },
     "execution_count": 5,
     "metadata": {},
     "output_type": "execute_result"
    }
   ],
   "source": [
    "pipeline.set_params(**best_params)"
   ]
  },
  {
   "cell_type": "code",
   "execution_count": 93,
   "metadata": {},
   "outputs": [
    {
     "data": {
      "text/html": [
       "<style>#sk-container-id-16 {color: black;background-color: white;}#sk-container-id-16 pre{padding: 0;}#sk-container-id-16 div.sk-toggleable {background-color: white;}#sk-container-id-16 label.sk-toggleable__label {cursor: pointer;display: block;width: 100%;margin-bottom: 0;padding: 0.3em;box-sizing: border-box;text-align: center;}#sk-container-id-16 label.sk-toggleable__label-arrow:before {content: \"▸\";float: left;margin-right: 0.25em;color: #696969;}#sk-container-id-16 label.sk-toggleable__label-arrow:hover:before {color: black;}#sk-container-id-16 div.sk-estimator:hover label.sk-toggleable__label-arrow:before {color: black;}#sk-container-id-16 div.sk-toggleable__content {max-height: 0;max-width: 0;overflow: hidden;text-align: left;background-color: #f0f8ff;}#sk-container-id-16 div.sk-toggleable__content pre {margin: 0.2em;color: black;border-radius: 0.25em;background-color: #f0f8ff;}#sk-container-id-16 input.sk-toggleable__control:checked~div.sk-toggleable__content {max-height: 200px;max-width: 100%;overflow: auto;}#sk-container-id-16 input.sk-toggleable__control:checked~label.sk-toggleable__label-arrow:before {content: \"▾\";}#sk-container-id-16 div.sk-estimator input.sk-toggleable__control:checked~label.sk-toggleable__label {background-color: #d4ebff;}#sk-container-id-16 div.sk-label input.sk-toggleable__control:checked~label.sk-toggleable__label {background-color: #d4ebff;}#sk-container-id-16 input.sk-hidden--visually {border: 0;clip: rect(1px 1px 1px 1px);clip: rect(1px, 1px, 1px, 1px);height: 1px;margin: -1px;overflow: hidden;padding: 0;position: absolute;width: 1px;}#sk-container-id-16 div.sk-estimator {font-family: monospace;background-color: #f0f8ff;border: 1px dotted black;border-radius: 0.25em;box-sizing: border-box;margin-bottom: 0.5em;}#sk-container-id-16 div.sk-estimator:hover {background-color: #d4ebff;}#sk-container-id-16 div.sk-parallel-item::after {content: \"\";width: 100%;border-bottom: 1px solid gray;flex-grow: 1;}#sk-container-id-16 div.sk-label:hover label.sk-toggleable__label {background-color: #d4ebff;}#sk-container-id-16 div.sk-serial::before {content: \"\";position: absolute;border-left: 1px solid gray;box-sizing: border-box;top: 0;bottom: 0;left: 50%;z-index: 0;}#sk-container-id-16 div.sk-serial {display: flex;flex-direction: column;align-items: center;background-color: white;padding-right: 0.2em;padding-left: 0.2em;position: relative;}#sk-container-id-16 div.sk-item {position: relative;z-index: 1;}#sk-container-id-16 div.sk-parallel {display: flex;align-items: stretch;justify-content: center;background-color: white;position: relative;}#sk-container-id-16 div.sk-item::before, #sk-container-id-16 div.sk-parallel-item::before {content: \"\";position: absolute;border-left: 1px solid gray;box-sizing: border-box;top: 0;bottom: 0;left: 50%;z-index: -1;}#sk-container-id-16 div.sk-parallel-item {display: flex;flex-direction: column;z-index: 1;position: relative;background-color: white;}#sk-container-id-16 div.sk-parallel-item:first-child::after {align-self: flex-end;width: 50%;}#sk-container-id-16 div.sk-parallel-item:last-child::after {align-self: flex-start;width: 50%;}#sk-container-id-16 div.sk-parallel-item:only-child::after {width: 0;}#sk-container-id-16 div.sk-dashed-wrapped {border: 1px dashed gray;margin: 0 0.4em 0.5em 0.4em;box-sizing: border-box;padding-bottom: 0.4em;background-color: white;}#sk-container-id-16 div.sk-label label {font-family: monospace;font-weight: bold;display: inline-block;line-height: 1.2em;}#sk-container-id-16 div.sk-label-container {text-align: center;}#sk-container-id-16 div.sk-container {/* jupyter's `normalize.less` sets `[hidden] { display: none; }` but bootstrap.min.css set `[hidden] { display: none !important; }` so we also need the `!important` here to be able to override the default hidden behavior on the sphinx rendered scikit-learn.org. See: https://github.com/scikit-learn/scikit-learn/issues/21755 */display: inline-block !important;position: relative;}#sk-container-id-16 div.sk-text-repr-fallback {display: none;}</style><div id=\"sk-container-id-16\" class=\"sk-top-container\"><div class=\"sk-text-repr-fallback\"><pre>SVC(C=0.1, class_weight=&#x27;balanced&#x27;, gamma=1, kernel=&#x27;poly&#x27;, probability=True,\n",
       "    random_state=42)</pre><b>In a Jupyter environment, please rerun this cell to show the HTML representation or trust the notebook. <br />On GitHub, the HTML representation is unable to render, please try loading this page with nbviewer.org.</b></div><div class=\"sk-container\" hidden><div class=\"sk-item\"><div class=\"sk-estimator sk-toggleable\"><input class=\"sk-toggleable__control sk-hidden--visually\" id=\"sk-estimator-id-32\" type=\"checkbox\" checked><label for=\"sk-estimator-id-32\" class=\"sk-toggleable__label sk-toggleable__label-arrow\">SVC</label><div class=\"sk-toggleable__content\"><pre>SVC(C=0.1, class_weight=&#x27;balanced&#x27;, gamma=1, kernel=&#x27;poly&#x27;, probability=True,\n",
       "    random_state=42)</pre></div></div></div></div></div>"
      ],
      "text/plain": [
       "SVC(C=0.1, class_weight='balanced', gamma=1, kernel='poly', probability=True,\n",
       "    random_state=42)"
      ]
     },
     "execution_count": 93,
     "metadata": {},
     "output_type": "execute_result"
    }
   ],
   "source": [
    "from sklearn.utils import shuffle\n",
    "\n",
    "# Combining training and validation sets\n",
    "X_combined = filtered_utterances_train + filtered_utterances_validation\n",
    "y_combined_bin = np.concatenate((filtered_labels_train, filtered_labels_validation), axis=0)\n",
    "\n",
    "# Ensuring data is properly shuffled\n",
    "X_combined, y_combined_bin = shuffle(X_combined, y_combined_bin, random_state=42)\n",
    "\n",
    "# Transform combined data\n",
    "X_combined_tfidf = pipeline.named_steps['tfidf'].fit_transform(X_combined)\n",
    "\n",
    "# Retrain\n",
    "pipeline.named_steps['svc'].fit(X_combined_tfidf, y_combined_bin)"
   ]
  },
  {
   "cell_type": "code",
   "execution_count": 9,
   "metadata": {},
   "outputs": [],
   "source": [
    "import joblib\n",
    "\n",
    "\n",
    "pipeline = joblib.load(\"saved_models_synth\\\\finalized_model_domains_SVM.joblib\")"
   ]
  },
  {
   "cell_type": "code",
   "execution_count": 10,
   "metadata": {},
   "outputs": [
    {
     "name": "stdout",
     "output_type": "stream",
     "text": [
      "Test Set Evaluation:\n",
      "              precision    recall  f1-score   support\n",
      "\n",
      "       hotel       0.93      0.85      0.89       407\n",
      "       train       0.84      0.93      0.88       334\n",
      "\n",
      "    accuracy                           0.89       741\n",
      "   macro avg       0.89      0.89      0.88       741\n",
      "weighted avg       0.89      0.89      0.89       741\n",
      "\n",
      "Test Accuracy: 0.8852901484480432\n"
     ]
    }
   ],
   "source": [
    "# Predict and evaluate on the test set\n",
    "y_test_pred = pipeline.predict(filtered_utterances_test)\n",
    "print(\"Test Set Evaluation:\")\n",
    "print(classification_report(filtered_labels_test, y_test_pred))\n",
    "print(\"Test Accuracy:\", accuracy_score(filtered_labels_test, y_test_pred))"
   ]
  },
  {
   "cell_type": "code",
   "execution_count": 7,
   "metadata": {},
   "outputs": [
    {
     "name": "stdout",
     "output_type": "stream",
     "text": [
      "Cross-Validation Scores: [0.55033557 0.55405405 0.5472973  0.5472973  0.5472973 ]\n",
      "Mean CV Score: 0.55\n",
      "Standard Deviation in CV Scores: 0.00\n"
     ]
    }
   ],
   "source": [
    "from sklearn.model_selection import cross_val_score, StratifiedKFold\n",
    "\n",
    "# Cross-Validation\n",
    "# Define the number of folds for cross-validation\n",
    "k_folds = 5\n",
    "stratified_k_fold = StratifiedKFold(n_splits=k_folds, shuffle=True, random_state=42)\n",
    "\n",
    "# Perform cross-validation\n",
    "cross_val_scores = cross_val_score(pipeline, filtered_utterances_test, filtered_labels_test, cv=stratified_k_fold, scoring='accuracy')\n",
    "print(f\"Cross-Validation Scores: {cross_val_scores}\")\n",
    "print(f\"Mean CV Score: {cross_val_scores.mean():.2f}\")\n",
    "print(f\"Standard Deviation in CV Scores: {cross_val_scores.std():.2f}\")"
   ]
  },
  {
   "cell_type": "code",
   "execution_count": 9,
   "metadata": {},
   "outputs": [
    {
     "data": {
      "application/vnd.plotly.v1+json": {
       "config": {
        "plotlyServerURL": "https://plot.ly"
       },
       "data": [
        {
         "colorscale": [
          [
           0,
           "red"
          ],
          [
           0.5,
           "yellow"
          ],
          [
           1,
           "green"
          ]
         ],
         "reversescale": false,
         "showscale": true,
         "type": "heatmap",
         "x": [
          "hotel",
          "train"
         ],
         "y": [
          "hotel",
          "train"
         ],
         "z": [
          [
           75.92137592137593,
           24.078624078624077
          ],
          [
           25.449101796407188,
           74.55089820359282
          ]
         ]
        }
       ],
       "layout": {
        "annotations": [
         {
          "font": {
           "color": "#000000"
          },
          "showarrow": false,
          "text": "75.92",
          "x": "hotel",
          "xref": "x",
          "y": "hotel",
          "yref": "y"
         },
         {
          "font": {
           "color": "#000000"
          },
          "showarrow": false,
          "text": "24.08",
          "x": "train",
          "xref": "x",
          "y": "hotel",
          "yref": "y"
         },
         {
          "font": {
           "color": "#000000"
          },
          "showarrow": false,
          "text": "25.45",
          "x": "hotel",
          "xref": "x",
          "y": "train",
          "yref": "y"
         },
         {
          "font": {
           "color": "#000000"
          },
          "showarrow": false,
          "text": "74.55",
          "x": "train",
          "xref": "x",
          "y": "train",
          "yref": "y"
         }
        ],
        "coloraxis": {
         "colorbar": {
          "title": {
           "text": "Percentage (%)"
          }
         }
        },
        "template": {
         "data": {
          "bar": [
           {
            "error_x": {
             "color": "#2a3f5f"
            },
            "error_y": {
             "color": "#2a3f5f"
            },
            "marker": {
             "line": {
              "color": "#E5ECF6",
              "width": 0.5
             },
             "pattern": {
              "fillmode": "overlay",
              "size": 10,
              "solidity": 0.2
             }
            },
            "type": "bar"
           }
          ],
          "barpolar": [
           {
            "marker": {
             "line": {
              "color": "#E5ECF6",
              "width": 0.5
             },
             "pattern": {
              "fillmode": "overlay",
              "size": 10,
              "solidity": 0.2
             }
            },
            "type": "barpolar"
           }
          ],
          "carpet": [
           {
            "aaxis": {
             "endlinecolor": "#2a3f5f",
             "gridcolor": "white",
             "linecolor": "white",
             "minorgridcolor": "white",
             "startlinecolor": "#2a3f5f"
            },
            "baxis": {
             "endlinecolor": "#2a3f5f",
             "gridcolor": "white",
             "linecolor": "white",
             "minorgridcolor": "white",
             "startlinecolor": "#2a3f5f"
            },
            "type": "carpet"
           }
          ],
          "choropleth": [
           {
            "colorbar": {
             "outlinewidth": 0,
             "ticks": ""
            },
            "type": "choropleth"
           }
          ],
          "contour": [
           {
            "colorbar": {
             "outlinewidth": 0,
             "ticks": ""
            },
            "colorscale": [
             [
              0,
              "#0d0887"
             ],
             [
              0.1111111111111111,
              "#46039f"
             ],
             [
              0.2222222222222222,
              "#7201a8"
             ],
             [
              0.3333333333333333,
              "#9c179e"
             ],
             [
              0.4444444444444444,
              "#bd3786"
             ],
             [
              0.5555555555555556,
              "#d8576b"
             ],
             [
              0.6666666666666666,
              "#ed7953"
             ],
             [
              0.7777777777777778,
              "#fb9f3a"
             ],
             [
              0.8888888888888888,
              "#fdca26"
             ],
             [
              1,
              "#f0f921"
             ]
            ],
            "type": "contour"
           }
          ],
          "contourcarpet": [
           {
            "colorbar": {
             "outlinewidth": 0,
             "ticks": ""
            },
            "type": "contourcarpet"
           }
          ],
          "heatmap": [
           {
            "colorbar": {
             "outlinewidth": 0,
             "ticks": ""
            },
            "colorscale": [
             [
              0,
              "#0d0887"
             ],
             [
              0.1111111111111111,
              "#46039f"
             ],
             [
              0.2222222222222222,
              "#7201a8"
             ],
             [
              0.3333333333333333,
              "#9c179e"
             ],
             [
              0.4444444444444444,
              "#bd3786"
             ],
             [
              0.5555555555555556,
              "#d8576b"
             ],
             [
              0.6666666666666666,
              "#ed7953"
             ],
             [
              0.7777777777777778,
              "#fb9f3a"
             ],
             [
              0.8888888888888888,
              "#fdca26"
             ],
             [
              1,
              "#f0f921"
             ]
            ],
            "type": "heatmap"
           }
          ],
          "heatmapgl": [
           {
            "colorbar": {
             "outlinewidth": 0,
             "ticks": ""
            },
            "colorscale": [
             [
              0,
              "#0d0887"
             ],
             [
              0.1111111111111111,
              "#46039f"
             ],
             [
              0.2222222222222222,
              "#7201a8"
             ],
             [
              0.3333333333333333,
              "#9c179e"
             ],
             [
              0.4444444444444444,
              "#bd3786"
             ],
             [
              0.5555555555555556,
              "#d8576b"
             ],
             [
              0.6666666666666666,
              "#ed7953"
             ],
             [
              0.7777777777777778,
              "#fb9f3a"
             ],
             [
              0.8888888888888888,
              "#fdca26"
             ],
             [
              1,
              "#f0f921"
             ]
            ],
            "type": "heatmapgl"
           }
          ],
          "histogram": [
           {
            "marker": {
             "pattern": {
              "fillmode": "overlay",
              "size": 10,
              "solidity": 0.2
             }
            },
            "type": "histogram"
           }
          ],
          "histogram2d": [
           {
            "colorbar": {
             "outlinewidth": 0,
             "ticks": ""
            },
            "colorscale": [
             [
              0,
              "#0d0887"
             ],
             [
              0.1111111111111111,
              "#46039f"
             ],
             [
              0.2222222222222222,
              "#7201a8"
             ],
             [
              0.3333333333333333,
              "#9c179e"
             ],
             [
              0.4444444444444444,
              "#bd3786"
             ],
             [
              0.5555555555555556,
              "#d8576b"
             ],
             [
              0.6666666666666666,
              "#ed7953"
             ],
             [
              0.7777777777777778,
              "#fb9f3a"
             ],
             [
              0.8888888888888888,
              "#fdca26"
             ],
             [
              1,
              "#f0f921"
             ]
            ],
            "type": "histogram2d"
           }
          ],
          "histogram2dcontour": [
           {
            "colorbar": {
             "outlinewidth": 0,
             "ticks": ""
            },
            "colorscale": [
             [
              0,
              "#0d0887"
             ],
             [
              0.1111111111111111,
              "#46039f"
             ],
             [
              0.2222222222222222,
              "#7201a8"
             ],
             [
              0.3333333333333333,
              "#9c179e"
             ],
             [
              0.4444444444444444,
              "#bd3786"
             ],
             [
              0.5555555555555556,
              "#d8576b"
             ],
             [
              0.6666666666666666,
              "#ed7953"
             ],
             [
              0.7777777777777778,
              "#fb9f3a"
             ],
             [
              0.8888888888888888,
              "#fdca26"
             ],
             [
              1,
              "#f0f921"
             ]
            ],
            "type": "histogram2dcontour"
           }
          ],
          "mesh3d": [
           {
            "colorbar": {
             "outlinewidth": 0,
             "ticks": ""
            },
            "type": "mesh3d"
           }
          ],
          "parcoords": [
           {
            "line": {
             "colorbar": {
              "outlinewidth": 0,
              "ticks": ""
             }
            },
            "type": "parcoords"
           }
          ],
          "pie": [
           {
            "automargin": true,
            "type": "pie"
           }
          ],
          "scatter": [
           {
            "fillpattern": {
             "fillmode": "overlay",
             "size": 10,
             "solidity": 0.2
            },
            "type": "scatter"
           }
          ],
          "scatter3d": [
           {
            "line": {
             "colorbar": {
              "outlinewidth": 0,
              "ticks": ""
             }
            },
            "marker": {
             "colorbar": {
              "outlinewidth": 0,
              "ticks": ""
             }
            },
            "type": "scatter3d"
           }
          ],
          "scattercarpet": [
           {
            "marker": {
             "colorbar": {
              "outlinewidth": 0,
              "ticks": ""
             }
            },
            "type": "scattercarpet"
           }
          ],
          "scattergeo": [
           {
            "marker": {
             "colorbar": {
              "outlinewidth": 0,
              "ticks": ""
             }
            },
            "type": "scattergeo"
           }
          ],
          "scattergl": [
           {
            "marker": {
             "colorbar": {
              "outlinewidth": 0,
              "ticks": ""
             }
            },
            "type": "scattergl"
           }
          ],
          "scattermapbox": [
           {
            "marker": {
             "colorbar": {
              "outlinewidth": 0,
              "ticks": ""
             }
            },
            "type": "scattermapbox"
           }
          ],
          "scatterpolar": [
           {
            "marker": {
             "colorbar": {
              "outlinewidth": 0,
              "ticks": ""
             }
            },
            "type": "scatterpolar"
           }
          ],
          "scatterpolargl": [
           {
            "marker": {
             "colorbar": {
              "outlinewidth": 0,
              "ticks": ""
             }
            },
            "type": "scatterpolargl"
           }
          ],
          "scatterternary": [
           {
            "marker": {
             "colorbar": {
              "outlinewidth": 0,
              "ticks": ""
             }
            },
            "type": "scatterternary"
           }
          ],
          "surface": [
           {
            "colorbar": {
             "outlinewidth": 0,
             "ticks": ""
            },
            "colorscale": [
             [
              0,
              "#0d0887"
             ],
             [
              0.1111111111111111,
              "#46039f"
             ],
             [
              0.2222222222222222,
              "#7201a8"
             ],
             [
              0.3333333333333333,
              "#9c179e"
             ],
             [
              0.4444444444444444,
              "#bd3786"
             ],
             [
              0.5555555555555556,
              "#d8576b"
             ],
             [
              0.6666666666666666,
              "#ed7953"
             ],
             [
              0.7777777777777778,
              "#fb9f3a"
             ],
             [
              0.8888888888888888,
              "#fdca26"
             ],
             [
              1,
              "#f0f921"
             ]
            ],
            "type": "surface"
           }
          ],
          "table": [
           {
            "cells": {
             "fill": {
              "color": "#EBF0F8"
             },
             "line": {
              "color": "white"
             }
            },
            "header": {
             "fill": {
              "color": "#C8D4E3"
             },
             "line": {
              "color": "white"
             }
            },
            "type": "table"
           }
          ]
         },
         "layout": {
          "annotationdefaults": {
           "arrowcolor": "#2a3f5f",
           "arrowhead": 0,
           "arrowwidth": 1
          },
          "autotypenumbers": "strict",
          "coloraxis": {
           "colorbar": {
            "outlinewidth": 0,
            "ticks": ""
           }
          },
          "colorscale": {
           "diverging": [
            [
             0,
             "#8e0152"
            ],
            [
             0.1,
             "#c51b7d"
            ],
            [
             0.2,
             "#de77ae"
            ],
            [
             0.3,
             "#f1b6da"
            ],
            [
             0.4,
             "#fde0ef"
            ],
            [
             0.5,
             "#f7f7f7"
            ],
            [
             0.6,
             "#e6f5d0"
            ],
            [
             0.7,
             "#b8e186"
            ],
            [
             0.8,
             "#7fbc41"
            ],
            [
             0.9,
             "#4d9221"
            ],
            [
             1,
             "#276419"
            ]
           ],
           "sequential": [
            [
             0,
             "#0d0887"
            ],
            [
             0.1111111111111111,
             "#46039f"
            ],
            [
             0.2222222222222222,
             "#7201a8"
            ],
            [
             0.3333333333333333,
             "#9c179e"
            ],
            [
             0.4444444444444444,
             "#bd3786"
            ],
            [
             0.5555555555555556,
             "#d8576b"
            ],
            [
             0.6666666666666666,
             "#ed7953"
            ],
            [
             0.7777777777777778,
             "#fb9f3a"
            ],
            [
             0.8888888888888888,
             "#fdca26"
            ],
            [
             1,
             "#f0f921"
            ]
           ],
           "sequentialminus": [
            [
             0,
             "#0d0887"
            ],
            [
             0.1111111111111111,
             "#46039f"
            ],
            [
             0.2222222222222222,
             "#7201a8"
            ],
            [
             0.3333333333333333,
             "#9c179e"
            ],
            [
             0.4444444444444444,
             "#bd3786"
            ],
            [
             0.5555555555555556,
             "#d8576b"
            ],
            [
             0.6666666666666666,
             "#ed7953"
            ],
            [
             0.7777777777777778,
             "#fb9f3a"
            ],
            [
             0.8888888888888888,
             "#fdca26"
            ],
            [
             1,
             "#f0f921"
            ]
           ]
          },
          "colorway": [
           "#636efa",
           "#EF553B",
           "#00cc96",
           "#ab63fa",
           "#FFA15A",
           "#19d3f3",
           "#FF6692",
           "#B6E880",
           "#FF97FF",
           "#FECB52"
          ],
          "font": {
           "color": "#2a3f5f"
          },
          "geo": {
           "bgcolor": "white",
           "lakecolor": "white",
           "landcolor": "#E5ECF6",
           "showlakes": true,
           "showland": true,
           "subunitcolor": "white"
          },
          "hoverlabel": {
           "align": "left"
          },
          "hovermode": "closest",
          "mapbox": {
           "style": "light"
          },
          "paper_bgcolor": "white",
          "plot_bgcolor": "#E5ECF6",
          "polar": {
           "angularaxis": {
            "gridcolor": "white",
            "linecolor": "white",
            "ticks": ""
           },
           "bgcolor": "#E5ECF6",
           "radialaxis": {
            "gridcolor": "white",
            "linecolor": "white",
            "ticks": ""
           }
          },
          "scene": {
           "xaxis": {
            "backgroundcolor": "#E5ECF6",
            "gridcolor": "white",
            "gridwidth": 2,
            "linecolor": "white",
            "showbackground": true,
            "ticks": "",
            "zerolinecolor": "white"
           },
           "yaxis": {
            "backgroundcolor": "#E5ECF6",
            "gridcolor": "white",
            "gridwidth": 2,
            "linecolor": "white",
            "showbackground": true,
            "ticks": "",
            "zerolinecolor": "white"
           },
           "zaxis": {
            "backgroundcolor": "#E5ECF6",
            "gridcolor": "white",
            "gridwidth": 2,
            "linecolor": "white",
            "showbackground": true,
            "ticks": "",
            "zerolinecolor": "white"
           }
          },
          "shapedefaults": {
           "line": {
            "color": "#2a3f5f"
           }
          },
          "ternary": {
           "aaxis": {
            "gridcolor": "white",
            "linecolor": "white",
            "ticks": ""
           },
           "baxis": {
            "gridcolor": "white",
            "linecolor": "white",
            "ticks": ""
           },
           "bgcolor": "#E5ECF6",
           "caxis": {
            "gridcolor": "white",
            "linecolor": "white",
            "ticks": ""
           }
          },
          "title": {
           "x": 0.05
          },
          "xaxis": {
           "automargin": true,
           "gridcolor": "white",
           "linecolor": "white",
           "ticks": "",
           "title": {
            "standoff": 15
           },
           "zerolinecolor": "white",
           "zerolinewidth": 2
          },
          "yaxis": {
           "automargin": true,
           "gridcolor": "white",
           "linecolor": "white",
           "ticks": "",
           "title": {
            "standoff": 15
           },
           "zerolinecolor": "white",
           "zerolinewidth": 2
          }
         }
        },
        "title": {
         "text": "Confusion Matrix (Normalized)"
        },
        "xaxis": {
         "dtick": 1,
         "gridcolor": "rgb(0, 0, 0)",
         "side": "top",
         "ticks": "",
         "title": {
          "text": "Predicted Label"
         }
        },
        "yaxis": {
         "dtick": 1,
         "ticks": "",
         "ticksuffix": "  ",
         "title": {
          "text": "True Label"
         }
        }
       }
      }
     },
     "metadata": {},
     "output_type": "display_data"
    }
   ],
   "source": [
    "from sklearn.metrics import confusion_matrix\n",
    "import plotly.figure_factory as ff\n",
    "\n",
    "# Compute the confusion matrix\n",
    "conf_matrix = confusion_matrix(filtered_labels_test, y_test_pred)\n",
    "\n",
    "# Normalize the confusion matrix\n",
    "conf_matrix_normalized = conf_matrix.astype('float') / conf_matrix.sum(axis=1)[:, np.newaxis]\n",
    "\n",
    "# Convert the proportions to percentages\n",
    "conf_matrix_percentage = conf_matrix_normalized * 100\n",
    "\n",
    "labels = sorted(set(filtered_labels_test))\n",
    "\n",
    "# Custom colorscale\n",
    "red_to_green_colorscale = [\n",
    "    [0.0, 'red'],  # red for 0%\n",
    "    [0.5, 'yellow'],  # yellow for 50%\n",
    "    [1.0, 'green']  # green for 100%\n",
    "]\n",
    "\n",
    "# Heatmap\n",
    "fig = ff.create_annotated_heatmap(\n",
    "    z=conf_matrix_percentage, \n",
    "    x=labels, \n",
    "    y=labels, \n",
    "    colorscale=red_to_green_colorscale,\n",
    "    annotation_text=np.around(conf_matrix_percentage, decimals=2).astype(str),\n",
    "    showscale=True\n",
    ")\n",
    "\n",
    "fig.update_layout(\n",
    "    title='Confusion Matrix (Normalized)',\n",
    "    xaxis=dict(title='Predicted Label'),\n",
    "    yaxis=dict(title='True Label'),\n",
    "    coloraxis_colorbar=dict(\n",
    "        title='Percentage (%)'\n",
    "    )\n",
    ")\n",
    "\n",
    "fig.show()\n"
   ]
  },
  {
   "cell_type": "code",
   "execution_count": 10,
   "metadata": {},
   "outputs": [
    {
     "data": {
      "application/vnd.plotly.v1+json": {
       "config": {
        "plotlyServerURL": "https://plot.ly"
       },
       "data": [
        {
         "mode": "lines",
         "name": "ROC Curve (area = 0.81)",
         "type": "scatter",
         "x": [
          0,
          0,
          0.002457002457002457,
          0.002457002457002457,
          0.007371007371007371,
          0.007371007371007371,
          0.009828009828009828,
          0.012285012285012284,
          0.012285012285012284,
          0.014742014742014743,
          0.014742014742014743,
          0.0171990171990172,
          0.0171990171990172,
          0.019656019656019656,
          0.019656019656019656,
          0.022113022113022112,
          0.022113022113022112,
          0.02702702702702703,
          0.02702702702702703,
          0.029484029484029485,
          0.029484029484029485,
          0.03194103194103194,
          0.03194103194103194,
          0.0343980343980344,
          0.0343980343980344,
          0.036855036855036855,
          0.036855036855036855,
          0.036855036855036855,
          0.036855036855036855,
          0.03931203931203931,
          0.03931203931203931,
          0.03931203931203931,
          0.04176904176904177,
          0.04176904176904177,
          0.044226044226044224,
          0.044226044226044224,
          0.04668304668304668,
          0.04668304668304668,
          0.04914004914004914,
          0.04914004914004914,
          0.051597051597051594,
          0.051597051597051594,
          0.05405405405405406,
          0.05405405405405406,
          0.056511056511056514,
          0.056511056511056514,
          0.05896805896805897,
          0.05896805896805897,
          0.05896805896805897,
          0.05896805896805897,
          0.06142506142506143,
          0.06142506142506143,
          0.06388206388206388,
          0.06388206388206388,
          0.0687960687960688,
          0.07125307125307126,
          0.07125307125307126,
          0.07371007371007371,
          0.07371007371007371,
          0.07616707616707617,
          0.07616707616707617,
          0.07862407862407862,
          0.07862407862407862,
          0.08108108108108109,
          0.08108108108108109,
          0.08353808353808354,
          0.08353808353808354,
          0.09336609336609336,
          0.09336609336609336,
          0.09828009828009827,
          0.09828009828009827,
          0.10073710073710074,
          0.10073710073710074,
          0.10319410319410319,
          0.10319410319410319,
          0.10565110565110565,
          0.10565110565110565,
          0.10810810810810811,
          0.11056511056511056,
          0.11056511056511056,
          0.11547911547911548,
          0.11547911547911548,
          0.11793611793611794,
          0.11793611793611794,
          0.12039312039312039,
          0.12039312039312039,
          0.13022113022113022,
          0.13022113022113022,
          0.13513513513513514,
          0.13513513513513514,
          0.14742014742014742,
          0.1547911547911548,
          0.16707616707616707,
          0.16707616707616707,
          0.17444717444717445,
          0.17444717444717445,
          0.18427518427518427,
          0.18427518427518427,
          0.1891891891891892,
          0.1891891891891892,
          0.19164619164619165,
          0.19164619164619165,
          0.1941031941031941,
          0.1941031941031941,
          0.19656019656019655,
          0.19656019656019655,
          0.19901719901719903,
          0.19901719901719903,
          0.20147420147420148,
          0.20147420147420148,
          0.20638820638820637,
          0.20638820638820637,
          0.21375921375921375,
          0.21621621621621623,
          0.21621621621621623,
          0.21867321867321868,
          0.21867321867321868,
          0.22113022113022113,
          0.22113022113022113,
          0.23095823095823095,
          0.23095823095823095,
          0.23587223587223588,
          0.23587223587223588,
          0.23832923832923833,
          0.23832923832923833,
          0.24815724815724816,
          0.24815724815724816,
          0.25061425061425063,
          0.25061425061425063,
          0.25552825552825553,
          0.25552825552825553,
          0.257985257985258,
          0.257985257985258,
          0.2628992628992629,
          0.2628992628992629,
          0.26535626535626533,
          0.26535626535626533,
          0.2702702702702703,
          0.2702702702702703,
          0.2800982800982801,
          0.2800982800982801,
          0.29484029484029484,
          0.29484029484029484,
          0.32432432432432434,
          0.32432432432432434,
          0.32923832923832924,
          0.32923832923832924,
          0.3366093366093366,
          0.3366093366093366,
          0.343980343980344,
          0.343980343980344,
          0.35135135135135137,
          0.35135135135135137,
          0.3538083538083538,
          0.3538083538083538,
          0.35626535626535627,
          0.35626535626535627,
          0.36117936117936117,
          0.36117936117936117,
          0.36609336609336607,
          0.36609336609336607,
          0.36855036855036855,
          0.36855036855036855,
          0.3759213759213759,
          0.3759213759213759,
          0.40786240786240785,
          0.40786240786240785,
          0.4201474201474201,
          0.4201474201474201,
          0.4226044226044226,
          0.4226044226044226,
          0.44471744471744473,
          0.44471744471744473,
          0.4594594594594595,
          0.4594594594594595,
          0.4594594594594595,
          0.4643734643734644,
          0.4643734643734644,
          0.48157248157248156,
          0.48157248157248156,
          0.4864864864864865,
          0.4864864864864865,
          0.48894348894348894,
          0.48894348894348894,
          0.4963144963144963,
          0.4963144963144963,
          0.4987714987714988,
          0.4987714987714988,
          0.5061425061425061,
          0.5061425061425061,
          0.5110565110565111,
          0.5110565110565111,
          0.5184275184275184,
          0.5208845208845209,
          0.5233415233415234,
          0.5233415233415234,
          0.5282555282555282,
          0.5282555282555282,
          0.538083538083538,
          0.538083538083538,
          0.5503685503685504,
          0.5503685503685504,
          0.5651105651105651,
          0.5651105651105651,
          0.5749385749385749,
          0.5749385749385749,
          0.5945945945945946,
          0.5945945945945946,
          0.601965601965602,
          0.601965601965602,
          0.6142506142506142,
          0.6142506142506142,
          0.6265356265356266,
          0.6265356265356266,
          0.6511056511056511,
          0.6560196560196561,
          0.6609336609336609,
          0.6609336609336609,
          0.6658476658476659,
          0.6683046683046683,
          0.6977886977886978,
          0.6977886977886978,
          0.7027027027027027,
          0.7027027027027027,
          0.7100737100737101,
          0.714987714987715,
          0.7174447174447175,
          0.7174447174447175,
          0.8230958230958231,
          0.828009828009828,
          0.828009828009828,
          0.8353808353808354,
          0.8353808353808354,
          0.8402948402948403,
          0.8402948402948403,
          0.8525798525798526,
          0.8525798525798526,
          0.8574938574938575,
          0.8574938574938575,
          0.8697788697788698,
          0.8697788697788698,
          0.8894348894348895,
          0.8894348894348895,
          0.8943488943488943,
          0.8943488943488943,
          0.9066339066339066,
          0.9066339066339066,
          0.918918918918919,
          0.918918918918919,
          0.9262899262899262,
          0.9262899262899262,
          0.9312039312039312,
          0.9336609336609336,
          0.9336609336609336,
          0.9361179361179361,
          0.941031941031941,
          0.9656019656019657,
          0.9705159705159705,
          0.9778869778869779,
          0.9778869778869779,
          1
         ],
         "y": [
          0,
          0.0029940119760479044,
          0.0029940119760479044,
          0.011976047904191617,
          0.011976047904191617,
          0.017964071856287425,
          0.020958083832335328,
          0.020958083832335328,
          0.0658682634730539,
          0.0658682634730539,
          0.10479041916167664,
          0.10479041916167664,
          0.10778443113772455,
          0.10778443113772455,
          0.11676646706586827,
          0.11676646706586827,
          0.1467065868263473,
          0.1467065868263473,
          0.15568862275449102,
          0.15568862275449102,
          0.20658682634730538,
          0.20658682634730538,
          0.25748502994011974,
          0.25748502994011974,
          0.26646706586826346,
          0.26646706586826346,
          0.2694610778443114,
          0.2754491017964072,
          0.281437125748503,
          0.281437125748503,
          0.2874251497005988,
          0.3383233532934132,
          0.3383233532934132,
          0.3502994011976048,
          0.3502994011976048,
          0.36227544910179643,
          0.36227544910179643,
          0.39520958083832336,
          0.39520958083832336,
          0.4041916167664671,
          0.4041916167664671,
          0.41916167664670656,
          0.41916167664670656,
          0.4281437125748503,
          0.4281437125748503,
          0.44610778443113774,
          0.44610778443113774,
          0.45209580838323354,
          0.45808383233532934,
          0.47005988023952094,
          0.47005988023952094,
          0.47904191616766467,
          0.47904191616766467,
          0.48502994011976047,
          0.48502994011976047,
          0.48502994011976047,
          0.4940119760479042,
          0.4940119760479042,
          0.5,
          0.5,
          0.5119760479041916,
          0.5119760479041916,
          0.5149700598802395,
          0.5149700598802395,
          0.5269461077844312,
          0.5269461077844312,
          0.5329341317365269,
          0.5329341317365269,
          0.5389221556886228,
          0.5389221556886228,
          0.5419161676646707,
          0.5419161676646707,
          0.5538922155688623,
          0.5538922155688623,
          0.5808383233532934,
          0.5808383233532934,
          0.5868263473053892,
          0.5868263473053892,
          0.5898203592814372,
          0.6047904191616766,
          0.6047904191616766,
          0.6077844311377245,
          0.6077844311377245,
          0.6107784431137725,
          0.6107784431137725,
          0.6137724550898204,
          0.6137724550898204,
          0.6167664670658682,
          0.6167664670658682,
          0.6197604790419161,
          0.6197604790419161,
          0.6197604790419161,
          0.6197604790419161,
          0.6227544910179641,
          0.6227544910179641,
          0.625748502994012,
          0.625748502994012,
          0.6526946107784432,
          0.6526946107784432,
          0.6646706586826348,
          0.6646706586826348,
          0.6676646706586826,
          0.6676646706586826,
          0.6736526946107785,
          0.6736526946107785,
          0.6796407185628742,
          0.6796407185628742,
          0.6826347305389222,
          0.6826347305389222,
          0.6946107784431138,
          0.6946107784431138,
          0.7125748502994012,
          0.7125748502994012,
          0.718562874251497,
          0.7215568862275449,
          0.7215568862275449,
          0.7245508982035929,
          0.7245508982035929,
          0.7275449101796407,
          0.7275449101796407,
          0.7335329341317365,
          0.7335329341317365,
          0.7365269461077845,
          0.7365269461077845,
          0.7455089820359282,
          0.7455089820359282,
          0.7485029940119761,
          0.7485029940119761,
          0.7514970059880239,
          0.7514970059880239,
          0.7544910179640718,
          0.7544910179640718,
          0.7604790419161677,
          0.7604790419161677,
          0.7634730538922155,
          0.7634730538922155,
          0.7694610778443114,
          0.7694610778443114,
          0.7724550898203593,
          0.7724550898203593,
          0.7754491017964071,
          0.7754491017964071,
          0.7784431137724551,
          0.7784431137724551,
          0.7844311377245509,
          0.7844311377245509,
          0.7904191616766467,
          0.7904191616766467,
          0.7994011976047904,
          0.7994011976047904,
          0.8023952095808383,
          0.8023952095808383,
          0.8053892215568862,
          0.8053892215568862,
          0.8083832335329342,
          0.8083832335329342,
          0.8143712574850299,
          0.8143712574850299,
          0.8203592814371258,
          0.8203592814371258,
          0.8233532934131736,
          0.8233532934131736,
          0.8353293413173652,
          0.8353293413173652,
          0.8413173652694611,
          0.8413173652694611,
          0.844311377245509,
          0.844311377245509,
          0.8473053892215568,
          0.8473053892215568,
          0.8502994011976048,
          0.8502994011976048,
          0.8532934131736527,
          0.8532934131736527,
          0.8592814371257484,
          0.8652694610778443,
          0.8652694610778443,
          0.8682634730538922,
          0.8682634730538922,
          0.8712574850299402,
          0.8712574850299402,
          0.874251497005988,
          0.874251497005988,
          0.8772455089820359,
          0.8772455089820359,
          0.8802395209580839,
          0.8832335329341318,
          0.8892215568862275,
          0.8892215568862275,
          0.8922155688622755,
          0.8922155688622755,
          0.8952095808383234,
          0.8952095808383234,
          0.8982035928143712,
          0.8982035928143712,
          0.9041916167664671,
          0.9041916167664671,
          0.907185628742515,
          0.907185628742515,
          0.9101796407185628,
          0.9101796407185628,
          0.9131736526946108,
          0.9131736526946108,
          0.9161676646706587,
          0.9161676646706587,
          0.9221556886227545,
          0.9221556886227545,
          0.9251497005988024,
          0.9251497005988024,
          0.9281437125748503,
          0.9281437125748503,
          0.9341317365269461,
          0.9341317365269461,
          0.937125748502994,
          0.937125748502994,
          0.937125748502994,
          0.937125748502994,
          0.9401197604790419,
          0.9401197604790419,
          0.9431137724550899,
          0.9431137724550899,
          0.9461077844311377,
          0.9461077844311377,
          0.9491017964071856,
          0.9491017964071856,
          0.9491017964071856,
          0.9491017964071856,
          0.9520958083832335,
          0.9520958083832335,
          0.9520958083832335,
          0.9550898203592815,
          0.9550898203592815,
          0.9580838323353293,
          0.9580838323353293,
          0.9610778443113772,
          0.9610778443113772,
          0.9700598802395209,
          0.9700598802395209,
          0.9730538922155688,
          0.9730538922155688,
          0.9760479041916168,
          0.9760479041916168,
          0.9790419161676647,
          0.9790419161676647,
          0.9820359281437125,
          0.9820359281437125,
          0.9880239520958084,
          0.9880239520958084,
          0.9910179640718563,
          0.9910179640718563,
          0.9940119760479041,
          0.9940119760479041,
          0.9940119760479041,
          0.9970059880239521,
          0.9970059880239521,
          0.9970059880239521,
          0.9970059880239521,
          0.9970059880239521,
          0.9970059880239521,
          1,
          1
         ]
        },
        {
         "line": {
          "dash": "dash"
         },
         "mode": "lines",
         "showlegend": false,
         "type": "scatter",
         "x": [
          0,
          1
         ],
         "y": [
          0,
          1
         ]
        }
       ],
       "layout": {
        "legend": {
         "xanchor": "right",
         "yanchor": "bottom"
        },
        "template": {
         "data": {
          "bar": [
           {
            "error_x": {
             "color": "#2a3f5f"
            },
            "error_y": {
             "color": "#2a3f5f"
            },
            "marker": {
             "line": {
              "color": "#E5ECF6",
              "width": 0.5
             },
             "pattern": {
              "fillmode": "overlay",
              "size": 10,
              "solidity": 0.2
             }
            },
            "type": "bar"
           }
          ],
          "barpolar": [
           {
            "marker": {
             "line": {
              "color": "#E5ECF6",
              "width": 0.5
             },
             "pattern": {
              "fillmode": "overlay",
              "size": 10,
              "solidity": 0.2
             }
            },
            "type": "barpolar"
           }
          ],
          "carpet": [
           {
            "aaxis": {
             "endlinecolor": "#2a3f5f",
             "gridcolor": "white",
             "linecolor": "white",
             "minorgridcolor": "white",
             "startlinecolor": "#2a3f5f"
            },
            "baxis": {
             "endlinecolor": "#2a3f5f",
             "gridcolor": "white",
             "linecolor": "white",
             "minorgridcolor": "white",
             "startlinecolor": "#2a3f5f"
            },
            "type": "carpet"
           }
          ],
          "choropleth": [
           {
            "colorbar": {
             "outlinewidth": 0,
             "ticks": ""
            },
            "type": "choropleth"
           }
          ],
          "contour": [
           {
            "colorbar": {
             "outlinewidth": 0,
             "ticks": ""
            },
            "colorscale": [
             [
              0,
              "#0d0887"
             ],
             [
              0.1111111111111111,
              "#46039f"
             ],
             [
              0.2222222222222222,
              "#7201a8"
             ],
             [
              0.3333333333333333,
              "#9c179e"
             ],
             [
              0.4444444444444444,
              "#bd3786"
             ],
             [
              0.5555555555555556,
              "#d8576b"
             ],
             [
              0.6666666666666666,
              "#ed7953"
             ],
             [
              0.7777777777777778,
              "#fb9f3a"
             ],
             [
              0.8888888888888888,
              "#fdca26"
             ],
             [
              1,
              "#f0f921"
             ]
            ],
            "type": "contour"
           }
          ],
          "contourcarpet": [
           {
            "colorbar": {
             "outlinewidth": 0,
             "ticks": ""
            },
            "type": "contourcarpet"
           }
          ],
          "heatmap": [
           {
            "colorbar": {
             "outlinewidth": 0,
             "ticks": ""
            },
            "colorscale": [
             [
              0,
              "#0d0887"
             ],
             [
              0.1111111111111111,
              "#46039f"
             ],
             [
              0.2222222222222222,
              "#7201a8"
             ],
             [
              0.3333333333333333,
              "#9c179e"
             ],
             [
              0.4444444444444444,
              "#bd3786"
             ],
             [
              0.5555555555555556,
              "#d8576b"
             ],
             [
              0.6666666666666666,
              "#ed7953"
             ],
             [
              0.7777777777777778,
              "#fb9f3a"
             ],
             [
              0.8888888888888888,
              "#fdca26"
             ],
             [
              1,
              "#f0f921"
             ]
            ],
            "type": "heatmap"
           }
          ],
          "heatmapgl": [
           {
            "colorbar": {
             "outlinewidth": 0,
             "ticks": ""
            },
            "colorscale": [
             [
              0,
              "#0d0887"
             ],
             [
              0.1111111111111111,
              "#46039f"
             ],
             [
              0.2222222222222222,
              "#7201a8"
             ],
             [
              0.3333333333333333,
              "#9c179e"
             ],
             [
              0.4444444444444444,
              "#bd3786"
             ],
             [
              0.5555555555555556,
              "#d8576b"
             ],
             [
              0.6666666666666666,
              "#ed7953"
             ],
             [
              0.7777777777777778,
              "#fb9f3a"
             ],
             [
              0.8888888888888888,
              "#fdca26"
             ],
             [
              1,
              "#f0f921"
             ]
            ],
            "type": "heatmapgl"
           }
          ],
          "histogram": [
           {
            "marker": {
             "pattern": {
              "fillmode": "overlay",
              "size": 10,
              "solidity": 0.2
             }
            },
            "type": "histogram"
           }
          ],
          "histogram2d": [
           {
            "colorbar": {
             "outlinewidth": 0,
             "ticks": ""
            },
            "colorscale": [
             [
              0,
              "#0d0887"
             ],
             [
              0.1111111111111111,
              "#46039f"
             ],
             [
              0.2222222222222222,
              "#7201a8"
             ],
             [
              0.3333333333333333,
              "#9c179e"
             ],
             [
              0.4444444444444444,
              "#bd3786"
             ],
             [
              0.5555555555555556,
              "#d8576b"
             ],
             [
              0.6666666666666666,
              "#ed7953"
             ],
             [
              0.7777777777777778,
              "#fb9f3a"
             ],
             [
              0.8888888888888888,
              "#fdca26"
             ],
             [
              1,
              "#f0f921"
             ]
            ],
            "type": "histogram2d"
           }
          ],
          "histogram2dcontour": [
           {
            "colorbar": {
             "outlinewidth": 0,
             "ticks": ""
            },
            "colorscale": [
             [
              0,
              "#0d0887"
             ],
             [
              0.1111111111111111,
              "#46039f"
             ],
             [
              0.2222222222222222,
              "#7201a8"
             ],
             [
              0.3333333333333333,
              "#9c179e"
             ],
             [
              0.4444444444444444,
              "#bd3786"
             ],
             [
              0.5555555555555556,
              "#d8576b"
             ],
             [
              0.6666666666666666,
              "#ed7953"
             ],
             [
              0.7777777777777778,
              "#fb9f3a"
             ],
             [
              0.8888888888888888,
              "#fdca26"
             ],
             [
              1,
              "#f0f921"
             ]
            ],
            "type": "histogram2dcontour"
           }
          ],
          "mesh3d": [
           {
            "colorbar": {
             "outlinewidth": 0,
             "ticks": ""
            },
            "type": "mesh3d"
           }
          ],
          "parcoords": [
           {
            "line": {
             "colorbar": {
              "outlinewidth": 0,
              "ticks": ""
             }
            },
            "type": "parcoords"
           }
          ],
          "pie": [
           {
            "automargin": true,
            "type": "pie"
           }
          ],
          "scatter": [
           {
            "fillpattern": {
             "fillmode": "overlay",
             "size": 10,
             "solidity": 0.2
            },
            "type": "scatter"
           }
          ],
          "scatter3d": [
           {
            "line": {
             "colorbar": {
              "outlinewidth": 0,
              "ticks": ""
             }
            },
            "marker": {
             "colorbar": {
              "outlinewidth": 0,
              "ticks": ""
             }
            },
            "type": "scatter3d"
           }
          ],
          "scattercarpet": [
           {
            "marker": {
             "colorbar": {
              "outlinewidth": 0,
              "ticks": ""
             }
            },
            "type": "scattercarpet"
           }
          ],
          "scattergeo": [
           {
            "marker": {
             "colorbar": {
              "outlinewidth": 0,
              "ticks": ""
             }
            },
            "type": "scattergeo"
           }
          ],
          "scattergl": [
           {
            "marker": {
             "colorbar": {
              "outlinewidth": 0,
              "ticks": ""
             }
            },
            "type": "scattergl"
           }
          ],
          "scattermapbox": [
           {
            "marker": {
             "colorbar": {
              "outlinewidth": 0,
              "ticks": ""
             }
            },
            "type": "scattermapbox"
           }
          ],
          "scatterpolar": [
           {
            "marker": {
             "colorbar": {
              "outlinewidth": 0,
              "ticks": ""
             }
            },
            "type": "scatterpolar"
           }
          ],
          "scatterpolargl": [
           {
            "marker": {
             "colorbar": {
              "outlinewidth": 0,
              "ticks": ""
             }
            },
            "type": "scatterpolargl"
           }
          ],
          "scatterternary": [
           {
            "marker": {
             "colorbar": {
              "outlinewidth": 0,
              "ticks": ""
             }
            },
            "type": "scatterternary"
           }
          ],
          "surface": [
           {
            "colorbar": {
             "outlinewidth": 0,
             "ticks": ""
            },
            "colorscale": [
             [
              0,
              "#0d0887"
             ],
             [
              0.1111111111111111,
              "#46039f"
             ],
             [
              0.2222222222222222,
              "#7201a8"
             ],
             [
              0.3333333333333333,
              "#9c179e"
             ],
             [
              0.4444444444444444,
              "#bd3786"
             ],
             [
              0.5555555555555556,
              "#d8576b"
             ],
             [
              0.6666666666666666,
              "#ed7953"
             ],
             [
              0.7777777777777778,
              "#fb9f3a"
             ],
             [
              0.8888888888888888,
              "#fdca26"
             ],
             [
              1,
              "#f0f921"
             ]
            ],
            "type": "surface"
           }
          ],
          "table": [
           {
            "cells": {
             "fill": {
              "color": "#EBF0F8"
             },
             "line": {
              "color": "white"
             }
            },
            "header": {
             "fill": {
              "color": "#C8D4E3"
             },
             "line": {
              "color": "white"
             }
            },
            "type": "table"
           }
          ]
         },
         "layout": {
          "annotationdefaults": {
           "arrowcolor": "#2a3f5f",
           "arrowhead": 0,
           "arrowwidth": 1
          },
          "autotypenumbers": "strict",
          "coloraxis": {
           "colorbar": {
            "outlinewidth": 0,
            "ticks": ""
           }
          },
          "colorscale": {
           "diverging": [
            [
             0,
             "#8e0152"
            ],
            [
             0.1,
             "#c51b7d"
            ],
            [
             0.2,
             "#de77ae"
            ],
            [
             0.3,
             "#f1b6da"
            ],
            [
             0.4,
             "#fde0ef"
            ],
            [
             0.5,
             "#f7f7f7"
            ],
            [
             0.6,
             "#e6f5d0"
            ],
            [
             0.7,
             "#b8e186"
            ],
            [
             0.8,
             "#7fbc41"
            ],
            [
             0.9,
             "#4d9221"
            ],
            [
             1,
             "#276419"
            ]
           ],
           "sequential": [
            [
             0,
             "#0d0887"
            ],
            [
             0.1111111111111111,
             "#46039f"
            ],
            [
             0.2222222222222222,
             "#7201a8"
            ],
            [
             0.3333333333333333,
             "#9c179e"
            ],
            [
             0.4444444444444444,
             "#bd3786"
            ],
            [
             0.5555555555555556,
             "#d8576b"
            ],
            [
             0.6666666666666666,
             "#ed7953"
            ],
            [
             0.7777777777777778,
             "#fb9f3a"
            ],
            [
             0.8888888888888888,
             "#fdca26"
            ],
            [
             1,
             "#f0f921"
            ]
           ],
           "sequentialminus": [
            [
             0,
             "#0d0887"
            ],
            [
             0.1111111111111111,
             "#46039f"
            ],
            [
             0.2222222222222222,
             "#7201a8"
            ],
            [
             0.3333333333333333,
             "#9c179e"
            ],
            [
             0.4444444444444444,
             "#bd3786"
            ],
            [
             0.5555555555555556,
             "#d8576b"
            ],
            [
             0.6666666666666666,
             "#ed7953"
            ],
            [
             0.7777777777777778,
             "#fb9f3a"
            ],
            [
             0.8888888888888888,
             "#fdca26"
            ],
            [
             1,
             "#f0f921"
            ]
           ]
          },
          "colorway": [
           "#636efa",
           "#EF553B",
           "#00cc96",
           "#ab63fa",
           "#FFA15A",
           "#19d3f3",
           "#FF6692",
           "#B6E880",
           "#FF97FF",
           "#FECB52"
          ],
          "font": {
           "color": "#2a3f5f"
          },
          "geo": {
           "bgcolor": "white",
           "lakecolor": "white",
           "landcolor": "#E5ECF6",
           "showlakes": true,
           "showland": true,
           "subunitcolor": "white"
          },
          "hoverlabel": {
           "align": "left"
          },
          "hovermode": "closest",
          "mapbox": {
           "style": "light"
          },
          "paper_bgcolor": "white",
          "plot_bgcolor": "#E5ECF6",
          "polar": {
           "angularaxis": {
            "gridcolor": "white",
            "linecolor": "white",
            "ticks": ""
           },
           "bgcolor": "#E5ECF6",
           "radialaxis": {
            "gridcolor": "white",
            "linecolor": "white",
            "ticks": ""
           }
          },
          "scene": {
           "xaxis": {
            "backgroundcolor": "#E5ECF6",
            "gridcolor": "white",
            "gridwidth": 2,
            "linecolor": "white",
            "showbackground": true,
            "ticks": "",
            "zerolinecolor": "white"
           },
           "yaxis": {
            "backgroundcolor": "#E5ECF6",
            "gridcolor": "white",
            "gridwidth": 2,
            "linecolor": "white",
            "showbackground": true,
            "ticks": "",
            "zerolinecolor": "white"
           },
           "zaxis": {
            "backgroundcolor": "#E5ECF6",
            "gridcolor": "white",
            "gridwidth": 2,
            "linecolor": "white",
            "showbackground": true,
            "ticks": "",
            "zerolinecolor": "white"
           }
          },
          "shapedefaults": {
           "line": {
            "color": "#2a3f5f"
           }
          },
          "ternary": {
           "aaxis": {
            "gridcolor": "white",
            "linecolor": "white",
            "ticks": ""
           },
           "baxis": {
            "gridcolor": "white",
            "linecolor": "white",
            "ticks": ""
           },
           "bgcolor": "#E5ECF6",
           "caxis": {
            "gridcolor": "white",
            "linecolor": "white",
            "ticks": ""
           }
          },
          "title": {
           "x": 0.05
          },
          "xaxis": {
           "automargin": true,
           "gridcolor": "white",
           "linecolor": "white",
           "ticks": "",
           "title": {
            "standoff": 15
           },
           "zerolinecolor": "white",
           "zerolinewidth": 2
          },
          "yaxis": {
           "automargin": true,
           "gridcolor": "white",
           "linecolor": "white",
           "ticks": "",
           "title": {
            "standoff": 15
           },
           "zerolinecolor": "white",
           "zerolinewidth": 2
          }
         }
        },
        "title": {
         "text": "Receiver Operating Characteristic (ROC) Curve"
        },
        "xaxis": {
         "constrain": "domain",
         "scaleanchor": "y",
         "scaleratio": 1,
         "title": {
          "text": "False Positive Rate"
         }
        },
        "yaxis": {
         "constrain": "domain",
         "scaleanchor": "x",
         "scaleratio": 1,
         "title": {
          "text": "True Positive Rate"
         }
        }
       }
      }
     },
     "metadata": {},
     "output_type": "display_data"
    }
   ],
   "source": [
    "import plotly.graph_objects as go\n",
    "from sklearn.metrics import roc_curve, roc_auc_score\n",
    "\n",
    "from sklearn.preprocessing import LabelBinarizer\n",
    "\n",
    "# Convert string labels to binary\n",
    "binarizer = LabelBinarizer()\n",
    "binary_filtered_labels_test = binarizer.fit_transform(filtered_labels_test).ravel()\n",
    "\n",
    "\n",
    "y_scores = pipeline.decision_function(filtered_utterances_test)\n",
    "\n",
    "# Calculate ROC curve data points\n",
    "fpr, tpr, thresholds = roc_curve(binary_filtered_labels_test, y_scores)\n",
    "\n",
    "y_scores = pipeline.decision_function(filtered_utterances_test)\n",
    "\n",
    "# Calculate ROC curve data points\n",
    "fpr, tpr, thresholds = roc_curve(binary_filtered_labels_test, y_scores)\n",
    "\n",
    "# Calculate the AUC score\n",
    "auc_score = roc_auc_score(binary_filtered_labels_test, y_scores)\n",
    "\n",
    "fig = go.Figure()\n",
    "\n",
    "# ROC curve trace\n",
    "fig.add_trace(go.Scatter(x=fpr, y=tpr, mode='lines', name='ROC Curve (area = %0.2f)' % auc_score))\n",
    "\n",
    "# Line representing random guessing\n",
    "fig.add_trace(go.Scatter(x=[0, 1], y=[0, 1], mode='lines', showlegend=False, line=dict(dash='dash')))\n",
    "\n",
    "fig.update_layout(\n",
    "    title='Receiver Operating Characteristic (ROC) Curve',\n",
    "    xaxis_title='False Positive Rate',\n",
    "    yaxis_title='True Positive Rate',\n",
    "    xaxis=dict(scaleanchor=\"y\", scaleratio=1, constrain='domain'),\n",
    "    yaxis=dict(scaleanchor=\"x\", scaleratio=1, constrain='domain'),\n",
    "    legend=dict(yanchor=\"bottom\", xanchor=\"right\")\n",
    ")\n",
    "\n",
    "fig.show()\n"
   ]
  },
  {
   "cell_type": "code",
   "execution_count": 100,
   "metadata": {},
   "outputs": [
    {
     "name": "stdout",
     "output_type": "stream",
     "text": [
      "Model saved as saved_models\\finalized_model_domains_SVM.joblib\n"
     ]
    }
   ],
   "source": [
    "import joblib\n",
    "\n",
    "# Save the model as a checkpoint\n",
    "model_filename = 'saved_models\\\\finalized_model_domains_SVM.joblib'\n",
    "joblib.dump(pipeline, model_filename)\n",
    "\n",
    "\n",
    "print(f\"Model saved as {model_filename}\")\n"
   ]
  },
  {
   "cell_type": "code",
   "execution_count": 95,
   "metadata": {},
   "outputs": [],
   "source": [
    "from sklearn.naive_bayes import MultinomialNB\n",
    "\n",
    "\n",
    "pipeline_nb = Pipeline([\n",
    "    ('tfidf', TfidfVectorizer(stop_words='english')),\n",
    "    ('nb', MultinomialNB())\n",
    "])\n",
    "\n",
    "parameters = ParameterGrid({\n",
    "    'tfidf__ngram_range': [(1, 1), (1, 2), (1, 3)],\n",
    "    'tfidf__max_df': [0.5, 0.75, 1.0],\n",
    "    'tfidf__min_df': [1, 2, 3, 5],\n",
    "    'tfidf__use_idf': [True, False],\n",
    "    'tfidf__max_features': [None, 5000, 10000, 20000],\n",
    "    'tfidf__norm': ['l1', 'l2', None],\n",
    "    'tfidf__sublinear_tf': [True, False],\n",
    "    \n",
    "    'nb__alpha': [0.001, 0.01, 0.1, 0.5, 1.0, 2.0, 5.0, 10.0, 100.0],\n",
    "    'nb__fit_prior': [True, False]\n",
    "})"
   ]
  },
  {
   "cell_type": "code",
   "execution_count": 96,
   "metadata": {},
   "outputs": [
    {
     "name": "stdout",
     "output_type": "stream",
     "text": [
      "Epoch 1/10\n",
      "New best score: 0.8444 with params: {'nb__alpha': 0.1, 'nb__fit_prior': True, 'tfidf__max_df': 0.5, 'tfidf__max_features': None, 'tfidf__min_df': 3, 'tfidf__ngram_range': (1, 3), 'tfidf__norm': 'l1', 'tfidf__sublinear_tf': True, 'tfidf__use_idf': True}\n",
      "New best score: 0.8481 with params: {'nb__alpha': 1.0, 'nb__fit_prior': True, 'tfidf__max_df': 0.5, 'tfidf__max_features': None, 'tfidf__min_df': 3, 'tfidf__ngram_range': (1, 3), 'tfidf__norm': 'l2', 'tfidf__sublinear_tf': True, 'tfidf__use_idf': True}\n",
      "Epoch 2/10\n",
      "New best score: 0.8519 with params: {'nb__alpha': 0.1, 'nb__fit_prior': True, 'tfidf__max_df': 1.0, 'tfidf__max_features': 20000, 'tfidf__min_df': 2, 'tfidf__ngram_range': (1, 2), 'tfidf__norm': None, 'tfidf__sublinear_tf': False, 'tfidf__use_idf': True}\n",
      "Epoch 3/10\n",
      "Epoch 4/10\n",
      "Epoch 5/10\n",
      "New best score: 0.8556 with params: {'nb__alpha': 0.001, 'nb__fit_prior': False, 'tfidf__max_df': 0.75, 'tfidf__max_features': None, 'tfidf__min_df': 2, 'tfidf__ngram_range': (1, 2), 'tfidf__norm': 'l1', 'tfidf__sublinear_tf': True, 'tfidf__use_idf': False}\n",
      "New best score: 0.8593 with params: {'nb__alpha': 0.1, 'nb__fit_prior': False, 'tfidf__max_df': 1.0, 'tfidf__max_features': 5000, 'tfidf__min_df': 1, 'tfidf__ngram_range': (1, 3), 'tfidf__norm': 'l1', 'tfidf__sublinear_tf': True, 'tfidf__use_idf': True}\n",
      "Epoch 6/10\n",
      "Epoch 7/10\n",
      "Epoch 8/10\n",
      "Epoch 9/10\n",
      "Epoch 10/10\n",
      "Best parameters found: {'nb__alpha': 0.1, 'nb__fit_prior': False, 'tfidf__max_df': 1.0, 'tfidf__max_features': 5000, 'tfidf__min_df': 1, 'tfidf__ngram_range': (1, 3), 'tfidf__norm': 'l1', 'tfidf__sublinear_tf': True, 'tfidf__use_idf': True}\n",
      "Best score achieved: 0.8592592592592592\n"
     ]
    }
   ],
   "source": [
    "best_score = 0\n",
    "best_params = {}\n",
    "\n",
    "for epoch in range(1, N+1):\n",
    "    print(f\"Epoch {epoch}/{N}\")\n",
    "    \n",
    "    sampled_parameters = np.random.choice(list(parameters), replace=False, size=2)\n",
    "    \n",
    "    for params in sampled_parameters:\n",
    "        pipeline_nb.set_params(**params)\n",
    "        pipeline_nb.fit(filtered_utterances_train, filtered_labels_train)\n",
    "        \n",
    "        current_score = f1_score(filtered_labels_validation, pipeline_nb.predict(filtered_utterances_validation), average='micro')\n",
    "        \n",
    "        if current_score > best_score:\n",
    "            best_score = current_score\n",
    "            best_params = params\n",
    "            print(f\"New best score: {best_score:.4f} with params: {params}\")\n",
    "\n",
    "print(\"Best parameters found:\", best_params)\n",
    "print(\"Best score achieved:\", best_score)"
   ]
  },
  {
   "cell_type": "code",
   "execution_count": 97,
   "metadata": {},
   "outputs": [
    {
     "data": {
      "text/html": [
       "<style>#sk-container-id-17 {color: black;background-color: white;}#sk-container-id-17 pre{padding: 0;}#sk-container-id-17 div.sk-toggleable {background-color: white;}#sk-container-id-17 label.sk-toggleable__label {cursor: pointer;display: block;width: 100%;margin-bottom: 0;padding: 0.3em;box-sizing: border-box;text-align: center;}#sk-container-id-17 label.sk-toggleable__label-arrow:before {content: \"▸\";float: left;margin-right: 0.25em;color: #696969;}#sk-container-id-17 label.sk-toggleable__label-arrow:hover:before {color: black;}#sk-container-id-17 div.sk-estimator:hover label.sk-toggleable__label-arrow:before {color: black;}#sk-container-id-17 div.sk-toggleable__content {max-height: 0;max-width: 0;overflow: hidden;text-align: left;background-color: #f0f8ff;}#sk-container-id-17 div.sk-toggleable__content pre {margin: 0.2em;color: black;border-radius: 0.25em;background-color: #f0f8ff;}#sk-container-id-17 input.sk-toggleable__control:checked~div.sk-toggleable__content {max-height: 200px;max-width: 100%;overflow: auto;}#sk-container-id-17 input.sk-toggleable__control:checked~label.sk-toggleable__label-arrow:before {content: \"▾\";}#sk-container-id-17 div.sk-estimator input.sk-toggleable__control:checked~label.sk-toggleable__label {background-color: #d4ebff;}#sk-container-id-17 div.sk-label input.sk-toggleable__control:checked~label.sk-toggleable__label {background-color: #d4ebff;}#sk-container-id-17 input.sk-hidden--visually {border: 0;clip: rect(1px 1px 1px 1px);clip: rect(1px, 1px, 1px, 1px);height: 1px;margin: -1px;overflow: hidden;padding: 0;position: absolute;width: 1px;}#sk-container-id-17 div.sk-estimator {font-family: monospace;background-color: #f0f8ff;border: 1px dotted black;border-radius: 0.25em;box-sizing: border-box;margin-bottom: 0.5em;}#sk-container-id-17 div.sk-estimator:hover {background-color: #d4ebff;}#sk-container-id-17 div.sk-parallel-item::after {content: \"\";width: 100%;border-bottom: 1px solid gray;flex-grow: 1;}#sk-container-id-17 div.sk-label:hover label.sk-toggleable__label {background-color: #d4ebff;}#sk-container-id-17 div.sk-serial::before {content: \"\";position: absolute;border-left: 1px solid gray;box-sizing: border-box;top: 0;bottom: 0;left: 50%;z-index: 0;}#sk-container-id-17 div.sk-serial {display: flex;flex-direction: column;align-items: center;background-color: white;padding-right: 0.2em;padding-left: 0.2em;position: relative;}#sk-container-id-17 div.sk-item {position: relative;z-index: 1;}#sk-container-id-17 div.sk-parallel {display: flex;align-items: stretch;justify-content: center;background-color: white;position: relative;}#sk-container-id-17 div.sk-item::before, #sk-container-id-17 div.sk-parallel-item::before {content: \"\";position: absolute;border-left: 1px solid gray;box-sizing: border-box;top: 0;bottom: 0;left: 50%;z-index: -1;}#sk-container-id-17 div.sk-parallel-item {display: flex;flex-direction: column;z-index: 1;position: relative;background-color: white;}#sk-container-id-17 div.sk-parallel-item:first-child::after {align-self: flex-end;width: 50%;}#sk-container-id-17 div.sk-parallel-item:last-child::after {align-self: flex-start;width: 50%;}#sk-container-id-17 div.sk-parallel-item:only-child::after {width: 0;}#sk-container-id-17 div.sk-dashed-wrapped {border: 1px dashed gray;margin: 0 0.4em 0.5em 0.4em;box-sizing: border-box;padding-bottom: 0.4em;background-color: white;}#sk-container-id-17 div.sk-label label {font-family: monospace;font-weight: bold;display: inline-block;line-height: 1.2em;}#sk-container-id-17 div.sk-label-container {text-align: center;}#sk-container-id-17 div.sk-container {/* jupyter's `normalize.less` sets `[hidden] { display: none; }` but bootstrap.min.css set `[hidden] { display: none !important; }` so we also need the `!important` here to be able to override the default hidden behavior on the sphinx rendered scikit-learn.org. See: https://github.com/scikit-learn/scikit-learn/issues/21755 */display: inline-block !important;position: relative;}#sk-container-id-17 div.sk-text-repr-fallback {display: none;}</style><div id=\"sk-container-id-17\" class=\"sk-top-container\"><div class=\"sk-text-repr-fallback\"><pre>Pipeline(steps=[(&#x27;tfidf&#x27;,\n",
       "                 TfidfVectorizer(max_features=5000, ngram_range=(1, 3),\n",
       "                                 norm=&#x27;l1&#x27;, stop_words=&#x27;english&#x27;,\n",
       "                                 sublinear_tf=True)),\n",
       "                (&#x27;nb&#x27;, MultinomialNB(alpha=0.1, fit_prior=False))])</pre><b>In a Jupyter environment, please rerun this cell to show the HTML representation or trust the notebook. <br />On GitHub, the HTML representation is unable to render, please try loading this page with nbviewer.org.</b></div><div class=\"sk-container\" hidden><div class=\"sk-item sk-dashed-wrapped\"><div class=\"sk-label-container\"><div class=\"sk-label sk-toggleable\"><input class=\"sk-toggleable__control sk-hidden--visually\" id=\"sk-estimator-id-33\" type=\"checkbox\" ><label for=\"sk-estimator-id-33\" class=\"sk-toggleable__label sk-toggleable__label-arrow\">Pipeline</label><div class=\"sk-toggleable__content\"><pre>Pipeline(steps=[(&#x27;tfidf&#x27;,\n",
       "                 TfidfVectorizer(max_features=5000, ngram_range=(1, 3),\n",
       "                                 norm=&#x27;l1&#x27;, stop_words=&#x27;english&#x27;,\n",
       "                                 sublinear_tf=True)),\n",
       "                (&#x27;nb&#x27;, MultinomialNB(alpha=0.1, fit_prior=False))])</pre></div></div></div><div class=\"sk-serial\"><div class=\"sk-item\"><div class=\"sk-estimator sk-toggleable\"><input class=\"sk-toggleable__control sk-hidden--visually\" id=\"sk-estimator-id-34\" type=\"checkbox\" ><label for=\"sk-estimator-id-34\" class=\"sk-toggleable__label sk-toggleable__label-arrow\">TfidfVectorizer</label><div class=\"sk-toggleable__content\"><pre>TfidfVectorizer(max_features=5000, ngram_range=(1, 3), norm=&#x27;l1&#x27;,\n",
       "                stop_words=&#x27;english&#x27;, sublinear_tf=True)</pre></div></div></div><div class=\"sk-item\"><div class=\"sk-estimator sk-toggleable\"><input class=\"sk-toggleable__control sk-hidden--visually\" id=\"sk-estimator-id-35\" type=\"checkbox\" ><label for=\"sk-estimator-id-35\" class=\"sk-toggleable__label sk-toggleable__label-arrow\">MultinomialNB</label><div class=\"sk-toggleable__content\"><pre>MultinomialNB(alpha=0.1, fit_prior=False)</pre></div></div></div></div></div></div></div>"
      ],
      "text/plain": [
       "Pipeline(steps=[('tfidf',\n",
       "                 TfidfVectorizer(max_features=5000, ngram_range=(1, 3),\n",
       "                                 norm='l1', stop_words='english',\n",
       "                                 sublinear_tf=True)),\n",
       "                ('nb', MultinomialNB(alpha=0.1, fit_prior=False))])"
      ]
     },
     "execution_count": 97,
     "metadata": {},
     "output_type": "execute_result"
    }
   ],
   "source": [
    "# Apply the best parameters\n",
    "pipeline_nb.set_params(**best_params)"
   ]
  },
  {
   "cell_type": "code",
   "execution_count": 98,
   "metadata": {},
   "outputs": [
    {
     "data": {
      "text/html": [
       "<style>#sk-container-id-18 {color: black;background-color: white;}#sk-container-id-18 pre{padding: 0;}#sk-container-id-18 div.sk-toggleable {background-color: white;}#sk-container-id-18 label.sk-toggleable__label {cursor: pointer;display: block;width: 100%;margin-bottom: 0;padding: 0.3em;box-sizing: border-box;text-align: center;}#sk-container-id-18 label.sk-toggleable__label-arrow:before {content: \"▸\";float: left;margin-right: 0.25em;color: #696969;}#sk-container-id-18 label.sk-toggleable__label-arrow:hover:before {color: black;}#sk-container-id-18 div.sk-estimator:hover label.sk-toggleable__label-arrow:before {color: black;}#sk-container-id-18 div.sk-toggleable__content {max-height: 0;max-width: 0;overflow: hidden;text-align: left;background-color: #f0f8ff;}#sk-container-id-18 div.sk-toggleable__content pre {margin: 0.2em;color: black;border-radius: 0.25em;background-color: #f0f8ff;}#sk-container-id-18 input.sk-toggleable__control:checked~div.sk-toggleable__content {max-height: 200px;max-width: 100%;overflow: auto;}#sk-container-id-18 input.sk-toggleable__control:checked~label.sk-toggleable__label-arrow:before {content: \"▾\";}#sk-container-id-18 div.sk-estimator input.sk-toggleable__control:checked~label.sk-toggleable__label {background-color: #d4ebff;}#sk-container-id-18 div.sk-label input.sk-toggleable__control:checked~label.sk-toggleable__label {background-color: #d4ebff;}#sk-container-id-18 input.sk-hidden--visually {border: 0;clip: rect(1px 1px 1px 1px);clip: rect(1px, 1px, 1px, 1px);height: 1px;margin: -1px;overflow: hidden;padding: 0;position: absolute;width: 1px;}#sk-container-id-18 div.sk-estimator {font-family: monospace;background-color: #f0f8ff;border: 1px dotted black;border-radius: 0.25em;box-sizing: border-box;margin-bottom: 0.5em;}#sk-container-id-18 div.sk-estimator:hover {background-color: #d4ebff;}#sk-container-id-18 div.sk-parallel-item::after {content: \"\";width: 100%;border-bottom: 1px solid gray;flex-grow: 1;}#sk-container-id-18 div.sk-label:hover label.sk-toggleable__label {background-color: #d4ebff;}#sk-container-id-18 div.sk-serial::before {content: \"\";position: absolute;border-left: 1px solid gray;box-sizing: border-box;top: 0;bottom: 0;left: 50%;z-index: 0;}#sk-container-id-18 div.sk-serial {display: flex;flex-direction: column;align-items: center;background-color: white;padding-right: 0.2em;padding-left: 0.2em;position: relative;}#sk-container-id-18 div.sk-item {position: relative;z-index: 1;}#sk-container-id-18 div.sk-parallel {display: flex;align-items: stretch;justify-content: center;background-color: white;position: relative;}#sk-container-id-18 div.sk-item::before, #sk-container-id-18 div.sk-parallel-item::before {content: \"\";position: absolute;border-left: 1px solid gray;box-sizing: border-box;top: 0;bottom: 0;left: 50%;z-index: -1;}#sk-container-id-18 div.sk-parallel-item {display: flex;flex-direction: column;z-index: 1;position: relative;background-color: white;}#sk-container-id-18 div.sk-parallel-item:first-child::after {align-self: flex-end;width: 50%;}#sk-container-id-18 div.sk-parallel-item:last-child::after {align-self: flex-start;width: 50%;}#sk-container-id-18 div.sk-parallel-item:only-child::after {width: 0;}#sk-container-id-18 div.sk-dashed-wrapped {border: 1px dashed gray;margin: 0 0.4em 0.5em 0.4em;box-sizing: border-box;padding-bottom: 0.4em;background-color: white;}#sk-container-id-18 div.sk-label label {font-family: monospace;font-weight: bold;display: inline-block;line-height: 1.2em;}#sk-container-id-18 div.sk-label-container {text-align: center;}#sk-container-id-18 div.sk-container {/* jupyter's `normalize.less` sets `[hidden] { display: none; }` but bootstrap.min.css set `[hidden] { display: none !important; }` so we also need the `!important` here to be able to override the default hidden behavior on the sphinx rendered scikit-learn.org. See: https://github.com/scikit-learn/scikit-learn/issues/21755 */display: inline-block !important;position: relative;}#sk-container-id-18 div.sk-text-repr-fallback {display: none;}</style><div id=\"sk-container-id-18\" class=\"sk-top-container\"><div class=\"sk-text-repr-fallback\"><pre>MultinomialNB(alpha=0.1, fit_prior=False)</pre><b>In a Jupyter environment, please rerun this cell to show the HTML representation or trust the notebook. <br />On GitHub, the HTML representation is unable to render, please try loading this page with nbviewer.org.</b></div><div class=\"sk-container\" hidden><div class=\"sk-item\"><div class=\"sk-estimator sk-toggleable\"><input class=\"sk-toggleable__control sk-hidden--visually\" id=\"sk-estimator-id-36\" type=\"checkbox\" checked><label for=\"sk-estimator-id-36\" class=\"sk-toggleable__label sk-toggleable__label-arrow\">MultinomialNB</label><div class=\"sk-toggleable__content\"><pre>MultinomialNB(alpha=0.1, fit_prior=False)</pre></div></div></div></div></div>"
      ],
      "text/plain": [
       "MultinomialNB(alpha=0.1, fit_prior=False)"
      ]
     },
     "execution_count": 98,
     "metadata": {},
     "output_type": "execute_result"
    }
   ],
   "source": [
    "from sklearn.utils import shuffle\n",
    "\n",
    "# Combining training and validation sets\n",
    "X_combined = filtered_utterances_train + filtered_utterances_validation\n",
    "y_combined_bin = np.concatenate((filtered_labels_train, filtered_labels_validation), axis=0)\n",
    "\n",
    "# Ensuring data is properly shuffled\n",
    "X_combined, y_combined_bin = shuffle(X_combined, y_combined_bin, random_state=42)\n",
    "\n",
    "# Transform combined data\n",
    "X_combined_tfidf = pipeline_nb.named_steps['tfidf'].fit_transform(X_combined)\n",
    "\n",
    "# Retrain\n",
    "pipeline_nb.named_steps['nb'].fit(X_combined_tfidf, y_combined_bin)"
   ]
  },
  {
   "cell_type": "code",
   "execution_count": 11,
   "metadata": {},
   "outputs": [],
   "source": [
    "pipeline_nb = joblib.load(\"saved_models_synth\\\\finalized_model_domains_NB.joblib\")"
   ]
  },
  {
   "cell_type": "code",
   "execution_count": 12,
   "metadata": {},
   "outputs": [
    {
     "name": "stdout",
     "output_type": "stream",
     "text": [
      "Test Set Evaluation:\n",
      "              precision    recall  f1-score   support\n",
      "\n",
      "       hotel       0.82      0.74      0.78       407\n",
      "       train       0.72      0.80      0.76       334\n",
      "\n",
      "    accuracy                           0.77       741\n",
      "   macro avg       0.77      0.77      0.77       741\n",
      "weighted avg       0.77      0.77      0.77       741\n",
      "\n",
      "Test Accuracy: 0.7678812415654521\n"
     ]
    }
   ],
   "source": [
    "# Test set evaluation\n",
    "y_test_pred = pipeline_nb.predict(filtered_utterances_test)\n",
    "print(\"Test Set Evaluation:\")\n",
    "print(classification_report(filtered_labels_test, y_test_pred))\n",
    "print(\"Test Accuracy:\", accuracy_score(filtered_labels_test, y_test_pred))"
   ]
  },
  {
   "cell_type": "code",
   "execution_count": 13,
   "metadata": {},
   "outputs": [
    {
     "name": "stdout",
     "output_type": "stream",
     "text": [
      "Cross-Validation Scores: [0.84563758 0.89189189 0.77702703 0.83783784 0.83783784]\n",
      "Mean CV Score: 0.84\n",
      "Standard Deviation in CV Scores: 0.04\n"
     ]
    }
   ],
   "source": [
    "# Cross-Validation\n",
    "# Define the number of folds for cross-validation\n",
    "k_folds = 5\n",
    "stratified_k_fold = StratifiedKFold(n_splits=k_folds, shuffle=True, random_state=42)\n",
    "\n",
    "# Perform cross-validation\n",
    "cross_val_scores = cross_val_score(pipeline_nb, filtered_utterances_test, filtered_labels_test, cv=stratified_k_fold, scoring='accuracy')\n",
    "print(f\"Cross-Validation Scores: {cross_val_scores}\")\n",
    "print(f\"Mean CV Score: {cross_val_scores.mean():.2f}\")\n",
    "print(f\"Standard Deviation in CV Scores: {cross_val_scores.std():.2f}\")"
   ]
  },
  {
   "cell_type": "code",
   "execution_count": 14,
   "metadata": {},
   "outputs": [
    {
     "data": {
      "application/vnd.plotly.v1+json": {
       "config": {
        "plotlyServerURL": "https://plot.ly"
       },
       "data": [
        {
         "colorscale": [
          [
           0,
           "red"
          ],
          [
           0.5,
           "yellow"
          ],
          [
           1,
           "green"
          ]
         ],
         "reversescale": false,
         "showscale": true,
         "type": "heatmap",
         "x": [
          "hotel",
          "train"
         ],
         "y": [
          "hotel",
          "train"
         ],
         "z": [
          [
           73.95577395577395,
           26.044226044226043
          ],
          [
           19.760479041916167,
           80.23952095808383
          ]
         ]
        }
       ],
       "layout": {
        "annotations": [
         {
          "font": {
           "color": "#000000"
          },
          "showarrow": false,
          "text": "73.96",
          "x": "hotel",
          "xref": "x",
          "y": "hotel",
          "yref": "y"
         },
         {
          "font": {
           "color": "#000000"
          },
          "showarrow": false,
          "text": "26.04",
          "x": "train",
          "xref": "x",
          "y": "hotel",
          "yref": "y"
         },
         {
          "font": {
           "color": "#000000"
          },
          "showarrow": false,
          "text": "19.76",
          "x": "hotel",
          "xref": "x",
          "y": "train",
          "yref": "y"
         },
         {
          "font": {
           "color": "#000000"
          },
          "showarrow": false,
          "text": "80.24",
          "x": "train",
          "xref": "x",
          "y": "train",
          "yref": "y"
         }
        ],
        "coloraxis": {
         "colorbar": {
          "title": {
           "text": "Percentage (%)"
          }
         }
        },
        "template": {
         "data": {
          "bar": [
           {
            "error_x": {
             "color": "#2a3f5f"
            },
            "error_y": {
             "color": "#2a3f5f"
            },
            "marker": {
             "line": {
              "color": "#E5ECF6",
              "width": 0.5
             },
             "pattern": {
              "fillmode": "overlay",
              "size": 10,
              "solidity": 0.2
             }
            },
            "type": "bar"
           }
          ],
          "barpolar": [
           {
            "marker": {
             "line": {
              "color": "#E5ECF6",
              "width": 0.5
             },
             "pattern": {
              "fillmode": "overlay",
              "size": 10,
              "solidity": 0.2
             }
            },
            "type": "barpolar"
           }
          ],
          "carpet": [
           {
            "aaxis": {
             "endlinecolor": "#2a3f5f",
             "gridcolor": "white",
             "linecolor": "white",
             "minorgridcolor": "white",
             "startlinecolor": "#2a3f5f"
            },
            "baxis": {
             "endlinecolor": "#2a3f5f",
             "gridcolor": "white",
             "linecolor": "white",
             "minorgridcolor": "white",
             "startlinecolor": "#2a3f5f"
            },
            "type": "carpet"
           }
          ],
          "choropleth": [
           {
            "colorbar": {
             "outlinewidth": 0,
             "ticks": ""
            },
            "type": "choropleth"
           }
          ],
          "contour": [
           {
            "colorbar": {
             "outlinewidth": 0,
             "ticks": ""
            },
            "colorscale": [
             [
              0,
              "#0d0887"
             ],
             [
              0.1111111111111111,
              "#46039f"
             ],
             [
              0.2222222222222222,
              "#7201a8"
             ],
             [
              0.3333333333333333,
              "#9c179e"
             ],
             [
              0.4444444444444444,
              "#bd3786"
             ],
             [
              0.5555555555555556,
              "#d8576b"
             ],
             [
              0.6666666666666666,
              "#ed7953"
             ],
             [
              0.7777777777777778,
              "#fb9f3a"
             ],
             [
              0.8888888888888888,
              "#fdca26"
             ],
             [
              1,
              "#f0f921"
             ]
            ],
            "type": "contour"
           }
          ],
          "contourcarpet": [
           {
            "colorbar": {
             "outlinewidth": 0,
             "ticks": ""
            },
            "type": "contourcarpet"
           }
          ],
          "heatmap": [
           {
            "colorbar": {
             "outlinewidth": 0,
             "ticks": ""
            },
            "colorscale": [
             [
              0,
              "#0d0887"
             ],
             [
              0.1111111111111111,
              "#46039f"
             ],
             [
              0.2222222222222222,
              "#7201a8"
             ],
             [
              0.3333333333333333,
              "#9c179e"
             ],
             [
              0.4444444444444444,
              "#bd3786"
             ],
             [
              0.5555555555555556,
              "#d8576b"
             ],
             [
              0.6666666666666666,
              "#ed7953"
             ],
             [
              0.7777777777777778,
              "#fb9f3a"
             ],
             [
              0.8888888888888888,
              "#fdca26"
             ],
             [
              1,
              "#f0f921"
             ]
            ],
            "type": "heatmap"
           }
          ],
          "heatmapgl": [
           {
            "colorbar": {
             "outlinewidth": 0,
             "ticks": ""
            },
            "colorscale": [
             [
              0,
              "#0d0887"
             ],
             [
              0.1111111111111111,
              "#46039f"
             ],
             [
              0.2222222222222222,
              "#7201a8"
             ],
             [
              0.3333333333333333,
              "#9c179e"
             ],
             [
              0.4444444444444444,
              "#bd3786"
             ],
             [
              0.5555555555555556,
              "#d8576b"
             ],
             [
              0.6666666666666666,
              "#ed7953"
             ],
             [
              0.7777777777777778,
              "#fb9f3a"
             ],
             [
              0.8888888888888888,
              "#fdca26"
             ],
             [
              1,
              "#f0f921"
             ]
            ],
            "type": "heatmapgl"
           }
          ],
          "histogram": [
           {
            "marker": {
             "pattern": {
              "fillmode": "overlay",
              "size": 10,
              "solidity": 0.2
             }
            },
            "type": "histogram"
           }
          ],
          "histogram2d": [
           {
            "colorbar": {
             "outlinewidth": 0,
             "ticks": ""
            },
            "colorscale": [
             [
              0,
              "#0d0887"
             ],
             [
              0.1111111111111111,
              "#46039f"
             ],
             [
              0.2222222222222222,
              "#7201a8"
             ],
             [
              0.3333333333333333,
              "#9c179e"
             ],
             [
              0.4444444444444444,
              "#bd3786"
             ],
             [
              0.5555555555555556,
              "#d8576b"
             ],
             [
              0.6666666666666666,
              "#ed7953"
             ],
             [
              0.7777777777777778,
              "#fb9f3a"
             ],
             [
              0.8888888888888888,
              "#fdca26"
             ],
             [
              1,
              "#f0f921"
             ]
            ],
            "type": "histogram2d"
           }
          ],
          "histogram2dcontour": [
           {
            "colorbar": {
             "outlinewidth": 0,
             "ticks": ""
            },
            "colorscale": [
             [
              0,
              "#0d0887"
             ],
             [
              0.1111111111111111,
              "#46039f"
             ],
             [
              0.2222222222222222,
              "#7201a8"
             ],
             [
              0.3333333333333333,
              "#9c179e"
             ],
             [
              0.4444444444444444,
              "#bd3786"
             ],
             [
              0.5555555555555556,
              "#d8576b"
             ],
             [
              0.6666666666666666,
              "#ed7953"
             ],
             [
              0.7777777777777778,
              "#fb9f3a"
             ],
             [
              0.8888888888888888,
              "#fdca26"
             ],
             [
              1,
              "#f0f921"
             ]
            ],
            "type": "histogram2dcontour"
           }
          ],
          "mesh3d": [
           {
            "colorbar": {
             "outlinewidth": 0,
             "ticks": ""
            },
            "type": "mesh3d"
           }
          ],
          "parcoords": [
           {
            "line": {
             "colorbar": {
              "outlinewidth": 0,
              "ticks": ""
             }
            },
            "type": "parcoords"
           }
          ],
          "pie": [
           {
            "automargin": true,
            "type": "pie"
           }
          ],
          "scatter": [
           {
            "fillpattern": {
             "fillmode": "overlay",
             "size": 10,
             "solidity": 0.2
            },
            "type": "scatter"
           }
          ],
          "scatter3d": [
           {
            "line": {
             "colorbar": {
              "outlinewidth": 0,
              "ticks": ""
             }
            },
            "marker": {
             "colorbar": {
              "outlinewidth": 0,
              "ticks": ""
             }
            },
            "type": "scatter3d"
           }
          ],
          "scattercarpet": [
           {
            "marker": {
             "colorbar": {
              "outlinewidth": 0,
              "ticks": ""
             }
            },
            "type": "scattercarpet"
           }
          ],
          "scattergeo": [
           {
            "marker": {
             "colorbar": {
              "outlinewidth": 0,
              "ticks": ""
             }
            },
            "type": "scattergeo"
           }
          ],
          "scattergl": [
           {
            "marker": {
             "colorbar": {
              "outlinewidth": 0,
              "ticks": ""
             }
            },
            "type": "scattergl"
           }
          ],
          "scattermapbox": [
           {
            "marker": {
             "colorbar": {
              "outlinewidth": 0,
              "ticks": ""
             }
            },
            "type": "scattermapbox"
           }
          ],
          "scatterpolar": [
           {
            "marker": {
             "colorbar": {
              "outlinewidth": 0,
              "ticks": ""
             }
            },
            "type": "scatterpolar"
           }
          ],
          "scatterpolargl": [
           {
            "marker": {
             "colorbar": {
              "outlinewidth": 0,
              "ticks": ""
             }
            },
            "type": "scatterpolargl"
           }
          ],
          "scatterternary": [
           {
            "marker": {
             "colorbar": {
              "outlinewidth": 0,
              "ticks": ""
             }
            },
            "type": "scatterternary"
           }
          ],
          "surface": [
           {
            "colorbar": {
             "outlinewidth": 0,
             "ticks": ""
            },
            "colorscale": [
             [
              0,
              "#0d0887"
             ],
             [
              0.1111111111111111,
              "#46039f"
             ],
             [
              0.2222222222222222,
              "#7201a8"
             ],
             [
              0.3333333333333333,
              "#9c179e"
             ],
             [
              0.4444444444444444,
              "#bd3786"
             ],
             [
              0.5555555555555556,
              "#d8576b"
             ],
             [
              0.6666666666666666,
              "#ed7953"
             ],
             [
              0.7777777777777778,
              "#fb9f3a"
             ],
             [
              0.8888888888888888,
              "#fdca26"
             ],
             [
              1,
              "#f0f921"
             ]
            ],
            "type": "surface"
           }
          ],
          "table": [
           {
            "cells": {
             "fill": {
              "color": "#EBF0F8"
             },
             "line": {
              "color": "white"
             }
            },
            "header": {
             "fill": {
              "color": "#C8D4E3"
             },
             "line": {
              "color": "white"
             }
            },
            "type": "table"
           }
          ]
         },
         "layout": {
          "annotationdefaults": {
           "arrowcolor": "#2a3f5f",
           "arrowhead": 0,
           "arrowwidth": 1
          },
          "autotypenumbers": "strict",
          "coloraxis": {
           "colorbar": {
            "outlinewidth": 0,
            "ticks": ""
           }
          },
          "colorscale": {
           "diverging": [
            [
             0,
             "#8e0152"
            ],
            [
             0.1,
             "#c51b7d"
            ],
            [
             0.2,
             "#de77ae"
            ],
            [
             0.3,
             "#f1b6da"
            ],
            [
             0.4,
             "#fde0ef"
            ],
            [
             0.5,
             "#f7f7f7"
            ],
            [
             0.6,
             "#e6f5d0"
            ],
            [
             0.7,
             "#b8e186"
            ],
            [
             0.8,
             "#7fbc41"
            ],
            [
             0.9,
             "#4d9221"
            ],
            [
             1,
             "#276419"
            ]
           ],
           "sequential": [
            [
             0,
             "#0d0887"
            ],
            [
             0.1111111111111111,
             "#46039f"
            ],
            [
             0.2222222222222222,
             "#7201a8"
            ],
            [
             0.3333333333333333,
             "#9c179e"
            ],
            [
             0.4444444444444444,
             "#bd3786"
            ],
            [
             0.5555555555555556,
             "#d8576b"
            ],
            [
             0.6666666666666666,
             "#ed7953"
            ],
            [
             0.7777777777777778,
             "#fb9f3a"
            ],
            [
             0.8888888888888888,
             "#fdca26"
            ],
            [
             1,
             "#f0f921"
            ]
           ],
           "sequentialminus": [
            [
             0,
             "#0d0887"
            ],
            [
             0.1111111111111111,
             "#46039f"
            ],
            [
             0.2222222222222222,
             "#7201a8"
            ],
            [
             0.3333333333333333,
             "#9c179e"
            ],
            [
             0.4444444444444444,
             "#bd3786"
            ],
            [
             0.5555555555555556,
             "#d8576b"
            ],
            [
             0.6666666666666666,
             "#ed7953"
            ],
            [
             0.7777777777777778,
             "#fb9f3a"
            ],
            [
             0.8888888888888888,
             "#fdca26"
            ],
            [
             1,
             "#f0f921"
            ]
           ]
          },
          "colorway": [
           "#636efa",
           "#EF553B",
           "#00cc96",
           "#ab63fa",
           "#FFA15A",
           "#19d3f3",
           "#FF6692",
           "#B6E880",
           "#FF97FF",
           "#FECB52"
          ],
          "font": {
           "color": "#2a3f5f"
          },
          "geo": {
           "bgcolor": "white",
           "lakecolor": "white",
           "landcolor": "#E5ECF6",
           "showlakes": true,
           "showland": true,
           "subunitcolor": "white"
          },
          "hoverlabel": {
           "align": "left"
          },
          "hovermode": "closest",
          "mapbox": {
           "style": "light"
          },
          "paper_bgcolor": "white",
          "plot_bgcolor": "#E5ECF6",
          "polar": {
           "angularaxis": {
            "gridcolor": "white",
            "linecolor": "white",
            "ticks": ""
           },
           "bgcolor": "#E5ECF6",
           "radialaxis": {
            "gridcolor": "white",
            "linecolor": "white",
            "ticks": ""
           }
          },
          "scene": {
           "xaxis": {
            "backgroundcolor": "#E5ECF6",
            "gridcolor": "white",
            "gridwidth": 2,
            "linecolor": "white",
            "showbackground": true,
            "ticks": "",
            "zerolinecolor": "white"
           },
           "yaxis": {
            "backgroundcolor": "#E5ECF6",
            "gridcolor": "white",
            "gridwidth": 2,
            "linecolor": "white",
            "showbackground": true,
            "ticks": "",
            "zerolinecolor": "white"
           },
           "zaxis": {
            "backgroundcolor": "#E5ECF6",
            "gridcolor": "white",
            "gridwidth": 2,
            "linecolor": "white",
            "showbackground": true,
            "ticks": "",
            "zerolinecolor": "white"
           }
          },
          "shapedefaults": {
           "line": {
            "color": "#2a3f5f"
           }
          },
          "ternary": {
           "aaxis": {
            "gridcolor": "white",
            "linecolor": "white",
            "ticks": ""
           },
           "baxis": {
            "gridcolor": "white",
            "linecolor": "white",
            "ticks": ""
           },
           "bgcolor": "#E5ECF6",
           "caxis": {
            "gridcolor": "white",
            "linecolor": "white",
            "ticks": ""
           }
          },
          "title": {
           "x": 0.05
          },
          "xaxis": {
           "automargin": true,
           "gridcolor": "white",
           "linecolor": "white",
           "ticks": "",
           "title": {
            "standoff": 15
           },
           "zerolinecolor": "white",
           "zerolinewidth": 2
          },
          "yaxis": {
           "automargin": true,
           "gridcolor": "white",
           "linecolor": "white",
           "ticks": "",
           "title": {
            "standoff": 15
           },
           "zerolinecolor": "white",
           "zerolinewidth": 2
          }
         }
        },
        "title": {
         "text": "Confusion Matrix (Normalized)"
        },
        "xaxis": {
         "dtick": 1,
         "gridcolor": "rgb(0, 0, 0)",
         "side": "top",
         "ticks": "",
         "title": {
          "text": "Predicted Label"
         }
        },
        "yaxis": {
         "dtick": 1,
         "ticks": "",
         "ticksuffix": "  ",
         "title": {
          "text": "True Label"
         }
        }
       }
      }
     },
     "metadata": {},
     "output_type": "display_data"
    }
   ],
   "source": [
    "\n",
    "# Compute the confusion matrix\n",
    "conf_matrix = confusion_matrix(filtered_labels_test, y_test_pred)\n",
    "\n",
    "# Normalize the confusion matrix\n",
    "conf_matrix_normalized = conf_matrix.astype('float') / conf_matrix.sum(axis=1)[:, np.newaxis]\n",
    "\n",
    "\n",
    "conf_matrix_percentage = conf_matrix_normalized * 100\n",
    "\n",
    "labels = sorted(set(filtered_labels_test))\n",
    "\n",
    "# Custom colorscale\n",
    "red_to_green_colorscale = [\n",
    "    [0.0, 'red'],  # red for 0%\n",
    "    [0.5, 'yellow'],  # yellow for 50%\n",
    "    [1.0, 'green']  # green for 100%\n",
    "]\n",
    "\n",
    "# Heatmap\n",
    "fig = ff.create_annotated_heatmap(\n",
    "    z=conf_matrix_percentage, \n",
    "    x=labels, \n",
    "    y=labels, \n",
    "    colorscale=red_to_green_colorscale,\n",
    "    annotation_text=np.around(conf_matrix_percentage, decimals=2).astype(str),\n",
    "    showscale=True\n",
    ")\n",
    "\n",
    "fig.update_layout(\n",
    "    title='Confusion Matrix (Normalized)',\n",
    "    xaxis=dict(title='Predicted Label'),\n",
    "    yaxis=dict(title='True Label'),\n",
    "    coloraxis_colorbar=dict(\n",
    "        title='Percentage (%)'\n",
    "    )\n",
    ")\n",
    "\n",
    "fig.show()\n"
   ]
  },
  {
   "cell_type": "code",
   "execution_count": 16,
   "metadata": {},
   "outputs": [
    {
     "data": {
      "application/vnd.plotly.v1+json": {
       "config": {
        "plotlyServerURL": "https://plot.ly"
       },
       "data": [
        {
         "mode": "lines",
         "name": "ROC Curve (area = 0.87)",
         "type": "scatter",
         "x": [
          0,
          0,
          0,
          0,
          0,
          0,
          0,
          0,
          0,
          0,
          0,
          0,
          0,
          0,
          0,
          0,
          0,
          0,
          0,
          0,
          0.002457002457002457,
          0.002457002457002457,
          0.002457002457002457,
          0.002457002457002457,
          0.002457002457002457,
          0.007371007371007371,
          0.007371007371007371,
          0.009828009828009828,
          0.012285012285012284,
          0.012285012285012284,
          0.012285012285012284,
          0.012285012285012284,
          0.012285012285012284,
          0.012285012285012284,
          0.0171990171990172,
          0.0171990171990172,
          0.019656019656019656,
          0.019656019656019656,
          0.02457002457002457,
          0.02457002457002457,
          0.029484029484029485,
          0.029484029484029485,
          0.03194103194103194,
          0.03194103194103194,
          0.0343980343980344,
          0.0343980343980344,
          0.03931203931203931,
          0.03931203931203931,
          0.04176904176904177,
          0.04668304668304668,
          0.04914004914004914,
          0.04914004914004914,
          0.05405405405405406,
          0.05405405405405406,
          0.05405405405405406,
          0.05405405405405406,
          0.056511056511056514,
          0.056511056511056514,
          0.05896805896805897,
          0.06388206388206388,
          0.06633906633906633,
          0.06633906633906633,
          0.07125307125307126,
          0.07125307125307126,
          0.07616707616707617,
          0.07616707616707617,
          0.08108108108108109,
          0.10073710073710074,
          0.10073710073710074,
          0.10073710073710074,
          0.10073710073710074,
          0.10319410319410319,
          0.10319410319410319,
          0.10565110565110565,
          0.10565110565110565,
          0.10565110565110565,
          0.10810810810810811,
          0.10810810810810811,
          0.11302211302211303,
          0.11302211302211303,
          0.11793611793611794,
          0.11793611793611794,
          0.12285012285012285,
          0.12285012285012285,
          0.12776412776412777,
          0.13513513513513514,
          0.1375921375921376,
          0.1375921375921376,
          0.14004914004914004,
          0.14004914004914004,
          0.14250614250614252,
          0.14250614250614252,
          0.14742014742014742,
          0.14742014742014742,
          0.15233415233415235,
          0.1547911547911548,
          0.1547911547911548,
          0.171990171990172,
          0.171990171990172,
          0.1769041769041769,
          0.18181818181818182,
          0.18181818181818182,
          0.18427518427518427,
          0.18673218673218672,
          0.18673218673218672,
          0.1891891891891892,
          0.19656019656019655,
          0.19656019656019655,
          0.2113022113022113,
          0.21621621621621623,
          0.21867321867321868,
          0.22358722358722358,
          0.2285012285012285,
          0.23095823095823095,
          0.23832923832923833,
          0.23832923832923833,
          0.2457002457002457,
          0.2457002457002457,
          0.24815724815724816,
          0.24815724815724816,
          0.25552825552825553,
          0.25552825552825553,
          0.25552825552825553,
          0.26044226044226043,
          0.29484029484029484,
          0.29975429975429974,
          0.3095823095823096,
          0.31203931203931207,
          0.31695331695331697,
          0.31695331695331697,
          0.3194103194103194,
          0.3316953316953317,
          0.3316953316953317,
          0.33906633906633904,
          0.343980343980344,
          0.343980343980344,
          0.3488943488943489,
          0.3538083538083538,
          0.35872235872235875,
          0.3931203931203931,
          0.3931203931203931,
          0.40786240786240785,
          0.40786240786240785,
          0.4226044226044226,
          0.44226044226044225,
          0.44226044226044225,
          0.44471744471744473,
          0.44471744471744473,
          0.45454545454545453,
          0.457002457002457,
          0.4594594594594595,
          0.4643734643734644,
          0.4668304668304668,
          0.47174447174447176,
          0.47174447174447176,
          0.47911547911547914,
          0.47911547911547914,
          0.48894348894348894,
          0.48894348894348894,
          0.49385749385749383,
          0.4987714987714988,
          0.5036855036855037,
          0.5036855036855037,
          0.5110565110565111,
          0.515970515970516,
          0.5208845208845209,
          0.5208845208845209,
          0.5233415233415234,
          0.5233415233415234,
          0.542997542997543,
          0.5503685503685504,
          0.5601965601965602,
          0.5651105651105651,
          0.597051597051597,
          0.597051597051597,
          0.6142506142506142,
          0.6142506142506142,
          0.6167076167076168,
          0.6167076167076168,
          0.6339066339066339,
          0.6339066339066339,
          0.6363636363636364,
          0.6437346437346437,
          0.6511056511056511,
          0.6511056511056511,
          0.6658476658476659,
          0.6658476658476659,
          0.6953316953316954,
          0.7002457002457002,
          0.7027027027027027,
          0.7027027027027027,
          0.7076167076167076,
          0.7100737100737101,
          0.714987714987715,
          0.714987714987715,
          0.7223587223587223,
          0.7272727272727273,
          0.7321867321867321,
          0.7321867321867321,
          0.7395577395577395,
          0.7395577395577395,
          0.7518427518427518,
          0.7567567567567568,
          0.7837837837837838,
          0.7911547911547911,
          0.7960687960687961,
          0.7960687960687961,
          0.7985257985257985,
          0.800982800982801,
          0.8058968058968059,
          0.8083538083538083,
          0.8083538083538083,
          0.8181818181818182,
          0.8304668304668305,
          0.8402948402948403,
          0.855036855036855,
          0.85995085995086,
          0.8648648648648649,
          0.8697788697788698,
          0.8722358722358723,
          0.8796068796068796,
          0.8820638820638821,
          0.8820638820638821,
          0.8968058968058968,
          0.9066339066339066,
          0.9164619164619164,
          0.9213759213759214,
          0.9238329238329238,
          0.9287469287469288,
          0.9312039312039312,
          0.9361179361179361,
          0.972972972972973,
          0.972972972972973,
          0.9803439803439803,
          1
         ],
         "y": [
          0,
          0.0029940119760479044,
          0.09281437125748503,
          0.09880239520958084,
          0.12275449101796407,
          0.12874251497005987,
          0.1347305389221557,
          0.1437125748502994,
          0.15868263473053892,
          0.17065868263473055,
          0.20359281437125748,
          0.20958083832335328,
          0.218562874251497,
          0.2964071856287425,
          0.3023952095808383,
          0.30538922155688625,
          0.31137724550898205,
          0.3203592814371258,
          0.3263473053892216,
          0.3323353293413174,
          0.33532934131736525,
          0.3413173652694611,
          0.38622754491017963,
          0.39221556886227543,
          0.4041916167664671,
          0.4041916167664671,
          0.4311377245508982,
          0.4311377245508982,
          0.4341317365269461,
          0.44011976047904194,
          0.4550898203592814,
          0.45808383233532934,
          0.47604790419161674,
          0.4820359281437126,
          0.4880239520958084,
          0.49101796407185627,
          0.49101796407185627,
          0.5059880239520959,
          0.5059880239520959,
          0.5089820359281437,
          0.5089820359281437,
          0.5149700598802395,
          0.5149700598802395,
          0.5179640718562875,
          0.5179640718562875,
          0.5209580838323353,
          0.5209580838323353,
          0.5239520958083832,
          0.5239520958083832,
          0.5239520958083832,
          0.5239520958083832,
          0.5508982035928144,
          0.5508982035928144,
          0.5538922155688623,
          0.562874251497006,
          0.5688622754491018,
          0.5688622754491018,
          0.5718562874251497,
          0.5718562874251497,
          0.5748502994011976,
          0.5778443113772455,
          0.5808383233532934,
          0.5808383233532934,
          0.6077844311377245,
          0.6077844311377245,
          0.625748502994012,
          0.625748502994012,
          0.6317365269461078,
          0.6437125748502994,
          0.6497005988023952,
          0.655688622754491,
          0.655688622754491,
          0.6736526946107785,
          0.6796407185628742,
          0.6856287425149701,
          0.6946107784431138,
          0.6946107784431138,
          0.6976047904191617,
          0.6976047904191617,
          0.7065868263473054,
          0.7065868263473054,
          0.7125748502994012,
          0.7125748502994012,
          0.718562874251497,
          0.718562874251497,
          0.718562874251497,
          0.718562874251497,
          0.7245508982035929,
          0.7245508982035929,
          0.7335329341317365,
          0.7335329341317365,
          0.7395209580838323,
          0.7395209580838323,
          0.7455089820359282,
          0.7455089820359282,
          0.7455089820359282,
          0.7514970059880239,
          0.7514970059880239,
          0.7544910179640718,
          0.7544910179640718,
          0.7544910179640718,
          0.7574850299401198,
          0.7574850299401198,
          0.7604790419161677,
          0.7634730538922155,
          0.7634730538922155,
          0.7634730538922155,
          0.7724550898203593,
          0.7724550898203593,
          0.7724550898203593,
          0.7754491017964071,
          0.7754491017964071,
          0.7754491017964071,
          0.7784431137724551,
          0.7784431137724551,
          0.781437125748503,
          0.7844311377245509,
          0.7874251497005988,
          0.7874251497005988,
          0.7904191616766467,
          0.7904191616766467,
          0.7964071856287425,
          0.8023952095808383,
          0.8023952095808383,
          0.8323353293413174,
          0.8323353293413174,
          0.844311377245509,
          0.8532934131736527,
          0.8532934131736527,
          0.8562874251497006,
          0.8562874251497006,
          0.8592814371257484,
          0.8622754491017964,
          0.8622754491017964,
          0.8622754491017964,
          0.8652694610778443,
          0.8652694610778443,
          0.8652694610778443,
          0.8652694610778443,
          0.8952095808383234,
          0.8982035928143712,
          0.8982035928143712,
          0.9011976047904192,
          0.9101796407185628,
          0.9101796407185628,
          0.9131736526946108,
          0.9131736526946108,
          0.9161676646706587,
          0.9161676646706587,
          0.9191616766467066,
          0.9191616766467066,
          0.9191616766467066,
          0.9191616766467066,
          0.9191616766467066,
          0.9221556886227545,
          0.9221556886227545,
          0.9251497005988024,
          0.9251497005988024,
          0.9281437125748503,
          0.9281437125748503,
          0.9281437125748503,
          0.9281437125748503,
          0.9311377245508982,
          0.9311377245508982,
          0.9311377245508982,
          0.9311377245508982,
          0.9341317365269461,
          0.9341317365269461,
          0.937125748502994,
          0.937125748502994,
          0.937125748502994,
          0.937125748502994,
          0.9431137724550899,
          0.9431137724550899,
          0.9461077844311377,
          0.9461077844311377,
          0.9491017964071856,
          0.9491017964071856,
          0.9520958083832335,
          0.9520958083832335,
          0.9550898203592815,
          0.9550898203592815,
          0.9550898203592815,
          0.9550898203592815,
          0.9610778443113772,
          0.9610778443113772,
          0.9640718562874252,
          0.9640718562874252,
          0.9640718562874252,
          0.9640718562874252,
          0.9670658682634731,
          0.9670658682634731,
          0.9670658682634731,
          0.9700598802395209,
          0.9760479041916168,
          0.9760479041916168,
          0.9760479041916168,
          0.9760479041916168,
          0.9790419161676647,
          0.9790419161676647,
          0.9820359281437125,
          0.9820359281437125,
          0.9820359281437125,
          0.9820359281437125,
          0.9820359281437125,
          0.9820359281437125,
          0.9850299401197605,
          0.9880239520958084,
          0.9880239520958084,
          0.9880239520958084,
          0.9880239520958084,
          0.9910179640718563,
          0.9910179640718563,
          0.9910179640718563,
          0.9910179640718563,
          0.9910179640718563,
          0.9910179640718563,
          0.9910179640718563,
          0.9910179640718563,
          0.9910179640718563,
          0.9910179640718563,
          0.9910179640718563,
          0.9970059880239521,
          0.9970059880239521,
          0.9970059880239521,
          0.9970059880239521,
          0.9970059880239521,
          0.9970059880239521,
          0.9970059880239521,
          0.9970059880239521,
          0.9970059880239521,
          0.9970059880239521,
          1,
          1,
          1
         ]
        },
        {
         "line": {
          "dash": "dash"
         },
         "mode": "lines",
         "showlegend": false,
         "type": "scatter",
         "x": [
          0,
          1
         ],
         "y": [
          0,
          1
         ]
        }
       ],
       "layout": {
        "legend": {
         "xanchor": "right",
         "yanchor": "bottom"
        },
        "template": {
         "data": {
          "bar": [
           {
            "error_x": {
             "color": "#2a3f5f"
            },
            "error_y": {
             "color": "#2a3f5f"
            },
            "marker": {
             "line": {
              "color": "#E5ECF6",
              "width": 0.5
             },
             "pattern": {
              "fillmode": "overlay",
              "size": 10,
              "solidity": 0.2
             }
            },
            "type": "bar"
           }
          ],
          "barpolar": [
           {
            "marker": {
             "line": {
              "color": "#E5ECF6",
              "width": 0.5
             },
             "pattern": {
              "fillmode": "overlay",
              "size": 10,
              "solidity": 0.2
             }
            },
            "type": "barpolar"
           }
          ],
          "carpet": [
           {
            "aaxis": {
             "endlinecolor": "#2a3f5f",
             "gridcolor": "white",
             "linecolor": "white",
             "minorgridcolor": "white",
             "startlinecolor": "#2a3f5f"
            },
            "baxis": {
             "endlinecolor": "#2a3f5f",
             "gridcolor": "white",
             "linecolor": "white",
             "minorgridcolor": "white",
             "startlinecolor": "#2a3f5f"
            },
            "type": "carpet"
           }
          ],
          "choropleth": [
           {
            "colorbar": {
             "outlinewidth": 0,
             "ticks": ""
            },
            "type": "choropleth"
           }
          ],
          "contour": [
           {
            "colorbar": {
             "outlinewidth": 0,
             "ticks": ""
            },
            "colorscale": [
             [
              0,
              "#0d0887"
             ],
             [
              0.1111111111111111,
              "#46039f"
             ],
             [
              0.2222222222222222,
              "#7201a8"
             ],
             [
              0.3333333333333333,
              "#9c179e"
             ],
             [
              0.4444444444444444,
              "#bd3786"
             ],
             [
              0.5555555555555556,
              "#d8576b"
             ],
             [
              0.6666666666666666,
              "#ed7953"
             ],
             [
              0.7777777777777778,
              "#fb9f3a"
             ],
             [
              0.8888888888888888,
              "#fdca26"
             ],
             [
              1,
              "#f0f921"
             ]
            ],
            "type": "contour"
           }
          ],
          "contourcarpet": [
           {
            "colorbar": {
             "outlinewidth": 0,
             "ticks": ""
            },
            "type": "contourcarpet"
           }
          ],
          "heatmap": [
           {
            "colorbar": {
             "outlinewidth": 0,
             "ticks": ""
            },
            "colorscale": [
             [
              0,
              "#0d0887"
             ],
             [
              0.1111111111111111,
              "#46039f"
             ],
             [
              0.2222222222222222,
              "#7201a8"
             ],
             [
              0.3333333333333333,
              "#9c179e"
             ],
             [
              0.4444444444444444,
              "#bd3786"
             ],
             [
              0.5555555555555556,
              "#d8576b"
             ],
             [
              0.6666666666666666,
              "#ed7953"
             ],
             [
              0.7777777777777778,
              "#fb9f3a"
             ],
             [
              0.8888888888888888,
              "#fdca26"
             ],
             [
              1,
              "#f0f921"
             ]
            ],
            "type": "heatmap"
           }
          ],
          "heatmapgl": [
           {
            "colorbar": {
             "outlinewidth": 0,
             "ticks": ""
            },
            "colorscale": [
             [
              0,
              "#0d0887"
             ],
             [
              0.1111111111111111,
              "#46039f"
             ],
             [
              0.2222222222222222,
              "#7201a8"
             ],
             [
              0.3333333333333333,
              "#9c179e"
             ],
             [
              0.4444444444444444,
              "#bd3786"
             ],
             [
              0.5555555555555556,
              "#d8576b"
             ],
             [
              0.6666666666666666,
              "#ed7953"
             ],
             [
              0.7777777777777778,
              "#fb9f3a"
             ],
             [
              0.8888888888888888,
              "#fdca26"
             ],
             [
              1,
              "#f0f921"
             ]
            ],
            "type": "heatmapgl"
           }
          ],
          "histogram": [
           {
            "marker": {
             "pattern": {
              "fillmode": "overlay",
              "size": 10,
              "solidity": 0.2
             }
            },
            "type": "histogram"
           }
          ],
          "histogram2d": [
           {
            "colorbar": {
             "outlinewidth": 0,
             "ticks": ""
            },
            "colorscale": [
             [
              0,
              "#0d0887"
             ],
             [
              0.1111111111111111,
              "#46039f"
             ],
             [
              0.2222222222222222,
              "#7201a8"
             ],
             [
              0.3333333333333333,
              "#9c179e"
             ],
             [
              0.4444444444444444,
              "#bd3786"
             ],
             [
              0.5555555555555556,
              "#d8576b"
             ],
             [
              0.6666666666666666,
              "#ed7953"
             ],
             [
              0.7777777777777778,
              "#fb9f3a"
             ],
             [
              0.8888888888888888,
              "#fdca26"
             ],
             [
              1,
              "#f0f921"
             ]
            ],
            "type": "histogram2d"
           }
          ],
          "histogram2dcontour": [
           {
            "colorbar": {
             "outlinewidth": 0,
             "ticks": ""
            },
            "colorscale": [
             [
              0,
              "#0d0887"
             ],
             [
              0.1111111111111111,
              "#46039f"
             ],
             [
              0.2222222222222222,
              "#7201a8"
             ],
             [
              0.3333333333333333,
              "#9c179e"
             ],
             [
              0.4444444444444444,
              "#bd3786"
             ],
             [
              0.5555555555555556,
              "#d8576b"
             ],
             [
              0.6666666666666666,
              "#ed7953"
             ],
             [
              0.7777777777777778,
              "#fb9f3a"
             ],
             [
              0.8888888888888888,
              "#fdca26"
             ],
             [
              1,
              "#f0f921"
             ]
            ],
            "type": "histogram2dcontour"
           }
          ],
          "mesh3d": [
           {
            "colorbar": {
             "outlinewidth": 0,
             "ticks": ""
            },
            "type": "mesh3d"
           }
          ],
          "parcoords": [
           {
            "line": {
             "colorbar": {
              "outlinewidth": 0,
              "ticks": ""
             }
            },
            "type": "parcoords"
           }
          ],
          "pie": [
           {
            "automargin": true,
            "type": "pie"
           }
          ],
          "scatter": [
           {
            "fillpattern": {
             "fillmode": "overlay",
             "size": 10,
             "solidity": 0.2
            },
            "type": "scatter"
           }
          ],
          "scatter3d": [
           {
            "line": {
             "colorbar": {
              "outlinewidth": 0,
              "ticks": ""
             }
            },
            "marker": {
             "colorbar": {
              "outlinewidth": 0,
              "ticks": ""
             }
            },
            "type": "scatter3d"
           }
          ],
          "scattercarpet": [
           {
            "marker": {
             "colorbar": {
              "outlinewidth": 0,
              "ticks": ""
             }
            },
            "type": "scattercarpet"
           }
          ],
          "scattergeo": [
           {
            "marker": {
             "colorbar": {
              "outlinewidth": 0,
              "ticks": ""
             }
            },
            "type": "scattergeo"
           }
          ],
          "scattergl": [
           {
            "marker": {
             "colorbar": {
              "outlinewidth": 0,
              "ticks": ""
             }
            },
            "type": "scattergl"
           }
          ],
          "scattermapbox": [
           {
            "marker": {
             "colorbar": {
              "outlinewidth": 0,
              "ticks": ""
             }
            },
            "type": "scattermapbox"
           }
          ],
          "scatterpolar": [
           {
            "marker": {
             "colorbar": {
              "outlinewidth": 0,
              "ticks": ""
             }
            },
            "type": "scatterpolar"
           }
          ],
          "scatterpolargl": [
           {
            "marker": {
             "colorbar": {
              "outlinewidth": 0,
              "ticks": ""
             }
            },
            "type": "scatterpolargl"
           }
          ],
          "scatterternary": [
           {
            "marker": {
             "colorbar": {
              "outlinewidth": 0,
              "ticks": ""
             }
            },
            "type": "scatterternary"
           }
          ],
          "surface": [
           {
            "colorbar": {
             "outlinewidth": 0,
             "ticks": ""
            },
            "colorscale": [
             [
              0,
              "#0d0887"
             ],
             [
              0.1111111111111111,
              "#46039f"
             ],
             [
              0.2222222222222222,
              "#7201a8"
             ],
             [
              0.3333333333333333,
              "#9c179e"
             ],
             [
              0.4444444444444444,
              "#bd3786"
             ],
             [
              0.5555555555555556,
              "#d8576b"
             ],
             [
              0.6666666666666666,
              "#ed7953"
             ],
             [
              0.7777777777777778,
              "#fb9f3a"
             ],
             [
              0.8888888888888888,
              "#fdca26"
             ],
             [
              1,
              "#f0f921"
             ]
            ],
            "type": "surface"
           }
          ],
          "table": [
           {
            "cells": {
             "fill": {
              "color": "#EBF0F8"
             },
             "line": {
              "color": "white"
             }
            },
            "header": {
             "fill": {
              "color": "#C8D4E3"
             },
             "line": {
              "color": "white"
             }
            },
            "type": "table"
           }
          ]
         },
         "layout": {
          "annotationdefaults": {
           "arrowcolor": "#2a3f5f",
           "arrowhead": 0,
           "arrowwidth": 1
          },
          "autotypenumbers": "strict",
          "coloraxis": {
           "colorbar": {
            "outlinewidth": 0,
            "ticks": ""
           }
          },
          "colorscale": {
           "diverging": [
            [
             0,
             "#8e0152"
            ],
            [
             0.1,
             "#c51b7d"
            ],
            [
             0.2,
             "#de77ae"
            ],
            [
             0.3,
             "#f1b6da"
            ],
            [
             0.4,
             "#fde0ef"
            ],
            [
             0.5,
             "#f7f7f7"
            ],
            [
             0.6,
             "#e6f5d0"
            ],
            [
             0.7,
             "#b8e186"
            ],
            [
             0.8,
             "#7fbc41"
            ],
            [
             0.9,
             "#4d9221"
            ],
            [
             1,
             "#276419"
            ]
           ],
           "sequential": [
            [
             0,
             "#0d0887"
            ],
            [
             0.1111111111111111,
             "#46039f"
            ],
            [
             0.2222222222222222,
             "#7201a8"
            ],
            [
             0.3333333333333333,
             "#9c179e"
            ],
            [
             0.4444444444444444,
             "#bd3786"
            ],
            [
             0.5555555555555556,
             "#d8576b"
            ],
            [
             0.6666666666666666,
             "#ed7953"
            ],
            [
             0.7777777777777778,
             "#fb9f3a"
            ],
            [
             0.8888888888888888,
             "#fdca26"
            ],
            [
             1,
             "#f0f921"
            ]
           ],
           "sequentialminus": [
            [
             0,
             "#0d0887"
            ],
            [
             0.1111111111111111,
             "#46039f"
            ],
            [
             0.2222222222222222,
             "#7201a8"
            ],
            [
             0.3333333333333333,
             "#9c179e"
            ],
            [
             0.4444444444444444,
             "#bd3786"
            ],
            [
             0.5555555555555556,
             "#d8576b"
            ],
            [
             0.6666666666666666,
             "#ed7953"
            ],
            [
             0.7777777777777778,
             "#fb9f3a"
            ],
            [
             0.8888888888888888,
             "#fdca26"
            ],
            [
             1,
             "#f0f921"
            ]
           ]
          },
          "colorway": [
           "#636efa",
           "#EF553B",
           "#00cc96",
           "#ab63fa",
           "#FFA15A",
           "#19d3f3",
           "#FF6692",
           "#B6E880",
           "#FF97FF",
           "#FECB52"
          ],
          "font": {
           "color": "#2a3f5f"
          },
          "geo": {
           "bgcolor": "white",
           "lakecolor": "white",
           "landcolor": "#E5ECF6",
           "showlakes": true,
           "showland": true,
           "subunitcolor": "white"
          },
          "hoverlabel": {
           "align": "left"
          },
          "hovermode": "closest",
          "mapbox": {
           "style": "light"
          },
          "paper_bgcolor": "white",
          "plot_bgcolor": "#E5ECF6",
          "polar": {
           "angularaxis": {
            "gridcolor": "white",
            "linecolor": "white",
            "ticks": ""
           },
           "bgcolor": "#E5ECF6",
           "radialaxis": {
            "gridcolor": "white",
            "linecolor": "white",
            "ticks": ""
           }
          },
          "scene": {
           "xaxis": {
            "backgroundcolor": "#E5ECF6",
            "gridcolor": "white",
            "gridwidth": 2,
            "linecolor": "white",
            "showbackground": true,
            "ticks": "",
            "zerolinecolor": "white"
           },
           "yaxis": {
            "backgroundcolor": "#E5ECF6",
            "gridcolor": "white",
            "gridwidth": 2,
            "linecolor": "white",
            "showbackground": true,
            "ticks": "",
            "zerolinecolor": "white"
           },
           "zaxis": {
            "backgroundcolor": "#E5ECF6",
            "gridcolor": "white",
            "gridwidth": 2,
            "linecolor": "white",
            "showbackground": true,
            "ticks": "",
            "zerolinecolor": "white"
           }
          },
          "shapedefaults": {
           "line": {
            "color": "#2a3f5f"
           }
          },
          "ternary": {
           "aaxis": {
            "gridcolor": "white",
            "linecolor": "white",
            "ticks": ""
           },
           "baxis": {
            "gridcolor": "white",
            "linecolor": "white",
            "ticks": ""
           },
           "bgcolor": "#E5ECF6",
           "caxis": {
            "gridcolor": "white",
            "linecolor": "white",
            "ticks": ""
           }
          },
          "title": {
           "x": 0.05
          },
          "xaxis": {
           "automargin": true,
           "gridcolor": "white",
           "linecolor": "white",
           "ticks": "",
           "title": {
            "standoff": 15
           },
           "zerolinecolor": "white",
           "zerolinewidth": 2
          },
          "yaxis": {
           "automargin": true,
           "gridcolor": "white",
           "linecolor": "white",
           "ticks": "",
           "title": {
            "standoff": 15
           },
           "zerolinecolor": "white",
           "zerolinewidth": 2
          }
         }
        },
        "title": {
         "text": "Receiver Operating Characteristic (ROC) Curve"
        },
        "xaxis": {
         "constrain": "domain",
         "scaleanchor": "y",
         "scaleratio": 1,
         "title": {
          "text": "False Positive Rate"
         }
        },
        "yaxis": {
         "constrain": "domain",
         "scaleanchor": "x",
         "scaleratio": 1,
         "title": {
          "text": "True Positive Rate"
         }
        }
       }
      }
     },
     "metadata": {},
     "output_type": "display_data"
    }
   ],
   "source": [
    "from sklearn.preprocessing import LabelBinarizer\n",
    "from sklearn.metrics import roc_curve, roc_auc_score\n",
    "import plotly.graph_objs as go\n",
    "\n",
    "# Convert string labels to binary\n",
    "binarizer = LabelBinarizer()\n",
    "binary_filtered_labels_test = binarizer.fit_transform(filtered_labels_test).ravel()\n",
    "\n",
    "y_scores = pipeline_nb.predict_proba(filtered_utterances_test)[:, 1]\n",
    "\n",
    "# ROC curve data points\n",
    "fpr, tpr, thresholds = roc_curve(binary_filtered_labels_test, y_scores)\n",
    "\n",
    "# AUC score\n",
    "auc_score = roc_auc_score(binary_filtered_labels_test, y_scores)\n",
    "\n",
    "fig = go.Figure()\n",
    "\n",
    "# ROC curve trace\n",
    "fig.add_trace(go.Scatter(x=fpr, y=tpr, mode='lines', name=f'ROC Curve (area = {auc_score:.2f})'))\n",
    "\n",
    "# Line representing random guessing\n",
    "fig.add_trace(go.Scatter(x=[0, 1], y=[0, 1], mode='lines', showlegend=False, line=dict(dash='dash')))\n",
    "\n",
    "fig.update_layout(\n",
    "    title='Receiver Operating Characteristic (ROC) Curve',\n",
    "    xaxis_title='False Positive Rate',\n",
    "    yaxis_title='True Positive Rate',\n",
    "    xaxis=dict(scaleanchor=\"y\", scaleratio=1, constrain='domain'),\n",
    "    yaxis=dict(scaleanchor=\"x\", scaleratio=1, constrain='domain'),\n",
    "    legend=dict(yanchor=\"bottom\", xanchor=\"right\")\n",
    ")\n",
    "\n",
    "fig.show()\n"
   ]
  },
  {
   "cell_type": "code",
   "execution_count": 101,
   "metadata": {},
   "outputs": [
    {
     "name": "stdout",
     "output_type": "stream",
     "text": [
      "Model saved as saved_models\\finalized_model_domains_NB.joblib\n"
     ]
    }
   ],
   "source": [
    "# Save the model as a checkpoint\n",
    "model_filename = 'saved_models\\\\finalized_model_domains_NB.joblib'\n",
    "joblib.dump(pipeline_nb, model_filename)\n",
    "\n",
    "\n",
    "print(f\"Model saved as {model_filename}\")"
   ]
  }
 ],
 "metadata": {
  "kernelspec": {
   "display_name": "base",
   "language": "python",
   "name": "python3"
  },
  "language_info": {
   "codemirror_mode": {
    "name": "ipython",
    "version": 3
   },
   "file_extension": ".py",
   "mimetype": "text/x-python",
   "name": "python",
   "nbconvert_exporter": "python",
   "pygments_lexer": "ipython3",
   "version": "3.10.10"
  }
 },
 "nbformat": 4,
 "nbformat_minor": 2
}
