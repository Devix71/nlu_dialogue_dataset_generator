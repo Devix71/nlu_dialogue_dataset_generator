{
 "cells": [
  {
   "cell_type": "code",
   "execution_count": 1,
   "id": "a002d0b7-de7d-4ae2-8d3a-476c9a588d26",
   "metadata": {},
   "outputs": [],
   "source": [
    "import json\n",
    "import pandas as pd\n",
    "from transformers import BertTokenizer\n",
    "from torch.utils.data import Dataset, DataLoader\n",
    "\n",
    "# JSON file\n",
    "file_path = 'MultiWoZ_data/combined_validate.json'\n",
    "\n",
    "with open(file_path) as f:\n",
    "    data = json.load(f)\n",
    "\n",
    "utterances = []\n",
    "intents = []\n",
    "\n",
    "for dialogue in data:\n",
    "    for turn in dialogue['turns']:\n",
    "        if turn['speaker'] == 'USER':  \n",
    "            for frame in turn.get(\"frames\",[]):\n",
    "                active_intent= frame[\"state\"][\"active_intent\"]\n",
    "\n",
    "                if active_intent != \"NONE\":\n",
    "                    utterances.append(turn[\"utterance\"])\n",
    "                    intents.append(active_intent)\n",
    "\n",
    "df_validated = pd.DataFrame({'utterance': utterances, 'intent': intents})\n"
   ]
  },
  {
   "cell_type": "code",
   "execution_count": 2,
   "id": "e67c4e38-07ae-494d-9152-02a5ff6a1822",
   "metadata": {},
   "outputs": [],
   "source": [
    "# JSON file\n",
    "file_path = 'MultiWoZ_data/combined_test.json'\n",
    "\n",
    "\n",
    "with open(file_path) as f:\n",
    "    data = json.load(f)\n",
    "\n",
    "\n",
    "utterances = []\n",
    "intents = []\n",
    "\n",
    "for dialogue in data:\n",
    "    for turn in dialogue['turns']:\n",
    "        if turn['speaker'] == 'USER':  \n",
    "            for frame in turn.get(\"frames\",[]):\n",
    "                service=frame.get(\"service\")\n",
    "                active_intent= frame[\"state\"][\"active_intent\"]\n",
    "\n",
    "                if active_intent != \"NONE\":\n",
    "                    utterances.append(turn[\"utterance\"])\n",
    "                    intents.append(active_intent)\n",
    "\n",
    "\n",
    "df_test = pd.DataFrame({'utterance': utterances, 'intent': intents})"
   ]
  },
  {
   "cell_type": "code",
   "execution_count": 3,
   "id": "51c5b925-aba6-486d-ad43-06e16697f9e2",
   "metadata": {},
   "outputs": [],
   "source": [
    "# JSON file\n",
    "file_path = 'MultiWoZ_data/combined_train.json'\n",
    "\n",
    "\n",
    "with open(file_path) as f:\n",
    "    data = json.load(f)\n",
    "\n",
    "\n",
    "utterances = []\n",
    "intents = []\n",
    "\n",
    "for dialogue in data:\n",
    "    for turn in dialogue['turns']:\n",
    "        if turn['speaker'] == 'USER':  \n",
    "            for frame in turn.get(\"frames\",[]):\n",
    "                service=frame.get(\"service\")\n",
    "                active_intent= frame[\"state\"][\"active_intent\"]\n",
    "\n",
    "                if active_intent != \"NONE\":\n",
    "                    utterances.append(turn[\"utterance\"])\n",
    "                    intents.append(active_intent)\n",
    "\n",
    "df_train = pd.DataFrame({'utterance': utterances, 'intent': intents})"
   ]
  },
  {
   "cell_type": "code",
   "execution_count": 4,
   "id": "d842eb56-ca89-4962-944e-48d66a0492e9",
   "metadata": {},
   "outputs": [],
   "source": [
    "\n",
    "all_intents = pd.concat([df_train['intent'], df_validated['intent'], df_test['intent']]).unique()\n",
    "intent_labels = {intent: idx for idx, intent in enumerate(all_intents)}\n",
    "\n",
    "# Map labels according to the unified dictionary\n",
    "df_train['label'] = df_train['intent'].map(intent_labels)\n",
    "df_validated['label'] = df_validated['intent'].map(intent_labels)\n",
    "df_test['label'] = df_test['intent'].map(intent_labels) \n",
    "\n",
    "\n",
    "\n",
    "train_labels = df_train['label'].tolist()\n",
    "validate_labels = df_validated['label'].tolist()\n",
    "test_labels = df_test['label'].tolist() \n"
   ]
  },
  {
   "cell_type": "code",
   "execution_count": 5,
   "id": "b631f9de-b292-4e51-8435-1cf2455c231b",
   "metadata": {},
   "outputs": [],
   "source": [
    "# Quick check to ensure no labels are missing or incorrectly mapped\n",
    "assert df_train['label'].isna().sum() == 0, \"Missing labels in training data\"\n",
    "assert df_validated['label'].isna().sum() == 0, \"Missing labels in validation data\"\n",
    "assert df_test['label'].isna().sum() == 0, \"Missing labels in test data\"\n"
   ]
  },
  {
   "cell_type": "code",
   "execution_count": 6,
   "id": "b2d09590-4b58-4650-8e21-7289fec7d38f",
   "metadata": {},
   "outputs": [],
   "source": [
    "from transformers import BertTokenizer\n",
    "tokenizer = BertTokenizer.from_pretrained('bert-base-uncased', cache_dir='BERT_cache_folder')\n",
    "\n",
    "def encode_data(tokenizer, texts, max_length=128):\n",
    "    return tokenizer(texts, padding='max_length', truncation=True, max_length=max_length, return_tensors='pt')\n",
    "\n",
    "# Encode \n",
    "encoded_inputs_train = encode_data(tokenizer, df_train['utterance'].tolist())\n",
    "encoded_inputs_validate = encode_data(tokenizer, df_validated['utterance'].tolist())\n",
    "\n",
    "encoded_inputs_test = encode_data(tokenizer, df_test['utterance'].tolist())\n"
   ]
  },
  {
   "cell_type": "code",
   "execution_count": 7,
   "id": "f2bd21dc-94cb-4336-b217-31d4064df303",
   "metadata": {},
   "outputs": [],
   "source": [
    "# Check to ensure alignment\n",
    "assert len(encoded_inputs_train['input_ids']) == len(train_labels), \"Mismatch in training data and labels count.\"\n",
    "assert len(encoded_inputs_validate['input_ids']) == len(validate_labels), \"Mismatch in validation data and labels count.\"\n",
    "assert len(encoded_inputs_test['input_ids']) == len(test_labels), \"Mismatch in test data and labels count.\"\n"
   ]
  },
  {
   "cell_type": "code",
   "execution_count": 8,
   "id": "e1c96547-a721-4f12-8c15-ecd0c126c097",
   "metadata": {},
   "outputs": [],
   "source": [
    "class UtteranceDataset(Dataset):\n",
    "    def __init__(self, encodings, labels):\n",
    "        self.encodings = encodings\n",
    "        self.labels = labels\n",
    "\n",
    "    def __getitem__(self, idx):\n",
    "        item = {key: val[idx].clone().detach() if torch.is_tensor(val[idx]) else val[idx] for key, val in self.encodings.items()}\n",
    "        item['labels'] = torch.tensor(self.labels[idx], dtype=torch.long)\n",
    "        return item\n",
    "\n",
    "    def __len__(self):\n",
    "        return len(self.labels) \n",
    "\n",
    "\n",
    "dataset_train = UtteranceDataset(encoded_inputs_train, train_labels)\n",
    "dataset_validate = UtteranceDataset(encoded_inputs_validate, validate_labels)\n",
    "dataset_test = UtteranceDataset(encoded_inputs_test, test_labels)\n",
    "\n"
   ]
  },
  {
   "cell_type": "code",
   "execution_count": 9,
   "id": "7d8ada04-b745-4bd1-88cf-0f33587cad92",
   "metadata": {},
   "outputs": [
    {
     "name": "stdout",
     "output_type": "stream",
     "text": [
      "CUDA is available. Using GPU: NVIDIA GeForce GTX 1080 Ti\n"
     ]
    }
   ],
   "source": [
    "import torch\n",
    "\n",
    "if torch.cuda.is_available():\n",
    "    device = torch.device(\"cuda\")\n",
    "    print(f\"CUDA is available. Using GPU: {torch.cuda.get_device_name(0)}\")\n",
    "else:\n",
    "    device = torch.device(\"cpu\")\n",
    "    print(\"CUDA is not available, using CPU instead.\")\n"
   ]
  },
  {
   "cell_type": "code",
   "execution_count": 10,
   "id": "8b408299-0246-4071-905c-c997b84f068e",
   "metadata": {},
   "outputs": [],
   "source": [
    "from transformers import TrainerCallback, TrainerState, TrainerControl\n",
    "from tqdm.auto import tqdm\n",
    "\n",
    "class EarlyStoppingCallback(TrainerCallback):\n",
    "    def __init__(self, patience=3):\n",
    "        self.patience = patience\n",
    "        self.best_loss = float('inf')\n",
    "        self.early_stop_counter = 0\n",
    "        self.progress_bar = None\n",
    "\n",
    "    def on_train_begin(self, args, state, control, **kwargs):\n",
    "        print(\"Starting training...\")\n",
    "        self.progress_bar = tqdm(total=state.num_train_epochs)\n",
    "\n",
    "    def on_epoch_begin(self, args, state, control, **kwargs):\n",
    "        # No action needed \n",
    "        pass\n",
    "\n",
    "    def on_log(self, args, state, control, logs=None, **kwargs):\n",
    "        if logs is not None:\n",
    "            current_loss = logs.get('eval_loss')\n",
    "            if current_loss:\n",
    "                if current_loss < self.best_loss:\n",
    "                    self.best_loss = current_loss\n",
    "                    self.early_stop_counter = 0\n",
    "                    \n",
    "                else:\n",
    "                    self.early_stop_counter += 1\n",
    "                    if self.early_stop_counter >= self.patience:\n",
    "                        control.should_training_stop = True\n",
    "\n",
    "    def on_epoch_end(self, args, state, control, logs=None, **kwargs):\n",
    "        self.progress_bar.update(1)\n",
    "        # Consolidate print statements to show epoch summaries and best loss\n",
    "        if logs:\n",
    "            print(f\"\\nEpoch {state.epoch + 1} Summary:\")\n",
    "            if 'loss' in logs:\n",
    "                print(f\"Training Loss: {logs['loss']:.4f}\")\n",
    "            if 'eval_loss' in logs:\n",
    "                print(f\"Validation Loss: {logs['eval_loss']:.4f}\")\n",
    "            if 'eval_accuracy' in logs:\n",
    "                print(f\"Validation Accuracy: {logs['eval_accuracy']:.4f}\")\n",
    "            print(f\"Best Validation Loss So Far: {self.best_loss:.4f}\")\n",
    "            if self.early_stop_counter > 0:\n",
    "                print(f\"No improvement in validation loss for {self.early_stop_counter} consecutive epoch(s).\")\n",
    "            if control.should_training_stop:\n",
    "                print(\"Early stopping triggered.\")\n",
    "\n",
    "    def on_train_end(self, args, state, control, **kwargs):\n",
    "        self.progress_bar.close()\n",
    "        print(\"Training completed.\")\n"
   ]
  },
  {
   "cell_type": "code",
   "execution_count": 11,
   "id": "54204dbb-4696-4782-9743-967d93abf63a",
   "metadata": {},
   "outputs": [
    {
     "name": "stderr",
     "output_type": "stream",
     "text": [
      "Some weights of BertForSequenceClassification were not initialized from the model checkpoint at bert-base-uncased and are newly initialized: ['classifier.bias', 'classifier.weight']\n",
      "You should probably TRAIN this model on a down-stream task to be able to use it for predictions and inference.\n"
     ]
    },
    {
     "data": {
      "text/plain": [
       "BertForSequenceClassification(\n",
       "  (bert): BertModel(\n",
       "    (embeddings): BertEmbeddings(\n",
       "      (word_embeddings): Embedding(30522, 768, padding_idx=0)\n",
       "      (position_embeddings): Embedding(512, 768)\n",
       "      (token_type_embeddings): Embedding(2, 768)\n",
       "      (LayerNorm): LayerNorm((768,), eps=1e-12, elementwise_affine=True)\n",
       "      (dropout): Dropout(p=0.1, inplace=False)\n",
       "    )\n",
       "    (encoder): BertEncoder(\n",
       "      (layer): ModuleList(\n",
       "        (0-11): 12 x BertLayer(\n",
       "          (attention): BertAttention(\n",
       "            (self): BertSelfAttention(\n",
       "              (query): Linear(in_features=768, out_features=768, bias=True)\n",
       "              (key): Linear(in_features=768, out_features=768, bias=True)\n",
       "              (value): Linear(in_features=768, out_features=768, bias=True)\n",
       "              (dropout): Dropout(p=0.1, inplace=False)\n",
       "            )\n",
       "            (output): BertSelfOutput(\n",
       "              (dense): Linear(in_features=768, out_features=768, bias=True)\n",
       "              (LayerNorm): LayerNorm((768,), eps=1e-12, elementwise_affine=True)\n",
       "              (dropout): Dropout(p=0.1, inplace=False)\n",
       "            )\n",
       "          )\n",
       "          (intermediate): BertIntermediate(\n",
       "            (dense): Linear(in_features=768, out_features=3072, bias=True)\n",
       "            (intermediate_act_fn): GELUActivation()\n",
       "          )\n",
       "          (output): BertOutput(\n",
       "            (dense): Linear(in_features=3072, out_features=768, bias=True)\n",
       "            (LayerNorm): LayerNorm((768,), eps=1e-12, elementwise_affine=True)\n",
       "            (dropout): Dropout(p=0.1, inplace=False)\n",
       "          )\n",
       "        )\n",
       "      )\n",
       "    )\n",
       "    (pooler): BertPooler(\n",
       "      (dense): Linear(in_features=768, out_features=768, bias=True)\n",
       "      (activation): Tanh()\n",
       "    )\n",
       "  )\n",
       "  (dropout): Dropout(p=0.1, inplace=False)\n",
       "  (classifier): Linear(in_features=768, out_features=3290, bias=True)\n",
       ")"
      ]
     },
     "execution_count": 11,
     "metadata": {},
     "output_type": "execute_result"
    }
   ],
   "source": [
    "from transformers import BertForSequenceClassification\n",
    "\n",
    "model = BertForSequenceClassification.from_pretrained('bert-base-uncased', num_labels=len(train_labels))\n",
    "\n",
    "model.to(device) \n"
   ]
  },
  {
   "cell_type": "code",
   "execution_count": 12,
   "id": "122de195-88ff-46a9-a3f3-eb9babf9eafb",
   "metadata": {},
   "outputs": [
    {
     "name": "stderr",
     "output_type": "stream",
     "text": [
      "Training progress:  10%|█████████▋                                                                                       | 102/1020 [00:37<05:35,  2.74it/s]"
     ]
    },
    {
     "name": "stdout",
     "output_type": "stream",
     "text": [
      "Epoch 1, Loss: 5.25622034072876\n",
      "Validation Loss: 5.404687325159709\n",
      "New Best Validation Loss: 5.404687325159709\n"
     ]
    },
    {
     "name": "stderr",
     "output_type": "stream",
     "text": [
      "Training progress:  20%|███████████████████▍                                                                             | 204/1020 [01:21<04:55,  2.76it/s]"
     ]
    },
    {
     "name": "stdout",
     "output_type": "stream",
     "text": [
      "Epoch 2, Loss: 1.5412678718566895\n",
      "Validation Loss: 1.5010003646214802\n",
      "New Best Validation Loss: 1.5010003646214802\n"
     ]
    },
    {
     "name": "stderr",
     "output_type": "stream",
     "text": [
      "Training progress:  30%|█████████████████████████████                                                                    | 306/1020 [02:05<04:22,  2.72it/s]"
     ]
    },
    {
     "name": "stdout",
     "output_type": "stream",
     "text": [
      "Epoch 3, Loss: 0.755513608455658\n",
      "Validation Loss: 0.5077585478623708\n",
      "New Best Validation Loss: 0.5077585478623708\n"
     ]
    },
    {
     "name": "stderr",
     "output_type": "stream",
     "text": [
      "Training progress:  40%|██████████████████████████████████████▊                                                          | 408/1020 [02:49<03:50,  2.66it/s]"
     ]
    },
    {
     "name": "stdout",
     "output_type": "stream",
     "text": [
      "Epoch 4, Loss: 0.48762205243110657\n",
      "Validation Loss: 0.47188234329223633\n",
      "New Best Validation Loss: 0.47188234329223633\n"
     ]
    },
    {
     "name": "stderr",
     "output_type": "stream",
     "text": [
      "Training progress:  50%|████████████████████████████████████████████████▌                                                | 510/1020 [03:36<03:16,  2.60it/s]"
     ]
    },
    {
     "name": "stdout",
     "output_type": "stream",
     "text": [
      "Epoch 5, Loss: 0.47808510065078735\n",
      "Validation Loss: 0.43526894350846607\n",
      "New Best Validation Loss: 0.43526894350846607\n"
     ]
    },
    {
     "name": "stderr",
     "output_type": "stream",
     "text": [
      "Training progress:  60%|██████████████████████████████████████████████████████████▏                                      | 612/1020 [04:20<02:36,  2.61it/s]"
     ]
    },
    {
     "name": "stdout",
     "output_type": "stream",
     "text": [
      "Epoch 6, Loss: 0.35020872950553894\n",
      "Validation Loss: 0.3960024764140447\n",
      "New Best Validation Loss: 0.3960024764140447\n"
     ]
    },
    {
     "name": "stderr",
     "output_type": "stream",
     "text": [
      "Training progress:  70%|███████████████████████████████████████████████████████████████████▉                             | 715/1020 [05:06<03:26,  1.48it/s]"
     ]
    },
    {
     "name": "stdout",
     "output_type": "stream",
     "text": [
      "Epoch 7, Loss: 0.550471305847168\n",
      "Validation Loss: 0.4458762047191461\n"
     ]
    },
    {
     "name": "stderr",
     "output_type": "stream",
     "text": [
      "Training progress:  80%|█████████████████████████████████████████████████████████████████████████████▋                   | 817/1020 [05:46<02:17,  1.48it/s]"
     ]
    },
    {
     "name": "stdout",
     "output_type": "stream",
     "text": [
      "Epoch 8, Loss: 0.6176126599311829\n",
      "Validation Loss: 0.47262436896562576\n"
     ]
    },
    {
     "name": "stderr",
     "output_type": "stream",
     "text": [
      "Training progress:  90%|███████████████████████████████████████████████████████████████████████████████████████▍         | 919/1020 [06:27<01:11,  1.41it/s]"
     ]
    },
    {
     "name": "stdout",
     "output_type": "stream",
     "text": [
      "Epoch 9, Loss: 0.5305882096290588\n",
      "Validation Loss: 0.4812395398815473\n"
     ]
    },
    {
     "name": "stderr",
     "output_type": "stream",
     "text": [
      "Training progress: 100%|████████████████████████████████████████████████████████████████████████████████████████████████| 1020/1020 [07:08<00:00,  2.38it/s]"
     ]
    },
    {
     "name": "stdout",
     "output_type": "stream",
     "text": [
      "Epoch 10, Loss: 0.5477834939956665\n",
      "Validation Loss: 0.4933062916000684\n"
     ]
    },
    {
     "name": "stderr",
     "output_type": "stream",
     "text": [
      "\n"
     ]
    }
   ],
   "source": [
    "import torch\n",
    "from torch.utils.data import DataLoader\n",
    "from transformers import get_scheduler\n",
    "from torch.optim import AdamW\n",
    "from tqdm import tqdm\n",
    "\n",
    "# Setup DataLoader and other components\n",
    "train_loader = DataLoader(dataset_train, batch_size=32, shuffle=True, drop_last=True)\n",
    "validate_loader = DataLoader(dataset_validate, batch_size=32, shuffle=False, drop_last=True)\n",
    "optimizer = AdamW(model.parameters(), lr=5e-5)\n",
    "num_training_steps = len(train_loader) * 10\n",
    "lr_scheduler = get_scheduler(\"linear\", optimizer=optimizer, num_warmup_steps=500, num_training_steps=num_training_steps)\n",
    "\n",
    "best_validation_loss = float('inf')\n",
    "\n",
    "progress_bar = tqdm(total=num_training_steps, desc=\"Training progress\")\n",
    "model.train()\n",
    "\n",
    "for epoch in range(10):\n",
    "    for batch in train_loader:\n",
    "        batch = {k: v.to(device) for k, v in batch.items()}\n",
    "        outputs = model(**batch)\n",
    "        loss = outputs.loss\n",
    "        loss.backward()\n",
    "        optimizer.step()\n",
    "        lr_scheduler.step()\n",
    "        optimizer.zero_grad()\n",
    "        progress_bar.update(1)\n",
    "    \n",
    "    model.eval()\n",
    "    total_eval_loss = 0\n",
    "    with torch.no_grad():\n",
    "        for batch in validate_loader:\n",
    "            batch = {k: v.to(device) for k, v in batch.items()}\n",
    "            outputs = model(**batch)\n",
    "            loss = outputs.loss\n",
    "            total_eval_loss += loss.item()\n",
    "\n",
    "    avg_val_loss = total_eval_loss / len(validate_loader)\n",
    "    print(f\"Epoch {epoch+1}, Loss: {loss.item()}\")\n",
    "    print(f\"Validation Loss: {avg_val_loss}\")\n",
    "\n",
    "    # Update the best loss and save model if it's the best\n",
    "    if avg_val_loss < best_validation_loss:\n",
    "        best_validation_loss = avg_val_loss\n",
    "        print(f\"New Best Validation Loss: {best_validation_loss}\")\n",
    "        model.save_pretrained(\"./model_save_intent\")\n",
    "        tokenizer.save_pretrained(\"./model_save_intent\")\n",
    "\n",
    "progress_bar.close()\n"
   ]
  },
  {
   "cell_type": "code",
   "execution_count": 13,
   "id": "57dab83b-4d2e-414a-910c-49f281cdab8e",
   "metadata": {},
   "outputs": [
    {
     "name": "stdout",
     "output_type": "stream",
     "text": [
      "Accuracy: 0.8947368421052632\n",
      "Precision: 0.57334625302404\n",
      "Recall: 0.597272813729782\n",
      "F1 Score: 0.5840215632898292\n"
     ]
    },
    {
     "name": "stderr",
     "output_type": "stream",
     "text": [
      "/home/guslasbo@GU.GU.SE/miniconda3/envs/School_Thesis/lib/python3.11/site-packages/sklearn/metrics/_classification.py:1509: UndefinedMetricWarning: Precision is ill-defined and being set to 0.0 in labels with no predicted samples. Use `zero_division` parameter to control this behavior.\n",
      "  _warn_prf(average, modifier, f\"{metric.capitalize()} is\", len(result))\n"
     ]
    }
   ],
   "source": [
    "from sklearn.metrics import accuracy_score, precision_recall_fscore_support\n",
    "import numpy as np\n",
    "test_loader = DataLoader(dataset_test, batch_size=32, shuffle=False, drop_last=True)  # Set drop_last to True to avoid partial batches\n",
    "\n",
    "\n",
    "model.eval() \n",
    "device = torch.device(\"cuda\" if torch.cuda.is_available() else \"cpu\")\n",
    "\n",
    "predictions, true_labels = [], []\n",
    "\n",
    "# Evaluate the model\n",
    "with torch.no_grad():\n",
    "    for batch in test_loader:\n",
    "        inputs = {k: v.to(device) for k, v in batch.items() if k != 'labels'}\n",
    "        labels = batch['labels'].to(device)\n",
    "        outputs = model(**inputs)\n",
    "        logits = outputs.logits\n",
    "        preds = torch.argmax(logits, dim=-1)\n",
    "        predictions.extend(preds.detach().cpu().numpy())\n",
    "        true_labels.extend(labels.detach().cpu().numpy())\n",
    "\n",
    "# Calculate metrics\n",
    "accuracy = accuracy_score(true_labels, predictions)\n",
    "precision, recall, f1, _ = precision_recall_fscore_support(true_labels, predictions, average='macro')  # adjust 'average' as needed\n",
    "\n",
    "print(f\"Accuracy: {accuracy}\")\n",
    "print(f\"Precision: {precision}\")\n",
    "print(f\"Recall: {recall}\")\n",
    "print(f\"F1 Score: {f1}\")\n"
   ]
  },
  {
   "cell_type": "code",
   "execution_count": 14,
   "id": "eca2f52e-2c87-4eb8-84b7-3d4e41326818",
   "metadata": {},
   "outputs": [
    {
     "name": "stdout",
     "output_type": "stream",
     "text": [
      "Majority Class Baseline Accuracy: 0.3511\n",
      "                 precision    recall  f1-score   support\n",
      "\n",
      "     find_hotel       0.35      1.00      0.52       217\n",
      "     book_hotel       0.00      0.00      0.00       125\n",
      "find_restaurant       0.00      0.00      0.00         5\n",
      "     find_train       0.00      0.00      0.00       222\n",
      "    find_police       0.00      0.00      0.00         0\n",
      "find_attraction       0.00      0.00      0.00         0\n",
      "  find_hospital       0.00      0.00      0.00         1\n",
      "     book_train       0.00      0.00      0.00        48\n",
      "      find_taxi       0.00      0.00      0.00         0\n",
      "\n",
      "      micro avg       0.35      0.35      0.35       618\n",
      "      macro avg       0.04      0.11      0.06       618\n",
      "   weighted avg       0.12      0.35      0.18       618\n",
      "\n"
     ]
    },
    {
     "name": "stderr",
     "output_type": "stream",
     "text": [
      "/home/guslasbo@GU.GU.SE/miniconda3/envs/School_Thesis/lib/python3.11/site-packages/sklearn/metrics/_classification.py:1509: UndefinedMetricWarning: Precision is ill-defined and being set to 0.0 in labels with no predicted samples. Use `zero_division` parameter to control this behavior.\n",
      "  _warn_prf(average, modifier, f\"{metric.capitalize()} is\", len(result))\n",
      "/home/guslasbo@GU.GU.SE/miniconda3/envs/School_Thesis/lib/python3.11/site-packages/sklearn/metrics/_classification.py:1509: UndefinedMetricWarning: Recall is ill-defined and being set to 0.0 in labels with no true samples. Use `zero_division` parameter to control this behavior.\n",
      "  _warn_prf(average, modifier, f\"{metric.capitalize()} is\", len(result))\n",
      "/home/guslasbo@GU.GU.SE/miniconda3/envs/School_Thesis/lib/python3.11/site-packages/sklearn/metrics/_classification.py:1509: UndefinedMetricWarning: F-score is ill-defined and being set to 0.0 in labels with no true nor predicted samples. Use `zero_division` parameter to control this behavior.\n",
      "  _warn_prf(average, modifier, f\"{metric.capitalize()} is\", len(result))\n",
      "/home/guslasbo@GU.GU.SE/miniconda3/envs/School_Thesis/lib/python3.11/site-packages/sklearn/metrics/_classification.py:1509: UndefinedMetricWarning: Precision is ill-defined and being set to 0.0 in labels with no predicted samples. Use `zero_division` parameter to control this behavior.\n",
      "  _warn_prf(average, modifier, f\"{metric.capitalize()} is\", len(result))\n",
      "/home/guslasbo@GU.GU.SE/miniconda3/envs/School_Thesis/lib/python3.11/site-packages/sklearn/metrics/_classification.py:1509: UndefinedMetricWarning: Recall is ill-defined and being set to 0.0 in labels with no true samples. Use `zero_division` parameter to control this behavior.\n",
      "  _warn_prf(average, modifier, f\"{metric.capitalize()} is\", len(result))\n",
      "/home/guslasbo@GU.GU.SE/miniconda3/envs/School_Thesis/lib/python3.11/site-packages/sklearn/metrics/_classification.py:1509: UndefinedMetricWarning: F-score is ill-defined and being set to 0.0 in labels with no true nor predicted samples. Use `zero_division` parameter to control this behavior.\n",
      "  _warn_prf(average, modifier, f\"{metric.capitalize()} is\", len(result))\n",
      "/home/guslasbo@GU.GU.SE/miniconda3/envs/School_Thesis/lib/python3.11/site-packages/sklearn/metrics/_classification.py:1509: UndefinedMetricWarning: Precision is ill-defined and being set to 0.0 in labels with no predicted samples. Use `zero_division` parameter to control this behavior.\n",
      "  _warn_prf(average, modifier, f\"{metric.capitalize()} is\", len(result))\n",
      "/home/guslasbo@GU.GU.SE/miniconda3/envs/School_Thesis/lib/python3.11/site-packages/sklearn/metrics/_classification.py:1509: UndefinedMetricWarning: Recall is ill-defined and being set to 0.0 in labels with no true samples. Use `zero_division` parameter to control this behavior.\n",
      "  _warn_prf(average, modifier, f\"{metric.capitalize()} is\", len(result))\n",
      "/home/guslasbo@GU.GU.SE/miniconda3/envs/School_Thesis/lib/python3.11/site-packages/sklearn/metrics/_classification.py:1509: UndefinedMetricWarning: F-score is ill-defined and being set to 0.0 in labels with no true nor predicted samples. Use `zero_division` parameter to control this behavior.\n",
      "  _warn_prf(average, modifier, f\"{metric.capitalize()} is\", len(result))\n"
     ]
    }
   ],
   "source": [
    "from collections import Counter\n",
    "\n",
    "# Find the most common class\n",
    "most_common_class = Counter(train_labels).most_common(1)[0][0]\n",
    "\n",
    "# Predict this class for all validation instances\n",
    "predictions = [most_common_class] * len(dataset_test)  \n",
    "\n",
    "# True labels from the test set\n",
    "true_labels_test = [batch['labels'].item() for batch in DataLoader(dataset_test, batch_size=1)]\n",
    "\n",
    "# Calculate the accuracy of the baseline\n",
    "baseline_accuracy = sum(1 for true, pred in zip(true_labels_test, predictions) if true == pred) / len(predictions)\n",
    "print(f\"Majority Class Baseline Accuracy: {baseline_accuracy:.4f}\")\n",
    "\n",
    "target_names = [None] * len(intent_labels)\n",
    "for intent, idx in intent_labels.items():\n",
    "    target_names[idx] = intent\n",
    "    \n",
    "\n",
    "from sklearn.metrics import classification_report\n",
    "\n",
    "labels = list(intent_labels.values())\n",
    "print(classification_report(true_labels_test, predictions, labels=labels, target_names=target_names))"
   ]
  },
  {
   "cell_type": "code",
   "execution_count": 17,
   "id": "95f18fe3-a370-4737-89b5-2faab72ce32e",
   "metadata": {},
   "outputs": [
    {
     "name": "stdout",
     "output_type": "stream",
     "text": [
      "Accuracy: 0.06414473684210527\n",
      "Precision: 0.0760515873015873\n",
      "Recall: 0.016005106763512515\n",
      "F1 Score: 0.02342806809949626\n"
     ]
    },
    {
     "name": "stderr",
     "output_type": "stream",
     "text": [
      "/home/guslasbo@GU.GU.SE/miniconda3/envs/School_Thesis/lib/python3.11/site-packages/sklearn/metrics/_classification.py:1509: UndefinedMetricWarning: Recall is ill-defined and being set to 0.0 in labels with no true samples. Use `zero_division` parameter to control this behavior.\n",
      "  _warn_prf(average, modifier, f\"{metric.capitalize()} is\", len(result))\n"
     ]
    }
   ],
   "source": [
    "import torch\n",
    "from transformers import BertForSequenceClassification, BertTokenizer\n",
    "from torch.utils.data import DataLoader\n",
    "from sklearn.metrics import accuracy_score, precision_recall_fscore_support\n",
    "import numpy as np\n",
    "\n",
    "# Load the model and tokenizer\n",
    "model_path = \"model_save_intent\" \n",
    "model = BertForSequenceClassification.from_pretrained(model_path)\n",
    "tokenizer = BertTokenizer.from_pretrained(model_path)\n",
    "\n",
    "# Define the device\n",
    "device = torch.device(\"cuda\" if torch.cuda.is_available() else \"cpu\")\n",
    "\n",
    "model.to(device)\n",
    "model.eval()\n",
    "\n",
    "\n",
    "test_loader = DataLoader(dataset_test, batch_size=32, shuffle=False, drop_last=True)\n",
    "\n",
    "predictions, true_labels = [], []\n",
    "\n",
    "\n",
    "with torch.no_grad():\n",
    "    for batch in test_loader:\n",
    "        \n",
    "        batch = {k: v.to(device) for k, v in batch.items()}\n",
    "\n",
    "        labels = batch.pop('labels')\n",
    "        outputs = model(**batch)\n",
    "        \n",
    "        logits = outputs.logits\n",
    "        preds = torch.argmax(logits, dim=-1)\n",
    "        \n",
    "        predictions.extend(preds.detach().cpu().numpy())\n",
    "        true_labels.extend(labels.detach().cpu().numpy())\n",
    "\n",
    "# Calculate metrics\n",
    "accuracy = accuracy_score(true_labels, predictions)\n",
    "precision, recall, f1, _ = precision_recall_fscore_support(true_labels, predictions, average='macro')\n",
    "\n",
    "print(f\"Accuracy: {accuracy}\")\n",
    "print(f\"Precision: {precision}\")\n",
    "print(f\"Recall: {recall}\")\n",
    "print(f\"F1 Score: {f1}\")\n"
   ]
  },
  {
   "cell_type": "code",
   "execution_count": 18,
   "id": "1a963f97-aa28-4316-9d8b-e5190175396c",
   "metadata": {},
   "outputs": [
    {
     "name": "stdout",
     "output_type": "stream",
     "text": [
      "Accuracy: 0.06414473684210527\n",
      "Precision: 0.0760515873015873\n",
      "Recall: 0.016005106763512515\n",
      "F1 Score: 0.02342806809949626\n",
      "\n",
      "Detailed Classification Report:\n",
      "              precision    recall  f1-score   support\n",
      "\n",
      "           0       0.97      0.14      0.25       217\n",
      "           1       0.06      0.02      0.03       125\n",
      "           2       0.00      0.00      0.00         5\n",
      "           3       0.07      0.01      0.02       213\n",
      "           4       0.00      0.00      0.00         0\n",
      "           5       0.00      0.00      0.00         0\n",
      "           6       0.00      0.00      0.00         1\n",
      "           7       0.04      0.06      0.05        47\n",
      "           8       0.00      0.00      0.00         0\n",
      "           9       0.00      0.00      0.00         0\n",
      "          10       0.00      0.00      0.00         0\n",
      "          11       0.00      0.00      0.00         0\n",
      "          12       0.00      0.00      0.00         0\n",
      "          13       0.00      0.00      0.00         0\n",
      "          14       0.00      0.00      0.00         0\n",
      "\n",
      "    accuracy                           0.06       608\n",
      "   macro avg       0.08      0.02      0.02       608\n",
      "weighted avg       0.39      0.06      0.11       608\n",
      "\n"
     ]
    },
    {
     "name": "stderr",
     "output_type": "stream",
     "text": [
      "/home/guslasbo@GU.GU.SE/miniconda3/envs/School_Thesis/lib/python3.11/site-packages/sklearn/metrics/_classification.py:1509: UndefinedMetricWarning: Recall is ill-defined and being set to 0.0 in labels with no true samples. Use `zero_division` parameter to control this behavior.\n",
      "  _warn_prf(average, modifier, f\"{metric.capitalize()} is\", len(result))\n",
      "/home/guslasbo@GU.GU.SE/miniconda3/envs/School_Thesis/lib/python3.11/site-packages/sklearn/metrics/_classification.py:1509: UndefinedMetricWarning: Recall is ill-defined and being set to 0.0 in labels with no true samples. Use `zero_division` parameter to control this behavior.\n",
      "  _warn_prf(average, modifier, f\"{metric.capitalize()} is\", len(result))\n",
      "/home/guslasbo@GU.GU.SE/miniconda3/envs/School_Thesis/lib/python3.11/site-packages/sklearn/metrics/_classification.py:1509: UndefinedMetricWarning: Recall is ill-defined and being set to 0.0 in labels with no true samples. Use `zero_division` parameter to control this behavior.\n",
      "  _warn_prf(average, modifier, f\"{metric.capitalize()} is\", len(result))\n",
      "/home/guslasbo@GU.GU.SE/miniconda3/envs/School_Thesis/lib/python3.11/site-packages/sklearn/metrics/_classification.py:1509: UndefinedMetricWarning: Recall is ill-defined and being set to 0.0 in labels with no true samples. Use `zero_division` parameter to control this behavior.\n",
      "  _warn_prf(average, modifier, f\"{metric.capitalize()} is\", len(result))\n"
     ]
    }
   ],
   "source": [
    "from sklearn.metrics import classification_report\n",
    "\n",
    "accuracy = accuracy_score(true_labels, predictions)\n",
    "precision, recall, f1, _ = precision_recall_fscore_support(true_labels, predictions, average='macro')\n",
    "\n",
    "print(f\"Accuracy: {accuracy}\")\n",
    "print(f\"Precision: {precision}\")\n",
    "print(f\"Recall: {recall}\")\n",
    "print(f\"F1 Score: {f1}\")\n",
    "\n",
    "print(\"\\nDetailed Classification Report:\")\n",
    "print(classification_report(true_labels, predictions))"
   ]
  }
 ],
 "metadata": {
  "kernelspec": {
   "display_name": "Python 3 (ipykernel)",
   "language": "python",
   "name": "python3"
  },
  "language_info": {
   "codemirror_mode": {
    "name": "ipython",
    "version": 3
   },
   "file_extension": ".py",
   "mimetype": "text/x-python",
   "name": "python",
   "nbconvert_exporter": "python",
   "pygments_lexer": "ipython3",
   "version": "3.11.9"
  }
 },
 "nbformat": 4,
 "nbformat_minor": 5
}
