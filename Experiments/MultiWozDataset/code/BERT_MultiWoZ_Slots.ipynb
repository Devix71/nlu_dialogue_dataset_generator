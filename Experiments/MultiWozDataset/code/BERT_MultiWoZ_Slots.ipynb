{
 "cells": [
  {
   "cell_type": "code",
   "execution_count": 1,
   "id": "42963c70-303f-428d-92ae-4c17231cae33",
   "metadata": {},
   "outputs": [],
   "source": [
    "import json\n",
    "import pandas as pd\n",
    "from transformers import BertTokenizer\n",
    "from torch.utils.data import Dataset, DataLoader\n",
    "\n",
    "# JSON file\n",
    "file_path = 'MultiWoZ_data/combined_validate.json'\n",
    "\n",
    "with open(file_path) as f:\n",
    "    data = json.load(f)\n",
    "\n",
    "utterances_validate = []\n",
    "slot_types_validate = []\n",
    "\n",
    "for dialogue in data:\n",
    "    for turn in dialogue[\"turns\"]:\n",
    "        if turn[\"speaker\"] == \"USER\":\n",
    "            current_slots = set()\n",
    "            for frame in turn.get(\"frames\", []):\n",
    "                # Exclude \"hotel-stars\" slot value\n",
    "                current_slots.update(slot for slot in frame.get(\"state\", {}).get(\"slot_values\", {}).keys() if slot != \"hotel-stars\")\n",
    "            if current_slots:  # only slot_values present\n",
    "                utterances_validate.append(turn[\"utterance\"])\n",
    "                slot_types_validate.append(list(current_slots))\n",
    "\n",
    "df_validated = pd.DataFrame({'utterance': utterances_validate, 'slot': slot_types_validate})\n"
   ]
  },
  {
   "cell_type": "code",
   "execution_count": 2,
   "id": "0bc2e662-f707-4829-b671-b61eade619c7",
   "metadata": {},
   "outputs": [],
   "source": [
    "with open('MultiWoZ_data/combined_train.json', 'r') as file: \n",
    "    data = json.load(file)\n",
    "\n",
    "utterances_train = []\n",
    "slot_types_train = []\n",
    "\n",
    "for dialogue in data:\n",
    "    for turn in dialogue[\"turns\"]:\n",
    "        if turn[\"speaker\"] == \"USER\":\n",
    "            current_slots = set()\n",
    "            for frame in turn.get(\"frames\", []):\n",
    "                # Exclude \"hotel-stars\" slot value\n",
    "                current_slots.update(slot for slot in frame.get(\"state\", {}).get(\"slot_values\", {}).keys() if slot != \"hotel-stars\")\n",
    "            if current_slots:  # Only turns where slot_values present\n",
    "                utterances_train.append(turn[\"utterance\"])\n",
    "                slot_types_train.append(list(current_slots))\n",
    "\n",
    "df_train = pd.DataFrame({'utterance': utterances_train, 'slot': slot_types_train})"
   ]
  },
  {
   "cell_type": "code",
   "execution_count": 3,
   "id": "3592d32a-ee45-4dfe-ad28-0e61ad8a92dd",
   "metadata": {},
   "outputs": [],
   "source": [
    "with open('MultiWoZ_data/combined_test.json', 'r') as file:\n",
    "    data = json.load(file)\n",
    "\n",
    "utterances_test = []\n",
    "slot_types_test = []\n",
    "\n",
    "for dialogue in data:\n",
    "    for turn in dialogue[\"turns\"]:\n",
    "        if turn[\"speaker\"] == \"USER\":\n",
    "            current_slots = set()\n",
    "            for frame in turn.get(\"frames\", []):\n",
    "                # Exclude \"hotel-stars\" slot value\n",
    "                current_slots.update(slot for slot in frame.get(\"state\", {}).get(\"slot_values\", {}).keys() if slot != \"hotel-stars\")\n",
    "            if current_slots:  # Only turns where slot_values present\n",
    "                utterances_test.append(turn[\"utterance\"])\n",
    "                slot_types_test.append(list(current_slots))\n",
    "\n",
    "df_test = pd.DataFrame({'utterance': utterances_test, 'slot': slot_types_test})"
   ]
  },
  {
   "cell_type": "code",
   "execution_count": 4,
   "id": "73206582-7eea-408c-8454-c943516fda65",
   "metadata": {},
   "outputs": [],
   "source": [
    "\n",
    "all_slots = pd.concat([\n",
    "    df_train['slot'].explode(),\n",
    "    df_validated['slot'].explode(),\n",
    "    df_test['slot'].explode()\n",
    "]).unique()\n",
    "\n",
    "# Dictionary mapping each unique slot to a unique index\n",
    "slot_labels = {slot: idx for idx, slot in enumerate(all_slots)}\n",
    "\n",
    "df_train['labels'] = df_train['slot'].apply(lambda slots: [slot_labels[slot] for slot in slots])\n",
    "df_validated['labels'] = df_validated['slot'].apply(lambda slots: [slot_labels[slot] for slot in slots])\n",
    "df_test['labels'] = df_test['slot'].apply(lambda slots: [slot_labels[slot] for slot in slots])\n",
    "\n",
    "from sklearn.preprocessing import MultiLabelBinarizer\n",
    "\n",
    "mlb = MultiLabelBinarizer(classes=sorted(slot_labels.values()))\n",
    "train_labels = mlb.fit_transform(df_train['labels'])\n",
    "validate_labels = mlb.transform(df_validated['labels'])\n",
    "test_labels = mlb.transform(df_test['labels'])\n"
   ]
  },
  {
   "cell_type": "code",
   "execution_count": 5,
   "id": "c09fcd07-6161-443e-b9c5-6a33a53aedf5",
   "metadata": {},
   "outputs": [],
   "source": [
    "assert df_train['labels'].isna().sum() == 0, \"Missing labels in training data\"\n",
    "assert df_validated['labels'].isna().sum() == 0, \"Missing labels in validation data\"\n",
    "assert df_test['labels'].isna().sum() == 0, \"Missing labels in test data\"\n"
   ]
  },
  {
   "cell_type": "code",
   "execution_count": 6,
   "id": "bd8a1bd2-4151-4c92-8920-d8fa7ef0d2c1",
   "metadata": {},
   "outputs": [],
   "source": [
    "from transformers import BertTokenizer\n",
    "tokenizer = BertTokenizer.from_pretrained('bert-base-uncased', cache_dir='BERT_cache_folder')\n",
    "\n",
    "def encode_data(tokenizer, texts, max_length=128):\n",
    "    return tokenizer(texts, padding='max_length', truncation=True, max_length=max_length, return_tensors='pt')\n",
    "\n",
    "# Encode \n",
    "encoded_inputs_train = encode_data(tokenizer, df_train['utterance'].tolist())\n",
    "encoded_inputs_validate = encode_data(tokenizer, df_validated['utterance'].tolist())\n",
    "encoded_inputs_test = encode_data(tokenizer, df_test['utterance'].tolist())\n"
   ]
  },
  {
   "cell_type": "code",
   "execution_count": 7,
   "id": "7448462b-4e23-4214-8e36-0ff9a8bbafd9",
   "metadata": {},
   "outputs": [],
   "source": [
    "# Example check to ensure alignment\n",
    "assert len(encoded_inputs_train['input_ids']) == len(train_labels), \"Mismatch in training data and labels count.\"\n",
    "assert len(encoded_inputs_validate['input_ids']) == len(validate_labels), \"Mismatch in validation data and labels count.\"\n",
    "assert len(encoded_inputs_test['input_ids']) == len(test_labels), \"Mismatch in test data and labels count.\"\n"
   ]
  },
  {
   "cell_type": "code",
   "execution_count": 8,
   "id": "ce01993c-cc46-4d19-9b4e-b8dfcd03ed5d",
   "metadata": {},
   "outputs": [],
   "source": [
    "import torch\n",
    "from torch.utils.data import Dataset\n",
    "\n",
    "class UtteranceDataset(Dataset):\n",
    "    def __init__(self, encodings, labels):\n",
    "        \n",
    "        self.encodings = {k: v if isinstance(v, torch.Tensor) else torch.tensor(v) for k, v in encodings.items()}\n",
    "        \n",
    "        self.labels = torch.tensor(labels, dtype=torch.float) if not isinstance(labels, torch.Tensor) else labels\n",
    "\n",
    "    def __getitem__(self, idx):\n",
    "\n",
    "        item = {key: val[idx].clone().detach() for key, val in self.encodings.items()}\n",
    "        item['labels'] = self.labels[idx].clone().detach()\n",
    "        return item\n",
    "\n",
    "    def __len__(self):\n",
    "        return len(self.labels)\n",
    "\n",
    "dataset_train = UtteranceDataset(encoded_inputs_train, train_labels)\n",
    "dataset_validate = UtteranceDataset(encoded_inputs_validate, validate_labels)\n",
    "dataset_test = UtteranceDataset(encoded_inputs_test, test_labels)\n"
   ]
  },
  {
   "cell_type": "code",
   "execution_count": 9,
   "id": "c090471d-49ee-4294-86f6-5cfe3eb5b371",
   "metadata": {},
   "outputs": [
    {
     "name": "stdout",
     "output_type": "stream",
     "text": [
      "CUDA is available. Using GPU: NVIDIA GeForce GTX 1080 Ti\n"
     ]
    }
   ],
   "source": [
    "\n",
    "if torch.cuda.is_available():\n",
    "    device = torch.device(\"cuda:2\")\n",
    "    print(f\"CUDA is available. Using GPU: {torch.cuda.get_device_name(0)}\")\n",
    "else:\n",
    "    device = torch.device(\"cpu\")\n",
    "    print(\"CUDA is not available, using CPU instead.\")\n"
   ]
  },
  {
   "cell_type": "code",
   "execution_count": 10,
   "id": "779972ed-8ea9-4899-a23d-4f76b69902b4",
   "metadata": {},
   "outputs": [],
   "source": [
    "from transformers import TrainerCallback, TrainerState, TrainerControl\n",
    "from tqdm.auto import tqdm\n",
    "\n",
    "class EarlyStoppingCallback(TrainerCallback):\n",
    "    def __init__(self, patience=3):\n",
    "        self.patience = patience\n",
    "        self.best_loss = float('inf')\n",
    "        self.early_stop_counter = 0\n",
    "        self.progress_bar = None\n",
    "\n",
    "    def on_train_begin(self, args, state, control, **kwargs):\n",
    "        print(\"Starting training...\")\n",
    "        self.progress_bar = tqdm(total=state.num_train_epochs)\n",
    "\n",
    "    def on_epoch_begin(self, args, state, control, **kwargs):\n",
    "        # No action needed at the beginning of each epoch\n",
    "        pass\n",
    "\n",
    "    def on_log(self, args, state, control, logs=None, **kwargs):\n",
    "        if logs is not None:\n",
    "            current_loss = logs.get('eval_loss')\n",
    "            if current_loss:\n",
    "                if current_loss < self.best_loss:\n",
    "                    self.best_loss = current_loss\n",
    "                    self.early_stop_counter = 0\n",
    "                else:\n",
    "                    self.early_stop_counter += 1\n",
    "                    if self.early_stop_counter >= self.patience:\n",
    "                        control.should_training_stop = True\n",
    "\n",
    "    def on_epoch_end(self, args, state, control, logs=None, **kwargs):\n",
    "        self.progress_bar.update(1)\n",
    "\n",
    "        if logs:\n",
    "            print(f\"\\nEpoch {state.epoch + 1} Summary:\")\n",
    "            if 'loss' in logs:\n",
    "                print(f\"Training Loss: {logs['loss']:.4f}\")\n",
    "            if 'eval_loss' in logs:\n",
    "                print(f\"Validation Loss: {logs['eval_loss']:.4f}\")\n",
    "            if 'eval_accuracy' in logs:\n",
    "                print(f\"Validation Accuracy: {logs['eval_accuracy']:.4f}\")\n",
    "            print(f\"Best Validation Loss So Far: {self.best_loss:.4f}\")\n",
    "            if self.early_stop_counter > 0:\n",
    "                print(f\"No improvement in validation loss for {self.early_stop_counter} consecutive epoch(s).\")\n",
    "            if control.should_training_stop:\n",
    "                print(\"Early stopping triggered.\")\n",
    "\n",
    "    def on_train_end(self, args, state, control, **kwargs):\n",
    "        self.progress_bar.close()\n",
    "        print(\"Training completed.\")\n"
   ]
  },
  {
   "cell_type": "code",
   "execution_count": 15,
   "id": "8c8e2487-efdc-4802-997e-6d829d6f9583",
   "metadata": {},
   "outputs": [
    {
     "name": "stderr",
     "output_type": "stream",
     "text": [
      "Some weights of BertForSequenceClassification were not initialized from the model checkpoint at bert-base-uncased and are newly initialized: ['classifier.bias', 'classifier.weight']\n",
      "You should probably TRAIN this model on a down-stream task to be able to use it for predictions and inference.\n"
     ]
    },
    {
     "data": {
      "text/plain": [
       "BertForSequenceClassification(\n",
       "  (bert): BertModel(\n",
       "    (embeddings): BertEmbeddings(\n",
       "      (word_embeddings): Embedding(30522, 768, padding_idx=0)\n",
       "      (position_embeddings): Embedding(512, 768)\n",
       "      (token_type_embeddings): Embedding(2, 768)\n",
       "      (LayerNorm): LayerNorm((768,), eps=1e-12, elementwise_affine=True)\n",
       "      (dropout): Dropout(p=0.1, inplace=False)\n",
       "    )\n",
       "    (encoder): BertEncoder(\n",
       "      (layer): ModuleList(\n",
       "        (0-11): 12 x BertLayer(\n",
       "          (attention): BertAttention(\n",
       "            (self): BertSelfAttention(\n",
       "              (query): Linear(in_features=768, out_features=768, bias=True)\n",
       "              (key): Linear(in_features=768, out_features=768, bias=True)\n",
       "              (value): Linear(in_features=768, out_features=768, bias=True)\n",
       "              (dropout): Dropout(p=0.1, inplace=False)\n",
       "            )\n",
       "            (output): BertSelfOutput(\n",
       "              (dense): Linear(in_features=768, out_features=768, bias=True)\n",
       "              (LayerNorm): LayerNorm((768,), eps=1e-12, elementwise_affine=True)\n",
       "              (dropout): Dropout(p=0.1, inplace=False)\n",
       "            )\n",
       "          )\n",
       "          (intermediate): BertIntermediate(\n",
       "            (dense): Linear(in_features=768, out_features=3072, bias=True)\n",
       "            (intermediate_act_fn): GELUActivation()\n",
       "          )\n",
       "          (output): BertOutput(\n",
       "            (dense): Linear(in_features=3072, out_features=768, bias=True)\n",
       "            (LayerNorm): LayerNorm((768,), eps=1e-12, elementwise_affine=True)\n",
       "            (dropout): Dropout(p=0.1, inplace=False)\n",
       "          )\n",
       "        )\n",
       "      )\n",
       "    )\n",
       "    (pooler): BertPooler(\n",
       "      (dense): Linear(in_features=768, out_features=768, bias=True)\n",
       "      (activation): Tanh()\n",
       "    )\n",
       "  )\n",
       "  (dropout): Dropout(p=0.1, inplace=False)\n",
       "  (classifier): Linear(in_features=768, out_features=15, bias=True)\n",
       ")"
      ]
     },
     "execution_count": 15,
     "metadata": {},
     "output_type": "execute_result"
    }
   ],
   "source": [
    "from transformers import BertForSequenceClassification\n",
    "\n",
    "\n",
    "num_labels = train_labels.shape[1]  \n",
    "\n",
    "model = BertForSequenceClassification.from_pretrained('bert-base-uncased', num_labels=num_labels)\n",
    "model.to(device)  \n"
   ]
  },
  {
   "cell_type": "code",
   "execution_count": 16,
   "id": "01e543e8-6643-4b81-824f-0c0565c95b7f",
   "metadata": {
    "scrolled": true
   },
   "outputs": [
    {
     "name": "stderr",
     "output_type": "stream",
     "text": [
      "Training progress:  10%|█████████▋                                                                                       | 485/4850 [00:54<08:13,  8.85it/s]"
     ]
    },
    {
     "name": "stdout",
     "output_type": "stream",
     "text": [
      "Epoch 1, Validation Loss: 0.3889070252577464\n",
      "New Best Validation Loss: 0.3889070252577464\n"
     ]
    },
    {
     "name": "stderr",
     "output_type": "stream",
     "text": [
      "Training progress:  20%|███████████████████▍                                                                             | 970/4850 [01:54<07:16,  8.89it/s]"
     ]
    },
    {
     "name": "stdout",
     "output_type": "stream",
     "text": [
      "Epoch 2, Validation Loss: 0.3489765190716946\n",
      "New Best Validation Loss: 0.3489765190716946\n"
     ]
    },
    {
     "name": "stderr",
     "output_type": "stream",
     "text": [
      "Training progress:  30%|████████████████████████████▊                                                                   | 1455/4850 [02:56<06:49,  8.30it/s]"
     ]
    },
    {
     "name": "stdout",
     "output_type": "stream",
     "text": [
      "Epoch 3, Validation Loss: 0.3426017783807986\n",
      "New Best Validation Loss: 0.3426017783807986\n"
     ]
    },
    {
     "name": "stderr",
     "output_type": "stream",
     "text": [
      "Training progress:  40%|██████████████████████████████████████▍                                                         | 1940/4850 [03:58<05:35,  8.68it/s]"
     ]
    },
    {
     "name": "stdout",
     "output_type": "stream",
     "text": [
      "Epoch 4, Validation Loss: 0.32464923957983655\n",
      "New Best Validation Loss: 0.32464923957983655\n"
     ]
    },
    {
     "name": "stderr",
     "output_type": "stream",
     "text": [
      "Training progress:  50%|████████████████████████████████████████████████                                                | 2427/4850 [05:03<16:15,  2.48it/s]"
     ]
    },
    {
     "name": "stdout",
     "output_type": "stream",
     "text": [
      "Epoch 5, Validation Loss: 0.3369812152602456\n"
     ]
    },
    {
     "name": "stderr",
     "output_type": "stream",
     "text": [
      "Training progress:  60%|█████████████████████████████████████████████████████████▋                                      | 2912/4850 [06:01<13:01,  2.48it/s]"
     ]
    },
    {
     "name": "stdout",
     "output_type": "stream",
     "text": [
      "Epoch 6, Validation Loss: 0.35189073419932165\n"
     ]
    },
    {
     "name": "stderr",
     "output_type": "stream",
     "text": [
      "Training progress:  70%|███████████████████████████████████████████████████████████████████▏                            | 3397/4850 [07:00<09:45,  2.48it/s]"
     ]
    },
    {
     "name": "stdout",
     "output_type": "stream",
     "text": [
      "Epoch 7, Validation Loss: 0.3817657209707029\n"
     ]
    },
    {
     "name": "stderr",
     "output_type": "stream",
     "text": [
      "Training progress:  80%|████████████████████████████████████████████████████████████████████████████▊                   | 3882/4850 [07:59<06:29,  2.48it/s]"
     ]
    },
    {
     "name": "stdout",
     "output_type": "stream",
     "text": [
      "Epoch 8, Validation Loss: 0.40987531028010626\n"
     ]
    },
    {
     "name": "stderr",
     "output_type": "stream",
     "text": [
      "Training progress:  90%|██████████████████████████████████████████████████████████████████████████████████████▍         | 4367/4850 [08:58<03:14,  2.48it/s]"
     ]
    },
    {
     "name": "stdout",
     "output_type": "stream",
     "text": [
      "Epoch 9, Validation Loss: 0.4448308405099493\n"
     ]
    },
    {
     "name": "stderr",
     "output_type": "stream",
     "text": [
      "Training progress: 100%|████████████████████████████████████████████████████████████████████████████████████████████████| 4850/4850 [09:57<00:00,  8.12it/s]"
     ]
    },
    {
     "name": "stdout",
     "output_type": "stream",
     "text": [
      "Epoch 10, Validation Loss: 0.46458253518424253\n"
     ]
    },
    {
     "name": "stderr",
     "output_type": "stream",
     "text": [
      "\n"
     ]
    }
   ],
   "source": [
    "import torch\n",
    "from torch.utils.data import DataLoader\n",
    "from transformers import get_scheduler\n",
    "from torch.optim import AdamW\n",
    "from torch.nn import BCEWithLogitsLoss\n",
    "from tqdm import tqdm\n",
    "\n",
    "# Setup DataLoader and other components\n",
    "train_loader = DataLoader(dataset_train, batch_size=8, shuffle=True, drop_last=True)\n",
    "validate_loader = DataLoader(dataset_validate, batch_size=8, shuffle=False, drop_last=True)\n",
    "optimizer = AdamW(model.parameters(), lr=5e-5)\n",
    "num_training_steps = len(train_loader) * 10  # Assuming 10 epochs\n",
    "lr_scheduler = get_scheduler(\"linear\", optimizer=optimizer, num_warmup_steps=500, num_training_steps=num_training_steps)\n",
    "loss_function = BCEWithLogitsLoss()\n",
    "\n",
    "# Best loss tracking\n",
    "best_validation_loss = float('inf')\n",
    "\n",
    "# Training loop\n",
    "progress_bar = tqdm(total=num_training_steps, desc=\"Training progress\")\n",
    "model.train()\n",
    "\n",
    "for epoch in range(10):  \n",
    "    for batch in train_loader:\n",
    "        batch = {k: v.to(device) for k, v in batch.items()}\n",
    "        labels = batch.pop('labels')  \n",
    "        outputs = model(**batch)\n",
    "        logits = outputs.logits  \n",
    "        loss = loss_function(logits, labels.float())  \n",
    "        loss.backward()\n",
    "        optimizer.step()\n",
    "        lr_scheduler.step()\n",
    "        optimizer.zero_grad()\n",
    "        progress_bar.update(1)\n",
    "    \n",
    "    # Validation at the end of each epoch\n",
    "    model.eval()\n",
    "    total_eval_loss = 0\n",
    "    with torch.no_grad():\n",
    "        for batch in validate_loader:\n",
    "            batch = {k: v.to(device) for k, v in batch.items()}\n",
    "            labels = batch.pop('labels')\n",
    "            outputs = model(**batch)\n",
    "            logits = outputs.logits\n",
    "            loss = loss_function(logits, labels.float())\n",
    "            total_eval_loss += loss.item()\n",
    "\n",
    "    avg_val_loss = total_eval_loss / len(validate_loader)\n",
    "    print(f\"Epoch {epoch+1}, Validation Loss: {avg_val_loss}\")\n",
    "\n",
    "    # Update the best loss and save model if it's the best\n",
    "    if avg_val_loss < best_validation_loss:\n",
    "        best_validation_loss = avg_val_loss\n",
    "        print(f\"New Best Validation Loss: {best_validation_loss}\")\n",
    "        model.save_pretrained(\"./model_save_slots\")\n",
    "        tokenizer.save_pretrained(\"./model_save_slots\")\n",
    "\n",
    "progress_bar.close()\n"
   ]
  },
  {
   "cell_type": "code",
   "execution_count": 18,
   "id": "f0e23cb8-2912-485e-bc00-f548fd0dc866",
   "metadata": {},
   "outputs": [
    {
     "name": "stdout",
     "output_type": "stream",
     "text": [
      "Accuracy: 0.3956043956043956\n",
      "Precision: 0.7264565494894015\n",
      "Recall: 0.691124241129953\n",
      "F1 Score: 0.7051808157194924\n"
     ]
    }
   ],
   "source": [
    "import torch\n",
    "from sklearn.metrics import accuracy_score, precision_recall_fscore_support\n",
    "import numpy as np\n",
    "from torch.utils.data import DataLoader\n",
    "\n",
    "test_loader = DataLoader(dataset_test, batch_size=8, shuffle=False, drop_last=True)\n",
    "\n",
    "model.eval()\n",
    "device = torch.device(\"cuda:0\" if torch.cuda.is_available() else \"cpu\")\n",
    "\n",
    "predictions, true_labels = [], []\n",
    "\n",
    "# Evaluate the model\n",
    "with torch.no_grad():\n",
    "    for batch in test_loader:\n",
    "        inputs = {k: v.to(device) for k, v in batch.items() if k != 'labels'}\n",
    "        labels = batch['labels'].to(device)\n",
    "        outputs = model(**inputs)\n",
    "        logits = outputs.logits\n",
    "        probs = torch.sigmoid(logits)  \n",
    "        preds = (probs > 0.5).int()  \n",
    "        predictions.append(preds.detach().cpu().numpy())\n",
    "        true_labels.append(labels.detach().cpu().numpy())\n",
    "\n",
    "# Convert list of arrays to single numpy arrays\n",
    "predictions = np.vstack(predictions)\n",
    "true_labels = np.vstack(true_labels)\n",
    "\n",
    "# Calculate metrics, consider each label independently\n",
    "precision, recall, f1, _ = precision_recall_fscore_support(true_labels, predictions, average='macro')  \n",
    "accuracy = accuracy_score(true_labels, predictions)  \n",
    "\n",
    "print(f\"Accuracy: {accuracy}\")\n",
    "print(f\"Precision: {precision}\")\n",
    "print(f\"Recall: {recall}\")\n",
    "print(f\"F1 Score: {f1}\")\n"
   ]
  },
  {
   "cell_type": "code",
   "execution_count": 20,
   "id": "c6a1ebbd-25c1-4ea5-a7e1-33c9f9a3b685",
   "metadata": {},
   "outputs": [
    {
     "name": "stdout",
     "output_type": "stream",
     "text": [
      "Final Test Set Results:\n",
      "              precision    recall  f1-score   support\n",
      "\n",
      "           0       0.65      0.62      0.64       183\n",
      "           1       0.69      0.49      0.57       186\n",
      "           2       0.67      0.70      0.68       222\n",
      "           3       0.59      0.66      0.62       178\n",
      "           4       0.81      0.68      0.74       167\n",
      "           5       0.80      0.68      0.74       165\n",
      "           6       0.77      0.68      0.72       162\n",
      "           7       0.74      0.69      0.72       175\n",
      "           8       0.63      0.67      0.65       200\n",
      "           9       0.82      0.89      0.86       283\n",
      "          10       0.62      0.65      0.64       130\n",
      "          11       0.81      0.87      0.84       276\n",
      "          12       0.82      0.87      0.85       277\n",
      "          13       0.71      0.63      0.67        90\n",
      "          14       0.75      0.56      0.64       146\n",
      "\n",
      "   micro avg       0.73      0.71      0.72      2840\n",
      "   macro avg       0.73      0.69      0.71      2840\n",
      "weighted avg       0.74      0.71      0.72      2840\n",
      " samples avg       0.74      0.75      0.73      2840\n",
      "\n",
      "Hamming Loss: 0.1413919413919414\n",
      "Jaccard Score: 0.6608314800279086\n"
     ]
    },
    {
     "name": "stderr",
     "output_type": "stream",
     "text": [
      "/home/guslasbo@GU.GU.SE/miniconda3/envs/School_Thesis/lib/python3.11/site-packages/sklearn/metrics/_classification.py:1509: UndefinedMetricWarning: Precision is ill-defined and being set to 0.0 in samples with no predicted labels. Use `zero_division` parameter to control this behavior.\n",
      "  _warn_prf(average, modifier, f\"{metric.capitalize()} is\", len(result))\n"
     ]
    }
   ],
   "source": [
    "\n",
    "# Convert binary predictions and true labels back to label format\n",
    "predicted_labels = mlb.inverse_transform(predictions)\n",
    "true_labels_readable = mlb.inverse_transform(true_labels)\n",
    "\n",
    "# Ensure target names are strings for classification report\n",
    "target_names = [str(cls) for cls in mlb.classes_]\n",
    "\n",
    "# Evaluate performance using the original label format\n",
    "print(\"Final Test Set Results:\")\n",
    "print(classification_report(true_labels, predictions, target_names=target_names))\n",
    "\n",
    "# Calculate additional metrics\n",
    "hamming_loss_value = hamming_loss(true_labels, predictions)\n",
    "print(\"Hamming Loss:\", hamming_loss_value)\n",
    "\n",
    "jaccard = jaccard_score(true_labels, predictions, average='samples')\n",
    "print(\"Jaccard Score:\", jaccard)"
   ]
  },
  {
   "cell_type": "code",
   "execution_count": 10,
   "id": "20f527f9-9b6a-486a-b827-a2b9f98d6cbf",
   "metadata": {},
   "outputs": [
    {
     "name": "stdout",
     "output_type": "stream",
     "text": [
      "Final Test Set Results:\n",
      "              precision    recall  f1-score   support\n",
      "\n",
      "           0       0.05      0.02      0.02       183\n",
      "           1       0.05      0.02      0.03       222\n",
      "           2       0.06      0.06      0.06       178\n",
      "           3       0.00      0.00      0.00       186\n",
      "           4       0.00      0.00      0.00       167\n",
      "           5       0.00      0.00      0.00       165\n",
      "           6       0.46      0.48      0.47       162\n",
      "           7       0.00      0.00      0.00       175\n",
      "           8       1.00      0.01      0.02       200\n",
      "           9       0.18      0.04      0.06       131\n",
      "          10       0.07      0.04      0.05       284\n",
      "          11       0.03      0.00      0.01       277\n",
      "          12       0.50      0.00      0.01       278\n",
      "          13       0.00      0.00      0.00        91\n",
      "          14       0.00      0.00      0.00       147\n",
      "\n",
      "   micro avg       0.16      0.04      0.06      2846\n",
      "   macro avg       0.16      0.04      0.05      2846\n",
      "weighted avg       0.17      0.04      0.04      2846\n",
      " samples avg       0.10      0.03      0.04      2846\n",
      "\n",
      "Hamming Loss: 0.30306355738454505\n",
      "Jaccard Score: 0.025901974873168285\n"
     ]
    },
    {
     "name": "stderr",
     "output_type": "stream",
     "text": [
      "/home/guslasbo@GU.GU.SE/miniconda3/envs/School_Thesis/lib/python3.11/site-packages/sklearn/metrics/_classification.py:1509: UndefinedMetricWarning: Precision is ill-defined and being set to 0.0 in labels with no predicted samples. Use `zero_division` parameter to control this behavior.\n",
      "  _warn_prf(average, modifier, f\"{metric.capitalize()} is\", len(result))\n",
      "/home/guslasbo@GU.GU.SE/miniconda3/envs/School_Thesis/lib/python3.11/site-packages/sklearn/metrics/_classification.py:1509: UndefinedMetricWarning: Precision is ill-defined and being set to 0.0 in samples with no predicted labels. Use `zero_division` parameter to control this behavior.\n",
      "  _warn_prf(average, modifier, f\"{metric.capitalize()} is\", len(result))\n"
     ]
    }
   ],
   "source": [
    "import numpy as np\n",
    "from sklearn.metrics import classification_report, hamming_loss, jaccard_score\n",
    "import torch\n",
    "from transformers import BertForSequenceClassification, BertTokenizer\n",
    "from torch.utils.data import DataLoader\n",
    "\n",
    "# Load the model and tokenizer\n",
    "model_path = \"model_save_synth_slots\"\n",
    "model = BertForSequenceClassification.from_pretrained(model_path)\n",
    "tokenizer = BertTokenizer.from_pretrained(model_path)\n",
    "\n",
    "test_loader = DataLoader(dataset_test, batch_size=8, shuffle=False, drop_last=False)\n",
    "\n",
    "device = torch.device(\"cuda\" if torch.cuda.is_available() else \"cpu\")\n",
    "model.to(device)\n",
    "model.eval()\n",
    "\n",
    "predictions, true_labels = [], []\n",
    "\n",
    "# Evaluate model\n",
    "with torch.no_grad():\n",
    "    for batch in test_loader:\n",
    "        inputs = {k: v.to(device) for k, v in batch.items() if k != 'labels'}\n",
    "        labels = batch['labels'].to(device)\n",
    "        outputs = model(**inputs)\n",
    "        logits = outputs.logits\n",
    "        probs = torch.sigmoid(logits)  # Use sigmoid to output probabilities\n",
    "        preds = (probs > 0.5).int()  # Convert probabilities to binary output\n",
    "        predictions.append(preds.detach().cpu().numpy())\n",
    "        true_labels.append(labels.detach().cpu().numpy())\n",
    "\n",
    "# Convert predictions and true labels to a suitable format using MLB\n",
    "predictions = np.vstack(predictions)\n",
    "true_labels = np.vstack(true_labels)\n",
    "\n",
    "# Convert binary predictions and true labels back to label format\n",
    "predicted_labels = mlb.inverse_transform(predictions)\n",
    "true_labels_readable = mlb.inverse_transform(true_labels)\n",
    "\n",
    "# Ensure target names are strings for classification report\n",
    "target_names = [str(cls) for cls in mlb.classes_]\n",
    "\n",
    "# Evaluate performance using the original label format\n",
    "print(\"Final Test Set Results:\")\n",
    "print(classification_report(true_labels, predictions, target_names=target_names))\n",
    "\n",
    "# Calculate additional metrics\n",
    "hamming_loss_value = hamming_loss(true_labels, predictions)\n",
    "print(\"Hamming Loss:\", hamming_loss_value)\n",
    "\n",
    "jaccard = jaccard_score(true_labels, predictions, average='samples')\n",
    "print(\"Jaccard Score:\", jaccard)\n"
   ]
  }
 ],
 "metadata": {
  "kernelspec": {
   "display_name": "Python 3 (ipykernel)",
   "language": "python",
   "name": "python3"
  },
  "language_info": {
   "codemirror_mode": {
    "name": "ipython",
    "version": 3
   },
   "file_extension": ".py",
   "mimetype": "text/x-python",
   "name": "python",
   "nbconvert_exporter": "python",
   "pygments_lexer": "ipython3",
   "version": "3.11.9"
  }
 },
 "nbformat": 4,
 "nbformat_minor": 5
}
